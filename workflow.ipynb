{
 "cells": [
  {
   "cell_type": "code",
   "execution_count": 1,
   "id": "49fae08f-788f-4c25-8302-832e9ba853aa",
   "metadata": {},
   "outputs": [
    {
     "name": "stdout",
     "output_type": "stream",
     "text": [
      "Preparing transaction: ...working... done\n",
      "Verifying transaction: ...working... done\n",
      "Executing transaction: ...working... Enabling notebook extension jupyter-js-widgets/extension...\n",
      "      - Validating: \u001b[32mOK\u001b[0m\n",
      "\n",
      "done\n",
      "Installing pip dependencies: ...working... done\n"
     ]
    }
   ],
   "source": [
    "!mamba env create --quiet -f environment.yml"
   ]
  },
  {
   "cell_type": "code",
   "execution_count": null,
   "id": "3dd929d9-4b53-4882-a1d1-cbf5a0989714",
   "metadata": {},
   "outputs": [],
   "source": [
    "!conda env create --quiet -f https://raw.githubusercontent.com/Denolle-Lab/seisbench-jupyter/main/environment.yml"
   ]
  },
  {
   "cell_type": "code",
   "execution_count": 1,
   "id": "79486cda-e62f-4fe0-aebb-fed3ced6eb38",
   "metadata": {},
   "outputs": [],
   "source": [
    "import obspy\n",
    "import obsplus\n",
    "import pandas as pd\n",
    "from obspy.clients.fdsn import Client\n",
    "from datetime import timedelta\n",
    "import datetime\n",
    "import matplotlib.pyplot as plt\n",
    "import numpy as np\n",
    "import logging\n",
    "import requests\n",
    "import seisbench\n",
    "import seisbench.models as sbm\n",
    "import dask\n",
    "import json\n",
    "import alaska_utils\n",
    "\n",
    "# Progress bar for dask operations:\n",
    "from dask.diagnostics import ProgressBar\n",
    "pbar = dask.diagnostics.ProgressBar()\n",
    "pbar.register()"
   ]
  },
  {
   "cell_type": "markdown",
   "id": "db8c7a29-3aed-4de1-a8c5-5839c98b6969",
   "metadata": {},
   "source": [
    "#### Download waveforms"
   ]
  },
  {
   "cell_type": "code",
   "execution_count": 111,
   "id": "46590b6d-acf5-4ce0-9d42-b0fff7978b15",
   "metadata": {},
   "outputs": [],
   "source": [
    "# Load master station list\n",
    "dfS = pd.read_parquet('https://github.com/zoekrauss/alaska_catalog/raw/main/data_acquisition/alaska_stations.parquet')\n",
    "\n",
    "# Convert to pandas datetime\n",
    "dfS['start_date']=pd.to_datetime(dfS['start_date'],infer_datetime_format=True,errors='coerce')\n",
    "dfS['end_date']=pd.to_datetime(dfS['end_date'],infer_datetime_format=True,errors='coerce')"
   ]
  },
  {
   "cell_type": "code",
   "execution_count": 112,
   "id": "c70e2b68-f206-4515-9e64-c124d26e39f3",
   "metadata": {},
   "outputs": [],
   "source": [
    "# Download waveforms\n",
    "\n",
    "step = 60\n",
    "t1 = datetime.datetime(2018,5,25,12,35)\n",
    "t1 = datetime.datetime(2019,5,27,9,52,30)\n",
    "t2 = t1 + pd.Timedelta(3,'minutes')\n",
    "time_bins = pd.to_datetime(np.arange(t1,t2,pd.Timedelta(step,'seconds')))\n",
    "\n",
    "@dask.delayed\n",
    "def loop_times(dfS,t1,step):\n",
    "    return alaska_utils.retrieve_waveforms(dfS,t1,t1+pd.Timedelta(step,'seconds'))\n",
    "\n",
    "lazy_results = [loop_times(dfS,time,step) for time in time_bins]"
   ]
  },
  {
   "cell_type": "code",
   "execution_count": 113,
   "id": "0fd146ef-a80a-40ea-a837-a81edf089e72",
   "metadata": {},
   "outputs": [
    {
     "name": "stdout",
     "output_type": "stream",
     "text": [
      "[########################################] | 100% Completed | 47.6s\n",
      "[########################################] | 100% Completed | 47.7s\n"
     ]
    }
   ],
   "source": [
    "results = dask.compute(lazy_results)"
   ]
  },
  {
   "cell_type": "code",
   "execution_count": null,
   "id": "4cfe8d27-1cad-46a8-b875-4fad805d159e",
   "metadata": {},
   "outputs": [],
   "source": [
    "# Optional- save to miniseed:\n",
    "stream = obspy.core.stream.Stream()\n",
    "for st in results[0]:\n",
    "    stream.extend(st)\n",
    "stream.write(\"alaska_1hour.mseed\", format=\"MSEED\") \n",
    "\n",
    "stream = obspy.core.stream.read('alaska_1hour.mseed')"
   ]
  },
  {
   "cell_type": "markdown",
   "id": "d77f14d3-7f47-4a62-8885-cdea80b797c0",
   "metadata": {},
   "source": [
    "#### Denoise"
   ]
  },
  {
   "cell_type": "code",
   "execution_count": 114,
   "id": "2abd753c-cfb5-48b2-9110-fd02ed96b502",
   "metadata": {},
   "outputs": [
    {
     "name": "stdout",
     "output_type": "stream",
     "text": [
      "CPU times: user 37.9 ms, sys: 550 µs, total: 38.4 ms\n",
      "Wall time: 30.2 ms\n"
     ]
    }
   ],
   "source": [
    "%%time\n",
    "model = sbm.DeepDenoiser.from_pretrained(\"original\")"
   ]
  },
  {
   "cell_type": "code",
   "execution_count": 115,
   "id": "2207010d-7474-46fb-aed5-9b2c1b46cf3f",
   "metadata": {
    "tags": []
   },
   "outputs": [
    {
     "name": "stdout",
     "output_type": "stream",
     "text": [
      "CPU times: user 1min 44s, sys: 5.08 s, total: 1min 49s\n",
      "Wall time: 33.3 s\n"
     ]
    }
   ],
   "source": [
    "%%time\n",
    "denoise = []\n",
    "for st in results[0]:\n",
    "    den = model.annotate(st)\n",
    "    denoise.append(den)"
   ]
  },
  {
   "cell_type": "markdown",
   "id": "accfcf3e-0a71-4a0d-9015-a07f2d2d153e",
   "metadata": {},
   "source": [
    "#### Phase pick"
   ]
  },
  {
   "cell_type": "code",
   "execution_count": 116,
   "id": "2ab35e2f-926f-4704-adcc-aa1206932d1e",
   "metadata": {},
   "outputs": [],
   "source": [
    "model = sbm.EQTransformer.from_pretrained(\"original\")\n",
    "\n",
    "# EDIT MODEL TO NOT CUT SAMPLES OFF \n",
    "# the blinding is applied here: https://github.com/seisbench/seisbench/blob/c8c260854143e8241219ec25d9436188a7af124c/seisbench/models/eqtransformer.py#L215\n",
    "\n",
    "# Note: can we avoid cutting off that last sample too?\n",
    "model.default_args[\"blinding\"] = (0,1)"
   ]
  },
  {
   "cell_type": "code",
   "execution_count": 117,
   "id": "138d50ee-3bcb-4aed-b2d9-b8967fb56e95",
   "metadata": {},
   "outputs": [
    {
     "name": "stderr",
     "output_type": "stream",
     "text": [
      "2022-02-05 02:06:02,938 | seisbench | WARNING | Parts of the input stream consist of fragments shorter than the number of input samples. Output might be empty.\n",
      "2022-02-05 02:06:18,582 | seisbench | WARNING | Parts of the input stream consist of fragments shorter than the number of input samples. Output might be empty.\n",
      "2022-02-05 02:06:34,234 | seisbench | WARNING | Parts of the input stream consist of fragments shorter than the number of input samples. Output might be empty.\n",
      "2022-02-05 02:06:49,547 | seisbench | WARNING | Parts of the input stream consist of fragments shorter than the number of input samples. Output might be empty.\n"
     ]
    },
    {
     "name": "stdout",
     "output_type": "stream",
     "text": [
      "CPU times: user 5min 43s, sys: 15.2 s, total: 5min 59s\n",
      "Wall time: 1min 33s\n"
     ]
    }
   ],
   "source": [
    "%%time\n",
    "annotation = []\n",
    "pick = []\n",
    "detection = []\n",
    "for st in denoise:\n",
    "    at = model.annotate(st)\n",
    "    pks, dets = model.classify(st)\n",
    "    annotation.append(at); pick.append(pks); detection.append(dets);\n",
    "    \n",
    "# Note: still need to figure out why this error is thrown, but it is thrown here:\n",
    "# https://github.com/seisbench/seisbench/blob/c8c260854143e8241219ec25d9436188a7af124c/seisbench/models/base.py#L623\n",
    "# and here:\n",
    "# https://github.com/seisbench/seisbench/blob/c8c260854143e8241219ec25d9436188a7af124c/seisbench/models/base.py#L548"
   ]
  },
  {
   "cell_type": "code",
   "execution_count": null,
   "id": "05dc0973-5837-4757-a8f6-80cceedebdcf",
   "metadata": {},
   "outputs": [],
   "source": [
    "# stride = argdict.get(\"stride\", 1)\n",
    "# Assume stride is 1?\n",
    "#starts = np.arange(0, block.shape[1] - self.in_samples + 1, stride)\n",
    "\n",
    "# Sooooo in_samples is less than block.shape[1]-1?"
   ]
  },
  {
   "cell_type": "markdown",
   "id": "2f573c62-2a74-425e-833d-c0a8af25e634",
   "metadata": {},
   "source": [
    "Notes about the \"Parts of the input stream consist of fragments shorter than the number of input samples. Output might be empty\" warning:\n",
    "\n",
    "For t1 = datetime.datetime(2019,5,27,9,52,30), the warning is thrown on XO.LT12, though only on the first two minutes.\n",
    "For t1 = datetime.datetime(2018,5,25,12,35), for the first minute, the warning is thrown on XO.LA32. For the next two minutes, it is thrown on XO.LA29.\n",
    "\n",
    "I caught these by printing out the IDs of the traces for the raw data and the annotated data and visually comparing to see which one is missing- see below. Which is odd... since when you loop through the traces individually and print out their IDs to see which one the error is thrown on, the error is either thrown before or after the missing trace, which makes me think that there's an indexing problem.\n",
    "\n",
    "It doesn't seem to have anything to do with overlap. The reason those overlaps were appearing was only because we had merged the streams together using this loop:\n",
    "stream = obspy.core.stream.Stream()\n",
    "for st in results[0]:\n",
    "    stream.extend(st)\n",
    "If you look at the stream produced by this loop, many stations have overlaps between the 60 s traces. It is not what is causing the issue.\n",
    "The individual streams that the model.annotate() function is performed on do not have overlaps. This can be checked using stream.print_gaps()\n",
    "\n",
    "I cannot for the life of me find anything that is different about the traces that the warning is thrown on... to be continued! I need to dig into the source code more.\n"
   ]
  },
  {
   "cell_type": "code",
   "execution_count": 80,
   "id": "9c703b9f-21de-4c5b-8aa1-5daaa4f6b64a",
   "metadata": {},
   "outputs": [
    {
     "name": "stdout",
     "output_type": "stream",
     "text": [
      "['AV.KAPH', 'AV.KAPH', 'AV.KAPH', 'AV.KCG.', 'AV.KCG.', 'AV.KCG.', 'AV.PLK3', 'AV.PLK3', 'AV.PLK3', 'TA.Q16K', 'TA.Q16K', 'TA.Q16K', 'XO.KD01', 'XO.KD01', 'XO.KD01', 'XO.KD02', 'XO.KD02', 'XO.KD02', 'XO.KD05', 'XO.KD05', 'XO.KD05', 'XO.KD12', 'XO.KD12', 'XO.KD12', 'XO.KS03', 'XO.KS03', 'XO.KS03', 'XO.KS03', 'XO.KS03', 'XO.KS03', 'XO.KS11', 'XO.KS11', 'XO.KS11', 'XO.KS11', 'XO.KS11', 'XO.KS11', 'XO.KS13', 'XO.KS13', 'XO.KS13', 'XO.KS13', 'XO.KS13', 'XO.KS13', 'XO.KT06', 'XO.KT06', 'XO.KT06', 'XO.KT08', 'XO.KT08', 'XO.KT08', 'XO.KT10', 'XO.KT10', 'XO.KT10', 'XO.LA21', 'XO.LA21', 'XO.LA21', 'XO.LA23', 'XO.LA23', 'XO.LA23', 'XO.LA25', 'XO.LA25', 'XO.LA25', 'XO.LA26', 'XO.LA26', 'XO.LA26', 'XO.LA28', 'XO.LA28', 'XO.LA28', 'XO.LA29', 'XO.LA29', 'XO.LA29', 'XO.LA30', 'XO.LA30', 'XO.LA30', 'XO.LA33', 'XO.LA33', 'XO.LA33', 'XO.LA34', 'XO.LA34', 'XO.LA34', 'XO.LD35', 'XO.LD35', 'XO.LD35', 'XO.LD36', 'XO.LD36', 'XO.LD36', 'XO.LD41', 'XO.LD41', 'XO.LD41', 'XO.LD44', 'XO.LD44', 'XO.LD44', 'XO.LD45', 'XO.LD45', 'XO.LD45', 'XO.LT01', 'XO.LT01', 'XO.LT01', 'XO.LT02', 'XO.LT02', 'XO.LT02', 'XO.LT03', 'XO.LT03', 'XO.LT03', 'XO.LT04', 'XO.LT04', 'XO.LT04', 'XO.LT05', 'XO.LT05', 'XO.LT05', 'XO.LT06', 'XO.LT06', 'XO.LT06', 'XO.LT07', 'XO.LT07', 'XO.LT07', 'XO.LT08', 'XO.LT08', 'XO.LT08', 'XO.LT09', 'XO.LT09', 'XO.LT09', 'XO.LT10', 'XO.LT10', 'XO.LT10', 'XO.LT11', 'XO.LT11', 'XO.LT11', 'XO.LT12', 'XO.LT12', 'XO.LT12', 'XO.LT13', 'XO.LT13', 'XO.LT13', 'XO.LT14', 'XO.LT14', 'XO.LT14', 'XO.LT15', 'XO.LT15', 'XO.LT15', 'XO.LT16', 'XO.LT16', 'XO.LT16', 'XO.LT17', 'XO.LT17', 'XO.LT17', 'XO.LT18', 'XO.LT18', 'XO.LT18', 'XO.LT20', 'XO.LT20', 'XO.LT20', 'XO.WS27', 'XO.WS27', 'XO.WS27', 'XO.WS27', 'XO.WS27', 'XO.WS27']\n"
     ]
    }
   ],
   "source": [
    "ids = []\n",
    "for tr in annotation[0]:\n",
    "    ids.append(tr.id[0:7])\n",
    "ids.sort()\n",
    "print(ids)"
   ]
  },
  {
   "cell_type": "code",
   "execution_count": 81,
   "id": "ffbea34c-9786-44cf-a66c-88322bc095ee",
   "metadata": {},
   "outputs": [
    {
     "name": "stdout",
     "output_type": "stream",
     "text": [
      "['AV.KAPH', 'AV.KAPH', 'AV.KAPH', 'AV.KCG.', 'AV.KCG.', 'AV.KCG.', 'AV.PLK3', 'AV.PLK3', 'AV.PLK3', 'TA.Q16K', 'TA.Q16K', 'TA.Q16K', 'XO.KD01', 'XO.KD01', 'XO.KD01', 'XO.KD02', 'XO.KD02', 'XO.KD02', 'XO.KD05', 'XO.KD05', 'XO.KD05', 'XO.KD12', 'XO.KD12', 'XO.KD12', 'XO.KS03', 'XO.KS03', 'XO.KS03', 'XO.KS03', 'XO.KS03', 'XO.KS03', 'XO.KS11', 'XO.KS11', 'XO.KS11', 'XO.KS11', 'XO.KS11', 'XO.KS11', 'XO.KS13', 'XO.KS13', 'XO.KS13', 'XO.KS13', 'XO.KS13', 'XO.KS13', 'XO.KT06', 'XO.KT06', 'XO.KT06', 'XO.KT08', 'XO.KT08', 'XO.KT08', 'XO.KT10', 'XO.KT10', 'XO.KT10', 'XO.LA21', 'XO.LA21', 'XO.LA21', 'XO.LA23', 'XO.LA23', 'XO.LA23', 'XO.LA25', 'XO.LA25', 'XO.LA25', 'XO.LA26', 'XO.LA26', 'XO.LA26', 'XO.LA28', 'XO.LA28', 'XO.LA28', 'XO.LA29', 'XO.LA29', 'XO.LA29', 'XO.LA30', 'XO.LA30', 'XO.LA30', 'XO.LA32', 'XO.LA32', 'XO.LA32', 'XO.LA33', 'XO.LA33', 'XO.LA33', 'XO.LA34', 'XO.LA34', 'XO.LA34', 'XO.LD35', 'XO.LD35', 'XO.LD35', 'XO.LD36', 'XO.LD36', 'XO.LD36', 'XO.LD41', 'XO.LD41', 'XO.LD41', 'XO.LD44', 'XO.LD44', 'XO.LD44', 'XO.LD45', 'XO.LD45', 'XO.LD45', 'XO.LT01', 'XO.LT01', 'XO.LT01', 'XO.LT02', 'XO.LT02', 'XO.LT02', 'XO.LT03', 'XO.LT03', 'XO.LT03', 'XO.LT04', 'XO.LT04', 'XO.LT04', 'XO.LT05', 'XO.LT05', 'XO.LT05', 'XO.LT06', 'XO.LT06', 'XO.LT06', 'XO.LT07', 'XO.LT07', 'XO.LT07', 'XO.LT08', 'XO.LT08', 'XO.LT08', 'XO.LT09', 'XO.LT09', 'XO.LT09', 'XO.LT10', 'XO.LT10', 'XO.LT10', 'XO.LT11', 'XO.LT11', 'XO.LT11', 'XO.LT12', 'XO.LT12', 'XO.LT12', 'XO.LT13', 'XO.LT13', 'XO.LT13', 'XO.LT14', 'XO.LT14', 'XO.LT14', 'XO.LT15', 'XO.LT15', 'XO.LT15', 'XO.LT16', 'XO.LT16', 'XO.LT16', 'XO.LT17', 'XO.LT17', 'XO.LT17', 'XO.LT18', 'XO.LT18', 'XO.LT18', 'XO.LT20', 'XO.LT20', 'XO.LT20', 'XO.WS27', 'XO.WS27', 'XO.WS27', 'XO.WS27', 'XO.WS27', 'XO.WS27']\n"
     ]
    }
   ],
   "source": [
    "ids = []\n",
    "for tr in results[0][0]:\n",
    "    ids.append(tr.id[0:7])\n",
    "ids.sort()\n",
    "print(ids)"
   ]
  },
  {
   "cell_type": "code",
   "execution_count": 118,
   "id": "93726b18-2799-4a5d-9f68-7231e67d19f7",
   "metadata": {},
   "outputs": [],
   "source": [
    "# smash everything into one big array\n",
    "\n",
    "\n",
    "stream = obspy.core.stream.Stream()\n",
    "for st in results[0]:\n",
    "    stream.extend(st)\n",
    "denoised = obspy.core.stream.Stream()\n",
    "for st in denoise:\n",
    "    denoised.extend(st)\n",
    "annotations = obspy.core.stream.Stream()\n",
    "for st in annotation:\n",
    "    annotations.extend(st)\n",
    "picks = sum(pick,[])"
   ]
  },
  {
   "cell_type": "code",
   "execution_count": 119,
   "id": "43eb31ed-01a2-4fd7-96b8-35da4fe1be90",
   "metadata": {},
   "outputs": [
    {
     "data": {
      "text/plain": [
       "<matplotlib.legend.Legend at 0x7fada772b4c0>"
      ]
     },
     "execution_count": 119,
     "metadata": {},
     "output_type": "execute_result"
    },
    {
     "data": {
      "image/png": "[encoded data removed]",
      "text/plain": [
       "<Figure size 1080x720 with 3 Axes>"
      ]
     },
     "metadata": {
      "needs_background": "light"
     },
     "output_type": "display_data"
    }
   ],
   "source": [
    "# GUT CHECK\n",
    "\n",
    "fig = plt.figure(figsize=(15, 10))\n",
    "axs = fig.subplots(3, 1, sharex=True, gridspec_kw={'hspace': 0})\n",
    "\n",
    "offset = annotations[0].stats.starttime - denoised[0].stats.starttime\n",
    "for i in [12,13,14]: #LT03\n",
    "    axs[0].plot(stream[i+2].times(), stream[i+2].data, label=stream[i+2].id) #NOTICE: indices are off\n",
    "    axs[1].plot(denoised[i].times(), denoised[i].data, label=denoised[i].id)\n",
    "    if annotations[i].stats.channel[-1] != \"N\":  # Do not plot noise curve\n",
    "        axs[2].plot(annotations[i].times() + offset, annotations[i].data, label=annotations[i].id)\n",
    "\n",
    "axs[0].legend()\n",
    "axs[1].legend()\n",
    "axs[2].legend()"
   ]
  },
  {
   "cell_type": "markdown",
   "id": "bfd8b566-0f28-4e5a-9385-54cd9a35b9cd",
   "metadata": {},
   "source": [
    "#### Convert picks to be GAMMA-compatible"
   ]
  },
  {
   "cell_type": "raw",
   "id": "19a7bc9b-197f-4344-93bc-d2506c37f96a",
   "metadata": {},
   "source": [
    "Note: this is what a pick object needs to look like for GAMMA.\n",
    "\n",
    "'picks': [{'id': 'AK.BCP..BH',\n",
    "   'timestamp': '2018-05-25T12:36:41.094',\n",
    "   'prob': 0.8771026730537415,\n",
    "   'amp': 1.8218297554994933e-06,\n",
    "   'type': 'p',\n",
    "   'event_idx': -1,\n",
    "   'prob_gmma': -1}"
   ]
  },
  {
   "cell_type": "code",
   "execution_count": 248,
   "id": "9f3ed888-3483-4724-875b-8154480de0df",
   "metadata": {},
   "outputs": [],
   "source": [
    "# If we were to just use the picks that we get from the model.classify() function, we could just do this- but, they are missing amplitude information\n",
    "\n",
    "gamma_picks = []\n",
    "for pick in picks:\n",
    "    pdict = {'id':pick.trace_id,'timestamp':pick.peak_time,'prob':pick.peak_value,'type':pick.phase}\n",
    "    gamma_picks.append(pdict)"
   ]
  },
  {
   "cell_type": "code",
   "execution_count": 126,
   "id": "93803db8-0992-40ed-b5bc-881333bc3791",
   "metadata": {},
   "outputs": [],
   "source": [
    "# Prep data metadata to match to annotations\n",
    "\n",
    "data_ids = []\n",
    "data_starttimes = []\n",
    "data_endtimes = []\n",
    "data_npts = []\n",
    "for tr in stream:\n",
    "    data_ids.append(tr.stats.network + '..' + tr.stats.station + '.')\n",
    "    data_starttimes.append(tr.stats.starttime)\n",
    "    data_endtimes.append(tr.stats.endtime)\n",
    "    data_npts.append(tr.stats.npts)\n",
    "    "
   ]
  },
  {
   "cell_type": "markdown",
   "id": "79da639f-7957-453f-8aea-bc458d3d325a",
   "metadata": {},
   "source": [
    "Note: some annotated streams are 5999 samples, others are 6000"
   ]
  },
  {
   "cell_type": "code",
   "execution_count": 201,
   "id": "a84fa57b-5ec8-4f9a-a32c-049801832d85",
   "metadata": {},
   "outputs": [],
   "source": [
    "# Good start on matching but more work to be done"
   ]
  },
  {
   "cell_type": "code",
   "execution_count": 199,
   "id": "d556dd2c-e26b-4891-93d4-80b6855c06b4",
   "metadata": {},
   "outputs": [],
   "source": [
    "# Reshape data to extract GAMMA picks using postprocess functions\n",
    "# They need to be in 4-D arrays\n",
    "\n",
    "\n",
    "preds = np.empty([int(len(annotations)/3),6000,1,3])\n",
    "station_ids = []\n",
    "t0 = []\n",
    "match_idx = []\n",
    "for i in range(int(len(annotations)/3)):\n",
    "    d_idx = (i*3)\n",
    "    p_idx = (i*3) + 1\n",
    "    s_idx = (i*3) + 2\n",
    "    \n",
    "    # For short traces:\n",
    "    if annotations[d_idx].stats.npts < preds.shape[1]:\n",
    "        preds[i,:,0,0] = np.append(annotations[d_idx].data,[0])\n",
    "        preds[i,:,0,1] = np.append(annotations[p_idx].data,[0])\n",
    "        preds[i,:,0,2] = np.append(annotations[s_idx].data,[0])\n",
    "    # For traces of correct length:\n",
    "    else:\n",
    "        preds[i,:,0,0] = annotations[d_idx].data\n",
    "        preds[i,:,0,1] = annotations[p_idx].data\n",
    "        preds[i,:,0,2] = annotations[s_idx].data\n",
    "    \n",
    "    station_id = annotations[d_idx].stats.network + '..' + annotations[d_idx].stats.station + '.'\n",
    "    station_ids.append(station_id)\n",
    "    t0.append(str(annotations[d_idx].stats.starttime))\n",
    "    \n",
    "    # Match to the original data\n",
    "    id_match = [j for j,id in enumerate(data_ids) if id == station_id]\n",
    "    time_match = [j for j,id in enumerate(data_starttimes) if id == annotations[p_idx].stats.starttime]\n",
    "    match_idx.append(set(time_match).intersection(id_match))"
   ]
  },
  {
   "cell_type": "code",
   "execution_count": 200,
   "id": "101ae432-d222-4f15-b5ec-eb1f3438e6a3",
   "metadata": {},
   "outputs": [
    {
     "data": {
      "text/plain": [
       "[{2, 3, 4},\n",
       " {5, 6, 7},\n",
       " {8, 9, 10},\n",
       " {11, 12, 13},\n",
       " {14, 15, 16},\n",
       " {17, 18, 19},\n",
       " {20, 21, 22},\n",
       " {23, 24, 25},\n",
       " {26, 27, 28},\n",
       " {29, 30, 31},\n",
       " {32, 33, 34},\n",
       " {35, 36, 37},\n",
       " {39, 40},\n",
       " {41, 43},\n",
       " {44, 45, 46},\n",
       " {47, 48, 49},\n",
       " {50, 51, 52, 53, 54, 55},\n",
       " {50, 51, 52, 53, 54, 55},\n",
       " {56, 57, 58, 59, 60, 61},\n",
       " {56, 57, 58, 59, 60, 61},\n",
       " {62, 63, 64, 65, 66, 67},\n",
       " {62, 63, 64, 65, 66, 67},\n",
       " {68, 69, 70},\n",
       " {71, 72, 73},\n",
       " {74, 75, 76},\n",
       " {77, 78, 79},\n",
       " {80, 81, 82},\n",
       " {83, 84, 85},\n",
       " {86, 87, 88},\n",
       " {89, 90, 91},\n",
       " {92, 93, 94},\n",
       " {95, 96, 97},\n",
       " {98, 99, 100},\n",
       " {102},\n",
       " {104, 105, 106},\n",
       " {107, 108, 109},\n",
       " {110, 111, 112},\n",
       " {113, 114, 115},\n",
       " {116, 117, 118},\n",
       " {119, 120, 121},\n",
       " {122, 123, 124},\n",
       " {125, 126, 127},\n",
       " {128, 129, 130},\n",
       " {131, 132, 133},\n",
       " {134, 135, 136},\n",
       " {137},\n",
       " {140, 141, 142},\n",
       " {143, 144, 145},\n",
       " {146, 147, 148},\n",
       " {149, 150, 151},\n",
       " {152, 153, 154},\n",
       " {155, 156, 157},\n",
       " {158, 159, 160},\n",
       " {161, 162, 163},\n",
       " {167, 168, 169},\n",
       " {170, 171, 172},\n",
       " {173, 174, 175},\n",
       " {0, 1},\n",
       " {177, 178, 179},\n",
       " {180, 181, 182},\n",
       " {183, 184, 185},\n",
       " {186, 187, 188},\n",
       " {189, 190, 191},\n",
       " {192, 193, 194},\n",
       " {195},\n",
       " {198, 199, 200},\n",
       " {201},\n",
       " {204, 205, 206},\n",
       " {209},\n",
       " {210, 212},\n",
       " {213, 214, 215},\n",
       " {216, 217, 218},\n",
       " {219, 220, 221},\n",
       " {223, 224},\n",
       " {226},\n",
       " {228, 229, 230},\n",
       " {231, 232, 233},\n",
       " {234, 235, 236},\n",
       " {237, 238, 239},\n",
       " {240, 241, 242},\n",
       " {244, 245},\n",
       " {246, 247, 248},\n",
       " {249, 250, 251},\n",
       " {252, 253, 254},\n",
       " {255, 256, 257},\n",
       " {258, 259, 260},\n",
       " {261, 262, 263, 264},\n",
       " {265, 266},\n",
       " {267, 268, 269, 272},\n",
       " {271},\n",
       " {273, 274, 275, 276, 277, 278},\n",
       " {273, 274, 275, 276, 277, 278},\n",
       " {279, 280, 281, 282, 283, 284},\n",
       " {279, 280, 281, 282, 283, 284},\n",
       " {285, 286, 287, 288, 289, 290},\n",
       " {285, 286, 287, 288, 289, 290},\n",
       " {291, 292, 293, 294, 295, 296},\n",
       " {291, 292, 293, 294, 295, 296},\n",
       " {299, 300, 301},\n",
       " {302, 303, 304},\n",
       " {305, 306, 307},\n",
       " {308, 309, 310},\n",
       " {311, 312, 313},\n",
       " {314, 315, 316},\n",
       " {317, 318, 319},\n",
       " {320, 321, 322},\n",
       " {323, 324, 325},\n",
       " {326, 327, 328},\n",
       " {329, 330, 331},\n",
       " {332, 333, 334},\n",
       " {335, 336, 337},\n",
       " {338, 339, 340},\n",
       " {341, 342, 343},\n",
       " {344, 345, 346},\n",
       " {347, 348, 349, 350, 351, 352},\n",
       " {347, 348, 349, 350, 351, 352},\n",
       " {353, 354, 355, 356, 357, 358},\n",
       " {353, 354, 355, 356, 357, 358},\n",
       " {359, 360, 361, 362, 363, 364},\n",
       " {359, 360, 361, 362, 363, 364},\n",
       " {365, 366, 367},\n",
       " {368, 369, 370},\n",
       " {371, 372, 373},\n",
       " {374, 375, 376},\n",
       " {377, 378, 379},\n",
       " {380, 381, 382},\n",
       " {383, 384, 385},\n",
       " {386, 387, 388},\n",
       " {389, 390, 391},\n",
       " {392, 393, 394},\n",
       " {395, 396, 397},\n",
       " {400},\n",
       " {401, 402, 403},\n",
       " {404, 405, 406},\n",
       " {407, 408, 409},\n",
       " {410, 411, 412},\n",
       " {413, 414, 415},\n",
       " {416, 417, 418},\n",
       " {419, 420, 421},\n",
       " {422, 423, 424},\n",
       " {425, 426, 427},\n",
       " {428, 429, 430},\n",
       " {431, 432, 433},\n",
       " {435},\n",
       " {437, 438, 439},\n",
       " {440, 441, 442},\n",
       " {443, 444, 445},\n",
       " {446, 447, 448},\n",
       " {449, 450, 451},\n",
       " {452, 453, 454},\n",
       " {455, 456, 457},\n",
       " {458, 459, 460},\n",
       " {464, 465, 466},\n",
       " {467, 468, 469},\n",
       " {470, 471, 472},\n",
       " {473},\n",
       " {474, 475, 476},\n",
       " {477, 478, 479},\n",
       " {480, 481, 482},\n",
       " {483, 484, 485},\n",
       " {486},\n",
       " {489, 490, 491},\n",
       " {492, 493, 494},\n",
       " {495, 496, 497},\n",
       " {500},\n",
       " {501, 502, 503},\n",
       " {504},\n",
       " {507, 508, 509},\n",
       " {510, 511},\n",
       " {514},\n",
       " {516, 517, 518},\n",
       " {520, 521},\n",
       " {523, 524},\n",
       " {525, 526, 527},\n",
       " {528, 529, 530},\n",
       " {531, 533},\n",
       " {534, 535, 536},\n",
       " {537, 538, 539},\n",
       " {542},\n",
       " {544},\n",
       " {546, 547, 548},\n",
       " {549, 550, 551},\n",
       " {552, 553, 554},\n",
       " {555, 556, 557},\n",
       " {558, 559, 560, 561, 562, 563},\n",
       " {558, 559, 560, 561, 562, 563},\n",
       " {566},\n",
       " {568},\n",
       " {570, 571, 572, 573, 574, 575},\n",
       " {570, 571, 572, 573, 574, 575},\n",
       " {576, 577, 578, 579, 580, 581},\n",
       " {576, 577, 578, 579, 580, 581},\n",
       " {582, 583, 584, 585, 586, 587},\n",
       " {582, 583, 584, 585, 586, 587},\n",
       " {588, 589, 590, 591, 592, 593},\n",
       " {588, 589, 590, 591, 592, 593},\n",
       " {594, 595, 596},\n",
       " {597, 598, 599},\n",
       " {601, 602},\n",
       " {603, 604, 605},\n",
       " {606, 607, 608},\n",
       " {609, 610, 611},\n",
       " {612, 613, 614},\n",
       " {615},\n",
       " {618, 620},\n",
       " {621, 622, 623},\n",
       " {624, 625, 626},\n",
       " {627, 628, 629},\n",
       " {632},\n",
       " {633, 634, 635},\n",
       " {636, 637, 638},\n",
       " {639, 640, 641},\n",
       " {642, 643, 644, 645, 646, 647},\n",
       " {642, 643, 644, 645, 646, 647},\n",
       " {648, 649, 650, 651, 652, 653},\n",
       " {648, 649, 650, 651, 652, 653},\n",
       " {654, 655, 656, 657, 658, 659},\n",
       " {654, 655, 656, 657, 658, 659},\n",
       " {660, 661, 662},\n",
       " {663, 664, 665},\n",
       " {666, 667, 668},\n",
       " {669, 670, 671},\n",
       " {672, 673, 674},\n",
       " {675, 676, 677},\n",
       " {678, 679, 680},\n",
       " {681, 682, 683},\n",
       " {684, 685, 686},\n",
       " {687, 688, 689},\n",
       " {690, 691, 692},\n",
       " {695},\n",
       " {696, 697, 698},\n",
       " {699, 700, 701},\n",
       " {702, 703, 704},\n",
       " {705, 706, 707},\n",
       " {708, 709, 710},\n",
       " {711, 712, 713},\n",
       " {714, 715, 716},\n",
       " {717, 718, 719},\n",
       " {720, 721, 722},\n",
       " {723, 724, 725},\n",
       " {726, 727, 728},\n",
       " {729},\n",
       " {732, 733, 734},\n",
       " {735, 736, 737},\n",
       " {738, 739, 740},\n",
       " {741, 742, 743},\n",
       " {744, 745, 746},\n",
       " {747, 748, 749},\n",
       " {750, 751, 752},\n",
       " {753, 754, 755},\n",
       " {757},\n",
       " {759, 760, 761},\n",
       " {762, 763, 764},\n",
       " {765, 766, 767},\n",
       " {770},\n",
       " {771, 772, 773},\n",
       " {774, 775, 776},\n",
       " {777, 778, 779},\n",
       " {780, 781, 782},\n",
       " {783, 784, 785},\n",
       " {786, 787, 788},\n",
       " {790},\n",
       " {792, 793, 794},\n",
       " {796},\n",
       " {798, 799, 800},\n",
       " {802, 803},\n",
       " {804, 805, 806},\n",
       " {807, 808, 809},\n",
       " {810, 811, 812},\n",
       " {813},\n",
       " {816, 817, 818},\n",
       " {820, 821},\n",
       " {822, 823, 824},\n",
       " {825},\n",
       " {828, 829, 830},\n",
       " {831, 832, 833},\n",
       " {835},\n",
       " {837, 838, 839},\n",
       " {841},\n",
       " {843, 844, 845},\n",
       " {846, 847, 848},\n",
       " {849, 850, 851},\n",
       " {852, 853, 854},\n",
       " {856, 857, 859, 860},\n",
       " {856, 857, 859, 860},\n",
       " {862},\n",
       " {865},\n",
       " {867, 868, 869, 870, 871, 872},\n",
       " {867, 868, 869, 870, 871, 872},\n",
       " {873, 874, 875, 876, 877, 878},\n",
       " {873, 874, 875, 876, 877, 878},\n",
       " {879, 880, 881, 882, 883, 884},\n",
       " {879, 880, 881, 882, 883, 884},\n",
       " {885, 886, 887, 888, 889, 890},\n",
       " {885, 886, 887, 888, 889, 890}]"
      ]
     },
     "execution_count": 200,
     "metadata": {},
     "output_type": "execute_result"
    }
   ],
   "source": [
    "match_idx"
   ]
  },
  {
   "cell_type": "code",
   "execution_count": null,
   "id": "81ad5177-0b8a-4498-8120-ce0378434da2",
   "metadata": {},
   "outputs": [],
   "source": [
    "# This works now, hooray! And matches what I see in the plots!\n",
    "\n",
    "import postprocess\n",
    "test = postprocess.extract_picks(preds,station_ids = station_ids,fnames = station_ids,t0=t0)"
   ]
  },
  {
   "cell_type": "code",
   "execution_count": 251,
   "id": "7b0aa23a-e26c-40d3-959a-95abf5dc2421",
   "metadata": {},
   "outputs": [],
   "source": [
    "# Now that the EQTransformer annotation streams start at the same time as the original data streams, should be much easier to grab the amps\n",
    "# BUT we need to match the original data traces to the extracted picks now. To-Do...\n",
    "\n",
    "amps = postprocess.extract_amplitude(preds,test)"
   ]
  },
  {
   "cell_type": "markdown",
   "id": "c0519179-b6ff-4450-8780-8461d0b00e02",
   "metadata": {},
   "source": [
    "It would be great to have the channel names saved in the annotation trace id. Otherwise it will be difficult to correctly match the annotations to the original data."
   ]
  },
  {
   "cell_type": "code",
   "execution_count": null,
   "id": "169119b3-daf3-4a92-8ce1-8dc87e285e20",
   "metadata": {},
   "outputs": [],
   "source": []
  }
 ],
 "metadata": {
  "kernelspec": {
   "display_name": "Python [conda env:seisbench]",
   "language": "python",
   "name": "conda-env-seisbench-py"
  },
  "language_info": {
   "codemirror_mode": {
    "name": "ipython",
    "version": 3
   },
   "file_extension": ".py",
   "mimetype": "text/x-python",
   "name": "python",
   "nbconvert_exporter": "python",
   "pygments_lexer": "ipython3",
   "version": "3.9.10"
  }
 },
 "nbformat": 4,
 "nbformat_minor": 5
}
