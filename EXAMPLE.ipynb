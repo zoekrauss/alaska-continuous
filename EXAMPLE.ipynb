{
 "cells": [
  {
   "cell_type": "markdown",
   "id": "65b6824b-1adf-4989-98a0-f2625cee4abe",
   "metadata": {},
   "source": [
    "## This notebook allows you to apply EQTransformer (by way of Seisbench) to continuous seismic data from the AACSE network, and retrieve picks for the specified time period. The waveforms can also be filtered or denoised by DeepDenoiser (by way of Seisbench).\n",
    "\n",
    "## This workflow could be edited to be used with different seismic stations."
   ]
  },
  {
   "cell_type": "markdown",
   "id": "6d729050-107a-4976-8655-fae6ed601f44",
   "metadata": {},
   "source": [
    "#### Create the environment with all needed packages. NOTE: will need to restart your kernel and specify the new environment."
   ]
  },
  {
   "cell_type": "code",
   "execution_count": null,
   "id": "b26eda76-b53f-4d85-8851-b48a24ac7464",
   "metadata": {},
   "outputs": [],
   "source": [
    "!conda env create --quiet -f environment.yml"
   ]
  },
  {
   "cell_type": "markdown",
   "id": "a4523eaa-a721-4698-9b3a-c020307653b0",
   "metadata": {},
   "source": [
    "#### Import all needed packages"
   ]
  },
  {
   "cell_type": "code",
   "execution_count": 1,
   "id": "0b9786d0-eb0c-49bb-91f9-94378773beed",
   "metadata": {
    "tags": []
   },
   "outputs": [],
   "source": [
    "import datetime\n",
    "import json\n",
    "import logging\n",
    "from datetime import timedelta\n",
    "\n",
    "import alaska_utils\n",
    "import dask\n",
    "import eqt_utils\n",
    "import matplotlib.pyplot as plt\n",
    "import numpy as np\n",
    "import obspy\n",
    "import pandas as pd\n",
    "import postprocess\n",
    "import requests\n",
    "import seisbench\n",
    "import seisbench.models as sbm\n",
    "import geopandas as gpd\n",
    "\n",
    "# Progress bar for dask operations:\n",
    "from dask.diagnostics import ProgressBar\n",
    "from obspy.clients.fdsn import Client\n",
    "\n",
    "pbar = dask.diagnostics.ProgressBar()\n",
    "pbar.register()\n",
    "\n",
    "import warnings\n",
    "\n",
    "warnings.filterwarnings(\"ignore\")"
   ]
  },
  {
   "cell_type": "markdown",
   "id": "6f775338-c067-4274-9723-793ee495c00e",
   "metadata": {},
   "source": [
    "#### Choose window length (s), and start and end times"
   ]
  },
  {
   "cell_type": "code",
   "execution_count": 19,
   "id": "039687f3-d8be-4259-b31e-ce4d874ee9e2",
   "metadata": {},
   "outputs": [],
   "source": [
    "waveform_length = 60\n",
    "waveform_overlap = 0\n",
    "starttime = datetime.datetime(2019, 5, 27, 5)\n",
    "endtime = datetime.datetime(2019, 5, 27, 6)"
   ]
  },
  {
   "cell_type": "markdown",
   "id": "b0ee1356-e60b-49cf-815a-8d3b9abdca82",
   "metadata": {
    "tags": []
   },
   "source": [
    "#### Load list of stations to run the workflow on, specify by network and maximum station elevation if desired"
   ]
  },
  {
   "cell_type": "code",
   "execution_count": 20,
   "id": "02fbb950-2111-4c87-a9c0-1af4053bc799",
   "metadata": {},
   "outputs": [],
   "source": [
    "# Pre=saved station list in pandas dataframe format\n",
    "dfS = pd.read_parquet(\n",
    "    \"https://github.com/zoekrauss/alaska_catalog/raw/main/data_acquisition/alaska_stations.parquet\"\n",
    ")\n",
    "dfS = alaska_utils.station_list(dfS,starttime,endtime,elevation=False,network=False)"
   ]
  },
  {
   "cell_type": "markdown",
   "id": "1a19b6bc-d799-493a-b150-8dfa7f82b894",
   "metadata": {
    "tags": []
   },
   "source": [
    "#### Specify whether to apply any filtering to the waveforms before phase picking\n",
    "\n",
    "This choice is made with the variable filt_type.\n",
    "\n",
    "filt_type = 0 for raw waveforms\\\n",
    "filt_type = 1 for bandpass filtered waveforms\\\n",
    "filt_type = 2 to apply DeepDenoiser to the waveforms\n",
    "\n",
    "NOTE: if specifying bandpass filter, must also specify f1 and f2 for bandpass limits"
   ]
  },
  {
   "cell_type": "code",
   "execution_count": 21,
   "id": "61d99202-a08a-4bd5-9316-76b4419fb51b",
   "metadata": {},
   "outputs": [],
   "source": [
    "filt_type = 1\n",
    "f1 = 5\n",
    "f2 = 20"
   ]
  },
  {
   "cell_type": "markdown",
   "id": "ebf16714-5f0a-4a32-9047-82eeb457366a",
   "metadata": {},
   "source": [
    "### Run the workflow, and output:\n",
    "#### (1) pandas dataframe of all pick metadata\n",
    "#### (2) list of pick dictionaries formatted for use with GAMMA"
   ]
  },
  {
   "cell_type": "code",
   "execution_count": 22,
   "id": "0a0a0692-a257-4e87-a4b9-1b84c78689d8",
   "metadata": {},
   "outputs": [
    {
     "name": "stdout",
     "output_type": "stream",
     "text": [
      "Downloading data from IRIS:\n",
      "[########################################] | 100% Completed |  8min 26.2s\n",
      "Status: filtering data\n",
      "Status: applying EQTransformer\n"
     ]
    },
    {
     "name": "stderr",
     "output_type": "stream",
     "text": [
      "2022-03-14 19:39:19,590 | seisbench | WARNING | Parts of the input stream consist of fragments shorter than the number of input samples. Output might be empty.\n",
      "2022-03-14 19:39:28,343 | seisbench | WARNING | Parts of the input stream consist of fragments shorter than the number of input samples. Output might be empty.\n",
      "2022-03-14 19:39:38,673 | seisbench | WARNING | Parts of the input stream consist of fragments shorter than the number of input samples. Output might be empty.\n",
      "2022-03-14 19:39:57,119 | seisbench | WARNING | Parts of the input stream consist of fragments shorter than the number of input samples. Output might be empty.\n",
      "2022-03-14 19:40:07,418 | seisbench | WARNING | Parts of the input stream consist of fragments shorter than the number of input samples. Output might be empty.\n",
      "2022-03-14 19:40:16,099 | seisbench | WARNING | Parts of the input stream consist of fragments shorter than the number of input samples. Output might be empty.\n",
      "2022-03-14 19:40:16,870 | seisbench | WARNING | Parts of the input stream consist of fragments shorter than the number of input samples. Output might be empty.\n",
      "2022-03-14 19:40:17,164 | seisbench | WARNING | Parts of the input stream consist of fragments shorter than the number of input samples. Output might be empty.\n",
      "2022-03-14 19:40:26,488 | seisbench | WARNING | Parts of the input stream consist of fragments shorter than the number of input samples. Output might be empty.\n",
      "2022-03-14 19:40:35,119 | seisbench | WARNING | Parts of the input stream consist of fragments shorter than the number of input samples. Output might be empty.\n",
      "2022-03-14 19:40:35,880 | seisbench | WARNING | Parts of the input stream consist of fragments shorter than the number of input samples. Output might be empty.\n",
      "2022-03-14 19:40:44,413 | seisbench | WARNING | Parts of the input stream consist of fragments shorter than the number of input samples. Output might be empty.\n",
      "2022-03-14 19:41:04,550 | seisbench | WARNING | Parts of the input stream consist of fragments shorter than the number of input samples. Output might be empty.\n",
      "2022-03-14 19:41:04,839 | seisbench | WARNING | Parts of the input stream consist of fragments shorter than the number of input samples. Output might be empty.\n",
      "2022-03-14 19:41:12,918 | seisbench | WARNING | Parts of the input stream consist of fragments shorter than the number of input samples. Output might be empty.\n",
      "2022-03-14 19:41:21,329 | seisbench | WARNING | Parts of the input stream consist of fragments shorter than the number of input samples. Output might be empty.\n",
      "2022-03-14 19:41:31,811 | seisbench | WARNING | Parts of the input stream consist of fragments shorter than the number of input samples. Output might be empty.\n",
      "2022-03-14 19:41:42,145 | seisbench | WARNING | Parts of the input stream consist of fragments shorter than the number of input samples. Output might be empty.\n",
      "2022-03-14 19:41:51,676 | seisbench | WARNING | Parts of the input stream consist of fragments shorter than the number of input samples. Output might be empty.\n",
      "2022-03-14 19:42:00,593 | seisbench | WARNING | Parts of the input stream consist of fragments shorter than the number of input samples. Output might be empty.\n",
      "2022-03-14 19:42:10,824 | seisbench | WARNING | Parts of the input stream consist of fragments shorter than the number of input samples. Output might be empty.\n",
      "2022-03-14 19:42:11,117 | seisbench | WARNING | Parts of the input stream consist of fragments shorter than the number of input samples. Output might be empty.\n",
      "2022-03-14 19:42:20,335 | seisbench | WARNING | Parts of the input stream consist of fragments shorter than the number of input samples. Output might be empty.\n",
      "2022-03-14 19:42:29,183 | seisbench | WARNING | Parts of the input stream consist of fragments shorter than the number of input samples. Output might be empty.\n",
      "2022-03-14 19:42:29,948 | seisbench | WARNING | Parts of the input stream consist of fragments shorter than the number of input samples. Output might be empty.\n",
      "2022-03-14 19:42:38,645 | seisbench | WARNING | Parts of the input stream consist of fragments shorter than the number of input samples. Output might be empty.\n",
      "2022-03-14 19:43:07,857 | seisbench | WARNING | Parts of the input stream consist of fragments shorter than the number of input samples. Output might be empty.\n",
      "2022-03-14 19:43:17,549 | seisbench | WARNING | Parts of the input stream consist of fragments shorter than the number of input samples. Output might be empty.\n",
      "2022-03-14 19:43:36,842 | seisbench | WARNING | Parts of the input stream consist of fragments shorter than the number of input samples. Output might be empty.\n",
      "2022-03-14 19:43:47,278 | seisbench | WARNING | Parts of the input stream consist of fragments shorter than the number of input samples. Output might be empty.\n",
      "2022-03-14 19:43:56,155 | seisbench | WARNING | Parts of the input stream consist of fragments shorter than the number of input samples. Output might be empty.\n",
      "2022-03-14 19:43:56,916 | seisbench | WARNING | Parts of the input stream consist of fragments shorter than the number of input samples. Output might be empty.\n",
      "2022-03-14 19:44:06,591 | seisbench | WARNING | Parts of the input stream consist of fragments shorter than the number of input samples. Output might be empty.\n",
      "2022-03-14 19:44:15,136 | seisbench | WARNING | Parts of the input stream consist of fragments shorter than the number of input samples. Output might be empty.\n",
      "2022-03-14 19:44:25,547 | seisbench | WARNING | Parts of the input stream consist of fragments shorter than the number of input samples. Output might be empty.\n",
      "2022-03-14 19:44:34,179 | seisbench | WARNING | Parts of the input stream consist of fragments shorter than the number of input samples. Output might be empty.\n",
      "2022-03-14 19:44:34,948 | seisbench | WARNING | Parts of the input stream consist of fragments shorter than the number of input samples. Output might be empty.\n",
      "2022-03-14 19:44:53,139 | seisbench | WARNING | Parts of the input stream consist of fragments shorter than the number of input samples. Output might be empty.\n",
      "2022-03-14 19:45:02,893 | seisbench | WARNING | Parts of the input stream consist of fragments shorter than the number of input samples. Output might be empty.\n",
      "2022-03-14 19:45:03,855 | seisbench | WARNING | Parts of the input stream consist of fragments shorter than the number of input samples. Output might be empty.\n",
      "2022-03-14 19:45:12,390 | seisbench | WARNING | Parts of the input stream consist of fragments shorter than the number of input samples. Output might be empty.\n",
      "2022-03-14 19:45:22,034 | seisbench | WARNING | Parts of the input stream consist of fragments shorter than the number of input samples. Output might be empty.\n",
      "2022-03-14 19:45:32,384 | seisbench | WARNING | Parts of the input stream consist of fragments shorter than the number of input samples. Output might be empty.\n",
      "2022-03-14 19:45:32,673 | seisbench | WARNING | Parts of the input stream consist of fragments shorter than the number of input samples. Output might be empty.\n",
      "2022-03-14 19:45:41,888 | seisbench | WARNING | Parts of the input stream consist of fragments shorter than the number of input samples. Output might be empty.\n",
      "2022-03-14 19:45:51,639 | seisbench | WARNING | Parts of the input stream consist of fragments shorter than the number of input samples. Output might be empty.\n",
      "2022-03-14 19:46:09,983 | seisbench | WARNING | Parts of the input stream consist of fragments shorter than the number of input samples. Output might be empty.\n",
      "2022-03-14 19:46:29,807 | seisbench | WARNING | Parts of the input stream consist of fragments shorter than the number of input samples. Output might be empty.\n",
      "2022-03-14 19:46:39,299 | seisbench | WARNING | Parts of the input stream consist of fragments shorter than the number of input samples. Output might be empty.\n",
      "2022-03-14 19:46:58,353 | seisbench | WARNING | Parts of the input stream consist of fragments shorter than the number of input samples. Output might be empty.\n",
      "2022-03-14 19:46:58,642 | seisbench | WARNING | Parts of the input stream consist of fragments shorter than the number of input samples. Output might be empty.\n",
      "2022-03-14 19:47:07,077 | seisbench | WARNING | Parts of the input stream consist of fragments shorter than the number of input samples. Output might be empty.\n",
      "2022-03-14 19:47:26,368 | seisbench | WARNING | Parts of the input stream consist of fragments shorter than the number of input samples. Output might be empty.\n",
      "2022-03-14 19:47:35,748 | seisbench | WARNING | Parts of the input stream consist of fragments shorter than the number of input samples. Output might be empty.\n",
      "2022-03-14 19:47:45,150 | seisbench | WARNING | Parts of the input stream consist of fragments shorter than the number of input samples. Output might be empty.\n",
      "2022-03-14 19:47:59,783 | seisbench | WARNING | Parts of the input stream consist of fragments shorter than the number of input samples. Output might be empty.\n",
      "2022-03-14 19:48:05,112 | seisbench | WARNING | Parts of the input stream consist of fragments shorter than the number of input samples. Output might be empty.\n",
      "2022-03-14 19:48:13,788 | seisbench | WARNING | Parts of the input stream consist of fragments shorter than the number of input samples. Output might be empty.\n",
      "2022-03-14 19:48:33,709 | seisbench | WARNING | Parts of the input stream consist of fragments shorter than the number of input samples. Output might be empty.\n",
      "2022-03-14 19:48:43,620 | seisbench | WARNING | Parts of the input stream consist of fragments shorter than the number of input samples. Output might be empty.\n",
      "2022-03-14 19:48:43,928 | seisbench | WARNING | Parts of the input stream consist of fragments shorter than the number of input samples. Output might be empty.\n"
     ]
    },
    {
     "name": "stdout",
     "output_type": "stream",
     "text": [
      "CPU times: user 36min 49s, sys: 36.3 s, total: 37min 26s\n",
      "Wall time: 18min 22s\n"
     ]
    }
   ],
   "source": [
    "%%time\n",
    "\n",
    "pick_info,gamma_picks = eqt_utils.ml_pick(\n",
    "    dfS, starttime, endtime, waveform_length, waveform_overlap, filt_type, f1=f1, f2=f2\n",
    ")"
   ]
  },
  {
   "cell_type": "markdown",
   "id": "9a82bcc2-5bbb-4beb-81da-9a3cf8085625",
   "metadata": {},
   "source": [
    "#### Below is an example of the output pick dataframe. You can see that both the raw and denoised SNR of the pick is saved for all channels, as well as the raw and denoised amplitude of the signal (for use in magnitude estimation with GAMMA), and the probability of the pick from EQTransformer."
   ]
  },
  {
   "cell_type": "code",
   "execution_count": 10,
   "id": "fe2d539b-4b2e-4f87-84a0-88f296671717",
   "metadata": {},
   "outputs": [
    {
     "data": {
      "text/html": [
       "<div>\n",
       "<style scoped>\n",
       "    .dataframe tbody tr th:only-of-type {\n",
       "        vertical-align: middle;\n",
       "    }\n",
       "\n",
       "    .dataframe tbody tr th {\n",
       "        vertical-align: top;\n",
       "    }\n",
       "\n",
       "    .dataframe thead th {\n",
       "        text-align: right;\n",
       "    }\n",
       "</style>\n",
       "<table border=\"1\" class=\"dataframe\">\n",
       "  <thead>\n",
       "    <tr style=\"text-align: right;\">\n",
       "      <th></th>\n",
       "      <th>id</th>\n",
       "      <th>network</th>\n",
       "      <th>station</th>\n",
       "      <th>channel</th>\n",
       "      <th>phase</th>\n",
       "      <th>timestamp</th>\n",
       "      <th>prob</th>\n",
       "      <th>raw_amp</th>\n",
       "      <th>den_amp</th>\n",
       "      <th>z_raw_snr</th>\n",
       "      <th>z_den_snr</th>\n",
       "      <th>n_raw_snr</th>\n",
       "      <th>n_den_snr</th>\n",
       "      <th>e_raw_snr</th>\n",
       "      <th>e_den_snr</th>\n",
       "    </tr>\n",
       "  </thead>\n",
       "  <tbody>\n",
       "    <tr>\n",
       "      <th>0</th>\n",
       "      <td>XO.LT01..HH</td>\n",
       "      <td>XO</td>\n",
       "      <td>LT01</td>\n",
       "      <td>HH</td>\n",
       "      <td>P</td>\n",
       "      <td>2019-05-27T10:30:37.732</td>\n",
       "      <td>0.752095</td>\n",
       "      <td>648952.689879</td>\n",
       "      <td>648952.689879</td>\n",
       "      <td>4011.344725</td>\n",
       "      <td>4011.344725</td>\n",
       "      <td>30.355588</td>\n",
       "      <td>30.355588</td>\n",
       "      <td>4.157171</td>\n",
       "      <td>4.157171</td>\n",
       "    </tr>\n",
       "    <tr>\n",
       "      <th>1</th>\n",
       "      <td>XO.WD50..HH</td>\n",
       "      <td>XO</td>\n",
       "      <td>WD50</td>\n",
       "      <td>HH</td>\n",
       "      <td>S</td>\n",
       "      <td>2019-05-27T10:30:16.599</td>\n",
       "      <td>0.459192</td>\n",
       "      <td>1955.728113</td>\n",
       "      <td>1955.728113</td>\n",
       "      <td>10.512972</td>\n",
       "      <td>10.512972</td>\n",
       "      <td>28.186199</td>\n",
       "      <td>28.186199</td>\n",
       "      <td>18.069943</td>\n",
       "      <td>18.069943</td>\n",
       "    </tr>\n",
       "    <tr>\n",
       "      <th>2</th>\n",
       "      <td>XO.WD60..HH</td>\n",
       "      <td>XO</td>\n",
       "      <td>WD60</td>\n",
       "      <td>HH</td>\n",
       "      <td>P</td>\n",
       "      <td>2019-05-27T10:31:05.290</td>\n",
       "      <td>0.508050</td>\n",
       "      <td>133.822785</td>\n",
       "      <td>133.822785</td>\n",
       "      <td>1.159726</td>\n",
       "      <td>1.159726</td>\n",
       "      <td>1.253658</td>\n",
       "      <td>1.253658</td>\n",
       "      <td>3.357883</td>\n",
       "      <td>3.357883</td>\n",
       "    </tr>\n",
       "    <tr>\n",
       "      <th>3</th>\n",
       "      <td>XO.WD60..HH</td>\n",
       "      <td>XO</td>\n",
       "      <td>WD60</td>\n",
       "      <td>HH</td>\n",
       "      <td>S</td>\n",
       "      <td>2019-05-27T10:31:31.200</td>\n",
       "      <td>0.340008</td>\n",
       "      <td>338.774845</td>\n",
       "      <td>338.774845</td>\n",
       "      <td>14.632777</td>\n",
       "      <td>14.632777</td>\n",
       "      <td>14.776297</td>\n",
       "      <td>14.776297</td>\n",
       "      <td>15.755255</td>\n",
       "      <td>15.755255</td>\n",
       "    </tr>\n",
       "    <tr>\n",
       "      <th>4</th>\n",
       "      <td>XO.WD48..HH</td>\n",
       "      <td>XO</td>\n",
       "      <td>WD48</td>\n",
       "      <td>HH</td>\n",
       "      <td>P</td>\n",
       "      <td>2019-05-27T10:32:05.274</td>\n",
       "      <td>0.466154</td>\n",
       "      <td>106.377301</td>\n",
       "      <td>106.377301</td>\n",
       "      <td>0.406411</td>\n",
       "      <td>0.406411</td>\n",
       "      <td>2.282273</td>\n",
       "      <td>2.282273</td>\n",
       "      <td>2.281416</td>\n",
       "      <td>2.281416</td>\n",
       "    </tr>\n",
       "  </tbody>\n",
       "</table>\n",
       "</div>"
      ],
      "text/plain": [
       "            id network station channel phase                timestamp  \\\n",
       "0  XO.LT01..HH      XO    LT01      HH     P  2019-05-27T10:30:37.732   \n",
       "1  XO.WD50..HH      XO    WD50      HH     S  2019-05-27T10:30:16.599   \n",
       "2  XO.WD60..HH      XO    WD60      HH     P  2019-05-27T10:31:05.290   \n",
       "3  XO.WD60..HH      XO    WD60      HH     S  2019-05-27T10:31:31.200   \n",
       "4  XO.WD48..HH      XO    WD48      HH     P  2019-05-27T10:32:05.274   \n",
       "\n",
       "       prob        raw_amp        den_amp    z_raw_snr    z_den_snr  \\\n",
       "0  0.752095  648952.689879  648952.689879  4011.344725  4011.344725   \n",
       "1  0.459192    1955.728113    1955.728113    10.512972    10.512972   \n",
       "2  0.508050     133.822785     133.822785     1.159726     1.159726   \n",
       "3  0.340008     338.774845     338.774845    14.632777    14.632777   \n",
       "4  0.466154     106.377301     106.377301     0.406411     0.406411   \n",
       "\n",
       "   n_raw_snr  n_den_snr  e_raw_snr  e_den_snr  \n",
       "0  30.355588  30.355588   4.157171   4.157171  \n",
       "1  28.186199  28.186199  18.069943  18.069943  \n",
       "2   1.253658   1.253658   3.357883   3.357883  \n",
       "3  14.776297  14.776297  15.755255  15.755255  \n",
       "4   2.282273   2.282273   2.281416   2.281416  "
      ]
     },
     "execution_count": 10,
     "metadata": {},
     "output_type": "execute_result"
    }
   ],
   "source": [
    "pick_info.head()"
   ]
  },
  {
   "cell_type": "markdown",
   "id": "2846d25a-d018-4158-bf04-0876432dac78",
   "metadata": {},
   "source": [
    "### A great way to save these results is in parquet format, which is an efficient way to store tabular data."
   ]
  },
  {
   "cell_type": "code",
   "execution_count": 15,
   "id": "aa371db5-3270-4833-af55-5cc970c1f560",
   "metadata": {},
   "outputs": [],
   "source": [
    "pick_info.to_parquet(\"picks_20190527_1030_bp0535.parquet\", version=\"2.6\")"
   ]
  },
  {
   "cell_type": "markdown",
   "id": "3c7ccc77-ddaa-4731-860f-9e5b5f45b16e",
   "metadata": {},
   "source": [
    "# Nice! Now we can do some performance evaluation."
   ]
  },
  {
   "cell_type": "markdown",
   "id": "9185d0bb-1a4d-40f6-8953-c6439533a9b0",
   "metadata": {
    "tags": []
   },
   "source": [
    "### We load in the manually-constructed catalog for the same stations, and compare it to the machine learning picks to evaluate performance. \n",
    "\n",
    "We have stored the catalog in an easily readable format, parquet, hosted on my personal github. The catalog was downloaded from https://scholarworks.alaska.edu/handle/11122/11967 and then converted locally.  "
   ]
  },
  {
   "cell_type": "code",
   "execution_count": 12,
   "id": "40f76de1-abc4-4fd2-b1c0-949c1ea51f38",
   "metadata": {},
   "outputs": [],
   "source": [
    "# Load master pick and event lists\n",
    "ground_truth = pd.read_parquet('https://github.com/zoekrauss/alaska_catalog/raw/main/data_acquisition/alaska_picks.parquet')\n",
    "events = pd.read_parquet('https://github.com/zoekrauss/alaska_catalog/raw/main/data_acquisition/alaska_events.parquet')\n",
    "ground_truth['og_timestamp']=pd.to_datetime(ground_truth['og_timestamp'],format='%Y-%m-%dT%H:%M:%S.%fZ',errors='coerce')\n",
    "events['time']=pd.to_datetime(events['time'],format='%Y-%m-%dT%H:%M:%S.%fZ',errors='coerce')"
   ]
  },
  {
   "cell_type": "markdown",
   "id": "60b5e0b2-7bd8-4e80-a449-37b27c320a64",
   "metadata": {},
   "source": [
    "### Let's see which picks are true positives by joining based on phase type, station code, and time residual within a threshold."
   ]
  },
  {
   "cell_type": "code",
   "execution_count": 13,
   "id": "d5577fad-bc79-476f-a9e6-3c47fa79a931",
   "metadata": {},
   "outputs": [],
   "source": [
    "df = pick_info\n",
    "df['timestamp']=pd.to_datetime(df['timestamp'],infer_datetime_format=True)\n",
    "df['type'] = [t.lower() for t in df['phase']]\n",
    "\n",
    "resid_max = 0.1 # seconds\n",
    "\n",
    "# Let's only compare the part of the original catalog that we have EQT picks for:\n",
    "cat_start = min(df['timestamp'] - pd.Timedelta(30,'seconds'))\n",
    "cat_end = max(df['timestamp'] + pd.Timedelta(30,'seconds'))\n",
    "ground_truth = ground_truth[(ground_truth['og_timestamp'] > cat_start) & (ground_truth['og_timestamp'] < cat_end)]\n",
    "# Also only compare picks on stations that are in our station list:\n",
    "ground_truth = ground_truth[([t in df['id'].to_list() for t in ground_truth['sta_code']])]\n",
    "\n",
    "# Sort both dataframes by time:\n",
    "df.sort_values(by=['timestamp'],inplace=True)\n",
    "ground_truth.sort_values(by=['og_timestamp'],inplace=True)\n",
    "\n",
    "# Merge dataframes, only merging picks if they have matching station ID, \n",
    "# phase type, and are within 0.1 s of each other\n",
    "comp = pd.merge_asof(left=df,right=ground_truth,left_on=['timestamp'],right_on=['og_timestamp'],left_by=['id','type'],right_by=['sta_code','og_phase'],tolerance = pd.Timedelta(resid_max,'seconds'),direction='nearest')\n",
    "\n",
    "# Add residual column: \n",
    "comp['pick_resid'] = comp['og_timestamp'] - comp['timestamp']\n",
    "comp['pick_resid'] = comp['pick_resid'].dt.total_seconds()"
   ]
  },
  {
   "cell_type": "markdown",
   "id": "0beea1c4-96ab-4c8c-b6d9-badb9e9886cd",
   "metadata": {},
   "source": [
    "### Using that merged dataframe, we can print out performance statistics. "
   ]
  },
  {
   "cell_type": "code",
   "execution_count": 14,
   "id": "a7616999-17cb-4bb9-8fef-8a4c7b191ffd",
   "metadata": {},
   "outputs": [
    {
     "name": "stdout",
     "output_type": "stream",
     "text": [
      "There were 2 true positives.\n",
      "There were 26 false positives.\n",
      "There were 190 false negatives.\n",
      "This yields a precision of 0.07, a recall of 0.01, and an F1-score of 0.02.\n"
     ]
    }
   ],
   "source": [
    "true_positives = comp['og_timestamp'].notna().sum()\n",
    "\n",
    "false_positives = comp['og_timestamp'].isna().sum()\n",
    "\n",
    "false_negatives = len(ground_truth)-true_positives\n",
    "\n",
    "print('There were ' + str(true_positives) + ' true positives.')\n",
    "print('There were ' + str(false_positives) + ' false positives.')\n",
    "print('There were ' + str(false_negatives) + ' false negatives.')\n",
    "\n",
    "precision = true_positives / (true_positives + false_positives)\n",
    "recall = true_positives / (true_positives + false_negatives)\n",
    "f1 = 2 * ((precision * recall)/(precision + recall))\n",
    "\n",
    "print('This yields a precision of ' + str(round(precision,2)) + ', a recall of ' + str(round(recall,2)) + ', and an F1-score of ' + str(round(f1,2)) + '.')"
   ]
  },
  {
   "cell_type": "markdown",
   "id": "415627b1-5a1d-4120-b6d3-9f2518a77058",
   "metadata": {},
   "source": [
    "### Which earthquakes occurred during this period that we should be getting picks for?"
   ]
  },
  {
   "cell_type": "code",
   "execution_count": 15,
   "id": "0a8528b7-50ee-43a5-82e1-bfa38ec460e7",
   "metadata": {},
   "outputs": [
    {
     "data": {
      "text/html": [
       "<div style=\"width:100%;\"><div style=\"position:relative;width:100%;height:0;padding-bottom:60%;\"><span style=\"color:#565656\">Make this Notebook Trusted to load map: File -> Trust Notebook</span><iframe src=\"about:blank\" style=\"position:absolute;width:100%;height:100%;left:0;top:0;border:none !important;\" data-html=%3C%21DOCTYPE%20html%3E%0A%3Chead%3E%20%20%20%20%0A%20%20%20%20%3Cmeta%20http-equiv%3D%22content-type%22%20content%3D%22text/html%3B%20charset%3DUTF-8%22%20/%3E%0A%20%20%20%20%0A%20%20%20%20%20%20%20%20%3Cscript%3E%0A%20%20%20%20%20%20%20%20%20%20%20%20L_NO_TOUCH%20%3D%20false%3B%0A%20%20%20%20%20%20%20%20%20%20%20%20L_DISABLE_3D%20%3D%20false%3B%0A%20%20%20%20%20%20%20%20%3C/script%3E%0A%20%20%20%20%0A%20%20%20%20%3Cstyle%3Ehtml%2C%20body%20%7Bwidth%3A%20100%25%3Bheight%3A%20100%25%3Bmargin%3A%200%3Bpadding%3A%200%3B%7D%3C/style%3E%0A%20%20%20%20%3Cstyle%3E%23map%20%7Bposition%3Aabsolute%3Btop%3A0%3Bbottom%3A0%3Bright%3A0%3Bleft%3A0%3B%7D%3C/style%3E%0A%20%20%20%20%3Cscript%20src%3D%22https%3A//cdn.jsdelivr.net/npm/leaflet%401.6.0/dist/leaflet.js%22%3E%3C/script%3E%0A%20%20%20%20%3Cscript%20src%3D%22https%3A//code.jquery.com/jquery-1.12.4.min.js%22%3E%3C/script%3E%0A%20%20%20%20%3Cscript%20src%3D%22https%3A//maxcdn.bootstrapcdn.com/bootstrap/3.2.0/js/bootstrap.min.js%22%3E%3C/script%3E%0A%20%20%20%20%3Cscript%20src%3D%22https%3A//cdnjs.cloudflare.com/ajax/libs/Leaflet.awesome-markers/2.0.2/leaflet.awesome-markers.js%22%3E%3C/script%3E%0A%20%20%20%20%3Clink%20rel%3D%22stylesheet%22%20href%3D%22https%3A//cdn.jsdelivr.net/npm/leaflet%401.6.0/dist/leaflet.css%22/%3E%0A%20%20%20%20%3Clink%20rel%3D%22stylesheet%22%20href%3D%22https%3A//maxcdn.bootstrapcdn.com/bootstrap/3.2.0/css/bootstrap.min.css%22/%3E%0A%20%20%20%20%3Clink%20rel%3D%22stylesheet%22%20href%3D%22https%3A//maxcdn.bootstrapcdn.com/bootstrap/3.2.0/css/bootstrap-theme.min.css%22/%3E%0A%20%20%20%20%3Clink%20rel%3D%22stylesheet%22%20href%3D%22https%3A//maxcdn.bootstrapcdn.com/font-awesome/4.6.3/css/font-awesome.min.css%22/%3E%0A%20%20%20%20%3Clink%20rel%3D%22stylesheet%22%20href%3D%22https%3A//cdnjs.cloudflare.com/ajax/libs/Leaflet.awesome-markers/2.0.2/leaflet.awesome-markers.css%22/%3E%0A%20%20%20%20%3Clink%20rel%3D%22stylesheet%22%20href%3D%22https%3A//cdn.jsdelivr.net/gh/python-visualization/folium/folium/templates/leaflet.awesome.rotate.min.css%22/%3E%0A%20%20%20%20%0A%20%20%20%20%20%20%20%20%20%20%20%20%3Cmeta%20name%3D%22viewport%22%20content%3D%22width%3Ddevice-width%2C%0A%20%20%20%20%20%20%20%20%20%20%20%20%20%20%20%20initial-scale%3D1.0%2C%20maximum-scale%3D1.0%2C%20user-scalable%3Dno%22%20/%3E%0A%20%20%20%20%20%20%20%20%20%20%20%20%3Cstyle%3E%0A%20%20%20%20%20%20%20%20%20%20%20%20%20%20%20%20%23map_46ca4dede73c41f3b6431535a9474d67%20%7B%0A%20%20%20%20%20%20%20%20%20%20%20%20%20%20%20%20%20%20%20%20position%3A%20relative%3B%0A%20%20%20%20%20%20%20%20%20%20%20%20%20%20%20%20%20%20%20%20width%3A%20100.0%25%3B%0A%20%20%20%20%20%20%20%20%20%20%20%20%20%20%20%20%20%20%20%20height%3A%20100.0%25%3B%0A%20%20%20%20%20%20%20%20%20%20%20%20%20%20%20%20%20%20%20%20left%3A%200.0%25%3B%0A%20%20%20%20%20%20%20%20%20%20%20%20%20%20%20%20%20%20%20%20top%3A%200.0%25%3B%0A%20%20%20%20%20%20%20%20%20%20%20%20%20%20%20%20%7D%0A%20%20%20%20%20%20%20%20%20%20%20%20%3C/style%3E%0A%20%20%20%20%20%20%20%20%0A%20%20%20%20%0A%20%20%20%20%20%20%20%20%20%20%20%20%20%20%20%20%20%20%20%20%3Cstyle%3E%0A%20%20%20%20%20%20%20%20%20%20%20%20%20%20%20%20%20%20%20%20%20%20%20%20.foliumtooltip%20%7B%0A%20%20%20%20%20%20%20%20%20%20%20%20%20%20%20%20%20%20%20%20%20%20%20%20%20%20%20%20%0A%20%20%20%20%20%20%20%20%20%20%20%20%20%20%20%20%20%20%20%20%20%20%20%20%7D%0A%20%20%20%20%20%20%20%20%20%20%20%20%20%20%20%20%20%20%20%20%20%20%20.foliumtooltip%20table%7B%0A%20%20%20%20%20%20%20%20%20%20%20%20%20%20%20%20%20%20%20%20%20%20%20%20%20%20%20%20margin%3A%20auto%3B%0A%20%20%20%20%20%20%20%20%20%20%20%20%20%20%20%20%20%20%20%20%20%20%20%20%7D%0A%20%20%20%20%20%20%20%20%20%20%20%20%20%20%20%20%20%20%20%20%20%20%20%20.foliumtooltip%20tr%7B%0A%20%20%20%20%20%20%20%20%20%20%20%20%20%20%20%20%20%20%20%20%20%20%20%20%20%20%20%20text-align%3A%20left%3B%0A%20%20%20%20%20%20%20%20%20%20%20%20%20%20%20%20%20%20%20%20%20%20%20%20%7D%0A%20%20%20%20%20%20%20%20%20%20%20%20%20%20%20%20%20%20%20%20%20%20%20%20.foliumtooltip%20th%7B%0A%20%20%20%20%20%20%20%20%20%20%20%20%20%20%20%20%20%20%20%20%20%20%20%20%20%20%20%20padding%3A%202px%3B%20padding-right%3A%208px%3B%0A%20%20%20%20%20%20%20%20%20%20%20%20%20%20%20%20%20%20%20%20%20%20%20%20%7D%0A%20%20%20%20%20%20%20%20%20%20%20%20%20%20%20%20%20%20%20%20%3C/style%3E%0A%20%20%20%20%20%20%20%20%20%20%20%20%0A%20%20%20%20%3Cscript%20src%3D%22https%3A//cdnjs.cloudflare.com/ajax/libs/d3/3.5.5/d3.min.js%22%3E%3C/script%3E%0A%3C/head%3E%0A%3Cbody%3E%20%20%20%20%0A%20%20%20%20%0A%20%20%20%20%20%20%20%20%20%20%20%20%3Cdiv%20class%3D%22folium-map%22%20id%3D%22map_46ca4dede73c41f3b6431535a9474d67%22%20%3E%3C/div%3E%0A%20%20%20%20%20%20%20%20%0A%3C/body%3E%0A%3Cscript%3E%20%20%20%20%0A%20%20%20%20%0A%20%20%20%20%20%20%20%20%20%20%20%20var%20map_46ca4dede73c41f3b6431535a9474d67%20%3D%20L.map%28%0A%20%20%20%20%20%20%20%20%20%20%20%20%20%20%20%20%22map_46ca4dede73c41f3b6431535a9474d67%22%2C%0A%20%20%20%20%20%20%20%20%20%20%20%20%20%20%20%20%7B%0A%20%20%20%20%20%20%20%20%20%20%20%20%20%20%20%20%20%20%20%20center%3A%20%5B58.8669%2C%20-152.3599%5D%2C%0A%20%20%20%20%20%20%20%20%20%20%20%20%20%20%20%20%20%20%20%20crs%3A%20L.CRS.EPSG3857%2C%0A%20%20%20%20%20%20%20%20%20%20%20%20%20%20%20%20%20%20%20%20zoom%3A%2010%2C%0A%20%20%20%20%20%20%20%20%20%20%20%20%20%20%20%20%20%20%20%20zoomControl%3A%20true%2C%0A%20%20%20%20%20%20%20%20%20%20%20%20%20%20%20%20%20%20%20%20preferCanvas%3A%20false%2C%0A%20%20%20%20%20%20%20%20%20%20%20%20%20%20%20%20%7D%0A%20%20%20%20%20%20%20%20%20%20%20%20%29%3B%0A%20%20%20%20%20%20%20%20%20%20%20%20L.control.scale%28%29.addTo%28map_46ca4dede73c41f3b6431535a9474d67%29%3B%0A%0A%20%20%20%20%20%20%20%20%20%20%20%20%0A%0A%20%20%20%20%20%20%20%20%0A%20%20%20%20%0A%20%20%20%20%20%20%20%20%20%20%20%20var%20tile_layer_9a1951b0d94c49e4945b6eba86ae4113%20%3D%20L.tileLayer%28%0A%20%20%20%20%20%20%20%20%20%20%20%20%20%20%20%20%22https%3A//%7Bs%7D.tile.openstreetmap.org/%7Bz%7D/%7Bx%7D/%7By%7D.png%22%2C%0A%20%20%20%20%20%20%20%20%20%20%20%20%20%20%20%20%7B%22attribution%22%3A%20%22Data%20by%20%5Cu0026copy%3B%20%5Cu003ca%20href%3D%5C%22http%3A//openstreetmap.org%5C%22%5Cu003eOpenStreetMap%5Cu003c/a%5Cu003e%2C%20under%20%5Cu003ca%20href%3D%5C%22http%3A//www.openstreetmap.org/copyright%5C%22%5Cu003eODbL%5Cu003c/a%5Cu003e.%22%2C%20%22detectRetina%22%3A%20false%2C%20%22maxNativeZoom%22%3A%2018%2C%20%22maxZoom%22%3A%2018%2C%20%22minZoom%22%3A%200%2C%20%22noWrap%22%3A%20false%2C%20%22opacity%22%3A%201%2C%20%22subdomains%22%3A%20%22abc%22%2C%20%22tms%22%3A%20false%7D%0A%20%20%20%20%20%20%20%20%20%20%20%20%29.addTo%28map_46ca4dede73c41f3b6431535a9474d67%29%3B%0A%20%20%20%20%20%20%20%20%0A%20%20%20%20%0A%20%20%20%20%20%20%20%20%20%20%20%20map_46ca4dede73c41f3b6431535a9474d67.fitBounds%28%0A%20%20%20%20%20%20%20%20%20%20%20%20%20%20%20%20%5B%5B58.8669%2C%20-152.3599%5D%2C%20%5B58.8669%2C%20-152.3599%5D%5D%2C%0A%20%20%20%20%20%20%20%20%20%20%20%20%20%20%20%20%7B%7D%0A%20%20%20%20%20%20%20%20%20%20%20%20%29%3B%0A%20%20%20%20%20%20%20%20%0A%20%20%20%20%0A%20%20%20%20%20%20%20%20function%20geo_json_d632152331c44a2fb7ff3096295fea9a_styler%28feature%29%20%7B%0A%20%20%20%20%20%20%20%20%20%20%20%20switch%28feature.id%29%20%7B%0A%20%20%20%20%20%20%20%20%20%20%20%20%20%20%20%20default%3A%0A%20%20%20%20%20%20%20%20%20%20%20%20%20%20%20%20%20%20%20%20return%20%7B%22color%22%3A%20%22%23440154%22%2C%20%22fillColor%22%3A%20%22%23440154%22%2C%20%22fillOpacity%22%3A%200.5%2C%20%22weight%22%3A%202%7D%3B%0A%20%20%20%20%20%20%20%20%20%20%20%20%7D%0A%20%20%20%20%20%20%20%20%7D%0A%20%20%20%20%20%20%20%20function%20geo_json_d632152331c44a2fb7ff3096295fea9a_highlighter%28feature%29%20%7B%0A%20%20%20%20%20%20%20%20%20%20%20%20switch%28feature.id%29%20%7B%0A%20%20%20%20%20%20%20%20%20%20%20%20%20%20%20%20default%3A%0A%20%20%20%20%20%20%20%20%20%20%20%20%20%20%20%20%20%20%20%20return%20%7B%22fillOpacity%22%3A%200.75%7D%3B%0A%20%20%20%20%20%20%20%20%20%20%20%20%7D%0A%20%20%20%20%20%20%20%20%7D%0A%20%20%20%20%20%20%20%20function%20geo_json_d632152331c44a2fb7ff3096295fea9a_pointToLayer%28feature%2C%20latlng%29%20%7B%0A%20%20%20%20%20%20%20%20%20%20%20%20var%20opts%20%3D%20%7B%22bubblingMouseEvents%22%3A%20true%2C%20%22color%22%3A%20%22%233388ff%22%2C%20%22dashArray%22%3A%20null%2C%20%22dashOffset%22%3A%20null%2C%20%22fill%22%3A%20true%2C%20%22fillColor%22%3A%20%22%233388ff%22%2C%20%22fillOpacity%22%3A%200.2%2C%20%22fillRule%22%3A%20%22evenodd%22%2C%20%22lineCap%22%3A%20%22round%22%2C%20%22lineJoin%22%3A%20%22round%22%2C%20%22opacity%22%3A%201.0%2C%20%22radius%22%3A%202%2C%20%22stroke%22%3A%20true%2C%20%22weight%22%3A%203%7D%3B%0A%20%20%20%20%20%20%20%20%20%20%20%20%0A%20%20%20%20%20%20%20%20%20%20%20%20let%20style%20%3D%20geo_json_d632152331c44a2fb7ff3096295fea9a_styler%28feature%29%0A%20%20%20%20%20%20%20%20%20%20%20%20Object.assign%28opts%2C%20style%29%0A%20%20%20%20%20%20%20%20%20%20%20%20%0A%20%20%20%20%20%20%20%20%20%20%20%20return%20new%20L.CircleMarker%28latlng%2C%20opts%29%0A%20%20%20%20%20%20%20%20%7D%0A%0A%20%20%20%20%20%20%20%20function%20geo_json_d632152331c44a2fb7ff3096295fea9a_onEachFeature%28feature%2C%20layer%29%20%7B%0A%20%20%20%20%20%20%20%20%20%20%20%20layer.on%28%7B%0A%20%20%20%20%20%20%20%20%20%20%20%20%20%20%20%20mouseout%3A%20function%28e%29%20%7B%0A%20%20%20%20%20%20%20%20%20%20%20%20%20%20%20%20%20%20%20%20if%28typeof%20e.target.setStyle%20%3D%3D%3D%20%22function%22%29%7B%0A%20%20%20%20%20%20%20%20%20%20%20%20%20%20%20%20%20%20%20%20%20%20%20%20geo_json_d632152331c44a2fb7ff3096295fea9a.resetStyle%28e.target%29%3B%0A%20%20%20%20%20%20%20%20%20%20%20%20%20%20%20%20%20%20%20%20%7D%0A%20%20%20%20%20%20%20%20%20%20%20%20%20%20%20%20%7D%2C%0A%20%20%20%20%20%20%20%20%20%20%20%20%20%20%20%20mouseover%3A%20function%28e%29%20%7B%0A%20%20%20%20%20%20%20%20%20%20%20%20%20%20%20%20%20%20%20%20if%28typeof%20e.target.setStyle%20%3D%3D%3D%20%22function%22%29%7B%0A%20%20%20%20%20%20%20%20%20%20%20%20%20%20%20%20%20%20%20%20%20%20%20%20const%20highlightStyle%20%3D%20geo_json_d632152331c44a2fb7ff3096295fea9a_highlighter%28e.target.feature%29%0A%20%20%20%20%20%20%20%20%20%20%20%20%20%20%20%20%20%20%20%20%20%20%20%20e.target.setStyle%28highlightStyle%29%3B%0A%20%20%20%20%20%20%20%20%20%20%20%20%20%20%20%20%20%20%20%20%7D%0A%20%20%20%20%20%20%20%20%20%20%20%20%20%20%20%20%7D%2C%0A%20%20%20%20%20%20%20%20%20%20%20%20%7D%29%3B%0A%20%20%20%20%20%20%20%20%7D%3B%0A%20%20%20%20%20%20%20%20var%20geo_json_d632152331c44a2fb7ff3096295fea9a%20%3D%20L.geoJson%28null%2C%20%7B%0A%20%20%20%20%20%20%20%20%20%20%20%20%20%20%20%20onEachFeature%3A%20geo_json_d632152331c44a2fb7ff3096295fea9a_onEachFeature%2C%0A%20%20%20%20%20%20%20%20%20%20%20%20%0A%20%20%20%20%20%20%20%20%20%20%20%20%20%20%20%20style%3A%20geo_json_d632152331c44a2fb7ff3096295fea9a_styler%2C%0A%20%20%20%20%20%20%20%20%20%20%20%20%20%20%20%20pointToLayer%3A%20geo_json_d632152331c44a2fb7ff3096295fea9a_pointToLayer%0A%20%20%20%20%20%20%20%20%7D%29%3B%0A%0A%20%20%20%20%20%20%20%20function%20geo_json_d632152331c44a2fb7ff3096295fea9a_add%20%28data%29%20%7B%0A%20%20%20%20%20%20%20%20%20%20%20%20geo_json_d632152331c44a2fb7ff3096295fea9a%0A%20%20%20%20%20%20%20%20%20%20%20%20%20%20%20%20.addData%28data%29%0A%20%20%20%20%20%20%20%20%20%20%20%20%20%20%20%20.addTo%28map_46ca4dede73c41f3b6431535a9474d67%29%3B%0A%20%20%20%20%20%20%20%20%7D%0A%20%20%20%20%20%20%20%20%20%20%20%20geo_json_d632152331c44a2fb7ff3096295fea9a_add%28%7B%22bbox%22%3A%20%5B-152.3599%2C%2058.8669%2C%20-152.3599%2C%2058.8669%5D%2C%20%22features%22%3A%20%5B%7B%22bbox%22%3A%20%5B-152.3599%2C%2058.8669%2C%20-152.3599%2C%2058.8669%5D%2C%20%22geometry%22%3A%20%7B%22coordinates%22%3A%20%5B-152.3599%2C%2058.8669%5D%2C%20%22type%22%3A%20%22Point%22%7D%2C%20%22id%22%3A%20%225338%22%2C%20%22properties%22%3A%20%7B%22__folium_color%22%3A%20%22%23440154%22%2C%20%22depth%22%3A%2065500.0%2C%20%22latitude%22%3A%2058.8669%2C%20%22longitude%22%3A%20-152.3599%2C%20%22mag_type%22%3A%20%22ml%22%2C%20%22magnitude%22%3A%202.1%2C%20%22num_arrivals%22%3A%20109%2C%20%22origin_id%22%3A%20%22quakeml%3Aearthquake.alaska.edu/origin/0196ra5pfu%22%7D%2C%20%22type%22%3A%20%22Feature%22%7D%5D%2C%20%22type%22%3A%20%22FeatureCollection%22%7D%29%3B%0A%0A%20%20%20%20%20%20%20%20%0A%20%20%20%20%0A%20%20%20%20geo_json_d632152331c44a2fb7ff3096295fea9a.bindTooltip%28%0A%20%20%20%20function%28layer%29%7B%0A%20%20%20%20let%20div%20%3D%20L.DomUtil.create%28%27div%27%29%3B%0A%20%20%20%20%0A%20%20%20%20let%20handleObject%20%3D%20feature%3D%3Etypeof%28feature%29%3D%3D%27object%27%20%3F%20JSON.stringify%28feature%29%20%3A%20feature%3B%0A%20%20%20%20let%20fields%20%3D%20%5B%22latitude%22%2C%20%22longitude%22%2C%20%22depth%22%2C%20%22num_arrivals%22%2C%20%22origin_id%22%2C%20%22magnitude%22%2C%20%22mag_type%22%5D%3B%0A%20%20%20%20let%20aliases%20%3D%20%5B%22latitude%22%2C%20%22longitude%22%2C%20%22depth%22%2C%20%22num_arrivals%22%2C%20%22origin_id%22%2C%20%22magnitude%22%2C%20%22mag_type%22%5D%3B%0A%20%20%20%20let%20table%20%3D%20%27%3Ctable%3E%27%20%2B%0A%20%20%20%20%20%20%20%20String%28%0A%20%20%20%20%20%20%20%20fields.map%28%0A%20%20%20%20%20%20%20%20%28v%2Ci%29%3D%3E%0A%20%20%20%20%20%20%20%20%60%3Ctr%3E%0A%20%20%20%20%20%20%20%20%20%20%20%20%3Cth%3E%24%7Baliases%5Bi%5D%7D%3C/th%3E%0A%20%20%20%20%20%20%20%20%20%20%20%20%0A%20%20%20%20%20%20%20%20%20%20%20%20%3Ctd%3E%24%7BhandleObject%28layer.feature.properties%5Bv%5D%29%7D%3C/td%3E%0A%20%20%20%20%20%20%20%20%3C/tr%3E%60%29.join%28%27%27%29%29%0A%20%20%20%20%2B%27%3C/table%3E%27%3B%0A%20%20%20%20div.innerHTML%3Dtable%3B%0A%20%20%20%20%0A%20%20%20%20return%20div%0A%20%20%20%20%7D%0A%20%20%20%20%2C%7B%22className%22%3A%20%22foliumtooltip%22%2C%20%22sticky%22%3A%20true%7D%29%3B%0A%20%20%20%20%20%20%20%20%20%20%20%20%20%20%20%20%20%20%20%20%20%0A%20%20%20%20%0A%20%20%20%20var%20color_map_88e901d6ba9b4f2981925c3ccf3cbe3d%20%3D%20%7B%7D%3B%0A%0A%20%20%20%20%0A%20%20%20%20color_map_88e901d6ba9b4f2981925c3ccf3cbe3d.color%20%3D%20d3.scale.threshold%28%29%0A%20%20%20%20%20%20%20%20%20%20%20%20%20%20.domain%28%5B2.1%2C%202.1%2C%202.1%2C%202.1%2C%202.1%2C%202.1%2C%202.1%2C%202.1%2C%202.1%2C%202.1%2C%202.1%2C%202.1%2C%202.1%2C%202.1%2C%202.1%2C%202.1%2C%202.1%2C%202.1%2C%202.1%2C%202.1%2C%202.1%2C%202.1%2C%202.1%2C%202.1%2C%202.1%2C%202.1%2C%202.1%2C%202.1%2C%202.1%2C%202.1%2C%202.1%2C%202.1%2C%202.1%2C%202.1%2C%202.1%2C%202.1%2C%202.1%2C%202.1%2C%202.1%2C%202.1%2C%202.1%2C%202.1%2C%202.1%2C%202.1%2C%202.1%2C%202.1%2C%202.1%2C%202.1%2C%202.1%2C%202.1%2C%202.1%2C%202.1%2C%202.1%2C%202.1%2C%202.1%2C%202.1%2C%202.1%2C%202.1%2C%202.1%2C%202.1%2C%202.1%2C%202.1%2C%202.1%2C%202.1%2C%202.1%2C%202.1%2C%202.1%2C%202.1%2C%202.1%2C%202.1%2C%202.1%2C%202.1%2C%202.1%2C%202.1%2C%202.1%2C%202.1%2C%202.1%2C%202.1%2C%202.1%2C%202.1%2C%202.1%2C%202.1%2C%202.1%2C%202.1%2C%202.1%2C%202.1%2C%202.1%2C%202.1%2C%202.1%2C%202.1%2C%202.1%2C%202.1%2C%202.1%2C%202.1%2C%202.1%2C%202.1%2C%202.1%2C%202.1%2C%202.1%2C%202.1%2C%202.1%2C%202.1%2C%202.1%2C%202.1%2C%202.1%2C%202.1%2C%202.1%2C%202.1%2C%202.1%2C%202.1%2C%202.1%2C%202.1%2C%202.1%2C%202.1%2C%202.1%2C%202.1%2C%202.1%2C%202.1%2C%202.1%2C%202.1%2C%202.1%2C%202.1%2C%202.1%2C%202.1%2C%202.1%2C%202.1%2C%202.1%2C%202.1%2C%202.1%2C%202.1%2C%202.1%2C%202.1%2C%202.1%2C%202.1%2C%202.1%2C%202.1%2C%202.1%2C%202.1%2C%202.1%2C%202.1%2C%202.1%2C%202.1%2C%202.1%2C%202.1%2C%202.1%2C%202.1%2C%202.1%2C%202.1%2C%202.1%2C%202.1%2C%202.1%2C%202.1%2C%202.1%2C%202.1%2C%202.1%2C%202.1%2C%202.1%2C%202.1%2C%202.1%2C%202.1%2C%202.1%2C%202.1%2C%202.1%2C%202.1%2C%202.1%2C%202.1%2C%202.1%2C%202.1%2C%202.1%2C%202.1%2C%202.1%2C%202.1%2C%202.1%2C%202.1%2C%202.1%2C%202.1%2C%202.1%2C%202.1%2C%202.1%2C%202.1%2C%202.1%2C%202.1%2C%202.1%2C%202.1%2C%202.1%2C%202.1%2C%202.1%2C%202.1%2C%202.1%2C%202.1%2C%202.1%2C%202.1%2C%202.1%2C%202.1%2C%202.1%2C%202.1%2C%202.1%2C%202.1%2C%202.1%2C%202.1%2C%202.1%2C%202.1%2C%202.1%2C%202.1%2C%202.1%2C%202.1%2C%202.1%2C%202.1%2C%202.1%2C%202.1%2C%202.1%2C%202.1%2C%202.1%2C%202.1%2C%202.1%2C%202.1%2C%202.1%2C%202.1%2C%202.1%2C%202.1%2C%202.1%2C%202.1%2C%202.1%2C%202.1%2C%202.1%2C%202.1%2C%202.1%2C%202.1%2C%202.1%2C%202.1%2C%202.1%2C%202.1%2C%202.1%2C%202.1%2C%202.1%2C%202.1%2C%202.1%2C%202.1%2C%202.1%2C%202.1%2C%202.1%2C%202.1%2C%202.1%2C%202.1%2C%202.1%2C%202.1%2C%202.1%2C%202.1%2C%202.1%2C%202.1%2C%202.1%2C%202.1%2C%202.1%2C%202.1%2C%202.1%2C%202.1%2C%202.1%2C%202.1%2C%202.1%2C%202.1%2C%202.1%2C%202.1%2C%202.1%2C%202.1%2C%202.1%2C%202.1%2C%202.1%2C%202.1%2C%202.1%2C%202.1%2C%202.1%2C%202.1%2C%202.1%2C%202.1%2C%202.1%2C%202.1%2C%202.1%2C%202.1%2C%202.1%2C%202.1%2C%202.1%2C%202.1%2C%202.1%2C%202.1%2C%202.1%2C%202.1%2C%202.1%2C%202.1%2C%202.1%2C%202.1%2C%202.1%2C%202.1%2C%202.1%2C%202.1%2C%202.1%2C%202.1%2C%202.1%2C%202.1%2C%202.1%2C%202.1%2C%202.1%2C%202.1%2C%202.1%2C%202.1%2C%202.1%2C%202.1%2C%202.1%2C%202.1%2C%202.1%2C%202.1%2C%202.1%2C%202.1%2C%202.1%2C%202.1%2C%202.1%2C%202.1%2C%202.1%2C%202.1%2C%202.1%2C%202.1%2C%202.1%2C%202.1%2C%202.1%2C%202.1%2C%202.1%2C%202.1%2C%202.1%2C%202.1%2C%202.1%2C%202.1%2C%202.1%2C%202.1%2C%202.1%2C%202.1%2C%202.1%2C%202.1%2C%202.1%2C%202.1%2C%202.1%2C%202.1%2C%202.1%2C%202.1%2C%202.1%2C%202.1%2C%202.1%2C%202.1%2C%202.1%2C%202.1%2C%202.1%2C%202.1%2C%202.1%2C%202.1%2C%202.1%2C%202.1%2C%202.1%2C%202.1%2C%202.1%2C%202.1%2C%202.1%2C%202.1%2C%202.1%2C%202.1%2C%202.1%2C%202.1%2C%202.1%2C%202.1%2C%202.1%2C%202.1%2C%202.1%2C%202.1%2C%202.1%2C%202.1%2C%202.1%2C%202.1%2C%202.1%2C%202.1%2C%202.1%2C%202.1%2C%202.1%2C%202.1%2C%202.1%2C%202.1%2C%202.1%2C%202.1%2C%202.1%2C%202.1%2C%202.1%2C%202.1%2C%202.1%2C%202.1%2C%202.1%2C%202.1%2C%202.1%2C%202.1%2C%202.1%2C%202.1%2C%202.1%2C%202.1%2C%202.1%2C%202.1%2C%202.1%2C%202.1%2C%202.1%2C%202.1%2C%202.1%2C%202.1%2C%202.1%2C%202.1%2C%202.1%2C%202.1%2C%202.1%2C%202.1%2C%202.1%2C%202.1%2C%202.1%2C%202.1%2C%202.1%2C%202.1%2C%202.1%2C%202.1%2C%202.1%2C%202.1%2C%202.1%2C%202.1%2C%202.1%2C%202.1%2C%202.1%2C%202.1%2C%202.1%2C%202.1%2C%202.1%2C%202.1%2C%202.1%2C%202.1%2C%202.1%2C%202.1%2C%202.1%2C%202.1%2C%202.1%2C%202.1%2C%202.1%2C%202.1%2C%202.1%2C%202.1%2C%202.1%2C%202.1%2C%202.1%2C%202.1%2C%202.1%2C%202.1%2C%202.1%2C%202.1%2C%202.1%2C%202.1%2C%202.1%2C%202.1%2C%202.1%2C%202.1%2C%202.1%2C%202.1%2C%202.1%2C%202.1%2C%202.1%2C%202.1%2C%202.1%2C%202.1%2C%202.1%2C%202.1%2C%202.1%2C%202.1%2C%202.1%2C%202.1%2C%202.1%2C%202.1%2C%202.1%2C%202.1%2C%202.1%2C%202.1%2C%202.1%2C%202.1%2C%202.1%2C%202.1%2C%202.1%2C%202.1%2C%202.1%2C%202.1%2C%202.1%2C%202.1%2C%202.1%2C%202.1%2C%202.1%2C%202.1%2C%202.1%2C%202.1%2C%202.1%2C%202.1%2C%202.1%2C%202.1%2C%202.1%2C%202.1%5D%29%0A%20%20%20%20%20%20%20%20%20%20%20%20%20%20.range%28%5B%27%23440154ff%27%2C%20%27%23440154ff%27%2C%20%27%23440154ff%27%2C%20%27%23440154ff%27%2C%20%27%23440154ff%27%2C%20%27%23440154ff%27%2C%20%27%23440154ff%27%2C%20%27%23440154ff%27%2C%20%27%23440154ff%27%2C%20%27%23440154ff%27%2C%20%27%23440154ff%27%2C%20%27%23440154ff%27%2C%20%27%23440154ff%27%2C%20%27%23440154ff%27%2C%20%27%23440154ff%27%2C%20%27%23440154ff%27%2C%20%27%23440154ff%27%2C%20%27%23440154ff%27%2C%20%27%23440154ff%27%2C%20%27%23440154ff%27%2C%20%27%23440154ff%27%2C%20%27%23440154ff%27%2C%20%27%23440154ff%27%2C%20%27%23440154ff%27%2C%20%27%23440154ff%27%2C%20%27%23440154ff%27%2C%20%27%23440154ff%27%2C%20%27%23440154ff%27%2C%20%27%23440154ff%27%2C%20%27%23440154ff%27%2C%20%27%23440154ff%27%2C%20%27%23440154ff%27%2C%20%27%23440154ff%27%2C%20%27%23440154ff%27%2C%20%27%23440154ff%27%2C%20%27%23440154ff%27%2C%20%27%23440154ff%27%2C%20%27%23440154ff%27%2C%20%27%23440154ff%27%2C%20%27%23440154ff%27%2C%20%27%23440154ff%27%2C%20%27%23440154ff%27%2C%20%27%23440154ff%27%2C%20%27%23440154ff%27%2C%20%27%23440154ff%27%2C%20%27%23440154ff%27%2C%20%27%23440154ff%27%2C%20%27%23440154ff%27%2C%20%27%23440154ff%27%2C%20%27%23440154ff%27%2C%20%27%23440154ff%27%2C%20%27%23440154ff%27%2C%20%27%23440154ff%27%2C%20%27%23440154ff%27%2C%20%27%23440154ff%27%2C%20%27%23440154ff%27%2C%20%27%23440154ff%27%2C%20%27%23440154ff%27%2C%20%27%23440154ff%27%2C%20%27%23440154ff%27%2C%20%27%23440154ff%27%2C%20%27%23440154ff%27%2C%20%27%23440154ff%27%2C%20%27%23440154ff%27%2C%20%27%23440154ff%27%2C%20%27%23440154ff%27%2C%20%27%23440154ff%27%2C%20%27%23440154ff%27%2C%20%27%23440154ff%27%2C%20%27%23440154ff%27%2C%20%27%23440154ff%27%2C%20%27%23440154ff%27%2C%20%27%23440154ff%27%2C%20%27%23440154ff%27%2C%20%27%23440154ff%27%2C%20%27%23440154ff%27%2C%20%27%23440154ff%27%2C%20%27%23440154ff%27%2C%20%27%23440154ff%27%2C%20%27%23440154ff%27%2C%20%27%23440154ff%27%2C%20%27%23440154ff%27%2C%20%27%23440154ff%27%2C%20%27%23440154ff%27%2C%20%27%23440154ff%27%2C%20%27%23440154ff%27%2C%20%27%23440154ff%27%2C%20%27%23440154ff%27%2C%20%27%23440154ff%27%2C%20%27%23440154ff%27%2C%20%27%23440154ff%27%2C%20%27%23440154ff%27%2C%20%27%23440154ff%27%2C%20%27%23440154ff%27%2C%20%27%23440154ff%27%2C%20%27%23440154ff%27%2C%20%27%23440154ff%27%2C%20%27%23440154ff%27%2C%20%27%23440154ff%27%2C%20%27%23440154ff%27%2C%20%27%23440154ff%27%2C%20%27%23440154ff%27%2C%20%27%23440154ff%27%2C%20%27%23440154ff%27%2C%20%27%23440154ff%27%2C%20%27%23440154ff%27%2C%20%27%23440154ff%27%2C%20%27%23440154ff%27%2C%20%27%23440154ff%27%2C%20%27%23440154ff%27%2C%20%27%23440154ff%27%2C%20%27%23440154ff%27%2C%20%27%23440154ff%27%2C%20%27%23440154ff%27%2C%20%27%23440154ff%27%2C%20%27%23440154ff%27%2C%20%27%23440154ff%27%2C%20%27%23440154ff%27%2C%20%27%23440154ff%27%2C%20%27%23440154ff%27%2C%20%27%23440154ff%27%2C%20%27%23440154ff%27%2C%20%27%23440154ff%27%2C%20%27%23440154ff%27%2C%20%27%23440154ff%27%2C%20%27%23440154ff%27%2C%20%27%23440154ff%27%2C%20%27%23440154ff%27%2C%20%27%23440154ff%27%2C%20%27%23440154ff%27%2C%20%27%23440154ff%27%2C%20%27%23440154ff%27%2C%20%27%23440154ff%27%2C%20%27%23440154ff%27%2C%20%27%23440154ff%27%2C%20%27%23440154ff%27%2C%20%27%23440154ff%27%2C%20%27%23440154ff%27%2C%20%27%23440154ff%27%2C%20%27%23440154ff%27%2C%20%27%23440154ff%27%2C%20%27%23440154ff%27%2C%20%27%23440154ff%27%2C%20%27%23440154ff%27%2C%20%27%23440154ff%27%2C%20%27%23440154ff%27%2C%20%27%23440154ff%27%2C%20%27%23440154ff%27%2C%20%27%23440154ff%27%2C%20%27%23440154ff%27%2C%20%27%23440154ff%27%2C%20%27%23440154ff%27%2C%20%27%23440154ff%27%2C%20%27%23440154ff%27%2C%20%27%23440154ff%27%2C%20%27%23440154ff%27%2C%20%27%23440154ff%27%2C%20%27%23440154ff%27%2C%20%27%23440154ff%27%2C%20%27%23440154ff%27%2C%20%27%23440154ff%27%2C%20%27%23440154ff%27%2C%20%27%23440154ff%27%2C%20%27%23440154ff%27%2C%20%27%23440154ff%27%2C%20%27%23440154ff%27%2C%20%27%23440154ff%27%2C%20%27%23440154ff%27%2C%20%27%23440154ff%27%2C%20%27%23440154ff%27%2C%20%27%23440154ff%27%2C%20%27%23440154ff%27%2C%20%27%23440154ff%27%2C%20%27%23440154ff%27%2C%20%27%23440154ff%27%2C%20%27%23440154ff%27%2C%20%27%23440154ff%27%2C%20%27%23440154ff%27%2C%20%27%23440154ff%27%2C%20%27%23440154ff%27%2C%20%27%23440154ff%27%2C%20%27%23440154ff%27%2C%20%27%23440154ff%27%2C%20%27%23440154ff%27%2C%20%27%23440154ff%27%2C%20%27%23440154ff%27%2C%20%27%23440154ff%27%2C%20%27%23440154ff%27%2C%20%27%23440154ff%27%2C%20%27%23440154ff%27%2C%20%27%23440154ff%27%2C%20%27%23440154ff%27%2C%20%27%23440154ff%27%2C%20%27%23440154ff%27%2C%20%27%23440154ff%27%2C%20%27%23440154ff%27%2C%20%27%23440154ff%27%2C%20%27%23440154ff%27%2C%20%27%23440154ff%27%2C%20%27%23440154ff%27%2C%20%27%23440154ff%27%2C%20%27%23440154ff%27%2C%20%27%23440154ff%27%2C%20%27%23440154ff%27%2C%20%27%23440154ff%27%2C%20%27%23440154ff%27%2C%20%27%23440154ff%27%2C%20%27%23440154ff%27%2C%20%27%23440154ff%27%2C%20%27%23440154ff%27%2C%20%27%23440154ff%27%2C%20%27%23440154ff%27%2C%20%27%23440154ff%27%2C%20%27%23440154ff%27%2C%20%27%23440154ff%27%2C%20%27%23440154ff%27%2C%20%27%23440154ff%27%2C%20%27%23440154ff%27%2C%20%27%23440154ff%27%2C%20%27%23440154ff%27%2C%20%27%23440154ff%27%2C%20%27%23440154ff%27%2C%20%27%23440154ff%27%2C%20%27%23440154ff%27%2C%20%27%23440154ff%27%2C%20%27%23440154ff%27%2C%20%27%23440154ff%27%2C%20%27%23440154ff%27%2C%20%27%23440154ff%27%2C%20%27%23440154ff%27%2C%20%27%23440154ff%27%2C%20%27%23440154ff%27%2C%20%27%23440154ff%27%2C%20%27%23440154ff%27%2C%20%27%23440154ff%27%2C%20%27%23440154ff%27%2C%20%27%23440154ff%27%2C%20%27%23440154ff%27%2C%20%27%23440154ff%27%2C%20%27%23440154ff%27%2C%20%27%23440154ff%27%2C%20%27%23440154ff%27%2C%20%27%23440154ff%27%2C%20%27%23440154ff%27%2C%20%27%23440154ff%27%2C%20%27%23440154ff%27%2C%20%27%23440154ff%27%2C%20%27%23440154ff%27%2C%20%27%23440154ff%27%2C%20%27%23440154ff%27%2C%20%27%23440154ff%27%2C%20%27%23440154ff%27%2C%20%27%23440154ff%27%2C%20%27%23440154ff%27%2C%20%27%23440154ff%27%2C%20%27%23440154ff%27%2C%20%27%23440154ff%27%2C%20%27%23440154ff%27%2C%20%27%23440154ff%27%2C%20%27%23440154ff%27%2C%20%27%23440154ff%27%2C%20%27%23440154ff%27%2C%20%27%23440154ff%27%2C%20%27%23440154ff%27%2C%20%27%23440154ff%27%2C%20%27%23440154ff%27%2C%20%27%23440154ff%27%2C%20%27%23440154ff%27%2C%20%27%23440154ff%27%2C%20%27%23440154ff%27%2C%20%27%23440154ff%27%2C%20%27%23440154ff%27%2C%20%27%23440154ff%27%2C%20%27%23440154ff%27%2C%20%27%23440154ff%27%2C%20%27%23440154ff%27%2C%20%27%23440154ff%27%2C%20%27%23440154ff%27%2C%20%27%23440154ff%27%2C%20%27%23440154ff%27%2C%20%27%23440154ff%27%2C%20%27%23440154ff%27%2C%20%27%23440154ff%27%2C%20%27%23440154ff%27%2C%20%27%23440154ff%27%2C%20%27%23440154ff%27%2C%20%27%23440154ff%27%2C%20%27%23440154ff%27%2C%20%27%23440154ff%27%2C%20%27%23440154ff%27%2C%20%27%23440154ff%27%2C%20%27%23440154ff%27%2C%20%27%23440154ff%27%2C%20%27%23440154ff%27%2C%20%27%23440154ff%27%2C%20%27%23440154ff%27%2C%20%27%23440154ff%27%2C%20%27%23440154ff%27%2C%20%27%23440154ff%27%2C%20%27%23440154ff%27%2C%20%27%23440154ff%27%2C%20%27%23440154ff%27%2C%20%27%23440154ff%27%2C%20%27%23440154ff%27%2C%20%27%23440154ff%27%2C%20%27%23440154ff%27%2C%20%27%23440154ff%27%2C%20%27%23440154ff%27%2C%20%27%23440154ff%27%2C%20%27%23440154ff%27%2C%20%27%23440154ff%27%2C%20%27%23440154ff%27%2C%20%27%23440154ff%27%2C%20%27%23440154ff%27%2C%20%27%23440154ff%27%2C%20%27%23440154ff%27%2C%20%27%23440154ff%27%2C%20%27%23440154ff%27%2C%20%27%23440154ff%27%2C%20%27%23440154ff%27%2C%20%27%23440154ff%27%2C%20%27%23440154ff%27%2C%20%27%23440154ff%27%2C%20%27%23440154ff%27%2C%20%27%23440154ff%27%2C%20%27%23440154ff%27%2C%20%27%23440154ff%27%2C%20%27%23440154ff%27%2C%20%27%23440154ff%27%2C%20%27%23440154ff%27%2C%20%27%23440154ff%27%2C%20%27%23440154ff%27%2C%20%27%23440154ff%27%2C%20%27%23440154ff%27%2C%20%27%23440154ff%27%2C%20%27%23440154ff%27%2C%20%27%23440154ff%27%2C%20%27%23440154ff%27%2C%20%27%23440154ff%27%2C%20%27%23440154ff%27%2C%20%27%23440154ff%27%2C%20%27%23440154ff%27%2C%20%27%23440154ff%27%2C%20%27%23440154ff%27%2C%20%27%23440154ff%27%2C%20%27%23440154ff%27%2C%20%27%23440154ff%27%2C%20%27%23440154ff%27%2C%20%27%23440154ff%27%2C%20%27%23440154ff%27%2C%20%27%23440154ff%27%2C%20%27%23440154ff%27%2C%20%27%23440154ff%27%2C%20%27%23440154ff%27%2C%20%27%23440154ff%27%2C%20%27%23440154ff%27%2C%20%27%23440154ff%27%2C%20%27%23440154ff%27%2C%20%27%23440154ff%27%2C%20%27%23440154ff%27%2C%20%27%23440154ff%27%2C%20%27%23440154ff%27%2C%20%27%23440154ff%27%2C%20%27%23440154ff%27%2C%20%27%23440154ff%27%2C%20%27%23440154ff%27%2C%20%27%23440154ff%27%2C%20%27%23440154ff%27%2C%20%27%23440154ff%27%2C%20%27%23440154ff%27%2C%20%27%23440154ff%27%2C%20%27%23440154ff%27%2C%20%27%23440154ff%27%2C%20%27%23440154ff%27%2C%20%27%23440154ff%27%2C%20%27%23440154ff%27%2C%20%27%23440154ff%27%2C%20%27%23440154ff%27%2C%20%27%23440154ff%27%2C%20%27%23440154ff%27%2C%20%27%23440154ff%27%2C%20%27%23440154ff%27%2C%20%27%23440154ff%27%2C%20%27%23440154ff%27%2C%20%27%23440154ff%27%2C%20%27%23440154ff%27%2C%20%27%23440154ff%27%2C%20%27%23440154ff%27%2C%20%27%23440154ff%27%2C%20%27%23440154ff%27%2C%20%27%23440154ff%27%2C%20%27%23440154ff%27%2C%20%27%23440154ff%27%2C%20%27%23440154ff%27%2C%20%27%23440154ff%27%2C%20%27%23440154ff%27%2C%20%27%23440154ff%27%2C%20%27%23440154ff%27%2C%20%27%23440154ff%27%2C%20%27%23440154ff%27%2C%20%27%23440154ff%27%2C%20%27%23440154ff%27%2C%20%27%23440154ff%27%2C%20%27%23440154ff%27%2C%20%27%23440154ff%27%2C%20%27%23440154ff%27%2C%20%27%23440154ff%27%2C%20%27%23440154ff%27%2C%20%27%23440154ff%27%2C%20%27%23440154ff%27%2C%20%27%23440154ff%27%2C%20%27%23440154ff%27%2C%20%27%23440154ff%27%2C%20%27%23440154ff%27%2C%20%27%23440154ff%27%2C%20%27%23440154ff%27%2C%20%27%23440154ff%27%2C%20%27%23440154ff%27%2C%20%27%23440154ff%27%2C%20%27%23440154ff%27%2C%20%27%23440154ff%27%2C%20%27%23440154ff%27%2C%20%27%23440154ff%27%2C%20%27%23440154ff%27%2C%20%27%23440154ff%27%2C%20%27%23440154ff%27%2C%20%27%23440154ff%27%2C%20%27%23440154ff%27%2C%20%27%23440154ff%27%2C%20%27%23440154ff%27%2C%20%27%23440154ff%27%2C%20%27%23440154ff%27%2C%20%27%23440154ff%27%2C%20%27%23440154ff%27%2C%20%27%23440154ff%27%2C%20%27%23440154ff%27%2C%20%27%23440154ff%27%2C%20%27%23440154ff%27%2C%20%27%23440154ff%27%2C%20%27%23440154ff%27%2C%20%27%23440154ff%27%2C%20%27%23440154ff%27%2C%20%27%23440154ff%27%2C%20%27%23440154ff%27%2C%20%27%23440154ff%27%2C%20%27%23440154ff%27%2C%20%27%23440154ff%27%2C%20%27%23440154ff%27%2C%20%27%23440154ff%27%2C%20%27%23440154ff%27%2C%20%27%23440154ff%27%2C%20%27%23440154ff%27%2C%20%27%23440154ff%27%2C%20%27%23440154ff%27%2C%20%27%23440154ff%27%2C%20%27%23440154ff%27%2C%20%27%23440154ff%27%2C%20%27%23440154ff%27%2C%20%27%23440154ff%27%2C%20%27%23440154ff%27%2C%20%27%23440154ff%27%2C%20%27%23440154ff%27%2C%20%27%23440154ff%27%2C%20%27%23440154ff%27%2C%20%27%23440154ff%27%2C%20%27%23440154ff%27%2C%20%27%23440154ff%27%2C%20%27%23440154ff%27%2C%20%27%23440154ff%27%2C%20%27%23440154ff%27%2C%20%27%23440154ff%27%2C%20%27%23440154ff%27%2C%20%27%23440154ff%27%2C%20%27%23440154ff%27%2C%20%27%23440154ff%27%2C%20%27%23440154ff%27%2C%20%27%23440154ff%27%2C%20%27%23440154ff%27%2C%20%27%23440154ff%27%2C%20%27%23440154ff%27%2C%20%27%23440154ff%27%2C%20%27%23440154ff%27%2C%20%27%23440154ff%27%2C%20%27%23440154ff%27%2C%20%27%23440154ff%27%2C%20%27%23440154ff%27%2C%20%27%23440154ff%27%2C%20%27%23440154ff%27%2C%20%27%23440154ff%27%2C%20%27%23440154ff%27%2C%20%27%23440154ff%27%2C%20%27%23440154ff%27%2C%20%27%23440154ff%27%2C%20%27%23440154ff%27%2C%20%27%23440154ff%27%2C%20%27%23440154ff%27%2C%20%27%23440154ff%27%2C%20%27%23440154ff%27%2C%20%27%23440154ff%27%2C%20%27%23440154ff%27%5D%29%3B%0A%20%20%20%20%0A%0A%20%20%20%20color_map_88e901d6ba9b4f2981925c3ccf3cbe3d.x%20%3D%20d3.scale.linear%28%29%0A%20%20%20%20%20%20%20%20%20%20%20%20%20%20.domain%28%5B2.1%2C%202.1%5D%29%0A%20%20%20%20%20%20%20%20%20%20%20%20%20%20.range%28%5B0%2C%20400%5D%29%3B%0A%0A%20%20%20%20color_map_88e901d6ba9b4f2981925c3ccf3cbe3d.legend%20%3D%20L.control%28%7Bposition%3A%20%27topright%27%7D%29%3B%0A%20%20%20%20color_map_88e901d6ba9b4f2981925c3ccf3cbe3d.legend.onAdd%20%3D%20function%20%28map%29%20%7Bvar%20div%20%3D%20L.DomUtil.create%28%27div%27%2C%20%27legend%27%29%3B%20return%20div%7D%3B%0A%20%20%20%20color_map_88e901d6ba9b4f2981925c3ccf3cbe3d.legend.addTo%28map_46ca4dede73c41f3b6431535a9474d67%29%3B%0A%0A%20%20%20%20color_map_88e901d6ba9b4f2981925c3ccf3cbe3d.xAxis%20%3D%20d3.svg.axis%28%29%0A%20%20%20%20%20%20%20%20.scale%28color_map_88e901d6ba9b4f2981925c3ccf3cbe3d.x%29%0A%20%20%20%20%20%20%20%20.orient%28%22top%22%29%0A%20%20%20%20%20%20%20%20.tickSize%281%29%0A%20%20%20%20%20%20%20%20.tickValues%28%5B2.1%2C%20%27%27%2C%20%27%27%2C%20%27%27%2C%20%27%27%2C%20%27%27%2C%20%27%27%2C%20%27%27%2C%20%27%27%2C%20%27%27%2C%20%27%27%2C%20%27%27%2C%20%27%27%2C%20%27%27%2C%20%27%27%2C%20%27%27%2C%20%27%27%2C%20%27%27%2C%20%27%27%2C%20%27%27%2C%20%27%27%2C%20%27%27%2C%20%27%27%2C%20%27%27%2C%20%27%27%2C%20%27%27%2C%202.1%2C%20%27%27%2C%20%27%27%2C%20%27%27%2C%20%27%27%2C%20%27%27%2C%20%27%27%2C%20%27%27%2C%20%27%27%2C%20%27%27%2C%20%27%27%2C%20%27%27%2C%20%27%27%2C%20%27%27%2C%20%27%27%2C%20%27%27%2C%20%27%27%2C%20%27%27%2C%20%27%27%2C%20%27%27%2C%20%27%27%2C%20%27%27%2C%20%27%27%2C%20%27%27%2C%20%27%27%2C%20%27%27%2C%202.1%2C%20%27%27%2C%20%27%27%2C%20%27%27%2C%20%27%27%2C%20%27%27%2C%20%27%27%2C%20%27%27%2C%20%27%27%2C%20%27%27%2C%20%27%27%2C%20%27%27%2C%20%27%27%2C%20%27%27%2C%20%27%27%2C%20%27%27%2C%20%27%27%2C%20%27%27%2C%20%27%27%2C%20%27%27%2C%20%27%27%2C%20%27%27%2C%20%27%27%2C%20%27%27%2C%20%27%27%2C%20%27%27%2C%202.1%2C%20%27%27%2C%20%27%27%2C%20%27%27%2C%20%27%27%2C%20%27%27%2C%20%27%27%2C%20%27%27%2C%20%27%27%2C%20%27%27%2C%20%27%27%2C%20%27%27%2C%20%27%27%2C%20%27%27%2C%20%27%27%2C%20%27%27%2C%20%27%27%2C%20%27%27%2C%20%27%27%2C%20%27%27%2C%20%27%27%2C%20%27%27%2C%20%27%27%2C%20%27%27%2C%20%27%27%2C%20%27%27%2C%202.1%2C%20%27%27%2C%20%27%27%2C%20%27%27%2C%20%27%27%2C%20%27%27%2C%20%27%27%2C%20%27%27%2C%20%27%27%2C%20%27%27%2C%20%27%27%2C%20%27%27%2C%20%27%27%2C%20%27%27%2C%20%27%27%2C%20%27%27%2C%20%27%27%2C%20%27%27%2C%20%27%27%2C%20%27%27%2C%20%27%27%2C%20%27%27%2C%20%27%27%2C%20%27%27%2C%20%27%27%2C%20%27%27%2C%202.1%2C%20%27%27%2C%20%27%27%2C%20%27%27%2C%20%27%27%2C%20%27%27%2C%20%27%27%2C%20%27%27%2C%20%27%27%2C%20%27%27%2C%20%27%27%2C%20%27%27%2C%20%27%27%2C%20%27%27%2C%20%27%27%2C%20%27%27%2C%20%27%27%2C%20%27%27%2C%20%27%27%2C%20%27%27%2C%20%27%27%2C%20%27%27%2C%20%27%27%2C%20%27%27%2C%20%27%27%2C%20%27%27%2C%202.1%2C%20%27%27%2C%20%27%27%2C%20%27%27%2C%20%27%27%2C%20%27%27%2C%20%27%27%2C%20%27%27%2C%20%27%27%2C%20%27%27%2C%20%27%27%2C%20%27%27%2C%20%27%27%2C%20%27%27%2C%20%27%27%2C%20%27%27%2C%20%27%27%2C%20%27%27%2C%20%27%27%2C%20%27%27%2C%20%27%27%2C%20%27%27%2C%20%27%27%2C%20%27%27%2C%20%27%27%2C%20%27%27%2C%202.1%2C%20%27%27%2C%20%27%27%2C%20%27%27%2C%20%27%27%2C%20%27%27%2C%20%27%27%2C%20%27%27%2C%20%27%27%2C%20%27%27%2C%20%27%27%2C%20%27%27%2C%20%27%27%2C%20%27%27%2C%20%27%27%2C%20%27%27%2C%20%27%27%2C%20%27%27%2C%20%27%27%2C%20%27%27%2C%20%27%27%2C%20%27%27%2C%20%27%27%2C%20%27%27%2C%20%27%27%2C%20%27%27%2C%202.1%2C%20%27%27%2C%20%27%27%2C%20%27%27%2C%20%27%27%2C%20%27%27%2C%20%27%27%2C%20%27%27%2C%20%27%27%2C%20%27%27%2C%20%27%27%2C%20%27%27%2C%20%27%27%2C%20%27%27%2C%20%27%27%2C%20%27%27%2C%20%27%27%2C%20%27%27%2C%20%27%27%2C%20%27%27%2C%20%27%27%2C%20%27%27%2C%20%27%27%2C%20%27%27%2C%20%27%27%2C%20%27%27%2C%202.1%2C%20%27%27%2C%20%27%27%2C%20%27%27%2C%20%27%27%2C%20%27%27%2C%20%27%27%2C%20%27%27%2C%20%27%27%2C%20%27%27%2C%20%27%27%2C%20%27%27%2C%20%27%27%2C%20%27%27%2C%20%27%27%2C%20%27%27%2C%20%27%27%2C%20%27%27%2C%20%27%27%2C%20%27%27%2C%20%27%27%2C%20%27%27%2C%20%27%27%2C%20%27%27%2C%20%27%27%2C%20%27%27%5D%29%3B%0A%0A%20%20%20%20color_map_88e901d6ba9b4f2981925c3ccf3cbe3d.svg%20%3D%20d3.select%28%22.legend.leaflet-control%22%29.append%28%22svg%22%29%0A%20%20%20%20%20%20%20%20.attr%28%22id%22%2C%20%27legend%27%29%0A%20%20%20%20%20%20%20%20.attr%28%22width%22%2C%20450%29%0A%20%20%20%20%20%20%20%20.attr%28%22height%22%2C%2040%29%3B%0A%0A%20%20%20%20color_map_88e901d6ba9b4f2981925c3ccf3cbe3d.g%20%3D%20color_map_88e901d6ba9b4f2981925c3ccf3cbe3d.svg.append%28%22g%22%29%0A%20%20%20%20%20%20%20%20.attr%28%22class%22%2C%20%22key%22%29%0A%20%20%20%20%20%20%20%20.attr%28%22transform%22%2C%20%22translate%2825%2C16%29%22%29%3B%0A%0A%20%20%20%20color_map_88e901d6ba9b4f2981925c3ccf3cbe3d.g.selectAll%28%22rect%22%29%0A%20%20%20%20%20%20%20%20.data%28color_map_88e901d6ba9b4f2981925c3ccf3cbe3d.color.range%28%29.map%28function%28d%2C%20i%29%20%7B%0A%20%20%20%20%20%20%20%20%20%20return%20%7B%0A%20%20%20%20%20%20%20%20%20%20%20%20x0%3A%20i%20%3F%20color_map_88e901d6ba9b4f2981925c3ccf3cbe3d.x%28color_map_88e901d6ba9b4f2981925c3ccf3cbe3d.color.domain%28%29%5Bi%20-%201%5D%29%20%3A%20color_map_88e901d6ba9b4f2981925c3ccf3cbe3d.x.range%28%29%5B0%5D%2C%0A%20%20%20%20%20%20%20%20%20%20%20%20x1%3A%20i%20%3C%20color_map_88e901d6ba9b4f2981925c3ccf3cbe3d.color.domain%28%29.length%20%3F%20color_map_88e901d6ba9b4f2981925c3ccf3cbe3d.x%28color_map_88e901d6ba9b4f2981925c3ccf3cbe3d.color.domain%28%29%5Bi%5D%29%20%3A%20color_map_88e901d6ba9b4f2981925c3ccf3cbe3d.x.range%28%29%5B1%5D%2C%0A%20%20%20%20%20%20%20%20%20%20%20%20z%3A%20d%0A%20%20%20%20%20%20%20%20%20%20%7D%3B%0A%20%20%20%20%20%20%20%20%7D%29%29%0A%20%20%20%20%20%20.enter%28%29.append%28%22rect%22%29%0A%20%20%20%20%20%20%20%20.attr%28%22height%22%2C%2010%29%0A%20%20%20%20%20%20%20%20.attr%28%22x%22%2C%20function%28d%29%20%7B%20return%20d.x0%3B%20%7D%29%0A%20%20%20%20%20%20%20%20.attr%28%22width%22%2C%20function%28d%29%20%7B%20return%20d.x1%20-%20d.x0%3B%20%7D%29%0A%20%20%20%20%20%20%20%20.style%28%22fill%22%2C%20function%28d%29%20%7B%20return%20d.z%3B%20%7D%29%3B%0A%0A%20%20%20%20color_map_88e901d6ba9b4f2981925c3ccf3cbe3d.g.call%28color_map_88e901d6ba9b4f2981925c3ccf3cbe3d.xAxis%29.append%28%22text%22%29%0A%20%20%20%20%20%20%20%20.attr%28%22class%22%2C%20%22caption%22%29%0A%20%20%20%20%20%20%20%20.attr%28%22y%22%2C%2021%29%0A%20%20%20%20%20%20%20%20.text%28%27magnitude%27%29%3B%0A%3C/script%3E onload=\"this.contentDocument.open();this.contentDocument.write(    decodeURIComponent(this.getAttribute('data-html')));this.contentDocument.close();\" allowfullscreen webkitallowfullscreen mozallowfullscreen></iframe></div></div>"
      ],
      "text/plain": [
       "<folium.folium.Map at 0x7f16aa018970>"
      ]
     },
     "execution_count": 15,
     "metadata": {},
     "output_type": "execute_result"
    }
   ],
   "source": [
    "events = pd.read_parquet('https://github.com/zoekrauss/alaska_catalog/raw/main/data_acquisition/alaska_events.parquet')\n",
    "events['time']=pd.to_datetime(events['time'],format='%Y-%m-%dT%H:%M:%S.%fZ',errors='coerce')\n",
    "events = events[(events['time'] > cat_start) & (events['time'] < cat_end)]\n",
    "\n",
    "gf = gpd.GeoDataFrame(events.drop(columns='time').copy(), \n",
    "                      geometry=gpd.points_from_xy(events.longitude,events.latitude),\n",
    "                      crs=4326)\n",
    "gf.explore(column='magnitude')"
   ]
  },
  {
   "cell_type": "markdown",
   "id": "e0f2956b-e08b-4726-9d30-6f704820cf57",
   "metadata": {},
   "source": [
    "### How are picks distributed throughout time, in comparison to the original catalog?"
   ]
  },
  {
   "cell_type": "code",
   "execution_count": 18,
   "id": "c3348aa6-1793-4788-929e-dae88918853f",
   "metadata": {},
   "outputs": [
    {
     "data": {
      "text/plain": [
       "<matplotlib.legend.Legend at 0x7f16a81924c0>"
      ]
     },
     "execution_count": 18,
     "metadata": {},
     "output_type": "execute_result"
    },
    {
     "data": {
      "image/png": "[encoded data removed]",
      "text/plain": [
       "<Figure size 1440x720 with 4 Axes>"
      ]
     },
     "metadata": {
      "needs_background": "light"
     },
     "output_type": "display_data"
    }
   ],
   "source": [
    "plt.rcParams.update({'font.size': 15})\n",
    "\n",
    "php_picks = df[df['type']=='p']\n",
    "phs_picks = df[df['type']=='s']\n",
    "\n",
    "p_picks = ground_truth[ground_truth['og_phase']=='p']\n",
    "s_picks = ground_truth[ground_truth['og_phase']=='s']\n",
    "\n",
    "nbins= 50\n",
    "\n",
    "# Filter by probability?\n",
    "\n",
    "fig, axs = plt.subplots(2,2, figsize=(20,10),sharex=True,sharey=True)\n",
    "axs[0,0].hist(p_picks['og_timestamp'],bins=nbins);\n",
    "axs[0,0].vlines(x=events['time'],ymin=0,ymax=300,colors ='r')\n",
    "axs[0,0].set_title('Original P-picks')\n",
    "axs[0,0].set_ylabel('Pick Count')\n",
    "axs[0,1].hist(s_picks['og_timestamp'],bins=nbins);\n",
    "axs[0,1].vlines(x=events['time'],ymin=0,ymax=300,colors ='r')\n",
    "axs[0,1].set_title('Original S-picks')\n",
    "axs[1,0].hist(php_picks['timestamp'],bins=nbins);\n",
    "axs[1,0].set_title('EQTransformer P-picks')\n",
    "axs[1,0].set_ylabel('Pick Count')\n",
    "axs[1,0].vlines(x=events['time'],ymin=0,ymax=300,colors ='r')\n",
    "axs[1,1].hist(phs_picks['timestamp'],bins=nbins);\n",
    "axs[1,1].set_title('EQTransformer S-picks')\n",
    "axs[1,1].vlines(x=events['time'],ymin=0,ymax=300,colors ='r')\n",
    "axs[1,1].legend(['Picks','Earthquakes'])\n",
    "\n"
   ]
  },
  {
   "cell_type": "markdown",
   "id": "c3df8220-80bb-4ca5-b19e-7d098994cbd7",
   "metadata": {},
   "source": [
    "### How are EQTransformer probabilities distributed throughout all of the picks, throughout time relative to earthquakes, and for true picks specifically?\n",
    "\n",
    "#### A great way to look at all of this at once is a scatter plot of picks throughout time."
   ]
  },
  {
   "cell_type": "code",
   "execution_count": 16,
   "id": "702cd53d-cf82-469b-a2d4-f60cd138e9ba",
   "metadata": {},
   "outputs": [
    {
     "data": {
      "text/plain": [
       "<matplotlib.legend.Legend at 0x7f16a87181c0>"
      ]
     },
     "execution_count": 16,
     "metadata": {},
     "output_type": "execute_result"
    },
    {
     "data": {
      "image/png": "[encoded data removed]",
      "text/plain": [
       "<Figure size 1440x720 with 2 Axes>"
      ]
     },
     "metadata": {
      "needs_background": "light"
     },
     "output_type": "display_data"
    }
   ],
   "source": [
    "events = pd.read_parquet('https://github.com/zoekrauss/alaska_catalog/raw/main/data_acquisition/alaska_events.parquet')\n",
    "events['time']=pd.to_datetime(events['time'],format='%Y-%m-%dT%H:%M:%S.%fZ',errors='coerce')\n",
    "events = events[(events['time'] > cat_start) & (events['time'] < cat_end)]\n",
    "\n",
    "true_positives = comp[comp['og_timestamp'].notna()]\n",
    "\n",
    "php_picks = df[df['type']=='p']\n",
    "phs_picks = df[df['type']=='s']\n",
    "\n",
    "p_picks = ground_truth[ground_truth['og_phase']=='p']\n",
    "s_picks = ground_truth[ground_truth['og_phase']=='s']\n",
    "\n",
    "true_p = true_positives[true_positives['type']=='p']\n",
    "true_s = true_positives[true_positives['type']=='p']\n",
    "\n",
    "nbins= 50\n",
    "\n",
    "# Filter by probability?\n",
    "fig, axs = plt.subplots(2,1, figsize=(20,10),sharex=True)\n",
    "\n",
    "axs[0].scatter(php_picks['timestamp'],php_picks['prob'])\n",
    "axs[0].scatter(true_p['timestamp'],true_p['prob'])\n",
    "axs[0].vlines(x=events['time'],ymin=0,ymax=1,colors ='r')\n",
    "axs[0].set_xlabel('time')\n",
    "axs[0].set_ylabel('pick probability')\n",
    "axs[0].set_title('EQTransformer P-picks')\n",
    "axs[0].legend(['Picks','True Picks','Earthquakes'])\n",
    "\n",
    "axs[1].scatter(phs_picks['timestamp'],phs_picks['prob'])\n",
    "axs[1].scatter(true_s['timestamp'],true_s['prob'])\n",
    "axs[1].vlines(x=events['time'],ymin=0.3,ymax=1,colors ='r')\n",
    "axs[1].set_xlabel('time')\n",
    "axs[1].set_ylabel('pick probability')\n",
    "axs[1].set_title('EQTransformer S-picks')\n",
    "axs[1].legend(['Picks','True Picks','Earthquakes'])"
   ]
  },
  {
   "cell_type": "code",
   "execution_count": null,
   "id": "48637487-9433-4fbb-9b30-f84413a376af",
   "metadata": {},
   "outputs": [],
   "source": []
  }
 ],
 "metadata": {
  "kernelspec": {
   "display_name": "Python [conda env:alaska-ml]",
   "language": "python",
   "name": "conda-env-alaska-ml-py"
  },
  "language_info": {
   "codemirror_mode": {
    "name": "ipython",
    "version": 3
   },
   "file_extension": ".py",
   "mimetype": "text/x-python",
   "name": "python",
   "nbconvert_exporter": "python",
   "pygments_lexer": "ipython3",
   "version": "3.9.10"
  }
 },
 "nbformat": 4,
 "nbformat_minor": 5
}
