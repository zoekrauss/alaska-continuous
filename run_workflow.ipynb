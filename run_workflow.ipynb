{
 "cells": [
  {
   "cell_type": "code",
   "execution_count": 1,
   "id": "0b9786d0-eb0c-49bb-91f9-94378773beed",
   "metadata": {
    "tags": []
   },
   "outputs": [],
   "source": [
    "import datetime\n",
    "import json\n",
    "import logging\n",
    "from datetime import timedelta\n",
    "\n",
    "import alaska_utils\n",
    "import dask\n",
    "import eqt_utils\n",
    "import matplotlib.pyplot as plt\n",
    "import numpy as np\n",
    "import obspy\n",
    "import pandas as pd\n",
    "import postprocess\n",
    "import requests\n",
    "import seisbench\n",
    "import seisbench.models as sbm\n",
    "\n",
    "# Progress bar for dask operations:\n",
    "from dask.diagnostics import ProgressBar\n",
    "from obspy.clients.fdsn import Client\n",
    "\n",
    "pbar = dask.diagnostics.ProgressBar()\n",
    "pbar.register()\n",
    "\n",
    "import warnings\n",
    "\n",
    "warnings.filterwarnings(\"ignore\")"
   ]
  },
  {
   "cell_type": "markdown",
   "id": "65b6824b-1adf-4989-98a0-f2625cee4abe",
   "metadata": {},
   "source": [
    "### This notebook allows you to apply EQTransformer (by way of Seisbench) to continuous seismic data from the AACSE network, and retrieve picks for the specified time period. The waveforms can also be filtered or denoised by DeepDenoiser (by way of Seisbench)."
   ]
  },
  {
   "cell_type": "markdown",
   "id": "6f775338-c067-4274-9723-793ee495c00e",
   "metadata": {},
   "source": [
    "#### Choose window length (s), window overlap (s), and start and end times"
   ]
  },
  {
   "cell_type": "code",
   "execution_count": 2,
   "id": "039687f3-d8be-4259-b31e-ce4d874ee9e2",
   "metadata": {},
   "outputs": [],
   "source": [
    "waveform_length = 60\n",
    "waveform_overlap = 0\n",
    "starttime = datetime.datetime(2019, 5, 27, 10, 30)\n",
    "endtime = datetime.datetime(2019, 5, 27, 11, 30)"
   ]
  },
  {
   "cell_type": "markdown",
   "id": "b0ee1356-e60b-49cf-815a-8d3b9abdca82",
   "metadata": {
    "tags": []
   },
   "source": [
    "#### Load list of stations to run the workflow on, specify by network and maximum station elevation if desired"
   ]
  },
  {
   "cell_type": "code",
   "execution_count": 3,
   "id": "02fbb950-2111-4c87-a9c0-1af4053bc799",
   "metadata": {},
   "outputs": [],
   "source": [
    "# Pre=saved station list in pandas dataframe format\n",
    "dfS = pd.read_parquet(\n",
    "    \"https://github.com/zoekrauss/alaska_catalog/raw/main/data_acquisition/alaska_stations.parquet\"\n",
    ")\n",
    "dfS = alaska_utils.station_list(dfS,starttime,endtime,elevation=False,network=False)"
   ]
  },
  {
   "cell_type": "markdown",
   "id": "1a19b6bc-d799-493a-b150-8dfa7f82b894",
   "metadata": {
    "tags": []
   },
   "source": [
    "#### Specify whether to apply any filtering to the waveforms before phase picking\n",
    "\n",
    "This choice is made with the variable filt_type.\n",
    "\n",
    "filt_type = 0 for raw waveforms\\\n",
    "filt_type = 1 for bandpass filtered waveforms\\\n",
    "filt_type = 2 to apply DeepDenoiser to the waveforms\n",
    "\n",
    "NOTE: if specifying bandpass filter, must also specify f1 and f2 for bandpass limits"
   ]
  },
  {
   "cell_type": "code",
   "execution_count": 4,
   "id": "61d99202-a08a-4bd5-9316-76b4419fb51b",
   "metadata": {},
   "outputs": [],
   "source": [
    "filt_type = 1\n",
    "f1 = 5\n",
    "f2 = 35"
   ]
  },
  {
   "cell_type": "markdown",
   "id": "ebf16714-5f0a-4a32-9047-82eeb457366a",
   "metadata": {},
   "source": [
    "### Run the workflow, and output:\n",
    "#### (1) pandas dataframe of all pick metadata\n",
    "#### (2) list of pick dictionaries formatted for use with GAMMA"
   ]
  },
  {
   "cell_type": "code",
   "execution_count": 13,
   "id": "0a0a0692-a257-4e87-a4b9-1b84c78689d8",
   "metadata": {},
   "outputs": [
    {
     "name": "stdout",
     "output_type": "stream",
     "text": [
      "Downloading data from IRIS:\n",
      "[########################################] | 100% Completed | 57.9s\n",
      "Status: filtering data\n",
      "Status: applying EQTransformer\n"
     ]
    },
    {
     "name": "stderr",
     "output_type": "stream",
     "text": [
      "2022-02-24 07:18:06,148 | seisbench | WARNING | Parts of the input stream consist of fragments shorter than the number of input samples. Output might be empty.\n",
      "2022-02-24 07:18:14,304 | seisbench | WARNING | Parts of the input stream consist of fragments shorter than the number of input samples. Output might be empty.\n",
      "2022-02-24 07:18:22,237 | seisbench | WARNING | Parts of the input stream consist of fragments shorter than the number of input samples. Output might be empty.\n",
      "2022-02-24 07:18:30,367 | seisbench | WARNING | Parts of the input stream consist of fragments shorter than the number of input samples. Output might be empty.\n",
      "2022-02-24 07:18:31,079 | seisbench | WARNING | Parts of the input stream consist of fragments shorter than the number of input samples. Output might be empty.\n",
      "2022-02-24 07:18:46,708 | seisbench | WARNING | Parts of the input stream consist of fragments shorter than the number of input samples. Output might be empty.\n",
      "2022-02-24 07:18:54,977 | seisbench | WARNING | Parts of the input stream consist of fragments shorter than the number of input samples. Output might be empty.\n",
      "2022-02-24 07:19:04,308 | seisbench | WARNING | Parts of the input stream consist of fragments shorter than the number of input samples. Output might be empty.\n",
      "2022-02-24 07:19:04,565 | seisbench | WARNING | Parts of the input stream consist of fragments shorter than the number of input samples. Output might be empty.\n",
      "2022-02-24 07:19:11,025 | seisbench | WARNING | Parts of the input stream consist of fragments shorter than the number of input samples. Output might be empty.\n",
      "2022-02-24 07:19:12,671 | seisbench | WARNING | Parts of the input stream consist of fragments shorter than the number of input samples. Output might be empty.\n",
      "2022-02-24 07:19:29,245 | seisbench | WARNING | Parts of the input stream consist of fragments shorter than the number of input samples. Output might be empty.\n",
      "2022-02-24 07:19:29,959 | seisbench | WARNING | Parts of the input stream consist of fragments shorter than the number of input samples. Output might be empty.\n",
      "2022-02-24 07:19:37,852 | seisbench | WARNING | Parts of the input stream consist of fragments shorter than the number of input samples. Output might be empty.\n",
      "2022-02-24 07:19:45,925 | seisbench | WARNING | Parts of the input stream consist of fragments shorter than the number of input samples. Output might be empty.\n",
      "2022-02-24 07:20:02,985 | seisbench | WARNING | Parts of the input stream consist of fragments shorter than the number of input samples. Output might be empty.\n",
      "2022-02-24 07:20:12,239 | seisbench | WARNING | Parts of the input stream consist of fragments shorter than the number of input samples. Output might be empty.\n",
      "2022-02-24 07:20:30,543 | seisbench | WARNING | Parts of the input stream consist of fragments shorter than the number of input samples. Output might be empty.\n",
      "2022-02-24 07:20:31,846 | seisbench | WARNING | Parts of the input stream consist of fragments shorter than the number of input samples. Output might be empty.\n",
      "2022-02-24 07:20:48,848 | seisbench | WARNING | Parts of the input stream consist of fragments shorter than the number of input samples. Output might be empty.\n",
      "2022-02-24 07:20:57,974 | seisbench | WARNING | Parts of the input stream consist of fragments shorter than the number of input samples. Output might be empty.\n",
      "2022-02-24 07:21:05,402 | seisbench | WARNING | Parts of the input stream consist of fragments shorter than the number of input samples. Output might be empty.\n",
      "2022-02-24 07:21:15,596 | seisbench | WARNING | Parts of the input stream consist of fragments shorter than the number of input samples. Output might be empty.\n",
      "2022-02-24 07:21:23,876 | seisbench | WARNING | Parts of the input stream consist of fragments shorter than the number of input samples. Output might be empty.\n",
      "2022-02-24 07:21:32,723 | seisbench | WARNING | Parts of the input stream consist of fragments shorter than the number of input samples. Output might be empty.\n",
      "2022-02-24 07:21:48,400 | seisbench | WARNING | Parts of the input stream consist of fragments shorter than the number of input samples. Output might be empty.\n",
      "2022-02-24 07:22:04,248 | seisbench | WARNING | Parts of the input stream consist of fragments shorter than the number of input samples. Output might be empty.\n",
      "2022-02-24 07:22:22,521 | seisbench | WARNING | Parts of the input stream consist of fragments shorter than the number of input samples. Output might be empty.\n",
      "2022-02-24 07:22:23,163 | seisbench | WARNING | Parts of the input stream consist of fragments shorter than the number of input samples. Output might be empty.\n",
      "2022-02-24 07:22:23,407 | seisbench | WARNING | Parts of the input stream consist of fragments shorter than the number of input samples. Output might be empty.\n",
      "2022-02-24 07:23:04,194 | seisbench | WARNING | Parts of the input stream consist of fragments shorter than the number of input samples. Output might be empty.\n",
      "2022-02-24 07:23:11,606 | seisbench | WARNING | Parts of the input stream consist of fragments shorter than the number of input samples. Output might be empty.\n",
      "2022-02-24 07:23:39,915 | seisbench | WARNING | Parts of the input stream consist of fragments shorter than the number of input samples. Output might be empty.\n",
      "2022-02-24 07:24:00,671 | seisbench | WARNING | Parts of the input stream consist of fragments shorter than the number of input samples. Output might be empty.\n",
      "2022-02-24 07:24:21,131 | seisbench | WARNING | Parts of the input stream consist of fragments shorter than the number of input samples. Output might be empty.\n",
      "2022-02-24 07:24:31,335 | seisbench | WARNING | Parts of the input stream consist of fragments shorter than the number of input samples. Output might be empty.\n",
      "2022-02-24 07:24:41,548 | seisbench | WARNING | Parts of the input stream consist of fragments shorter than the number of input samples. Output might be empty.\n",
      "2022-02-24 07:24:50,346 | seisbench | WARNING | Parts of the input stream consist of fragments shorter than the number of input samples. Output might be empty.\n",
      "2022-02-24 07:24:50,444 | seisbench | WARNING | Parts of the input stream consist of fragments shorter than the number of input samples. Output might be empty.\n",
      "2022-02-24 07:24:51,391 | seisbench | WARNING | Parts of the input stream consist of fragments shorter than the number of input samples. Output might be empty.\n",
      "2022-02-24 07:24:52,179 | seisbench | WARNING | Parts of the input stream consist of fragments shorter than the number of input samples. Output might be empty.\n",
      "2022-02-24 07:24:52,470 | seisbench | WARNING | Parts of the input stream consist of fragments shorter than the number of input samples. Output might be empty.\n",
      "2022-02-24 07:24:59,860 | seisbench | WARNING | Parts of the input stream consist of fragments shorter than the number of input samples. Output might be empty.\n",
      "2022-02-24 07:25:16,876 | seisbench | WARNING | Parts of the input stream consist of fragments shorter than the number of input samples. Output might be empty.\n",
      "2022-02-24 07:25:31,981 | seisbench | WARNING | Parts of the input stream consist of fragments shorter than the number of input samples. Output might be empty.\n",
      "2022-02-24 07:25:42,182 | seisbench | WARNING | Parts of the input stream consist of fragments shorter than the number of input samples. Output might be empty.\n",
      "2022-02-24 07:25:50,679 | seisbench | WARNING | Parts of the input stream consist of fragments shorter than the number of input samples. Output might be empty.\n",
      "2022-02-24 07:25:59,719 | seisbench | WARNING | Parts of the input stream consist of fragments shorter than the number of input samples. Output might be empty.\n",
      "2022-02-24 07:26:19,633 | seisbench | WARNING | Parts of the input stream consist of fragments shorter than the number of input samples. Output might be empty.\n",
      "2022-02-24 07:26:20,472 | seisbench | WARNING | Parts of the input stream consist of fragments shorter than the number of input samples. Output might be empty.\n",
      "2022-02-24 07:26:29,827 | seisbench | WARNING | Parts of the input stream consist of fragments shorter than the number of input samples. Output might be empty.\n",
      "2022-02-24 07:26:38,709 | seisbench | WARNING | Parts of the input stream consist of fragments shorter than the number of input samples. Output might be empty.\n",
      "2022-02-24 07:26:47,332 | seisbench | WARNING | Parts of the input stream consist of fragments shorter than the number of input samples. Output might be empty.\n",
      "2022-02-24 07:26:55,989 | seisbench | WARNING | Parts of the input stream consist of fragments shorter than the number of input samples. Output might be empty.\n"
     ]
    },
    {
     "name": "stdout",
     "output_type": "stream",
     "text": [
      "CPU times: user 6h 20min 40s, sys: 10min 44s, total: 6h 31min 24s\n",
      "Wall time: 10min 24s\n"
     ]
    }
   ],
   "source": [
    "%%time\n",
    "\n",
    "pick_info,gamma_picks = eqt_utils.ml_pick(\n",
    "    dfS, starttime, endtime, waveform_length, waveform_overlap, filt_type, f1=f1, f2=f2\n",
    ")"
   ]
  },
  {
   "cell_type": "markdown",
   "id": "9a82bcc2-5bbb-4beb-81da-9a3cf8085625",
   "metadata": {},
   "source": [
    "#### Below is an example of the output pick dataframe. You can see that both the raw and denoised SNR of the pick is saved for all channels, as well as the raw and denoised amplitude of the signal (for use in magnitude estimation with GAMMA), and the probability of the pick from EQTransformer."
   ]
  },
  {
   "cell_type": "code",
   "execution_count": 14,
   "id": "fe2d539b-4b2e-4f87-84a0-88f296671717",
   "metadata": {},
   "outputs": [
    {
     "data": {
      "text/html": [
       "<div>\n",
       "<style scoped>\n",
       "    .dataframe tbody tr th:only-of-type {\n",
       "        vertical-align: middle;\n",
       "    }\n",
       "\n",
       "    .dataframe tbody tr th {\n",
       "        vertical-align: top;\n",
       "    }\n",
       "\n",
       "    .dataframe thead th {\n",
       "        text-align: right;\n",
       "    }\n",
       "</style>\n",
       "<table border=\"1\" class=\"dataframe\">\n",
       "  <thead>\n",
       "    <tr style=\"text-align: right;\">\n",
       "      <th></th>\n",
       "      <th>id</th>\n",
       "      <th>network</th>\n",
       "      <th>station</th>\n",
       "      <th>channel</th>\n",
       "      <th>phase</th>\n",
       "      <th>timestamp</th>\n",
       "      <th>prob</th>\n",
       "      <th>raw_amp</th>\n",
       "      <th>den_amp</th>\n",
       "      <th>z_raw_snr</th>\n",
       "      <th>z_den_snr</th>\n",
       "      <th>n_raw_snr</th>\n",
       "      <th>n_den_snr</th>\n",
       "      <th>e_raw_snr</th>\n",
       "      <th>e_den_snr</th>\n",
       "    </tr>\n",
       "  </thead>\n",
       "  <tbody>\n",
       "    <tr>\n",
       "      <th>0</th>\n",
       "      <td>XO.LT01..HH</td>\n",
       "      <td>XO</td>\n",
       "      <td>LT01</td>\n",
       "      <td>HH</td>\n",
       "      <td>P</td>\n",
       "      <td>2019-05-27T10:30:37.752</td>\n",
       "      <td>0.838696</td>\n",
       "      <td>1.205701e+06</td>\n",
       "      <td>1.205701e+06</td>\n",
       "      <td>76.891323</td>\n",
       "      <td>76.891323</td>\n",
       "      <td>29.990748</td>\n",
       "      <td>29.990748</td>\n",
       "      <td>3.457951</td>\n",
       "      <td>3.457951</td>\n",
       "    </tr>\n",
       "    <tr>\n",
       "      <th>1</th>\n",
       "      <td>XO.LT01..HH</td>\n",
       "      <td>XO</td>\n",
       "      <td>LT01</td>\n",
       "      <td>HH</td>\n",
       "      <td>S</td>\n",
       "      <td>2019-05-27T10:30:39.252</td>\n",
       "      <td>0.381929</td>\n",
       "      <td>2.580351e+03</td>\n",
       "      <td>2.580351e+03</td>\n",
       "      <td>0.030619</td>\n",
       "      <td>0.030619</td>\n",
       "      <td>25.036566</td>\n",
       "      <td>25.036566</td>\n",
       "      <td>3.282618</td>\n",
       "      <td>3.282618</td>\n",
       "    </tr>\n",
       "    <tr>\n",
       "      <th>2</th>\n",
       "      <td>XO.WD50..HH</td>\n",
       "      <td>XO</td>\n",
       "      <td>WD50</td>\n",
       "      <td>HH</td>\n",
       "      <td>P</td>\n",
       "      <td>2019-05-27T10:30:05.249</td>\n",
       "      <td>0.351032</td>\n",
       "      <td>2.296432e+02</td>\n",
       "      <td>2.296432e+02</td>\n",
       "      <td>1.780624</td>\n",
       "      <td>1.780624</td>\n",
       "      <td>1.244334</td>\n",
       "      <td>1.244334</td>\n",
       "      <td>2.107208</td>\n",
       "      <td>2.107208</td>\n",
       "    </tr>\n",
       "    <tr>\n",
       "      <th>3</th>\n",
       "      <td>XO.WD50..HH</td>\n",
       "      <td>XO</td>\n",
       "      <td>WD50</td>\n",
       "      <td>HH</td>\n",
       "      <td>S</td>\n",
       "      <td>2019-05-27T10:30:16.599</td>\n",
       "      <td>0.494853</td>\n",
       "      <td>2.016174e+03</td>\n",
       "      <td>2.016174e+03</td>\n",
       "      <td>8.466265</td>\n",
       "      <td>8.466265</td>\n",
       "      <td>29.058924</td>\n",
       "      <td>29.058924</td>\n",
       "      <td>17.042699</td>\n",
       "      <td>17.042699</td>\n",
       "    </tr>\n",
       "    <tr>\n",
       "      <th>4</th>\n",
       "      <td>XO.WD51..HH</td>\n",
       "      <td>XO</td>\n",
       "      <td>WD51</td>\n",
       "      <td>HH</td>\n",
       "      <td>P</td>\n",
       "      <td>2019-05-27T10:30:05.266</td>\n",
       "      <td>0.765708</td>\n",
       "      <td>4.815866e+02</td>\n",
       "      <td>4.815866e+02</td>\n",
       "      <td>6.566353</td>\n",
       "      <td>6.566353</td>\n",
       "      <td>15.821010</td>\n",
       "      <td>15.821010</td>\n",
       "      <td>18.003864</td>\n",
       "      <td>18.003864</td>\n",
       "    </tr>\n",
       "  </tbody>\n",
       "</table>\n",
       "</div>"
      ],
      "text/plain": [
       "            id network station channel phase                timestamp  \\\n",
       "0  XO.LT01..HH      XO    LT01      HH     P  2019-05-27T10:30:37.752   \n",
       "1  XO.LT01..HH      XO    LT01      HH     S  2019-05-27T10:30:39.252   \n",
       "2  XO.WD50..HH      XO    WD50      HH     P  2019-05-27T10:30:05.249   \n",
       "3  XO.WD50..HH      XO    WD50      HH     S  2019-05-27T10:30:16.599   \n",
       "4  XO.WD51..HH      XO    WD51      HH     P  2019-05-27T10:30:05.266   \n",
       "\n",
       "       prob       raw_amp       den_amp  z_raw_snr  z_den_snr  n_raw_snr  \\\n",
       "0  0.838696  1.205701e+06  1.205701e+06  76.891323  76.891323  29.990748   \n",
       "1  0.381929  2.580351e+03  2.580351e+03   0.030619   0.030619  25.036566   \n",
       "2  0.351032  2.296432e+02  2.296432e+02   1.780624   1.780624   1.244334   \n",
       "3  0.494853  2.016174e+03  2.016174e+03   8.466265   8.466265  29.058924   \n",
       "4  0.765708  4.815866e+02  4.815866e+02   6.566353   6.566353  15.821010   \n",
       "\n",
       "   n_den_snr  e_raw_snr  e_den_snr  \n",
       "0  29.990748   3.457951   3.457951  \n",
       "1  25.036566   3.282618   3.282618  \n",
       "2   1.244334   2.107208   2.107208  \n",
       "3  29.058924  17.042699  17.042699  \n",
       "4  15.821010  18.003864  18.003864  "
      ]
     },
     "execution_count": 14,
     "metadata": {},
     "output_type": "execute_result"
    }
   ],
   "source": [
    "pick_info.head()"
   ]
  },
  {
   "cell_type": "markdown",
   "id": "2846d25a-d018-4158-bf04-0876432dac78",
   "metadata": {},
   "source": [
    "### Save to parquet"
   ]
  },
  {
   "cell_type": "code",
   "execution_count": 15,
   "id": "aa371db5-3270-4833-af55-5cc970c1f560",
   "metadata": {},
   "outputs": [],
   "source": [
    "pick_info.to_parquet(\"picks_20190527_1030_bp0535.parquet\", version=\"2.6\")"
   ]
  },
  {
   "cell_type": "code",
   "execution_count": null,
   "id": "fb96b820-4a50-4356-ae9c-8da7ee2a52cc",
   "metadata": {},
   "outputs": [],
   "source": []
  }
 ],
 "metadata": {
  "kernelspec": {
   "display_name": "alaska-ml",
   "language": "python",
   "name": "alaska-ml"
  },
  "language_info": {
   "codemirror_mode": {
    "name": "ipython",
    "version": 3
   },
   "file_extension": ".py",
   "mimetype": "text/x-python",
   "name": "python",
   "nbconvert_exporter": "python",
   "pygments_lexer": "ipython3",
   "version": "3.9.10"
  }
 },
 "nbformat": 4,
 "nbformat_minor": 5
}
