{
 "cells": [
  {
   "cell_type": "code",
   "execution_count": 1,
   "id": "0b9786d0-eb0c-49bb-91f9-94378773beed",
   "metadata": {
    "tags": []
   },
   "outputs": [],
   "source": [
    "import datetime\n",
    "import json\n",
    "import logging\n",
    "from datetime import timedelta\n",
    "\n",
    "import alaska_utils\n",
    "import dask\n",
    "import eqt_utils\n",
    "import matplotlib.pyplot as plt\n",
    "import numpy as np\n",
    "import obspy\n",
    "import pandas as pd\n",
    "import postprocess\n",
    "import requests\n",
    "import seisbench\n",
    "import seisbench.models as sbm\n",
    "\n",
    "# Progress bar for dask operations:\n",
    "from dask.diagnostics import ProgressBar\n",
    "from obspy.clients.fdsn import Client\n",
    "\n",
    "pbar = dask.diagnostics.ProgressBar()\n",
    "pbar.register()\n",
    "\n",
    "import warnings\n",
    "\n",
    "warnings.filterwarnings(\"ignore\")"
   ]
  },
  {
   "cell_type": "markdown",
   "id": "65b6824b-1adf-4989-98a0-f2625cee4abe",
   "metadata": {},
   "source": [
    "### This notebook allows you to apply EQTransformer (by way of Seisbench) to continuous seismic data from the AACSE network, and retrieve picks for the specified time period. The waveforms can also be filtered or denoised by DeepDenoiser (by way of Seisbench)."
   ]
  },
  {
   "cell_type": "markdown",
   "id": "6f775338-c067-4274-9723-793ee495c00e",
   "metadata": {},
   "source": [
    "#### Choose window length (s), window overlap (s), and start and end times"
   ]
  },
  {
   "cell_type": "code",
   "execution_count": 2,
   "id": "039687f3-d8be-4259-b31e-ce4d874ee9e2",
   "metadata": {},
   "outputs": [],
   "source": [
    "waveform_length = 60\n",
    "waveform_overlap = 0\n",
    "starttime = datetime.datetime(2019, 5, 27, 10, 30)\n",
    "endtime = datetime.datetime(2019, 5, 27, 11, 30)"
   ]
  },
  {
   "cell_type": "markdown",
   "id": "b0ee1356-e60b-49cf-815a-8d3b9abdca82",
   "metadata": {
    "tags": []
   },
   "source": [
    "#### Load list of stations to run the workflow on, specify by network and maximum station elevation if desired"
   ]
  },
  {
   "cell_type": "code",
   "execution_count": 10,
   "id": "02fbb950-2111-4c87-a9c0-1af4053bc799",
   "metadata": {},
   "outputs": [],
   "source": [
    "# Pre=saved station list in pandas dataframe format\n",
    "dfS = pd.read_parquet(\n",
    "    \"https://github.com/zoekrauss/alaska_catalog/raw/main/data_acquisition/alaska_stations.parquet\"\n",
    ")\n",
    "dfS = alaska_utils.station_list(dfS,starttime,endtime,elevation=False,network=False)"
   ]
  },
  {
   "cell_type": "markdown",
   "id": "1a19b6bc-d799-493a-b150-8dfa7f82b894",
   "metadata": {
    "tags": []
   },
   "source": [
    "#### Specify whether to apply any filtering to the waveforms before phase picking\n",
    "\n",
    "This choice is made with the variable filt_type.\n",
    "\n",
    "filt_type = 0 for raw waveforms\\\n",
    "filt_type = 1 for bandpass filtered waveforms\\\n",
    "filt_type = 2 to apply DeepDenoiser to the waveforms\n",
    "\n",
    "NOTE: if specifying bandpass filter, must also specify f1 and f2 for bandpass limits"
   ]
  },
  {
   "cell_type": "code",
   "execution_count": 11,
   "id": "61d99202-a08a-4bd5-9316-76b4419fb51b",
   "metadata": {},
   "outputs": [],
   "source": [
    "filt_type = 2\n",
    "f1 = False\n",
    "f2 = False"
   ]
  },
  {
   "cell_type": "markdown",
   "id": "ebf16714-5f0a-4a32-9047-82eeb457366a",
   "metadata": {},
   "source": [
    "### Run the workflow, and output:\n",
    "#### (1) pandas dataframe of all pick metadata\n",
    "#### (2) list of pick dictionaries formatted for use with GAMMA"
   ]
  },
  {
   "cell_type": "code",
   "execution_count": 12,
   "id": "0a0a0692-a257-4e87-a4b9-1b84c78689d8",
   "metadata": {},
   "outputs": [
    {
     "name": "stdout",
     "output_type": "stream",
     "text": [
      "Downloading data from IRIS:\n",
      "[########################################] | 100% Completed | 46.3s\n",
      "Status: denoising data using DeepDenoiser\n",
      "Status: applying EQTransformer\n"
     ]
    },
    {
     "name": "stderr",
     "output_type": "stream",
     "text": [
      "2022-02-23 10:31:07,631 | seisbench | WARNING | Parts of the input stream consist of fragments shorter than the number of input samples. Output might be empty.\n",
      "2022-02-23 10:31:16,180 | seisbench | WARNING | Parts of the input stream consist of fragments shorter than the number of input samples. Output might be empty.\n",
      "2022-02-23 10:31:24,958 | seisbench | WARNING | Parts of the input stream consist of fragments shorter than the number of input samples. Output might be empty.\n",
      "2022-02-23 10:31:32,936 | seisbench | WARNING | Parts of the input stream consist of fragments shorter than the number of input samples. Output might be empty.\n",
      "2022-02-23 10:31:33,587 | seisbench | WARNING | Parts of the input stream consist of fragments shorter than the number of input samples. Output might be empty.\n",
      "2022-02-23 10:31:48,936 | seisbench | WARNING | Parts of the input stream consist of fragments shorter than the number of input samples. Output might be empty.\n",
      "2022-02-23 10:31:56,922 | seisbench | WARNING | Parts of the input stream consist of fragments shorter than the number of input samples. Output might be empty.\n",
      "2022-02-23 10:32:06,124 | seisbench | WARNING | Parts of the input stream consist of fragments shorter than the number of input samples. Output might be empty.\n",
      "2022-02-23 10:32:06,370 | seisbench | WARNING | Parts of the input stream consist of fragments shorter than the number of input samples. Output might be empty.\n",
      "2022-02-23 10:32:15,553 | seisbench | WARNING | Parts of the input stream consist of fragments shorter than the number of input samples. Output might be empty.\n",
      "2022-02-23 10:32:17,217 | seisbench | WARNING | Parts of the input stream consist of fragments shorter than the number of input samples. Output might be empty.\n",
      "2022-02-23 10:32:35,540 | seisbench | WARNING | Parts of the input stream consist of fragments shorter than the number of input samples. Output might be empty.\n",
      "2022-02-23 10:32:36,277 | seisbench | WARNING | Parts of the input stream consist of fragments shorter than the number of input samples. Output might be empty.\n",
      "2022-02-23 10:32:43,535 | seisbench | WARNING | Parts of the input stream consist of fragments shorter than the number of input samples. Output might be empty.\n",
      "2022-02-23 10:32:51,939 | seisbench | WARNING | Parts of the input stream consist of fragments shorter than the number of input samples. Output might be empty.\n",
      "2022-02-23 10:33:08,787 | seisbench | WARNING | Parts of the input stream consist of fragments shorter than the number of input samples. Output might be empty.\n",
      "2022-02-23 10:33:16,969 | seisbench | WARNING | Parts of the input stream consist of fragments shorter than the number of input samples. Output might be empty.\n",
      "2022-02-23 10:33:33,573 | seisbench | WARNING | Parts of the input stream consist of fragments shorter than the number of input samples. Output might be empty.\n",
      "2022-02-23 10:33:34,547 | seisbench | WARNING | Parts of the input stream consist of fragments shorter than the number of input samples. Output might be empty.\n",
      "2022-02-23 10:33:49,969 | seisbench | WARNING | Parts of the input stream consist of fragments shorter than the number of input samples. Output might be empty.\n",
      "2022-02-23 10:33:58,661 | seisbench | WARNING | Parts of the input stream consist of fragments shorter than the number of input samples. Output might be empty.\n",
      "2022-02-23 10:34:05,967 | seisbench | WARNING | Parts of the input stream consist of fragments shorter than the number of input samples. Output might be empty.\n",
      "2022-02-23 10:34:14,786 | seisbench | WARNING | Parts of the input stream consist of fragments shorter than the number of input samples. Output might be empty.\n",
      "2022-02-23 10:34:23,398 | seisbench | WARNING | Parts of the input stream consist of fragments shorter than the number of input samples. Output might be empty.\n",
      "2022-02-23 10:34:31,393 | seisbench | WARNING | Parts of the input stream consist of fragments shorter than the number of input samples. Output might be empty.\n",
      "2022-02-23 10:34:48,146 | seisbench | WARNING | Parts of the input stream consist of fragments shorter than the number of input samples. Output might be empty.\n",
      "2022-02-23 10:35:04,547 | seisbench | WARNING | Parts of the input stream consist of fragments shorter than the number of input samples. Output might be empty.\n",
      "2022-02-23 10:35:20,784 | seisbench | WARNING | Parts of the input stream consist of fragments shorter than the number of input samples. Output might be empty.\n",
      "2022-02-23 10:35:21,445 | seisbench | WARNING | Parts of the input stream consist of fragments shorter than the number of input samples. Output might be empty.\n",
      "2022-02-23 10:35:21,695 | seisbench | WARNING | Parts of the input stream consist of fragments shorter than the number of input samples. Output might be empty.\n",
      "2022-02-23 10:36:03,346 | seisbench | WARNING | Parts of the input stream consist of fragments shorter than the number of input samples. Output might be empty.\n",
      "2022-02-23 10:36:10,594 | seisbench | WARNING | Parts of the input stream consist of fragments shorter than the number of input samples. Output might be empty.\n",
      "2022-02-23 10:36:34,797 | seisbench | WARNING | Parts of the input stream consist of fragments shorter than the number of input samples. Output might be empty.\n",
      "2022-02-23 10:36:50,975 | seisbench | WARNING | Parts of the input stream consist of fragments shorter than the number of input samples. Output might be empty.\n",
      "2022-02-23 10:37:07,728 | seisbench | WARNING | Parts of the input stream consist of fragments shorter than the number of input samples. Output might be empty.\n",
      "2022-02-23 10:37:15,681 | seisbench | WARNING | Parts of the input stream consist of fragments shorter than the number of input samples. Output might be empty.\n",
      "2022-02-23 10:37:23,658 | seisbench | WARNING | Parts of the input stream consist of fragments shorter than the number of input samples. Output might be empty.\n",
      "2022-02-23 10:37:31,234 | seisbench | WARNING | Parts of the input stream consist of fragments shorter than the number of input samples. Output might be empty.\n",
      "2022-02-23 10:37:31,315 | seisbench | WARNING | Parts of the input stream consist of fragments shorter than the number of input samples. Output might be empty.\n",
      "2022-02-23 10:37:32,058 | seisbench | WARNING | Parts of the input stream consist of fragments shorter than the number of input samples. Output might be empty.\n",
      "2022-02-23 10:37:32,674 | seisbench | WARNING | Parts of the input stream consist of fragments shorter than the number of input samples. Output might be empty.\n",
      "2022-02-23 10:37:32,905 | seisbench | WARNING | Parts of the input stream consist of fragments shorter than the number of input samples. Output might be empty.\n",
      "2022-02-23 10:37:39,504 | seisbench | WARNING | Parts of the input stream consist of fragments shorter than the number of input samples. Output might be empty.\n",
      "2022-02-23 10:37:52,774 | seisbench | WARNING | Parts of the input stream consist of fragments shorter than the number of input samples. Output might be empty.\n",
      "2022-02-23 10:38:04,592 | seisbench | WARNING | Parts of the input stream consist of fragments shorter than the number of input samples. Output might be empty.\n",
      "2022-02-23 10:38:12,611 | seisbench | WARNING | Parts of the input stream consist of fragments shorter than the number of input samples. Output might be empty.\n",
      "2022-02-23 10:38:20,591 | seisbench | WARNING | Parts of the input stream consist of fragments shorter than the number of input samples. Output might be empty.\n",
      "2022-02-23 10:38:28,566 | seisbench | WARNING | Parts of the input stream consist of fragments shorter than the number of input samples. Output might be empty.\n",
      "2022-02-23 10:38:45,139 | seisbench | WARNING | Parts of the input stream consist of fragments shorter than the number of input samples. Output might be empty.\n",
      "2022-02-23 10:38:45,789 | seisbench | WARNING | Parts of the input stream consist of fragments shorter than the number of input samples. Output might be empty.\n",
      "2022-02-23 10:38:53,049 | seisbench | WARNING | Parts of the input stream consist of fragments shorter than the number of input samples. Output might be empty.\n",
      "2022-02-23 10:39:00,959 | seisbench | WARNING | Parts of the input stream consist of fragments shorter than the number of input samples. Output might be empty.\n",
      "2022-02-23 10:39:09,423 | seisbench | WARNING | Parts of the input stream consist of fragments shorter than the number of input samples. Output might be empty.\n",
      "2022-02-23 10:39:17,914 | seisbench | WARNING | Parts of the input stream consist of fragments shorter than the number of input samples. Output might be empty.\n"
     ]
    },
    {
     "name": "stdout",
     "output_type": "stream",
     "text": [
      "CPU times: user 8h 11min 38s, sys: 13min 20s, total: 8h 24min 59s\n",
      "Wall time: 12min 24s\n"
     ]
    }
   ],
   "source": [
    "%%time\n",
    "\n",
    "pick_info,gamma_picks = eqt_utils.ml_pick(\n",
    "    dfS, starttime, endtime, waveform_length, waveform_overlap, filt_type, f1=f1, f2=f2\n",
    ")"
   ]
  },
  {
   "cell_type": "markdown",
   "id": "9a82bcc2-5bbb-4beb-81da-9a3cf8085625",
   "metadata": {},
   "source": [
    "#### Below is an example of the output pick dataframe. You can see that both the raw and denoised SNR of the pick is saved for all channels, as well as the raw and denoised amplitude of the signal (for use in magnitude estimation with GAMMA), and the probability of the pick from EQTransformer."
   ]
  },
  {
   "cell_type": "code",
   "execution_count": 66,
   "id": "fe2d539b-4b2e-4f87-84a0-88f296671717",
   "metadata": {},
   "outputs": [
    {
     "data": {
      "text/html": [
       "<div>\n",
       "<style scoped>\n",
       "    .dataframe tbody tr th:only-of-type {\n",
       "        vertical-align: middle;\n",
       "    }\n",
       "\n",
       "    .dataframe tbody tr th {\n",
       "        vertical-align: top;\n",
       "    }\n",
       "\n",
       "    .dataframe thead th {\n",
       "        text-align: right;\n",
       "    }\n",
       "</style>\n",
       "<table border=\"1\" class=\"dataframe\">\n",
       "  <thead>\n",
       "    <tr style=\"text-align: right;\">\n",
       "      <th></th>\n",
       "      <th>id</th>\n",
       "      <th>network</th>\n",
       "      <th>station</th>\n",
       "      <th>channel</th>\n",
       "      <th>phase</th>\n",
       "      <th>timestamp</th>\n",
       "      <th>prob</th>\n",
       "      <th>raw_amp</th>\n",
       "      <th>den_amp</th>\n",
       "      <th>z_raw_snr</th>\n",
       "      <th>z_den_snr</th>\n",
       "      <th>n_raw_snr</th>\n",
       "      <th>n_den_snr</th>\n",
       "      <th>e_raw_snr</th>\n",
       "      <th>e_den_snr</th>\n",
       "    </tr>\n",
       "  </thead>\n",
       "  <tbody>\n",
       "    <tr>\n",
       "      <th>0</th>\n",
       "      <td>AV.KCG..EH</td>\n",
       "      <td>AV</td>\n",
       "      <td>KCG</td>\n",
       "      <td>EH</td>\n",
       "      <td>P</td>\n",
       "      <td>2019-05-27T09:30:19.930</td>\n",
       "      <td>0.785364</td>\n",
       "      <td>626.0</td>\n",
       "      <td>18.518290</td>\n",
       "      <td>1.371465</td>\n",
       "      <td>30.608364</td>\n",
       "      <td>2.771061</td>\n",
       "      <td>2.953440</td>\n",
       "      <td>2.190365</td>\n",
       "      <td>12.282360</td>\n",
       "    </tr>\n",
       "    <tr>\n",
       "      <th>1</th>\n",
       "      <td>XO.EP21..HH</td>\n",
       "      <td>XO</td>\n",
       "      <td>EP21</td>\n",
       "      <td>HH</td>\n",
       "      <td>P</td>\n",
       "      <td>2019-05-27T09:30:58.029</td>\n",
       "      <td>0.344443</td>\n",
       "      <td>2022.0</td>\n",
       "      <td>49.235231</td>\n",
       "      <td>1.437014</td>\n",
       "      <td>29.378490</td>\n",
       "      <td>1.156233</td>\n",
       "      <td>4.545892</td>\n",
       "      <td>1.762221</td>\n",
       "      <td>121.202066</td>\n",
       "    </tr>\n",
       "    <tr>\n",
       "      <th>2</th>\n",
       "      <td>XO.KS11..HH</td>\n",
       "      <td>XO</td>\n",
       "      <td>KS11</td>\n",
       "      <td>HH</td>\n",
       "      <td>P</td>\n",
       "      <td>2019-05-27T09:30:19.960</td>\n",
       "      <td>0.795379</td>\n",
       "      <td>6420.0</td>\n",
       "      <td>234.239622</td>\n",
       "      <td>1.702192</td>\n",
       "      <td>12.297103</td>\n",
       "      <td>1.441493</td>\n",
       "      <td>17.106580</td>\n",
       "      <td>1.482461</td>\n",
       "      <td>21.625283</td>\n",
       "    </tr>\n",
       "    <tr>\n",
       "      <th>3</th>\n",
       "      <td>XO.KS11..HH</td>\n",
       "      <td>XO</td>\n",
       "      <td>KS11</td>\n",
       "      <td>HH</td>\n",
       "      <td>S</td>\n",
       "      <td>2019-05-27T09:30:29.890</td>\n",
       "      <td>0.523040</td>\n",
       "      <td>6584.0</td>\n",
       "      <td>359.900045</td>\n",
       "      <td>1.829988</td>\n",
       "      <td>3.051894</td>\n",
       "      <td>1.149442</td>\n",
       "      <td>4.339950</td>\n",
       "      <td>1.243458</td>\n",
       "      <td>1.007430</td>\n",
       "    </tr>\n",
       "    <tr>\n",
       "      <th>4</th>\n",
       "      <td>XO.KT07..HH</td>\n",
       "      <td>XO</td>\n",
       "      <td>KT07</td>\n",
       "      <td>HH</td>\n",
       "      <td>P</td>\n",
       "      <td>2019-05-27T09:30:23.660</td>\n",
       "      <td>0.890991</td>\n",
       "      <td>1683.0</td>\n",
       "      <td>1304.664571</td>\n",
       "      <td>5.716521</td>\n",
       "      <td>408.848358</td>\n",
       "      <td>2.089210</td>\n",
       "      <td>2.041013</td>\n",
       "      <td>2.305101</td>\n",
       "      <td>3.278548</td>\n",
       "    </tr>\n",
       "  </tbody>\n",
       "</table>\n",
       "</div>"
      ],
      "text/plain": [
       "            id network station channel phase                timestamp  \\\n",
       "0   AV.KCG..EH      AV     KCG      EH     P  2019-05-27T09:30:19.930   \n",
       "1  XO.EP21..HH      XO    EP21      HH     P  2019-05-27T09:30:58.029   \n",
       "2  XO.KS11..HH      XO    KS11      HH     P  2019-05-27T09:30:19.960   \n",
       "3  XO.KS11..HH      XO    KS11      HH     S  2019-05-27T09:30:29.890   \n",
       "4  XO.KT07..HH      XO    KT07      HH     P  2019-05-27T09:30:23.660   \n",
       "\n",
       "       prob  raw_amp      den_amp  z_raw_snr   z_den_snr  n_raw_snr  \\\n",
       "0  0.785364    626.0    18.518290   1.371465   30.608364   2.771061   \n",
       "1  0.344443   2022.0    49.235231   1.437014   29.378490   1.156233   \n",
       "2  0.795379   6420.0   234.239622   1.702192   12.297103   1.441493   \n",
       "3  0.523040   6584.0   359.900045   1.829988    3.051894   1.149442   \n",
       "4  0.890991   1683.0  1304.664571   5.716521  408.848358   2.089210   \n",
       "\n",
       "   n_den_snr  e_raw_snr   e_den_snr  \n",
       "0   2.953440   2.190365   12.282360  \n",
       "1   4.545892   1.762221  121.202066  \n",
       "2  17.106580   1.482461   21.625283  \n",
       "3   4.339950   1.243458    1.007430  \n",
       "4   2.041013   2.305101    3.278548  "
      ]
     },
     "execution_count": 66,
     "metadata": {},
     "output_type": "execute_result"
    }
   ],
   "source": [
    "pick_info.head()"
   ]
  },
  {
   "cell_type": "markdown",
   "id": "2846d25a-d018-4158-bf04-0876432dac78",
   "metadata": {},
   "source": [
    "### Save to parquet"
   ]
  },
  {
   "cell_type": "code",
   "execution_count": 14,
   "id": "aa371db5-3270-4833-af55-5cc970c1f560",
   "metadata": {},
   "outputs": [],
   "source": [
    "pick_info.to_parquet(\"picks_20190527_1030.parquet\", version=\"2.6\")"
   ]
  },
  {
   "cell_type": "code",
   "execution_count": null,
   "id": "fb96b820-4a50-4356-ae9c-8da7ee2a52cc",
   "metadata": {},
   "outputs": [],
   "source": []
  }
 ],
 "metadata": {
  "kernelspec": {
   "display_name": "alaska-ml",
   "language": "python",
   "name": "alaska-ml"
  },
  "language_info": {
   "codemirror_mode": {
    "name": "ipython",
    "version": 3
   },
   "file_extension": ".py",
   "mimetype": "text/x-python",
   "name": "python",
   "nbconvert_exporter": "python",
   "pygments_lexer": "ipython3",
   "version": "3.9.10"
  }
 },
 "nbformat": 4,
 "nbformat_minor": 5
}
