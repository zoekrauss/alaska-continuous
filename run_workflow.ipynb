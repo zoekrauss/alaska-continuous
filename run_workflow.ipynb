{
 "cells": [
  {
   "cell_type": "code",
   "execution_count": 1,
   "id": "0b9786d0-eb0c-49bb-91f9-94378773beed",
   "metadata": {
    "tags": []
   },
   "outputs": [],
   "source": [
    "import obspy\n",
    "import pandas as pd\n",
    "from obspy.clients.fdsn import Client\n",
    "from datetime import timedelta\n",
    "import datetime\n",
    "import matplotlib.pyplot as plt\n",
    "import numpy as np\n",
    "import logging\n",
    "import requests\n",
    "import seisbench\n",
    "import seisbench.models as sbm\n",
    "import dask\n",
    "import json\n",
    "import alaska_utils\n",
    "import postprocess\n",
    "import eqt_utils\n",
    "\n",
    "# Progress bar for dask operations:\n",
    "from dask.diagnostics import ProgressBar\n",
    "pbar = dask.diagnostics.ProgressBar()\n",
    "pbar.register()\n",
    "\n",
    "import warnings\n",
    "warnings.filterwarnings('ignore')"
   ]
  },
  {
   "cell_type": "markdown",
   "id": "65b6824b-1adf-4989-98a0-f2625cee4abe",
   "metadata": {},
   "source": [
    "### This notebook allows you to apply EQTransformer (by way of Seisbench) to continuous seismic data from the AACSE network, and retrieve picks for the specified time period. The waveforms can also be filtered or denoised by DeepDenoiser (by way of Seisbench)."
   ]
  },
  {
   "cell_type": "markdown",
   "id": "6f775338-c067-4274-9723-793ee495c00e",
   "metadata": {},
   "source": [
    "#### Choose window length (s), window overlap (s), and start and end times"
   ]
  },
  {
   "cell_type": "code",
   "execution_count": 2,
   "id": "039687f3-d8be-4259-b31e-ce4d874ee9e2",
   "metadata": {},
   "outputs": [],
   "source": [
    "waveform_length = 60\n",
    "waveform_overlap = 0\n",
    "starttime = datetime.datetime(2019,5,27,9,52,30)\n",
    "endtime = datetime.datetime(2019,5,27,9,55,30)"
   ]
  },
  {
   "cell_type": "markdown",
   "id": "b0ee1356-e60b-49cf-815a-8d3b9abdca82",
   "metadata": {},
   "source": [
    "#### Load list of stations to run the workflow on, specify by network and maximum station elevation if desired"
   ]
  },
  {
   "cell_type": "code",
   "execution_count": 3,
   "id": "02fbb950-2111-4c87-a9c0-1af4053bc799",
   "metadata": {},
   "outputs": [],
   "source": [
    "# Pre=saved station list in pandas dataframe format\n",
    "dfS = pd.read_parquet('https://github.com/zoekrauss/alaska_catalog/raw/main/data_acquisition/alaska_stations.parquet')\n",
    "# dfS = alaska_utils.station_list(dfS,starttime,endtime,elevation=False,network=False)"
   ]
  },
  {
   "cell_type": "markdown",
   "id": "1a19b6bc-d799-493a-b150-8dfa7f82b894",
   "metadata": {
    "tags": []
   },
   "source": [
    "#### Specify whether to apply any filtering to the waveforms before phase picking\n",
    "\n",
    "This choice is made with the variable filt_type.\n",
    "\n",
    "filt_type = 0 for raw waveforms\\\n",
    "filt_type = 1 for bandpass filtered waveforms\\\n",
    "filt_type = 2 to apply DeepDenoiser to the waveforms\n",
    "\n",
    "NOTE: if specifying bandpass filter, must also specify f1 and f2 for bandpass limits"
   ]
  },
  {
   "cell_type": "code",
   "execution_count": 4,
   "id": "61d99202-a08a-4bd5-9316-76b4419fb51b",
   "metadata": {},
   "outputs": [],
   "source": [
    "filt_type = 2\n",
    "f1 = False\n",
    "f2 = False"
   ]
  },
  {
   "cell_type": "markdown",
   "id": "ebf16714-5f0a-4a32-9047-82eeb457366a",
   "metadata": {},
   "source": [
    "### Run the workflow, and output:\n",
    "#### (1) pandas dataframe of all pick metadata\n",
    "#### (2) list of pick dictionaries formatted for use with GAMMA"
   ]
  },
  {
   "cell_type": "code",
   "execution_count": 5,
   "id": "0a0a0692-a257-4e87-a4b9-1b84c78689d8",
   "metadata": {},
   "outputs": [
    {
     "name": "stdout",
     "output_type": "stream",
     "text": [
      "Downloading data from IRIS:\n",
      "[########################################] | 100% Completed | 49.3s\n",
      "Status: denoising data using DeepDenoiser\n",
      "Status: applying EQTransformer\n"
     ]
    },
    {
     "name": "stderr",
     "output_type": "stream",
     "text": [
      "2022-02-16 19:55:10,232 | seisbench | WARNING | Parts of the input stream consist of fragments shorter than the number of input samples. Output might be empty.\n",
      "2022-02-16 19:55:19,571 | seisbench | WARNING | Parts of the input stream consist of fragments shorter than the number of input samples. Output might be empty.\n"
     ]
    },
    {
     "name": "stdout",
     "output_type": "stream",
     "text": [
      "CPU times: user 59.4 s, sys: 757 ms, total: 1min\n",
      "Wall time: 1min 27s\n"
     ]
    }
   ],
   "source": [
    "%%time\n",
    "\n",
    "output_picks_filtered,output_gamma = eqt_utils.ml_pick(dfS,starttime,endtime,waveform_length,waveform_overlap,filt_type,f1=f1,f2=f2)"
   ]
  },
  {
   "cell_type": "markdown",
   "id": "9a82bcc2-5bbb-4beb-81da-9a3cf8085625",
   "metadata": {},
   "source": [
    "#### Below is an example of the output pick dataframe. You can see that both the raw and denoised SNR of the pick is saved for all channels, as well as the raw and denoised amplitude of the signal (for use in magnitude estimation with GAMMA), and the probability of the pick from EQTransformer."
   ]
  },
  {
   "cell_type": "code",
   "execution_count": 6,
   "id": "fe2d539b-4b2e-4f87-84a0-88f296671717",
   "metadata": {},
   "outputs": [
    {
     "data": {
      "text/html": [
       "<div>\n",
       "<style scoped>\n",
       "    .dataframe tbody tr th:only-of-type {\n",
       "        vertical-align: middle;\n",
       "    }\n",
       "\n",
       "    .dataframe tbody tr th {\n",
       "        vertical-align: top;\n",
       "    }\n",
       "\n",
       "    .dataframe thead th {\n",
       "        text-align: right;\n",
       "    }\n",
       "</style>\n",
       "<table border=\"1\" class=\"dataframe\">\n",
       "  <thead>\n",
       "    <tr style=\"text-align: right;\">\n",
       "      <th></th>\n",
       "      <th>id</th>\n",
       "      <th>network</th>\n",
       "      <th>station</th>\n",
       "      <th>channel</th>\n",
       "      <th>phase</th>\n",
       "      <th>timestamp</th>\n",
       "      <th>prob</th>\n",
       "      <th>raw_amp</th>\n",
       "      <th>den_amp</th>\n",
       "      <th>z_raw_snr</th>\n",
       "      <th>z_den_snr</th>\n",
       "      <th>n_raw_snr</th>\n",
       "      <th>n_den_snr</th>\n",
       "      <th>e_raw_snr</th>\n",
       "      <th>e_den_snr</th>\n",
       "    </tr>\n",
       "  </thead>\n",
       "  <tbody>\n",
       "    <tr>\n",
       "      <th>0</th>\n",
       "      <td>XO.EP15..HH</td>\n",
       "      <td>XO</td>\n",
       "      <td>EP15</td>\n",
       "      <td>HH</td>\n",
       "      <td>P</td>\n",
       "      <td>2019-05-27T09:52:44.390</td>\n",
       "      <td>0.703371</td>\n",
       "      <td>540944.0</td>\n",
       "      <td>5.109854e+05</td>\n",
       "      <td>1066.908243</td>\n",
       "      <td>1504.774816</td>\n",
       "      <td>1085.470799</td>\n",
       "      <td>29300.145520</td>\n",
       "      <td>570.053574</td>\n",
       "      <td>11851.051777</td>\n",
       "    </tr>\n",
       "    <tr>\n",
       "      <th>1</th>\n",
       "      <td>XO.EP15..HH</td>\n",
       "      <td>XO</td>\n",
       "      <td>EP15</td>\n",
       "      <td>HH</td>\n",
       "      <td>S</td>\n",
       "      <td>2019-05-27T09:53:01.930</td>\n",
       "      <td>0.342681</td>\n",
       "      <td>1570463.0</td>\n",
       "      <td>1.351395e+06</td>\n",
       "      <td>44.920476</td>\n",
       "      <td>12.229282</td>\n",
       "      <td>160.105093</td>\n",
       "      <td>22.075242</td>\n",
       "      <td>193.399981</td>\n",
       "      <td>14.533355</td>\n",
       "    </tr>\n",
       "    <tr>\n",
       "      <th>2</th>\n",
       "      <td>XO.ET17..HH</td>\n",
       "      <td>XO</td>\n",
       "      <td>ET17</td>\n",
       "      <td>HH</td>\n",
       "      <td>P</td>\n",
       "      <td>2019-05-27T09:52:53.160</td>\n",
       "      <td>0.378271</td>\n",
       "      <td>161573.0</td>\n",
       "      <td>1.238372e+05</td>\n",
       "      <td>446.658960</td>\n",
       "      <td>9507.911471</td>\n",
       "      <td>153.959334</td>\n",
       "      <td>5453.627586</td>\n",
       "      <td>69.863421</td>\n",
       "      <td>2648.617765</td>\n",
       "    </tr>\n",
       "    <tr>\n",
       "      <th>3</th>\n",
       "      <td>XO.ET19..HH</td>\n",
       "      <td>XO</td>\n",
       "      <td>ET19</td>\n",
       "      <td>HH</td>\n",
       "      <td>P</td>\n",
       "      <td>2019-05-27T09:52:48.249</td>\n",
       "      <td>0.458545</td>\n",
       "      <td>90903.0</td>\n",
       "      <td>4.436333e+04</td>\n",
       "      <td>164.076697</td>\n",
       "      <td>3315.300102</td>\n",
       "      <td>56.639121</td>\n",
       "      <td>56629.467835</td>\n",
       "      <td>53.024173</td>\n",
       "      <td>474.351397</td>\n",
       "    </tr>\n",
       "    <tr>\n",
       "      <th>4</th>\n",
       "      <td>XO.ET19..HH</td>\n",
       "      <td>XO</td>\n",
       "      <td>ET19</td>\n",
       "      <td>HH</td>\n",
       "      <td>S</td>\n",
       "      <td>2019-05-27T09:53:09.539</td>\n",
       "      <td>0.444751</td>\n",
       "      <td>382374.0</td>\n",
       "      <td>1.795152e+05</td>\n",
       "      <td>8.622256</td>\n",
       "      <td>1.687317</td>\n",
       "      <td>16.175838</td>\n",
       "      <td>12.142870</td>\n",
       "      <td>22.626180</td>\n",
       "      <td>11.097535</td>\n",
       "    </tr>\n",
       "  </tbody>\n",
       "</table>\n",
       "</div>"
      ],
      "text/plain": [
       "            id network station channel phase                timestamp  \\\n",
       "0  XO.EP15..HH      XO    EP15      HH     P  2019-05-27T09:52:44.390   \n",
       "1  XO.EP15..HH      XO    EP15      HH     S  2019-05-27T09:53:01.930   \n",
       "2  XO.ET17..HH      XO    ET17      HH     P  2019-05-27T09:52:53.160   \n",
       "3  XO.ET19..HH      XO    ET19      HH     P  2019-05-27T09:52:48.249   \n",
       "4  XO.ET19..HH      XO    ET19      HH     S  2019-05-27T09:53:09.539   \n",
       "\n",
       "       prob    raw_amp       den_amp    z_raw_snr    z_den_snr    n_raw_snr  \\\n",
       "0  0.703371   540944.0  5.109854e+05  1066.908243  1504.774816  1085.470799   \n",
       "1  0.342681  1570463.0  1.351395e+06    44.920476    12.229282   160.105093   \n",
       "2  0.378271   161573.0  1.238372e+05   446.658960  9507.911471   153.959334   \n",
       "3  0.458545    90903.0  4.436333e+04   164.076697  3315.300102    56.639121   \n",
       "4  0.444751   382374.0  1.795152e+05     8.622256     1.687317    16.175838   \n",
       "\n",
       "      n_den_snr   e_raw_snr     e_den_snr  \n",
       "0  29300.145520  570.053574  11851.051777  \n",
       "1     22.075242  193.399981     14.533355  \n",
       "2   5453.627586   69.863421   2648.617765  \n",
       "3  56629.467835   53.024173    474.351397  \n",
       "4     12.142870   22.626180     11.097535  "
      ]
     },
     "execution_count": 6,
     "metadata": {},
     "output_type": "execute_result"
    }
   ],
   "source": [
    "output_picks_filtered.head()"
   ]
  },
  {
   "cell_type": "markdown",
   "id": "2846d25a-d018-4158-bf04-0876432dac78",
   "metadata": {},
   "source": [
    "### Save to parquet"
   ]
  },
  {
   "cell_type": "code",
   "execution_count": 7,
   "id": "aa371db5-3270-4833-af55-5cc970c1f560",
   "metadata": {},
   "outputs": [],
   "source": [
    "output_picks_filtered.to_parquet('picks_20190527_095230.parquet', version='2.6')"
   ]
  },
  {
   "cell_type": "code",
   "execution_count": null,
   "id": "ff4ea900-e05b-4631-bc77-859fa364ec08",
   "metadata": {},
   "outputs": [],
   "source": []
  }
 ],
 "metadata": {
  "kernelspec": {
   "display_name": "Python 3 (ipykernel)",
   "language": "python",
   "name": "python3"
  },
  "language_info": {
   "codemirror_mode": {
    "name": "ipython",
    "version": 3
   },
   "file_extension": ".py",
   "mimetype": "text/x-python",
   "name": "python",
   "nbconvert_exporter": "python",
   "pygments_lexer": "ipython3",
   "version": "3.8.12"
  }
 },
 "nbformat": 4,
 "nbformat_minor": 5
}
