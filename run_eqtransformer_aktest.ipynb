{
  "nbformat": 4,
  "nbformat_minor": 0,
  "metadata": {
    "accelerator": "GPU",
    "colab": {
      "name": "run_eqtransformer_aktest.ipynb",
      "provenance": [],
      "collapsed_sections": []
    },
    "kernelspec": {
      "display_name": "Python 3",
      "name": "python3"
    },
    "language_info": {
      "name": "python"
    }
  },
  "cells": [
    {
      "cell_type": "markdown",
      "metadata": {
        "id": "SXxBtoOxZuBf"
      },
      "source": [
        "# Environment and Repository Set-up"
      ]
    },
    {
      "cell_type": "code",
      "metadata": {
        "id": "VDXJdhFYnHF1",
        "colab": {
          "base_uri": "https://localhost:8080/",
          "height": 589
        },
        "outputId": "0ff09154-272a-4749-dbc5-bf8c50d86329"
      },
      "source": [
        "# Import modules\n",
        "\n",
        "import numpy as np\n",
        "import pandas as pd\n",
        "import shutil\n",
        "import os\n",
        "from zipfile import ZipFile\n",
        "import glob\n",
        "from datetime import datetime, timedelta\n",
        "import matplotlib.pyplot as plt\n",
        "!pip install obspy"
      ],
      "execution_count": 1,
      "outputs": [
        {
          "output_type": "stream",
          "name": "stdout",
          "text": [
            "Collecting obspy\n",
            "  Downloading obspy-1.3.0-cp37-cp37m-manylinux_2_17_x86_64.manylinux2014_x86_64.whl (14.3 MB)\n",
            "\u001b[K     |████████████████████████████████| 14.3 MB 5.8 MB/s \n",
            "\u001b[?25hRequirement already satisfied: matplotlib>=3.2.0 in /usr/local/lib/python3.7/dist-packages (from obspy) (3.2.2)\n",
            "Requirement already satisfied: numpy>=1.15.0 in /usr/local/lib/python3.7/dist-packages (from obspy) (1.21.5)\n",
            "Requirement already satisfied: decorator in /usr/local/lib/python3.7/dist-packages (from obspy) (4.4.2)\n",
            "Requirement already satisfied: sqlalchemy in /usr/local/lib/python3.7/dist-packages (from obspy) (1.4.32)\n",
            "Requirement already satisfied: lxml in /usr/local/lib/python3.7/dist-packages (from obspy) (4.2.6)\n",
            "Requirement already satisfied: setuptools in /usr/local/lib/python3.7/dist-packages (from obspy) (57.4.0)\n",
            "Requirement already satisfied: scipy>=1.0.0 in /usr/local/lib/python3.7/dist-packages (from obspy) (1.4.1)\n",
            "Requirement already satisfied: requests in /usr/local/lib/python3.7/dist-packages (from obspy) (2.23.0)\n",
            "Requirement already satisfied: cycler>=0.10 in /usr/local/lib/python3.7/dist-packages (from matplotlib>=3.2.0->obspy) (0.11.0)\n",
            "Requirement already satisfied: kiwisolver>=1.0.1 in /usr/local/lib/python3.7/dist-packages (from matplotlib>=3.2.0->obspy) (1.4.0)\n",
            "Requirement already satisfied: pyparsing!=2.0.4,!=2.1.2,!=2.1.6,>=2.0.1 in /usr/local/lib/python3.7/dist-packages (from matplotlib>=3.2.0->obspy) (3.0.7)\n",
            "Requirement already satisfied: python-dateutil>=2.1 in /usr/local/lib/python3.7/dist-packages (from matplotlib>=3.2.0->obspy) (2.8.2)\n",
            "Requirement already satisfied: typing-extensions in /usr/local/lib/python3.7/dist-packages (from kiwisolver>=1.0.1->matplotlib>=3.2.0->obspy) (3.10.0.2)\n",
            "Requirement already satisfied: six>=1.5 in /usr/local/lib/python3.7/dist-packages (from python-dateutil>=2.1->matplotlib>=3.2.0->obspy) (1.15.0)\n",
            "Requirement already satisfied: chardet<4,>=3.0.2 in /usr/local/lib/python3.7/dist-packages (from requests->obspy) (3.0.4)\n",
            "Requirement already satisfied: urllib3!=1.25.0,!=1.25.1,<1.26,>=1.21.1 in /usr/local/lib/python3.7/dist-packages (from requests->obspy) (1.24.3)\n",
            "Requirement already satisfied: certifi>=2017.4.17 in /usr/local/lib/python3.7/dist-packages (from requests->obspy) (2021.10.8)\n",
            "Requirement already satisfied: idna<3,>=2.5 in /usr/local/lib/python3.7/dist-packages (from requests->obspy) (2.10)\n",
            "Requirement already satisfied: greenlet!=0.4.17 in /usr/local/lib/python3.7/dist-packages (from sqlalchemy->obspy) (1.1.2)\n",
            "Requirement already satisfied: importlib-metadata in /usr/local/lib/python3.7/dist-packages (from sqlalchemy->obspy) (4.11.3)\n",
            "Requirement already satisfied: zipp>=0.5 in /usr/local/lib/python3.7/dist-packages (from importlib-metadata->sqlalchemy->obspy) (3.7.0)\n",
            "Installing collected packages: obspy\n",
            "Successfully installed obspy-1.3.0\n"
          ]
        },
        {
          "output_type": "display_data",
          "data": {
            "application/vnd.colab-display-data+json": {
              "pip_warning": {
                "packages": [
                  "signal"
                ]
              }
            }
          },
          "metadata": {}
        }
      ]
    },
    {
      "cell_type": "code",
      "metadata": {
        "id": "m7gCZY6wpZ7j",
        "colab": {
          "base_uri": "https://localhost:8080/",
          "height": 1000
        },
        "outputId": "1bb009cd-a7d0-4fd7-e147-3cae5e3ff756"
      },
      "source": [
        "# Install and set-up EQTransformer following installation via git\n",
        "\n",
        "# NOTE: if using Google CoLab, make sure the runtime includes GPU before starting\n",
        "!pip install git+https://github.com/smousavi05/EQTransformer\n",
        "# This method of setup does not require the curation of the local environment, which is why it is useful when using a platform such as Google CoLab.\n",
        "\n",
        "# If using Google CoLab, restart the runtime after this install.\n",
        "# The platform will not recognize your new setup if it is not restarted and will throw errors.\n"
      ],
      "execution_count": 2,
      "outputs": [
        {
          "output_type": "stream",
          "name": "stdout",
          "text": [
            "Collecting git+https://github.com/smousavi05/EQTransformer\n",
            "  Cloning https://github.com/smousavi05/EQTransformer to /tmp/pip-req-build-rx5mtoyf\n",
            "  Running command git clone -q https://github.com/smousavi05/EQTransformer /tmp/pip-req-build-rx5mtoyf\n",
            "Requirement already satisfied: pytest in /usr/local/lib/python3.7/dist-packages (from EQTransformer==0.1.61) (3.6.4)\n",
            "Collecting numpy~=1.19.2\n",
            "  Downloading numpy-1.19.5-cp37-cp37m-manylinux2010_x86_64.whl (14.8 MB)\n",
            "\u001b[K     |████████████████████████████████| 14.8 MB 237 kB/s \n",
            "\u001b[?25hCollecting keyring>=15.1\n",
            "  Downloading keyring-23.5.0-py3-none-any.whl (33 kB)\n",
            "Collecting pkginfo>=1.4.2\n",
            "  Downloading pkginfo-1.8.2-py2.py3-none-any.whl (26 kB)\n",
            "Requirement already satisfied: scipy>=1.4.1 in /usr/local/lib/python3.7/dist-packages (from EQTransformer==0.1.61) (1.4.1)\n",
            "Collecting tensorflow~=2.5.0\n",
            "  Downloading tensorflow-2.5.3-cp37-cp37m-manylinux2010_x86_64.whl (460.3 MB)\n",
            "\u001b[K     |████████████████████████████████| 460.3 MB 8.3 kB/s \n",
            "\u001b[?25hCollecting keras==2.3.1\n",
            "  Downloading Keras-2.3.1-py2.py3-none-any.whl (377 kB)\n",
            "\u001b[K     |████████████████████████████████| 377 kB 43.3 MB/s \n",
            "\u001b[?25hRequirement already satisfied: matplotlib in /usr/local/lib/python3.7/dist-packages (from EQTransformer==0.1.61) (3.2.2)\n",
            "Requirement already satisfied: pandas in /usr/local/lib/python3.7/dist-packages (from EQTransformer==0.1.61) (1.3.5)\n",
            "Requirement already satisfied: tqdm>=4.48.0 in /usr/local/lib/python3.7/dist-packages (from EQTransformer==0.1.61) (4.63.0)\n",
            "Requirement already satisfied: h5py~=3.1.0 in /usr/local/lib/python3.7/dist-packages (from EQTransformer==0.1.61) (3.1.0)\n",
            "Requirement already satisfied: obspy in /usr/local/lib/python3.7/dist-packages (from EQTransformer==0.1.61) (1.3.0)\n",
            "Requirement already satisfied: jupyter in /usr/local/lib/python3.7/dist-packages (from EQTransformer==0.1.61) (1.0.0)\n",
            "Collecting keras-applications>=1.0.6\n",
            "  Downloading Keras_Applications-1.0.8-py3-none-any.whl (50 kB)\n",
            "\u001b[K     |████████████████████████████████| 50 kB 6.7 MB/s \n",
            "\u001b[?25hRequirement already satisfied: pyyaml in /usr/local/lib/python3.7/dist-packages (from keras==2.3.1->EQTransformer==0.1.61) (3.13)\n",
            "Requirement already satisfied: keras-preprocessing>=1.0.5 in /usr/local/lib/python3.7/dist-packages (from keras==2.3.1->EQTransformer==0.1.61) (1.1.2)\n",
            "Requirement already satisfied: six>=1.9.0 in /usr/local/lib/python3.7/dist-packages (from keras==2.3.1->EQTransformer==0.1.61) (1.15.0)\n",
            "Requirement already satisfied: cached-property in /usr/local/lib/python3.7/dist-packages (from h5py~=3.1.0->EQTransformer==0.1.61) (1.5.2)\n",
            "Collecting jeepney>=0.4.2\n",
            "  Downloading jeepney-0.7.1-py3-none-any.whl (54 kB)\n",
            "\u001b[K     |████████████████████████████████| 54 kB 2.4 MB/s \n",
            "\u001b[?25hRequirement already satisfied: importlib-metadata>=3.6 in /usr/local/lib/python3.7/dist-packages (from keyring>=15.1->EQTransformer==0.1.61) (4.11.3)\n",
            "Collecting SecretStorage>=3.2\n",
            "  Downloading SecretStorage-3.3.1-py3-none-any.whl (15 kB)\n",
            "Requirement already satisfied: zipp>=0.5 in /usr/local/lib/python3.7/dist-packages (from importlib-metadata>=3.6->keyring>=15.1->EQTransformer==0.1.61) (3.7.0)\n",
            "Requirement already satisfied: typing-extensions>=3.6.4 in /usr/local/lib/python3.7/dist-packages (from importlib-metadata>=3.6->keyring>=15.1->EQTransformer==0.1.61) (3.10.0.2)\n",
            "Collecting cryptography>=2.0\n",
            "  Downloading cryptography-36.0.2-cp36-abi3-manylinux_2_24_x86_64.whl (3.6 MB)\n",
            "\u001b[K     |████████████████████████████████| 3.6 MB 34.8 MB/s \n",
            "\u001b[?25hRequirement already satisfied: cffi>=1.12 in /usr/local/lib/python3.7/dist-packages (from cryptography>=2.0->SecretStorage>=3.2->keyring>=15.1->EQTransformer==0.1.61) (1.15.0)\n",
            "Requirement already satisfied: pycparser in /usr/local/lib/python3.7/dist-packages (from cffi>=1.12->cryptography>=2.0->SecretStorage>=3.2->keyring>=15.1->EQTransformer==0.1.61) (2.21)\n",
            "Collecting typing-extensions>=3.6.4\n",
            "  Downloading typing_extensions-3.7.4.3-py3-none-any.whl (22 kB)\n",
            "Collecting tensorflow-estimator<2.6.0,>=2.5.0\n",
            "  Downloading tensorflow_estimator-2.5.0-py2.py3-none-any.whl (462 kB)\n",
            "\u001b[K     |████████████████████████████████| 462 kB 47.2 MB/s \n",
            "\u001b[?25hRequirement already satisfied: google-pasta~=0.2 in /usr/local/lib/python3.7/dist-packages (from tensorflow~=2.5.0->EQTransformer==0.1.61) (0.2.0)\n",
            "Requirement already satisfied: astunparse~=1.6.3 in /usr/local/lib/python3.7/dist-packages (from tensorflow~=2.5.0->EQTransformer==0.1.61) (1.6.3)\n",
            "Collecting keras-nightly~=2.5.0.dev\n",
            "  Downloading keras_nightly-2.5.0.dev2021032900-py2.py3-none-any.whl (1.2 MB)\n",
            "\u001b[K     |████████████████████████████████| 1.2 MB 39.1 MB/s \n",
            "\u001b[?25hCollecting gast==0.4.0\n",
            "  Downloading gast-0.4.0-py3-none-any.whl (9.8 kB)\n",
            "Collecting grpcio~=1.34.0\n",
            "  Downloading grpcio-1.34.1-cp37-cp37m-manylinux2014_x86_64.whl (4.0 MB)\n",
            "\u001b[K     |████████████████████████████████| 4.0 MB 36.2 MB/s \n",
            "\u001b[?25hCollecting wrapt~=1.12.1\n",
            "  Downloading wrapt-1.12.1.tar.gz (27 kB)\n",
            "Requirement already satisfied: protobuf>=3.9.2 in /usr/local/lib/python3.7/dist-packages (from tensorflow~=2.5.0->EQTransformer==0.1.61) (3.17.3)\n",
            "Collecting flatbuffers~=1.12.0\n",
            "  Downloading flatbuffers-1.12-py2.py3-none-any.whl (15 kB)\n",
            "Requirement already satisfied: termcolor~=1.1.0 in /usr/local/lib/python3.7/dist-packages (from tensorflow~=2.5.0->EQTransformer==0.1.61) (1.1.0)\n",
            "Collecting absl-py~=0.10\n",
            "  Downloading absl_py-0.15.0-py3-none-any.whl (132 kB)\n",
            "\u001b[K     |████████████████████████████████| 132 kB 43.9 MB/s \n",
            "\u001b[?25hRequirement already satisfied: tensorboard~=2.5 in /usr/local/lib/python3.7/dist-packages (from tensorflow~=2.5.0->EQTransformer==0.1.61) (2.8.0)\n",
            "Requirement already satisfied: wheel~=0.35 in /usr/local/lib/python3.7/dist-packages (from tensorflow~=2.5.0->EQTransformer==0.1.61) (0.37.1)\n",
            "Requirement already satisfied: opt-einsum~=3.3.0 in /usr/local/lib/python3.7/dist-packages (from tensorflow~=2.5.0->EQTransformer==0.1.61) (3.3.0)\n",
            "Requirement already satisfied: requests<3,>=2.21.0 in /usr/local/lib/python3.7/dist-packages (from tensorboard~=2.5->tensorflow~=2.5.0->EQTransformer==0.1.61) (2.23.0)\n",
            "Requirement already satisfied: werkzeug>=0.11.15 in /usr/local/lib/python3.7/dist-packages (from tensorboard~=2.5->tensorflow~=2.5.0->EQTransformer==0.1.61) (1.0.1)\n",
            "Requirement already satisfied: google-auth<3,>=1.6.3 in /usr/local/lib/python3.7/dist-packages (from tensorboard~=2.5->tensorflow~=2.5.0->EQTransformer==0.1.61) (1.35.0)\n",
            "Requirement already satisfied: tensorboard-data-server<0.7.0,>=0.6.0 in /usr/local/lib/python3.7/dist-packages (from tensorboard~=2.5->tensorflow~=2.5.0->EQTransformer==0.1.61) (0.6.1)\n",
            "Requirement already satisfied: setuptools>=41.0.0 in /usr/local/lib/python3.7/dist-packages (from tensorboard~=2.5->tensorflow~=2.5.0->EQTransformer==0.1.61) (57.4.0)\n",
            "Requirement already satisfied: google-auth-oauthlib<0.5,>=0.4.1 in /usr/local/lib/python3.7/dist-packages (from tensorboard~=2.5->tensorflow~=2.5.0->EQTransformer==0.1.61) (0.4.6)\n",
            "Requirement already satisfied: markdown>=2.6.8 in /usr/local/lib/python3.7/dist-packages (from tensorboard~=2.5->tensorflow~=2.5.0->EQTransformer==0.1.61) (3.3.6)\n",
            "Requirement already satisfied: tensorboard-plugin-wit>=1.6.0 in /usr/local/lib/python3.7/dist-packages (from tensorboard~=2.5->tensorflow~=2.5.0->EQTransformer==0.1.61) (1.8.1)\n",
            "Requirement already satisfied: pyasn1-modules>=0.2.1 in /usr/local/lib/python3.7/dist-packages (from google-auth<3,>=1.6.3->tensorboard~=2.5->tensorflow~=2.5.0->EQTransformer==0.1.61) (0.2.8)\n",
            "Requirement already satisfied: cachetools<5.0,>=2.0.0 in /usr/local/lib/python3.7/dist-packages (from google-auth<3,>=1.6.3->tensorboard~=2.5->tensorflow~=2.5.0->EQTransformer==0.1.61) (4.2.4)\n",
            "Requirement already satisfied: rsa<5,>=3.1.4 in /usr/local/lib/python3.7/dist-packages (from google-auth<3,>=1.6.3->tensorboard~=2.5->tensorflow~=2.5.0->EQTransformer==0.1.61) (4.8)\n",
            "Requirement already satisfied: requests-oauthlib>=0.7.0 in /usr/local/lib/python3.7/dist-packages (from google-auth-oauthlib<0.5,>=0.4.1->tensorboard~=2.5->tensorflow~=2.5.0->EQTransformer==0.1.61) (1.3.1)\n",
            "Requirement already satisfied: pyasn1<0.5.0,>=0.4.6 in /usr/local/lib/python3.7/dist-packages (from pyasn1-modules>=0.2.1->google-auth<3,>=1.6.3->tensorboard~=2.5->tensorflow~=2.5.0->EQTransformer==0.1.61) (0.4.8)\n",
            "Requirement already satisfied: idna<3,>=2.5 in /usr/local/lib/python3.7/dist-packages (from requests<3,>=2.21.0->tensorboard~=2.5->tensorflow~=2.5.0->EQTransformer==0.1.61) (2.10)\n",
            "Requirement already satisfied: certifi>=2017.4.17 in /usr/local/lib/python3.7/dist-packages (from requests<3,>=2.21.0->tensorboard~=2.5->tensorflow~=2.5.0->EQTransformer==0.1.61) (2021.10.8)\n",
            "Requirement already satisfied: chardet<4,>=3.0.2 in /usr/local/lib/python3.7/dist-packages (from requests<3,>=2.21.0->tensorboard~=2.5->tensorflow~=2.5.0->EQTransformer==0.1.61) (3.0.4)\n",
            "Requirement already satisfied: urllib3!=1.25.0,!=1.25.1,<1.26,>=1.21.1 in /usr/local/lib/python3.7/dist-packages (from requests<3,>=2.21.0->tensorboard~=2.5->tensorflow~=2.5.0->EQTransformer==0.1.61) (1.24.3)\n",
            "Requirement already satisfied: oauthlib>=3.0.0 in /usr/local/lib/python3.7/dist-packages (from requests-oauthlib>=0.7.0->google-auth-oauthlib<0.5,>=0.4.1->tensorboard~=2.5->tensorflow~=2.5.0->EQTransformer==0.1.61) (3.2.0)\n",
            "Requirement already satisfied: qtconsole in /usr/local/lib/python3.7/dist-packages (from jupyter->EQTransformer==0.1.61) (5.2.2)\n",
            "Requirement already satisfied: notebook in /usr/local/lib/python3.7/dist-packages (from jupyter->EQTransformer==0.1.61) (5.3.1)\n",
            "Requirement already satisfied: ipykernel in /usr/local/lib/python3.7/dist-packages (from jupyter->EQTransformer==0.1.61) (4.10.1)\n",
            "Requirement already satisfied: jupyter-console in /usr/local/lib/python3.7/dist-packages (from jupyter->EQTransformer==0.1.61) (5.2.0)\n",
            "Requirement already satisfied: nbconvert in /usr/local/lib/python3.7/dist-packages (from jupyter->EQTransformer==0.1.61) (5.6.1)\n",
            "Requirement already satisfied: ipywidgets in /usr/local/lib/python3.7/dist-packages (from jupyter->EQTransformer==0.1.61) (7.7.0)\n",
            "Requirement already satisfied: jupyter-client in /usr/local/lib/python3.7/dist-packages (from ipykernel->jupyter->EQTransformer==0.1.61) (5.3.5)\n",
            "Requirement already satisfied: traitlets>=4.1.0 in /usr/local/lib/python3.7/dist-packages (from ipykernel->jupyter->EQTransformer==0.1.61) (5.1.1)\n",
            "Requirement already satisfied: ipython>=4.0.0 in /usr/local/lib/python3.7/dist-packages (from ipykernel->jupyter->EQTransformer==0.1.61) (5.5.0)\n",
            "Requirement already satisfied: tornado>=4.0 in /usr/local/lib/python3.7/dist-packages (from ipykernel->jupyter->EQTransformer==0.1.61) (5.1.1)\n",
            "Requirement already satisfied: pexpect in /usr/local/lib/python3.7/dist-packages (from ipython>=4.0.0->ipykernel->jupyter->EQTransformer==0.1.61) (4.8.0)\n",
            "Requirement already satisfied: pygments in /usr/local/lib/python3.7/dist-packages (from ipython>=4.0.0->ipykernel->jupyter->EQTransformer==0.1.61) (2.6.1)\n",
            "Requirement already satisfied: decorator in /usr/local/lib/python3.7/dist-packages (from ipython>=4.0.0->ipykernel->jupyter->EQTransformer==0.1.61) (4.4.2)\n",
            "Requirement already satisfied: pickleshare in /usr/local/lib/python3.7/dist-packages (from ipython>=4.0.0->ipykernel->jupyter->EQTransformer==0.1.61) (0.7.5)\n",
            "Requirement already satisfied: simplegeneric>0.8 in /usr/local/lib/python3.7/dist-packages (from ipython>=4.0.0->ipykernel->jupyter->EQTransformer==0.1.61) (0.8.1)\n",
            "Requirement already satisfied: prompt-toolkit<2.0.0,>=1.0.4 in /usr/local/lib/python3.7/dist-packages (from ipython>=4.0.0->ipykernel->jupyter->EQTransformer==0.1.61) (1.0.18)\n",
            "Requirement already satisfied: wcwidth in /usr/local/lib/python3.7/dist-packages (from prompt-toolkit<2.0.0,>=1.0.4->ipython>=4.0.0->ipykernel->jupyter->EQTransformer==0.1.61) (0.2.5)\n",
            "Requirement already satisfied: nbformat>=4.2.0 in /usr/local/lib/python3.7/dist-packages (from ipywidgets->jupyter->EQTransformer==0.1.61) (5.2.0)\n",
            "Requirement already satisfied: widgetsnbextension~=3.6.0 in /usr/local/lib/python3.7/dist-packages (from ipywidgets->jupyter->EQTransformer==0.1.61) (3.6.0)\n",
            "Requirement already satisfied: ipython-genutils~=0.2.0 in /usr/local/lib/python3.7/dist-packages (from ipywidgets->jupyter->EQTransformer==0.1.61) (0.2.0)\n",
            "Requirement already satisfied: jupyterlab-widgets>=1.0.0 in /usr/local/lib/python3.7/dist-packages (from ipywidgets->jupyter->EQTransformer==0.1.61) (1.1.0)\n",
            "Requirement already satisfied: jupyter-core in /usr/local/lib/python3.7/dist-packages (from nbformat>=4.2.0->ipywidgets->jupyter->EQTransformer==0.1.61) (4.9.2)\n",
            "Requirement already satisfied: jsonschema!=2.5.0,>=2.4 in /usr/local/lib/python3.7/dist-packages (from nbformat>=4.2.0->ipywidgets->jupyter->EQTransformer==0.1.61) (4.3.3)\n",
            "Requirement already satisfied: attrs>=17.4.0 in /usr/local/lib/python3.7/dist-packages (from jsonschema!=2.5.0,>=2.4->nbformat>=4.2.0->ipywidgets->jupyter->EQTransformer==0.1.61) (21.4.0)\n",
            "Requirement already satisfied: importlib-resources>=1.4.0 in /usr/local/lib/python3.7/dist-packages (from jsonschema!=2.5.0,>=2.4->nbformat>=4.2.0->ipywidgets->jupyter->EQTransformer==0.1.61) (5.4.0)\n",
            "Requirement already satisfied: pyrsistent!=0.17.0,!=0.17.1,!=0.17.2,>=0.14.0 in /usr/local/lib/python3.7/dist-packages (from jsonschema!=2.5.0,>=2.4->nbformat>=4.2.0->ipywidgets->jupyter->EQTransformer==0.1.61) (0.18.1)\n",
            "Requirement already satisfied: Send2Trash in /usr/local/lib/python3.7/dist-packages (from notebook->jupyter->EQTransformer==0.1.61) (1.8.0)\n",
            "Requirement already satisfied: jinja2 in /usr/local/lib/python3.7/dist-packages (from notebook->jupyter->EQTransformer==0.1.61) (2.11.3)\n",
            "Requirement already satisfied: terminado>=0.8.1 in /usr/local/lib/python3.7/dist-packages (from notebook->jupyter->EQTransformer==0.1.61) (0.13.3)\n",
            "Requirement already satisfied: python-dateutil>=2.1 in /usr/local/lib/python3.7/dist-packages (from jupyter-client->ipykernel->jupyter->EQTransformer==0.1.61) (2.8.2)\n",
            "Requirement already satisfied: pyzmq>=13 in /usr/local/lib/python3.7/dist-packages (from jupyter-client->ipykernel->jupyter->EQTransformer==0.1.61) (22.3.0)\n",
            "Requirement already satisfied: ptyprocess in /usr/local/lib/python3.7/dist-packages (from terminado>=0.8.1->notebook->jupyter->EQTransformer==0.1.61) (0.7.0)\n",
            "Requirement already satisfied: MarkupSafe>=0.23 in /usr/local/lib/python3.7/dist-packages (from jinja2->notebook->jupyter->EQTransformer==0.1.61) (2.0.1)\n",
            "Requirement already satisfied: pyparsing!=2.0.4,!=2.1.2,!=2.1.6,>=2.0.1 in /usr/local/lib/python3.7/dist-packages (from matplotlib->EQTransformer==0.1.61) (3.0.7)\n",
            "Requirement already satisfied: cycler>=0.10 in /usr/local/lib/python3.7/dist-packages (from matplotlib->EQTransformer==0.1.61) (0.11.0)\n",
            "Requirement already satisfied: kiwisolver>=1.0.1 in /usr/local/lib/python3.7/dist-packages (from matplotlib->EQTransformer==0.1.61) (1.4.0)\n",
            "Requirement already satisfied: bleach in /usr/local/lib/python3.7/dist-packages (from nbconvert->jupyter->EQTransformer==0.1.61) (4.1.0)\n",
            "Requirement already satisfied: mistune<2,>=0.8.1 in /usr/local/lib/python3.7/dist-packages (from nbconvert->jupyter->EQTransformer==0.1.61) (0.8.4)\n",
            "Requirement already satisfied: defusedxml in /usr/local/lib/python3.7/dist-packages (from nbconvert->jupyter->EQTransformer==0.1.61) (0.7.1)\n",
            "Requirement already satisfied: testpath in /usr/local/lib/python3.7/dist-packages (from nbconvert->jupyter->EQTransformer==0.1.61) (0.6.0)\n",
            "Requirement already satisfied: entrypoints>=0.2.2 in /usr/local/lib/python3.7/dist-packages (from nbconvert->jupyter->EQTransformer==0.1.61) (0.4)\n",
            "Requirement already satisfied: pandocfilters>=1.4.1 in /usr/local/lib/python3.7/dist-packages (from nbconvert->jupyter->EQTransformer==0.1.61) (1.5.0)\n",
            "Requirement already satisfied: webencodings in /usr/local/lib/python3.7/dist-packages (from bleach->nbconvert->jupyter->EQTransformer==0.1.61) (0.5.1)\n",
            "Requirement already satisfied: packaging in /usr/local/lib/python3.7/dist-packages (from bleach->nbconvert->jupyter->EQTransformer==0.1.61) (21.3)\n",
            "Requirement already satisfied: lxml in /usr/local/lib/python3.7/dist-packages (from obspy->EQTransformer==0.1.61) (4.2.6)\n",
            "Requirement already satisfied: sqlalchemy in /usr/local/lib/python3.7/dist-packages (from obspy->EQTransformer==0.1.61) (1.4.32)\n",
            "Requirement already satisfied: pytz>=2017.3 in /usr/local/lib/python3.7/dist-packages (from pandas->EQTransformer==0.1.61) (2018.9)\n",
            "Requirement already satisfied: more-itertools>=4.0.0 in /usr/local/lib/python3.7/dist-packages (from pytest->EQTransformer==0.1.61) (8.12.0)\n",
            "Requirement already satisfied: pluggy<0.8,>=0.5 in /usr/local/lib/python3.7/dist-packages (from pytest->EQTransformer==0.1.61) (0.7.1)\n",
            "Requirement already satisfied: py>=1.5.0 in /usr/local/lib/python3.7/dist-packages (from pytest->EQTransformer==0.1.61) (1.11.0)\n",
            "Requirement already satisfied: atomicwrites>=1.0 in /usr/local/lib/python3.7/dist-packages (from pytest->EQTransformer==0.1.61) (1.4.0)\n",
            "Requirement already satisfied: qtpy in /usr/local/lib/python3.7/dist-packages (from qtconsole->jupyter->EQTransformer==0.1.61) (2.0.1)\n",
            "Requirement already satisfied: greenlet!=0.4.17 in /usr/local/lib/python3.7/dist-packages (from sqlalchemy->obspy->EQTransformer==0.1.61) (1.1.2)\n",
            "Building wheels for collected packages: EQTransformer, wrapt\n",
            "  Building wheel for EQTransformer (setup.py) ... \u001b[?25l\u001b[?25hdone\n",
            "  Created wheel for EQTransformer: filename=EQTransformer-0.1.61-py3-none-any.whl size=82450 sha256=840ccb1413384d7b36e2e5bf9c4cb322d63714213fa8afa30aa641a0181065f1\n",
            "  Stored in directory: /tmp/pip-ephem-wheel-cache-9f1h5a_i/wheels/71/be/fe/33cd6478a927bec8b6851f7229c93f81aeafde8c8b37299fc9\n",
            "  Building wheel for wrapt (setup.py) ... \u001b[?25l\u001b[?25hdone\n",
            "  Created wheel for wrapt: filename=wrapt-1.12.1-cp37-cp37m-linux_x86_64.whl size=68720 sha256=ade413fe561491b26d8a1510f2beff6c28759c3d1c44cae45a55b464b7489961\n",
            "  Stored in directory: /root/.cache/pip/wheels/62/76/4c/aa25851149f3f6d9785f6c869387ad82b3fd37582fa8147ac6\n",
            "Successfully built EQTransformer wrapt\n",
            "Installing collected packages: typing-extensions, numpy, jeepney, grpcio, cryptography, absl-py, wrapt, tensorflow-estimator, SecretStorage, keras-nightly, keras-applications, gast, flatbuffers, tensorflow, pkginfo, keyring, keras, EQTransformer\n",
            "  Attempting uninstall: typing-extensions\n",
            "    Found existing installation: typing-extensions 3.10.0.2\n",
            "    Uninstalling typing-extensions-3.10.0.2:\n",
            "      Successfully uninstalled typing-extensions-3.10.0.2\n",
            "  Attempting uninstall: numpy\n",
            "    Found existing installation: numpy 1.21.5\n",
            "    Uninstalling numpy-1.21.5:\n",
            "      Successfully uninstalled numpy-1.21.5\n",
            "  Attempting uninstall: grpcio\n",
            "    Found existing installation: grpcio 1.44.0\n",
            "    Uninstalling grpcio-1.44.0:\n",
            "      Successfully uninstalled grpcio-1.44.0\n",
            "  Attempting uninstall: absl-py\n",
            "    Found existing installation: absl-py 1.0.0\n",
            "    Uninstalling absl-py-1.0.0:\n",
            "      Successfully uninstalled absl-py-1.0.0\n",
            "  Attempting uninstall: wrapt\n",
            "    Found existing installation: wrapt 1.14.0\n",
            "    Uninstalling wrapt-1.14.0:\n",
            "      Successfully uninstalled wrapt-1.14.0\n",
            "  Attempting uninstall: tensorflow-estimator\n",
            "    Found existing installation: tensorflow-estimator 2.8.0\n",
            "    Uninstalling tensorflow-estimator-2.8.0:\n",
            "      Successfully uninstalled tensorflow-estimator-2.8.0\n",
            "  Attempting uninstall: gast\n",
            "    Found existing installation: gast 0.5.3\n",
            "    Uninstalling gast-0.5.3:\n",
            "      Successfully uninstalled gast-0.5.3\n",
            "  Attempting uninstall: flatbuffers\n",
            "    Found existing installation: flatbuffers 2.0\n",
            "    Uninstalling flatbuffers-2.0:\n",
            "      Successfully uninstalled flatbuffers-2.0\n",
            "  Attempting uninstall: tensorflow\n",
            "    Found existing installation: tensorflow 2.8.0\n",
            "    Uninstalling tensorflow-2.8.0:\n",
            "      Successfully uninstalled tensorflow-2.8.0\n",
            "  Attempting uninstall: keras\n",
            "    Found existing installation: keras 2.8.0\n",
            "    Uninstalling keras-2.8.0:\n",
            "      Successfully uninstalled keras-2.8.0\n",
            "\u001b[31mERROR: pip's dependency resolver does not currently take into account all the packages that are installed. This behaviour is the source of the following dependency conflicts.\n",
            "datascience 0.10.6 requires folium==0.2.1, but you have folium 0.8.3 which is incompatible.\n",
            "albumentations 0.1.12 requires imgaug<0.2.7,>=0.2.5, but you have imgaug 0.2.9 which is incompatible.\u001b[0m\n",
            "Successfully installed EQTransformer-0.1.61 SecretStorage-3.3.1 absl-py-0.15.0 cryptography-36.0.2 flatbuffers-1.12 gast-0.4.0 grpcio-1.34.1 jeepney-0.7.1 keras-2.3.1 keras-applications-1.0.8 keras-nightly-2.5.0.dev2021032900 keyring-23.5.0 numpy-1.19.5 pkginfo-1.8.2 tensorflow-2.5.3 tensorflow-estimator-2.5.0 typing-extensions-3.7.4.3 wrapt-1.12.1\n"
          ]
        },
        {
          "output_type": "display_data",
          "data": {
            "application/vnd.colab-display-data+json": {
              "pip_warning": {
                "packages": [
                  "numpy"
                ]
              }
            }
          },
          "metadata": {}
        }
      ]
    },
    {
      "cell_type": "code",
      "metadata": {
        "id": "Ud5FZnqCw8Zg",
        "colab": {
          "base_uri": "https://localhost:8080/"
        },
        "outputId": "a82b523e-a1bb-4187-df27-6270b65161ae"
      },
      "source": [
        "# Clone in the repository setup- this is what contains the pre-trained model, so this is necessary\n",
        "\n",
        "!git clone https://github.com/UW-ESS-DS/krauss-repo"
      ],
      "execution_count": 24,
      "outputs": [
        {
          "output_type": "stream",
          "name": "stdout",
          "text": [
            "Cloning into 'krauss-repo'...\n",
            "remote: Enumerating objects: 144, done.\u001b[K\n",
            "remote: Total 144 (delta 0), reused 0 (delta 0), pack-reused 144\u001b[K\n",
            "Receiving objects: 100% (144/144), 461.20 MiB | 25.74 MiB/s, done.\n",
            "Resolving deltas: 100% (43/43), done.\n"
          ]
        },
        {
          "output_type": "stream",
          "name": "stderr",
          "text": [
            "[2022-03-25 16:21:14,093] - obspy.clients.fdsn.mass_downloader - INFO: Total acquired or preexisting stations: 0\n",
            "[2022-03-25 16:21:14,093] - obspy.clients.fdsn.mass_downloader - INFO: Total acquired or preexisting stations: 0\n",
            "[2022-03-25 16:21:14,097] - obspy.clients.fdsn.mass_downloader - INFO: Client 'IRIS' - Requesting reliable availability.\n",
            "[2022-03-25 16:21:14,097] - obspy.clients.fdsn.mass_downloader - INFO: Client 'IRIS' - Requesting reliable availability.\n"
          ]
        },
        {
          "output_type": "stream",
          "name": "stdout",
          "text": [
            "Checking out files:  77% (42/54)   \r======= Working on EP22 station.\n"
          ]
        },
        {
          "output_type": "stream",
          "name": "stderr",
          "text": [
            "[2022-03-25 16:21:14,343] - obspy.clients.fdsn.mass_downloader - INFO: Client 'IRIS' - Successfully requested availability (0.23 seconds)\n",
            "[2022-03-25 16:21:14,343] - obspy.clients.fdsn.mass_downloader - INFO: Client 'IRIS' - Successfully requested availability (0.23 seconds)\n",
            "[2022-03-25 16:21:14,373] - obspy.clients.fdsn.mass_downloader - INFO: Client 'IRIS' - Found 1 stations (3 channels).\n",
            "[2022-03-25 16:21:14,373] - obspy.clients.fdsn.mass_downloader - INFO: Client 'IRIS' - Found 1 stations (3 channels).\n",
            "[2022-03-25 16:21:14,381] - obspy.clients.fdsn.mass_downloader - INFO: Client 'IRIS' - Will attempt to download data from 1 stations.\n",
            "[2022-03-25 16:21:14,381] - obspy.clients.fdsn.mass_downloader - INFO: Client 'IRIS' - Will attempt to download data from 1 stations.\n",
            "[2022-03-25 16:21:14,385] - obspy.clients.fdsn.mass_downloader - INFO: Client 'IRIS' - Status for 3 time intervals/channels before downloading: NEEDS_DOWNLOADING\n",
            "[2022-03-25 16:21:14,385] - obspy.clients.fdsn.mass_downloader - INFO: Client 'IRIS' - Status for 3 time intervals/channels before downloading: NEEDS_DOWNLOADING\n"
          ]
        },
        {
          "output_type": "stream",
          "name": "stdout",
          "text": [
            "Checking out files: 100% (54/54), done.\n"
          ]
        }
      ]
    },
    {
      "cell_type": "code",
      "metadata": {
        "id": "T7EOl4W_ns4e",
        "colab": {
          "base_uri": "https://localhost:8080/"
        },
        "outputId": "2e939c28-dd16-40e2-d234-f7ae78b553bb"
      },
      "source": [
        "# Mount Google Drive if retrieving data or saving data to the cloud\n",
        "# WARNING: this will connect to all Shared Drives in your name. Proceed with caution.\n",
        "\n",
        "from google.colab import drive\n",
        "drive.mount('/content/gdrive/')\n"
      ],
      "execution_count": 23,
      "outputs": [
        {
          "output_type": "stream",
          "name": "stderr",
          "text": [
            "[2022-03-25 16:20:05,800] - obspy.clients.fdsn.mass_downloader - INFO: Total acquired or preexisting stations: 0\n",
            "[2022-03-25 16:20:05,800] - obspy.clients.fdsn.mass_downloader - INFO: Total acquired or preexisting stations: 0\n",
            "[2022-03-25 16:20:05,803] - obspy.clients.fdsn.mass_downloader - INFO: Client 'IRIS' - Requesting reliable availability.\n",
            "[2022-03-25 16:20:05,803] - obspy.clients.fdsn.mass_downloader - INFO: Client 'IRIS' - Requesting reliable availability.\n"
          ]
        },
        {
          "output_type": "stream",
          "name": "stdout",
          "text": [
            "======= Working on EP21 station.\n"
          ]
        },
        {
          "output_type": "stream",
          "name": "stderr",
          "text": [
            "[2022-03-25 16:20:06,032] - obspy.clients.fdsn.mass_downloader - INFO: Client 'IRIS' - Successfully requested availability (0.22 seconds)\n",
            "[2022-03-25 16:20:06,032] - obspy.clients.fdsn.mass_downloader - INFO: Client 'IRIS' - Successfully requested availability (0.22 seconds)\n",
            "[2022-03-25 16:20:06,041] - obspy.clients.fdsn.mass_downloader - INFO: Client 'IRIS' - Found 1 stations (3 channels).\n",
            "[2022-03-25 16:20:06,041] - obspy.clients.fdsn.mass_downloader - INFO: Client 'IRIS' - Found 1 stations (3 channels).\n",
            "[2022-03-25 16:20:06,049] - obspy.clients.fdsn.mass_downloader - INFO: Client 'IRIS' - Will attempt to download data from 1 stations.\n",
            "[2022-03-25 16:20:06,049] - obspy.clients.fdsn.mass_downloader - INFO: Client 'IRIS' - Will attempt to download data from 1 stations.\n",
            "[2022-03-25 16:20:06,054] - obspy.clients.fdsn.mass_downloader - INFO: Client 'IRIS' - Status for 3 time intervals/channels before downloading: NEEDS_DOWNLOADING\n",
            "[2022-03-25 16:20:06,054] - obspy.clients.fdsn.mass_downloader - INFO: Client 'IRIS' - Status for 3 time intervals/channels before downloading: NEEDS_DOWNLOADING\n"
          ]
        },
        {
          "output_type": "stream",
          "name": "stdout",
          "text": [
            "Mounted at /content/gdrive/\n"
          ]
        }
      ]
    },
    {
      "cell_type": "markdown",
      "metadata": {
        "id": "FylBki4NZ6R-"
      },
      "source": [
        "# Download Data"
      ]
    },
    {
      "cell_type": "code",
      "metadata": {
        "id": "8niOPizpqUzw",
        "colab": {
          "base_uri": "https://localhost:8080/"
        },
        "outputId": "0c97778f-0836-4110-b651-df1464cedf70"
      },
      "source": [
        "# Make list of stations to query\n",
        "\n",
        "from EQTransformer.utils.downloader import makeStationList\n",
        "\n",
        "# For all stations:\n",
        "makeStationList('/content/stationlist.json',client_list=[\"IRIS\"],min_lat =47.5 , max_lat = 48.5,min_lon=-129.4,max_lon=-128.8,start_time='2018-08-03T00:00:00',end_time='2018-08-05T00:00:00',channel_list=['HH[ZNE]','EH[ZNE]', 'HH[Z21]','EH[Z21]', 'CH[ZNE]'],filter_network=['SY'])\n",
        "\n",
        "# For just ENWF, filter the other station names:\n",
        "# makeStationList('/content/stationlist_ENWF.json',client_list=[\"IRIS\"],min_lat =47.5 , max_lat = 48.5,min_lon=-129.4,max_lon=-128.8,start_time='2018-08-03T00:00:00',end_time='2018-08-05T00:00:00',channel_list=['HH[ZNE]','EH[ZNE]', 'HH[Z21]','EH[Z21]', 'CH[ZNE]'],filter_network=['SY'],filter_station=['ENEF','ENHR','KEMF','KEMO','NCHR'])"
      ],
      "execution_count": 30,
      "outputs": [
        {
          "output_type": "stream",
          "name": "stdout",
          "text": [
            "NV--ENHR\n",
            "NV--ENWF\n",
            "NV--KEMF\n",
            "NV--KEMO\n",
            "NV--NCHR\n"
          ]
        }
      ]
    },
    {
      "cell_type": "code",
      "source": [
        "def station_list(dfS,t1,t2,elevation=False,network=False):\n",
        "    \"\"\" \n",
        "    Function to make a station sublist from the master station list based on several choices\n",
        "    \n",
        "    INPUTS:\n",
        "    dfS - pandas dataframe of station information for the entire AACSE catalog\n",
        "    t1,t2 - datetime objects; only return stations operating between these two timestamps\n",
        "    elevation - float; only return stations below this maximum elevation\n",
        "    network - string; only return stations within this network\n",
        "    \n",
        "    OUTPUTS:\n",
        "    dfS = subset of the original pandas station dataframe that meets specifications\n",
        "    \"\"\"\n",
        "    if isinstance(dfS.iloc[0]['start_date'],str):\n",
        "        dfS['start_date'] = pd.to_datetime(dfS['start_date'],infer_datetime_format=True,errors='coerce')\n",
        "        dfS['end_date'] = pd.to_datetime(dfS['end_date'],infer_datetime_format=True,errors='coerce')\n",
        "\n",
        "    \n",
        "    dfS = dfS[(dfS['start_date'] < t1) & (dfS['end_date'] > t2)]\n",
        "    \n",
        "    \n",
        "    if elevation:\n",
        "        dfS = dfS[dfS['elevation(m)']<elevation]\n",
        "        \n",
        "    if network:\n",
        "        dfS = dfS[dfS['network']==network]\n",
        "    \n",
        "    return dfS"
      ],
      "metadata": {
        "id": "w3Rcr2tPXNoL"
      },
      "execution_count": 1,
      "outputs": []
    },
    {
      "cell_type": "code",
      "source": [
        "# Make Alaska station list, which EQT requires as json\n",
        "import json\n",
        "import datetime\n",
        "import pandas as pd\n",
        "\n",
        "dfS = pd.read_parquet(\"https://github.com/zoekrauss/alaska_catalog/raw/main/data_acquisition/alaska_stations.parquet\")\n",
        "starttime = datetime.datetime(2019, 5, 27)\n",
        "endtime = datetime.datetime(2019, 5, 28)\n",
        "dfS = station_list(dfS,starttime,endtime,elevation=False,network=False)\n",
        "dfS.drop_duplicates(subset=['station'],inplace=True)\n",
        "dfS.set_index('station',inplace=True)\n",
        "\n",
        "\n",
        "\n",
        "dfS['coords'] = [[dfS.iloc[i].latitude,dfS.iloc[i].longitude,dfS.iloc[i]['elevation(m)']] for i in range(len(dfS))]\n",
        "dfS['channels'] = [[dfS.iloc[i]['id'][-2:]+dfS.iloc[i]['component'][0],dfS.iloc[i]['id'][-2:]+dfS.iloc[i]['component'][2],dfS.iloc[i]['id'][-2:]+dfS.iloc[i]['component'][4]] for i in range(len(dfS))]\n",
        "# Grab only a subset of stations, if desired:\n",
        "sub_list = ['EP15','KD01','KD02','LA21','WD53','WD55']\n",
        "dfS_sub = dfS.filter(items=sub_list,axis=0)\n",
        "\n",
        "# Convert to dictionary\n",
        "stations = dfS_sub[['network','channels','coords']].to_dict(orient='index')\n",
        "\n",
        "# Save to json\n",
        "with open(\"stationlist.json\", \"w\") as outfile:\n",
        "    json.dump(stations, outfile)\n"
      ],
      "metadata": {
        "id": "FK78VQZKW4Dh"
      },
      "execution_count": 20,
      "outputs": []
    },
    {
      "cell_type": "code",
      "metadata": {
        "id": "gJbFqfr3-vln",
        "colab": {
          "base_uri": "https://localhost:8080/"
        },
        "outputId": "ef0d3e6a-a081-4474-d009-a97d4a27e4d7"
      },
      "source": [
        "# Download the mseeds, which is the actual seismic time series data, for desired time period\n",
        "from EQTransformer.utils.downloader import downloadMseeds\n",
        "\n",
        "stime = \"2019-05-27\"\n",
        "ftime = \"2019-05-28\"\n",
        "\n",
        "downloadMseeds(client_list=[\"IRIS\"], stations_json='stationlist.json', output_dir=\"sample_data/downloads_mseeds\",min_lat =52, max_lat = 59,min_lon=-162,max_lon=-149,start_time=stime,end_time=ftime, chunk_size=1, n_processor=1)\n",
        "\n"
      ],
      "execution_count": 21,
      "outputs": [
        {
          "output_type": "stream",
          "name": "stderr",
          "text": [
            "[2022-03-25 16:14:18,649] - obspy.clients.fdsn.mass_downloader - INFO: Initializing FDSN client(s) for IRIS.\n",
            "[2022-03-25 16:14:18,649] - obspy.clients.fdsn.mass_downloader - INFO: Initializing FDSN client(s) for IRIS.\n",
            "[2022-03-25 16:14:18,675] - obspy.clients.fdsn.mass_downloader - INFO: Successfully initialized 1 client(s): IRIS.\n",
            "[2022-03-25 16:14:18,675] - obspy.clients.fdsn.mass_downloader - INFO: Successfully initialized 1 client(s): IRIS.\n",
            "[2022-03-25 16:14:18,699] - obspy.clients.fdsn.mass_downloader - INFO: Total acquired or preexisting stations: 0\n",
            "[2022-03-25 16:14:18,699] - obspy.clients.fdsn.mass_downloader - INFO: Total acquired or preexisting stations: 0\n",
            "[2022-03-25 16:14:18,707] - obspy.clients.fdsn.mass_downloader - INFO: Client 'IRIS' - Requesting reliable availability.\n",
            "[2022-03-25 16:14:18,707] - obspy.clients.fdsn.mass_downloader - INFO: Client 'IRIS' - Requesting reliable availability.\n"
          ]
        },
        {
          "output_type": "stream",
          "name": "stdout",
          "text": [
            "####### There are 6 stations in the list. #######\n",
            "======= Working on EP15 station.\n"
          ]
        },
        {
          "output_type": "stream",
          "name": "stderr",
          "text": [
            "[2022-03-25 16:14:18,954] - obspy.clients.fdsn.mass_downloader - INFO: Client 'IRIS' - Successfully requested availability (0.24 seconds)\n",
            "[2022-03-25 16:14:18,954] - obspy.clients.fdsn.mass_downloader - INFO: Client 'IRIS' - Successfully requested availability (0.24 seconds)\n",
            "[2022-03-25 16:14:18,984] - obspy.clients.fdsn.mass_downloader - INFO: Client 'IRIS' - Found 1 stations (3 channels).\n",
            "[2022-03-25 16:14:18,984] - obspy.clients.fdsn.mass_downloader - INFO: Client 'IRIS' - Found 1 stations (3 channels).\n",
            "[2022-03-25 16:14:18,992] - obspy.clients.fdsn.mass_downloader - INFO: Client 'IRIS' - Will attempt to download data from 1 stations.\n",
            "[2022-03-25 16:14:18,992] - obspy.clients.fdsn.mass_downloader - INFO: Client 'IRIS' - Will attempt to download data from 1 stations.\n",
            "[2022-03-25 16:14:19,004] - obspy.clients.fdsn.mass_downloader - INFO: Client 'IRIS' - Status for 3 time intervals/channels before downloading: NEEDS_DOWNLOADING\n",
            "[2022-03-25 16:14:19,004] - obspy.clients.fdsn.mass_downloader - INFO: Client 'IRIS' - Status for 3 time intervals/channels before downloading: NEEDS_DOWNLOADING\n",
            "[2022-03-25 16:14:24,495] - obspy.clients.fdsn.mass_downloader - INFO: Client 'IRIS' - Successfully downloaded 1 channels (of 1)\n",
            "[2022-03-25 16:14:24,495] - obspy.clients.fdsn.mass_downloader - INFO: Client 'IRIS' - Successfully downloaded 1 channels (of 1)\n",
            "[2022-03-25 16:14:24,505] - obspy.clients.fdsn.mass_downloader - INFO: Client 'IRIS' - Launching basic QC checks...\n",
            "[2022-03-25 16:14:24,505] - obspy.clients.fdsn.mass_downloader - INFO: Client 'IRIS' - Launching basic QC checks...\n",
            "[2022-03-25 16:14:24,617] - obspy.clients.fdsn.mass_downloader - INFO: Client 'IRIS' - Downloaded 46.8 MB [731.65 KB/sec] of data, 0.0 MB of which were discarded afterwards.\n",
            "[2022-03-25 16:14:24,617] - obspy.clients.fdsn.mass_downloader - INFO: Client 'IRIS' - Downloaded 46.8 MB [731.65 KB/sec] of data, 0.0 MB of which were discarded afterwards.\n",
            "[2022-03-25 16:14:24,625] - obspy.clients.fdsn.mass_downloader - INFO: Client 'IRIS' - Status for 3 time intervals/channels after downloading: DOWNLOADED\n",
            "[2022-03-25 16:14:24,625] - obspy.clients.fdsn.mass_downloader - INFO: Client 'IRIS' - Status for 3 time intervals/channels after downloading: DOWNLOADED\n",
            "[2022-03-25 16:14:24,826] - obspy.clients.fdsn.mass_downloader - INFO: Client 'IRIS' - Successfully downloaded 'sample_data/downloads_mseedsxml/KAPH/AV.KAPH.xml'.\n",
            "[2022-03-25 16:14:24,826] - obspy.clients.fdsn.mass_downloader - INFO: Client 'IRIS' - Successfully downloaded 'sample_data/downloads_mseedsxml/KAPH/AV.KAPH.xml'.\n",
            "[2022-03-25 16:14:24,836] - obspy.clients.fdsn.mass_downloader - INFO: Client 'IRIS' - Downloaded 1 station files [0.0 MB] in 0.2 seconds [70.69 KB/sec].\n",
            "[2022-03-25 16:14:24,836] - obspy.clients.fdsn.mass_downloader - INFO: Client 'IRIS' - Downloaded 1 station files [0.0 MB] in 0.2 seconds [70.69 KB/sec].\n",
            "[2022-03-25 16:14:24,838] - obspy.clients.fdsn.mass_downloader - INFO: ============================== Final report\n",
            "[2022-03-25 16:14:24,838] - obspy.clients.fdsn.mass_downloader - INFO: ============================== Final report\n",
            "[2022-03-25 16:14:24,846] - obspy.clients.fdsn.mass_downloader - INFO: 0 MiniSEED files [0.0 MB] already existed.\n",
            "[2022-03-25 16:14:24,846] - obspy.clients.fdsn.mass_downloader - INFO: 0 MiniSEED files [0.0 MB] already existed.\n",
            "[2022-03-25 16:14:24,851] - obspy.clients.fdsn.mass_downloader - INFO: 0 StationXML files [0.0 MB] already existed.\n",
            "[2022-03-25 16:14:24,851] - obspy.clients.fdsn.mass_downloader - INFO: 0 StationXML files [0.0 MB] already existed.\n",
            "[2022-03-25 16:14:24,855] - obspy.clients.fdsn.mass_downloader - INFO: Client 'IRIS' - Acquired 3 MiniSEED files [46.8 MB].\n",
            "[2022-03-25 16:14:24,855] - obspy.clients.fdsn.mass_downloader - INFO: Client 'IRIS' - Acquired 3 MiniSEED files [46.8 MB].\n",
            "[2022-03-25 16:14:24,860] - obspy.clients.fdsn.mass_downloader - INFO: Client 'IRIS' - Acquired 1 StationXML files [0.0 MB].\n",
            "[2022-03-25 16:14:24,860] - obspy.clients.fdsn.mass_downloader - INFO: Client 'IRIS' - Acquired 1 StationXML files [0.0 MB].\n",
            "[2022-03-25 16:14:24,865] - obspy.clients.fdsn.mass_downloader - INFO: Downloaded 46.8 MB in total.\n",
            "[2022-03-25 16:14:24,865] - obspy.clients.fdsn.mass_downloader - INFO: Downloaded 46.8 MB in total.\n"
          ]
        },
        {
          "output_type": "stream",
          "name": "stdout",
          "text": [
            "** done with --> KAPH -- AV -- 2019-05-27\n"
          ]
        },
        {
          "output_type": "stream",
          "name": "stderr",
          "text": [
            "[2022-03-25 16:14:46,473] - obspy.clients.fdsn.mass_downloader - INFO: Client 'IRIS' - Successfully downloaded 1 channels (of 1)\n",
            "[2022-03-25 16:14:46,473] - obspy.clients.fdsn.mass_downloader - INFO: Client 'IRIS' - Successfully downloaded 1 channels (of 1)\n",
            "[2022-03-25 16:14:47,281] - obspy.clients.fdsn.mass_downloader - INFO: Client 'IRIS' - Successfully downloaded 1 channels (of 1)\n",
            "[2022-03-25 16:14:47,281] - obspy.clients.fdsn.mass_downloader - INFO: Client 'IRIS' - Successfully downloaded 1 channels (of 1)\n",
            "[2022-03-25 16:14:48,275] - obspy.clients.fdsn.mass_downloader - INFO: Client 'IRIS' - Successfully downloaded 1 channels (of 1)\n",
            "[2022-03-25 16:14:48,275] - obspy.clients.fdsn.mass_downloader - INFO: Client 'IRIS' - Successfully downloaded 1 channels (of 1)\n",
            "[2022-03-25 16:14:48,281] - obspy.clients.fdsn.mass_downloader - INFO: Client 'IRIS' - Launching basic QC checks...\n",
            "[2022-03-25 16:14:48,281] - obspy.clients.fdsn.mass_downloader - INFO: Client 'IRIS' - Launching basic QC checks...\n",
            "[2022-03-25 16:14:48,315] - obspy.clients.fdsn.mass_downloader - INFO: Client 'IRIS' - Downloaded 29.1 MB [1017.59 KB/sec] of data, 0.0 MB of which were discarded afterwards.\n",
            "[2022-03-25 16:14:48,315] - obspy.clients.fdsn.mass_downloader - INFO: Client 'IRIS' - Downloaded 29.1 MB [1017.59 KB/sec] of data, 0.0 MB of which were discarded afterwards.\n",
            "[2022-03-25 16:14:48,319] - obspy.clients.fdsn.mass_downloader - INFO: Client 'IRIS' - Status for 3 time intervals/channels after downloading: DOWNLOADED\n",
            "[2022-03-25 16:14:48,319] - obspy.clients.fdsn.mass_downloader - INFO: Client 'IRIS' - Status for 3 time intervals/channels after downloading: DOWNLOADED\n",
            "[2022-03-25 16:14:48,546] - obspy.clients.fdsn.mass_downloader - INFO: Client 'IRIS' - Successfully downloaded 'sample_data/downloads_mseedsxml/EP15/XO.EP15.xml'.\n",
            "[2022-03-25 16:14:48,546] - obspy.clients.fdsn.mass_downloader - INFO: Client 'IRIS' - Successfully downloaded 'sample_data/downloads_mseedsxml/EP15/XO.EP15.xml'.\n",
            "[2022-03-25 16:14:48,556] - obspy.clients.fdsn.mass_downloader - INFO: Client 'IRIS' - Downloaded 1 station files [0.0 MB] in 0.2 seconds [148.64 KB/sec].\n",
            "[2022-03-25 16:14:48,556] - obspy.clients.fdsn.mass_downloader - INFO: Client 'IRIS' - Downloaded 1 station files [0.0 MB] in 0.2 seconds [148.64 KB/sec].\n",
            "[2022-03-25 16:14:48,559] - obspy.clients.fdsn.mass_downloader - INFO: ============================== Final report\n",
            "[2022-03-25 16:14:48,559] - obspy.clients.fdsn.mass_downloader - INFO: ============================== Final report\n",
            "[2022-03-25 16:14:48,565] - obspy.clients.fdsn.mass_downloader - INFO: 0 MiniSEED files [0.0 MB] already existed.\n",
            "[2022-03-25 16:14:48,565] - obspy.clients.fdsn.mass_downloader - INFO: 0 MiniSEED files [0.0 MB] already existed.\n",
            "[2022-03-25 16:14:48,571] - obspy.clients.fdsn.mass_downloader - INFO: 0 StationXML files [0.0 MB] already existed.\n",
            "[2022-03-25 16:14:48,571] - obspy.clients.fdsn.mass_downloader - INFO: 0 StationXML files [0.0 MB] already existed.\n",
            "[2022-03-25 16:14:48,576] - obspy.clients.fdsn.mass_downloader - INFO: Client 'IRIS' - Acquired 3 MiniSEED files [29.1 MB].\n",
            "[2022-03-25 16:14:48,576] - obspy.clients.fdsn.mass_downloader - INFO: Client 'IRIS' - Acquired 3 MiniSEED files [29.1 MB].\n",
            "[2022-03-25 16:14:48,580] - obspy.clients.fdsn.mass_downloader - INFO: Client 'IRIS' - Acquired 1 StationXML files [0.0 MB].\n",
            "[2022-03-25 16:14:48,580] - obspy.clients.fdsn.mass_downloader - INFO: Client 'IRIS' - Acquired 1 StationXML files [0.0 MB].\n",
            "[2022-03-25 16:14:48,585] - obspy.clients.fdsn.mass_downloader - INFO: Downloaded 29.1 MB in total.\n",
            "[2022-03-25 16:14:48,585] - obspy.clients.fdsn.mass_downloader - INFO: Downloaded 29.1 MB in total.\n"
          ]
        },
        {
          "output_type": "stream",
          "name": "stdout",
          "text": [
            "** done with --> EP15 -- XO -- 2019-05-27\n"
          ]
        },
        {
          "output_type": "stream",
          "name": "stderr",
          "text": [
            "[2022-03-25 16:14:50,896] - obspy.clients.fdsn.mass_downloader - INFO: Total acquired or preexisting stations: 0\n",
            "[2022-03-25 16:14:50,896] - obspy.clients.fdsn.mass_downloader - INFO: Total acquired or preexisting stations: 0\n",
            "[2022-03-25 16:14:50,898] - obspy.clients.fdsn.mass_downloader - INFO: Client 'IRIS' - Requesting reliable availability.\n",
            "[2022-03-25 16:14:50,898] - obspy.clients.fdsn.mass_downloader - INFO: Client 'IRIS' - Requesting reliable availability.\n",
            "[2022-03-25 16:14:51,004] - obspy.clients.fdsn.mass_downloader - INFO: Client 'IRIS' - Successfully requested availability (0.10 seconds)\n",
            "[2022-03-25 16:14:51,004] - obspy.clients.fdsn.mass_downloader - INFO: Client 'IRIS' - Successfully requested availability (0.10 seconds)\n",
            "[2022-03-25 16:14:51,008] - obspy.clients.fdsn.mass_downloader - INFO: Client 'IRIS' - Found 1 stations (3 channels).\n",
            "[2022-03-25 16:14:51,008] - obspy.clients.fdsn.mass_downloader - INFO: Client 'IRIS' - Found 1 stations (3 channels).\n",
            "[2022-03-25 16:14:51,016] - obspy.clients.fdsn.mass_downloader - INFO: Client 'IRIS' - Will attempt to download data from 1 stations.\n",
            "[2022-03-25 16:14:51,016] - obspy.clients.fdsn.mass_downloader - INFO: Client 'IRIS' - Will attempt to download data from 1 stations.\n",
            "[2022-03-25 16:14:51,027] - obspy.clients.fdsn.mass_downloader - INFO: Client 'IRIS' - Status for 3 time intervals/channels before downloading: NEEDS_DOWNLOADING\n",
            "[2022-03-25 16:14:51,027] - obspy.clients.fdsn.mass_downloader - INFO: Client 'IRIS' - Status for 3 time intervals/channels before downloading: NEEDS_DOWNLOADING\n"
          ]
        },
        {
          "output_type": "stream",
          "name": "stdout",
          "text": [
            "======= Working on KCG station.\n"
          ]
        },
        {
          "output_type": "stream",
          "name": "stderr",
          "text": [
            "[2022-03-25 16:15:16,620] - obspy.clients.fdsn.mass_downloader - INFO: Total acquired or preexisting stations: 0\n",
            "[2022-03-25 16:15:16,620] - obspy.clients.fdsn.mass_downloader - INFO: Total acquired or preexisting stations: 0\n",
            "[2022-03-25 16:15:16,633] - obspy.clients.fdsn.mass_downloader - INFO: Client 'IRIS' - Requesting reliable availability.\n",
            "[2022-03-25 16:15:16,633] - obspy.clients.fdsn.mass_downloader - INFO: Client 'IRIS' - Requesting reliable availability.\n"
          ]
        },
        {
          "output_type": "stream",
          "name": "stdout",
          "text": [
            "======= Working on KD01 station.\n"
          ]
        },
        {
          "output_type": "stream",
          "name": "stderr",
          "text": [
            "[2022-03-25 16:15:16,853] - obspy.clients.fdsn.mass_downloader - INFO: Client 'IRIS' - Successfully requested availability (0.21 seconds)\n",
            "[2022-03-25 16:15:16,853] - obspy.clients.fdsn.mass_downloader - INFO: Client 'IRIS' - Successfully requested availability (0.21 seconds)\n",
            "[2022-03-25 16:15:16,896] - obspy.clients.fdsn.mass_downloader - INFO: Client 'IRIS' - Found 1 stations (3 channels).\n",
            "[2022-03-25 16:15:16,896] - obspy.clients.fdsn.mass_downloader - INFO: Client 'IRIS' - Found 1 stations (3 channels).\n",
            "[2022-03-25 16:15:16,911] - obspy.clients.fdsn.mass_downloader - INFO: Client 'IRIS' - Will attempt to download data from 1 stations.\n",
            "[2022-03-25 16:15:16,911] - obspy.clients.fdsn.mass_downloader - INFO: Client 'IRIS' - Will attempt to download data from 1 stations.\n",
            "[2022-03-25 16:15:16,928] - obspy.clients.fdsn.mass_downloader - INFO: Client 'IRIS' - Status for 3 time intervals/channels before downloading: NEEDS_DOWNLOADING\n",
            "[2022-03-25 16:15:16,928] - obspy.clients.fdsn.mass_downloader - INFO: Client 'IRIS' - Status for 3 time intervals/channels before downloading: NEEDS_DOWNLOADING\n",
            "[2022-03-25 16:15:25,859] - obspy.clients.fdsn.mass_downloader - INFO: Client 'IRIS' - Successfully downloaded 1 channels (of 1)\n",
            "[2022-03-25 16:15:25,859] - obspy.clients.fdsn.mass_downloader - INFO: Client 'IRIS' - Successfully downloaded 1 channels (of 1)\n",
            "[2022-03-25 16:15:26,119] - obspy.clients.fdsn.mass_downloader - INFO: Client 'IRIS' - Successfully downloaded 1 channels (of 1)\n",
            "[2022-03-25 16:15:26,119] - obspy.clients.fdsn.mass_downloader - INFO: Client 'IRIS' - Successfully downloaded 1 channels (of 1)\n",
            "[2022-03-25 16:15:26,664] - obspy.clients.fdsn.mass_downloader - INFO: Client 'IRIS' - Successfully downloaded 1 channels (of 1)\n",
            "[2022-03-25 16:15:26,664] - obspy.clients.fdsn.mass_downloader - INFO: Client 'IRIS' - Successfully downloaded 1 channels (of 1)\n",
            "[2022-03-25 16:15:26,672] - obspy.clients.fdsn.mass_downloader - INFO: Client 'IRIS' - Launching basic QC checks...\n",
            "[2022-03-25 16:15:26,672] - obspy.clients.fdsn.mass_downloader - INFO: Client 'IRIS' - Launching basic QC checks...\n",
            "[2022-03-25 16:15:26,737] - obspy.clients.fdsn.mass_downloader - INFO: Client 'IRIS' - Downloaded 8.0 MB [850.19 KB/sec] of data, 0.0 MB of which were discarded afterwards.\n",
            "[2022-03-25 16:15:26,737] - obspy.clients.fdsn.mass_downloader - INFO: Client 'IRIS' - Downloaded 8.0 MB [850.19 KB/sec] of data, 0.0 MB of which were discarded afterwards.\n",
            "[2022-03-25 16:15:26,749] - obspy.clients.fdsn.mass_downloader - INFO: Client 'IRIS' - Status for 3 time intervals/channels after downloading: DOWNLOADED\n",
            "[2022-03-25 16:15:26,749] - obspy.clients.fdsn.mass_downloader - INFO: Client 'IRIS' - Status for 3 time intervals/channels after downloading: DOWNLOADED\n",
            "[2022-03-25 16:15:26,992] - obspy.clients.fdsn.mass_downloader - INFO: Client 'IRIS' - Successfully downloaded 'sample_data/downloads_mseedsxml/KD01/XO.KD01.xml'.\n",
            "[2022-03-25 16:15:26,992] - obspy.clients.fdsn.mass_downloader - INFO: Client 'IRIS' - Successfully downloaded 'sample_data/downloads_mseedsxml/KD01/XO.KD01.xml'.\n",
            "[2022-03-25 16:15:27,028] - obspy.clients.fdsn.mass_downloader - INFO: Client 'IRIS' - Downloaded 1 station files [0.0 MB] in 0.2 seconds [138.92 KB/sec].\n",
            "[2022-03-25 16:15:27,028] - obspy.clients.fdsn.mass_downloader - INFO: Client 'IRIS' - Downloaded 1 station files [0.0 MB] in 0.2 seconds [138.92 KB/sec].\n",
            "[2022-03-25 16:15:27,047] - obspy.clients.fdsn.mass_downloader - INFO: ============================== Final report\n",
            "[2022-03-25 16:15:27,047] - obspy.clients.fdsn.mass_downloader - INFO: ============================== Final report\n",
            "[2022-03-25 16:15:27,058] - obspy.clients.fdsn.mass_downloader - INFO: 0 MiniSEED files [0.0 MB] already existed.\n",
            "[2022-03-25 16:15:27,058] - obspy.clients.fdsn.mass_downloader - INFO: 0 MiniSEED files [0.0 MB] already existed.\n",
            "[2022-03-25 16:15:27,075] - obspy.clients.fdsn.mass_downloader - INFO: 0 StationXML files [0.0 MB] already existed.\n",
            "[2022-03-25 16:15:27,075] - obspy.clients.fdsn.mass_downloader - INFO: 0 StationXML files [0.0 MB] already existed.\n",
            "[2022-03-25 16:15:27,101] - obspy.clients.fdsn.mass_downloader - INFO: Client 'IRIS' - Acquired 3 MiniSEED files [8.0 MB].\n",
            "[2022-03-25 16:15:27,101] - obspy.clients.fdsn.mass_downloader - INFO: Client 'IRIS' - Acquired 3 MiniSEED files [8.0 MB].\n",
            "[2022-03-25 16:15:27,118] - obspy.clients.fdsn.mass_downloader - INFO: Client 'IRIS' - Acquired 1 StationXML files [0.0 MB].\n",
            "[2022-03-25 16:15:27,118] - obspy.clients.fdsn.mass_downloader - INFO: Client 'IRIS' - Acquired 1 StationXML files [0.0 MB].\n",
            "[2022-03-25 16:15:27,126] - obspy.clients.fdsn.mass_downloader - INFO: Downloaded 8.1 MB in total.\n",
            "[2022-03-25 16:15:27,126] - obspy.clients.fdsn.mass_downloader - INFO: Downloaded 8.1 MB in total.\n"
          ]
        },
        {
          "output_type": "stream",
          "name": "stdout",
          "text": [
            "** done with --> KD01 -- XO -- 2019-05-27\n"
          ]
        },
        {
          "output_type": "stream",
          "name": "stderr",
          "text": [
            "[2022-03-25 16:15:32,633] - obspy.clients.fdsn.mass_downloader - INFO: Client 'IRIS' - Successfully downloaded 1 channels (of 1)\n",
            "[2022-03-25 16:15:32,633] - obspy.clients.fdsn.mass_downloader - INFO: Client 'IRIS' - Successfully downloaded 1 channels (of 1)\n",
            "[2022-03-25 16:15:35,994] - obspy.clients.fdsn.mass_downloader - INFO: Client 'IRIS' - Successfully downloaded 1 channels (of 1)\n",
            "[2022-03-25 16:15:35,994] - obspy.clients.fdsn.mass_downloader - INFO: Client 'IRIS' - Successfully downloaded 1 channels (of 1)\n",
            "[2022-03-25 16:15:37,007] - obspy.clients.fdsn.mass_downloader - INFO: Client 'IRIS' - Successfully downloaded 1 channels (of 1)\n",
            "[2022-03-25 16:15:37,007] - obspy.clients.fdsn.mass_downloader - INFO: Client 'IRIS' - Successfully downloaded 1 channels (of 1)\n",
            "[2022-03-25 16:15:37,012] - obspy.clients.fdsn.mass_downloader - INFO: Client 'IRIS' - Launching basic QC checks...\n",
            "[2022-03-25 16:15:37,012] - obspy.clients.fdsn.mass_downloader - INFO: Client 'IRIS' - Launching basic QC checks...\n",
            "[2022-03-25 16:15:37,086] - obspy.clients.fdsn.mass_downloader - INFO: Client 'IRIS' - Downloaded 35.0 MB [780.18 KB/sec] of data, 0.0 MB of which were discarded afterwards.\n",
            "[2022-03-25 16:15:37,086] - obspy.clients.fdsn.mass_downloader - INFO: Client 'IRIS' - Downloaded 35.0 MB [780.18 KB/sec] of data, 0.0 MB of which were discarded afterwards.\n",
            "[2022-03-25 16:15:37,091] - obspy.clients.fdsn.mass_downloader - INFO: Client 'IRIS' - Status for 3 time intervals/channels after downloading: DOWNLOADED\n",
            "[2022-03-25 16:15:37,091] - obspy.clients.fdsn.mass_downloader - INFO: Client 'IRIS' - Status for 3 time intervals/channels after downloading: DOWNLOADED\n",
            "[2022-03-25 16:15:37,304] - obspy.clients.fdsn.mass_downloader - INFO: Client 'IRIS' - Successfully downloaded 'sample_data/downloads_mseedsxml/KCG/AV.KCG.xml'.\n",
            "[2022-03-25 16:15:37,304] - obspy.clients.fdsn.mass_downloader - INFO: Client 'IRIS' - Successfully downloaded 'sample_data/downloads_mseedsxml/KCG/AV.KCG.xml'.\n",
            "[2022-03-25 16:15:37,311] - obspy.clients.fdsn.mass_downloader - INFO: Client 'IRIS' - Downloaded 1 station files [0.0 MB] in 0.2 seconds [67.32 KB/sec].\n",
            "[2022-03-25 16:15:37,311] - obspy.clients.fdsn.mass_downloader - INFO: Client 'IRIS' - Downloaded 1 station files [0.0 MB] in 0.2 seconds [67.32 KB/sec].\n",
            "[2022-03-25 16:15:37,314] - obspy.clients.fdsn.mass_downloader - INFO: ============================== Final report\n",
            "[2022-03-25 16:15:37,314] - obspy.clients.fdsn.mass_downloader - INFO: ============================== Final report\n",
            "[2022-03-25 16:15:37,318] - obspy.clients.fdsn.mass_downloader - INFO: 0 MiniSEED files [0.0 MB] already existed.\n",
            "[2022-03-25 16:15:37,318] - obspy.clients.fdsn.mass_downloader - INFO: 0 MiniSEED files [0.0 MB] already existed.\n",
            "[2022-03-25 16:15:37,321] - obspy.clients.fdsn.mass_downloader - INFO: 0 StationXML files [0.0 MB] already existed.\n",
            "[2022-03-25 16:15:37,321] - obspy.clients.fdsn.mass_downloader - INFO: 0 StationXML files [0.0 MB] already existed.\n",
            "[2022-03-25 16:15:37,325] - obspy.clients.fdsn.mass_downloader - INFO: Client 'IRIS' - Acquired 3 MiniSEED files [35.0 MB].\n",
            "[2022-03-25 16:15:37,325] - obspy.clients.fdsn.mass_downloader - INFO: Client 'IRIS' - Acquired 3 MiniSEED files [35.0 MB].\n",
            "[2022-03-25 16:15:37,328] - obspy.clients.fdsn.mass_downloader - INFO: Client 'IRIS' - Acquired 1 StationXML files [0.0 MB].\n",
            "[2022-03-25 16:15:37,328] - obspy.clients.fdsn.mass_downloader - INFO: Client 'IRIS' - Acquired 1 StationXML files [0.0 MB].\n",
            "[2022-03-25 16:15:37,332] - obspy.clients.fdsn.mass_downloader - INFO: Downloaded 35.0 MB in total.\n",
            "[2022-03-25 16:15:37,332] - obspy.clients.fdsn.mass_downloader - INFO: Downloaded 35.0 MB in total.\n"
          ]
        },
        {
          "output_type": "stream",
          "name": "stdout",
          "text": [
            "** done with --> KCG -- AV -- 2019-05-27\n"
          ]
        },
        {
          "output_type": "stream",
          "name": "stderr",
          "text": [
            "[2022-03-25 16:15:54,148] - obspy.clients.fdsn.mass_downloader - INFO: Total acquired or preexisting stations: 0\n",
            "[2022-03-25 16:15:54,148] - obspy.clients.fdsn.mass_downloader - INFO: Total acquired or preexisting stations: 0\n",
            "[2022-03-25 16:15:54,151] - obspy.clients.fdsn.mass_downloader - INFO: Client 'IRIS' - Requesting reliable availability.\n",
            "[2022-03-25 16:15:54,151] - obspy.clients.fdsn.mass_downloader - INFO: Client 'IRIS' - Requesting reliable availability.\n"
          ]
        },
        {
          "output_type": "stream",
          "name": "stdout",
          "text": [
            "======= Working on KD02 station.\n"
          ]
        },
        {
          "output_type": "stream",
          "name": "stderr",
          "text": [
            "[2022-03-25 16:15:54,394] - obspy.clients.fdsn.mass_downloader - INFO: Client 'IRIS' - Successfully requested availability (0.24 seconds)\n",
            "[2022-03-25 16:15:54,394] - obspy.clients.fdsn.mass_downloader - INFO: Client 'IRIS' - Successfully requested availability (0.24 seconds)\n",
            "[2022-03-25 16:15:54,404] - obspy.clients.fdsn.mass_downloader - INFO: Client 'IRIS' - Found 1 stations (3 channels).\n",
            "[2022-03-25 16:15:54,404] - obspy.clients.fdsn.mass_downloader - INFO: Client 'IRIS' - Found 1 stations (3 channels).\n",
            "[2022-03-25 16:15:54,410] - obspy.clients.fdsn.mass_downloader - INFO: Client 'IRIS' - Will attempt to download data from 1 stations.\n",
            "[2022-03-25 16:15:54,410] - obspy.clients.fdsn.mass_downloader - INFO: Client 'IRIS' - Will attempt to download data from 1 stations.\n",
            "[2022-03-25 16:15:54,418] - obspy.clients.fdsn.mass_downloader - INFO: Client 'IRIS' - Status for 3 time intervals/channels before downloading: NEEDS_DOWNLOADING\n",
            "[2022-03-25 16:15:54,418] - obspy.clients.fdsn.mass_downloader - INFO: Client 'IRIS' - Status for 3 time intervals/channels before downloading: NEEDS_DOWNLOADING\n",
            "[2022-03-25 16:16:02,381] - obspy.clients.fdsn.mass_downloader - INFO: Total acquired or preexisting stations: 0\n",
            "[2022-03-25 16:16:02,381] - obspy.clients.fdsn.mass_downloader - INFO: Total acquired or preexisting stations: 0\n",
            "[2022-03-25 16:16:02,383] - obspy.clients.fdsn.mass_downloader - INFO: Client 'IRIS' - Requesting reliable availability.\n",
            "[2022-03-25 16:16:02,383] - obspy.clients.fdsn.mass_downloader - INFO: Client 'IRIS' - Requesting reliable availability.\n"
          ]
        },
        {
          "output_type": "stream",
          "name": "stdout",
          "text": [
            "======= Working on Q16K station.\n"
          ]
        },
        {
          "output_type": "stream",
          "name": "stderr",
          "text": [
            "[2022-03-25 16:16:02,735] - obspy.clients.fdsn.mass_downloader - INFO: Client 'IRIS' - Successfully requested availability (0.35 seconds)\n",
            "[2022-03-25 16:16:02,735] - obspy.clients.fdsn.mass_downloader - INFO: Client 'IRIS' - Successfully requested availability (0.35 seconds)\n",
            "[2022-03-25 16:16:02,756] - obspy.clients.fdsn.mass_downloader - INFO: Client 'IRIS' - Found 1 stations (3 channels).\n",
            "[2022-03-25 16:16:02,756] - obspy.clients.fdsn.mass_downloader - INFO: Client 'IRIS' - Found 1 stations (3 channels).\n",
            "[2022-03-25 16:16:02,762] - obspy.clients.fdsn.mass_downloader - INFO: Client 'IRIS' - Will attempt to download data from 1 stations.\n",
            "[2022-03-25 16:16:02,762] - obspy.clients.fdsn.mass_downloader - INFO: Client 'IRIS' - Will attempt to download data from 1 stations.\n",
            "[2022-03-25 16:16:02,770] - obspy.clients.fdsn.mass_downloader - INFO: Client 'IRIS' - Status for 3 time intervals/channels before downloading: NEEDS_DOWNLOADING\n",
            "[2022-03-25 16:16:02,770] - obspy.clients.fdsn.mass_downloader - INFO: Client 'IRIS' - Status for 3 time intervals/channels before downloading: NEEDS_DOWNLOADING\n",
            "[2022-03-25 16:16:17,344] - obspy.clients.fdsn.mass_downloader - INFO: Client 'IRIS' - Successfully downloaded 1 channels (of 1)\n",
            "[2022-03-25 16:16:17,344] - obspy.clients.fdsn.mass_downloader - INFO: Client 'IRIS' - Successfully downloaded 1 channels (of 1)\n",
            "[2022-03-25 16:16:18,661] - obspy.clients.fdsn.mass_downloader - INFO: Client 'IRIS' - Successfully downloaded 1 channels (of 1)\n",
            "[2022-03-25 16:16:18,661] - obspy.clients.fdsn.mass_downloader - INFO: Client 'IRIS' - Successfully downloaded 1 channels (of 1)\n",
            "[2022-03-25 16:16:21,473] - obspy.clients.fdsn.mass_downloader - INFO: Client 'IRIS' - Successfully downloaded 1 channels (of 1)\n",
            "[2022-03-25 16:16:21,473] - obspy.clients.fdsn.mass_downloader - INFO: Client 'IRIS' - Successfully downloaded 1 channels (of 1)\n",
            "[2022-03-25 16:16:21,480] - obspy.clients.fdsn.mass_downloader - INFO: Client 'IRIS' - Launching basic QC checks...\n",
            "[2022-03-25 16:16:21,480] - obspy.clients.fdsn.mass_downloader - INFO: Client 'IRIS' - Launching basic QC checks...\n",
            "[2022-03-25 16:16:21,514] - obspy.clients.fdsn.mass_downloader - INFO: Client 'IRIS' - Downloaded 25.2 MB [955.95 KB/sec] of data, 0.0 MB of which were discarded afterwards.\n",
            "[2022-03-25 16:16:21,514] - obspy.clients.fdsn.mass_downloader - INFO: Client 'IRIS' - Downloaded 25.2 MB [955.95 KB/sec] of data, 0.0 MB of which were discarded afterwards.\n",
            "[2022-03-25 16:16:21,520] - obspy.clients.fdsn.mass_downloader - INFO: Client 'IRIS' - Status for 3 time intervals/channels after downloading: DOWNLOADED\n",
            "[2022-03-25 16:16:21,520] - obspy.clients.fdsn.mass_downloader - INFO: Client 'IRIS' - Status for 3 time intervals/channels after downloading: DOWNLOADED\n",
            "[2022-03-25 16:16:21,747] - obspy.clients.fdsn.mass_downloader - INFO: Client 'IRIS' - Successfully downloaded 'sample_data/downloads_mseedsxml/KD02/XO.KD02.xml'.\n",
            "[2022-03-25 16:16:21,747] - obspy.clients.fdsn.mass_downloader - INFO: Client 'IRIS' - Successfully downloaded 'sample_data/downloads_mseedsxml/KD02/XO.KD02.xml'.\n",
            "[2022-03-25 16:16:21,753] - obspy.clients.fdsn.mass_downloader - INFO: Client 'IRIS' - Downloaded 1 station files [0.0 MB] in 0.2 seconds [151.38 KB/sec].\n",
            "[2022-03-25 16:16:21,753] - obspy.clients.fdsn.mass_downloader - INFO: Client 'IRIS' - Downloaded 1 station files [0.0 MB] in 0.2 seconds [151.38 KB/sec].\n",
            "[2022-03-25 16:16:21,759] - obspy.clients.fdsn.mass_downloader - INFO: ============================== Final report\n",
            "[2022-03-25 16:16:21,759] - obspy.clients.fdsn.mass_downloader - INFO: ============================== Final report\n",
            "[2022-03-25 16:16:21,762] - obspy.clients.fdsn.mass_downloader - INFO: 0 MiniSEED files [0.0 MB] already existed.\n",
            "[2022-03-25 16:16:21,762] - obspy.clients.fdsn.mass_downloader - INFO: 0 MiniSEED files [0.0 MB] already existed.\n",
            "[2022-03-25 16:16:21,766] - obspy.clients.fdsn.mass_downloader - INFO: 0 StationXML files [0.0 MB] already existed.\n",
            "[2022-03-25 16:16:21,766] - obspy.clients.fdsn.mass_downloader - INFO: 0 StationXML files [0.0 MB] already existed.\n",
            "[2022-03-25 16:16:21,774] - obspy.clients.fdsn.mass_downloader - INFO: Client 'IRIS' - Acquired 3 MiniSEED files [25.2 MB].\n",
            "[2022-03-25 16:16:21,774] - obspy.clients.fdsn.mass_downloader - INFO: Client 'IRIS' - Acquired 3 MiniSEED files [25.2 MB].\n",
            "[2022-03-25 16:16:21,778] - obspy.clients.fdsn.mass_downloader - INFO: Client 'IRIS' - Acquired 1 StationXML files [0.0 MB].\n",
            "[2022-03-25 16:16:21,778] - obspy.clients.fdsn.mass_downloader - INFO: Client 'IRIS' - Acquired 1 StationXML files [0.0 MB].\n",
            "[2022-03-25 16:16:21,782] - obspy.clients.fdsn.mass_downloader - INFO: Downloaded 25.3 MB in total.\n",
            "[2022-03-25 16:16:21,782] - obspy.clients.fdsn.mass_downloader - INFO: Downloaded 25.3 MB in total.\n"
          ]
        },
        {
          "output_type": "stream",
          "name": "stdout",
          "text": [
            "** done with --> KD02 -- XO -- 2019-05-27\n"
          ]
        },
        {
          "output_type": "stream",
          "name": "stderr",
          "text": [
            "[2022-03-25 16:16:48,941] - obspy.clients.fdsn.mass_downloader - INFO: Client 'IRIS' - Successfully downloaded 3 channels (of 3)\n",
            "[2022-03-25 16:16:48,941] - obspy.clients.fdsn.mass_downloader - INFO: Client 'IRIS' - Successfully downloaded 3 channels (of 3)\n",
            "[2022-03-25 16:16:48,947] - obspy.clients.fdsn.mass_downloader - INFO: Client 'IRIS' - Launching basic QC checks...\n",
            "[2022-03-25 16:16:48,947] - obspy.clients.fdsn.mass_downloader - INFO: Client 'IRIS' - Launching basic QC checks...\n",
            "[2022-03-25 16:16:48,974] - obspy.clients.fdsn.mass_downloader - INFO: Client 'IRIS' - Downloaded 16.1 MB [357.65 KB/sec] of data, 0.0 MB of which were discarded afterwards.\n",
            "[2022-03-25 16:16:48,974] - obspy.clients.fdsn.mass_downloader - INFO: Client 'IRIS' - Downloaded 16.1 MB [357.65 KB/sec] of data, 0.0 MB of which were discarded afterwards.\n",
            "[2022-03-25 16:16:48,978] - obspy.clients.fdsn.mass_downloader - INFO: Client 'IRIS' - Status for 3 time intervals/channels after downloading: DOWNLOADED\n",
            "[2022-03-25 16:16:48,978] - obspy.clients.fdsn.mass_downloader - INFO: Client 'IRIS' - Status for 3 time intervals/channels after downloading: DOWNLOADED\n",
            "[2022-03-25 16:16:49,235] - obspy.clients.fdsn.mass_downloader - INFO: Client 'IRIS' - Successfully downloaded 'sample_data/downloads_mseedsxml/Q16K/TA.Q16K.xml'.\n",
            "[2022-03-25 16:16:49,235] - obspy.clients.fdsn.mass_downloader - INFO: Client 'IRIS' - Successfully downloaded 'sample_data/downloads_mseedsxml/Q16K/TA.Q16K.xml'.\n",
            "[2022-03-25 16:16:49,242] - obspy.clients.fdsn.mass_downloader - INFO: Client 'IRIS' - Downloaded 1 station files [0.0 MB] in 0.3 seconds [94.38 KB/sec].\n",
            "[2022-03-25 16:16:49,242] - obspy.clients.fdsn.mass_downloader - INFO: Client 'IRIS' - Downloaded 1 station files [0.0 MB] in 0.3 seconds [94.38 KB/sec].\n",
            "[2022-03-25 16:16:49,248] - obspy.clients.fdsn.mass_downloader - INFO: ============================== Final report\n",
            "[2022-03-25 16:16:49,248] - obspy.clients.fdsn.mass_downloader - INFO: ============================== Final report\n",
            "[2022-03-25 16:16:49,253] - obspy.clients.fdsn.mass_downloader - INFO: 0 MiniSEED files [0.0 MB] already existed.\n",
            "[2022-03-25 16:16:49,253] - obspy.clients.fdsn.mass_downloader - INFO: 0 MiniSEED files [0.0 MB] already existed.\n",
            "[2022-03-25 16:16:49,258] - obspy.clients.fdsn.mass_downloader - INFO: 0 StationXML files [0.0 MB] already existed.\n",
            "[2022-03-25 16:16:49,258] - obspy.clients.fdsn.mass_downloader - INFO: 0 StationXML files [0.0 MB] already existed.\n",
            "[2022-03-25 16:16:49,265] - obspy.clients.fdsn.mass_downloader - INFO: Client 'IRIS' - Acquired 3 MiniSEED files [16.1 MB].\n",
            "[2022-03-25 16:16:49,265] - obspy.clients.fdsn.mass_downloader - INFO: Client 'IRIS' - Acquired 3 MiniSEED files [16.1 MB].\n",
            "[2022-03-25 16:16:49,269] - obspy.clients.fdsn.mass_downloader - INFO: Client 'IRIS' - Acquired 1 StationXML files [0.0 MB].\n",
            "[2022-03-25 16:16:49,269] - obspy.clients.fdsn.mass_downloader - INFO: Client 'IRIS' - Acquired 1 StationXML files [0.0 MB].\n",
            "[2022-03-25 16:16:49,274] - obspy.clients.fdsn.mass_downloader - INFO: Downloaded 16.1 MB in total.\n",
            "[2022-03-25 16:16:49,274] - obspy.clients.fdsn.mass_downloader - INFO: Downloaded 16.1 MB in total.\n"
          ]
        },
        {
          "output_type": "stream",
          "name": "stdout",
          "text": [
            "** done with --> Q16K -- TA -- 2019-05-27\n"
          ]
        },
        {
          "output_type": "stream",
          "name": "stderr",
          "text": [
            "[2022-03-25 16:16:49,813] - obspy.clients.fdsn.mass_downloader - INFO: Total acquired or preexisting stations: 0\n",
            "[2022-03-25 16:16:49,813] - obspy.clients.fdsn.mass_downloader - INFO: Total acquired or preexisting stations: 0\n",
            "[2022-03-25 16:16:49,816] - obspy.clients.fdsn.mass_downloader - INFO: Client 'IRIS' - Requesting reliable availability.\n",
            "[2022-03-25 16:16:49,816] - obspy.clients.fdsn.mass_downloader - INFO: Client 'IRIS' - Requesting reliable availability.\n",
            "[2022-03-25 16:16:49,927] - obspy.clients.fdsn.mass_downloader - INFO: Client 'IRIS' - Successfully requested availability (0.10 seconds)\n",
            "[2022-03-25 16:16:49,927] - obspy.clients.fdsn.mass_downloader - INFO: Client 'IRIS' - Successfully requested availability (0.10 seconds)\n",
            "[2022-03-25 16:16:49,932] - obspy.clients.fdsn.mass_downloader - INFO: Client 'IRIS' - Found 1 stations (3 channels).\n",
            "[2022-03-25 16:16:49,932] - obspy.clients.fdsn.mass_downloader - INFO: Client 'IRIS' - Found 1 stations (3 channels).\n",
            "[2022-03-25 16:16:49,937] - obspy.clients.fdsn.mass_downloader - INFO: Client 'IRIS' - Will attempt to download data from 1 stations.\n",
            "[2022-03-25 16:16:49,937] - obspy.clients.fdsn.mass_downloader - INFO: Client 'IRIS' - Will attempt to download data from 1 stations.\n",
            "[2022-03-25 16:16:49,942] - obspy.clients.fdsn.mass_downloader - INFO: Client 'IRIS' - Status for 3 time intervals/channels before downloading: NEEDS_DOWNLOADING\n",
            "[2022-03-25 16:16:49,942] - obspy.clients.fdsn.mass_downloader - INFO: Client 'IRIS' - Status for 3 time intervals/channels before downloading: NEEDS_DOWNLOADING\n"
          ]
        },
        {
          "output_type": "stream",
          "name": "stdout",
          "text": [
            "======= Working on LA21 station.\n"
          ]
        },
        {
          "output_type": "stream",
          "name": "stderr",
          "text": [
            "[2022-03-25 16:17:04,991] - obspy.clients.fdsn.mass_downloader - INFO: Client 'IRIS' - Successfully downloaded 1 channels (of 1)\n",
            "[2022-03-25 16:17:04,991] - obspy.clients.fdsn.mass_downloader - INFO: Client 'IRIS' - Successfully downloaded 1 channels (of 1)\n",
            "[2022-03-25 16:17:07,296] - obspy.clients.fdsn.mass_downloader - INFO: Client 'IRIS' - Successfully downloaded 1 channels (of 1)\n",
            "[2022-03-25 16:17:07,296] - obspy.clients.fdsn.mass_downloader - INFO: Client 'IRIS' - Successfully downloaded 1 channels (of 1)\n",
            "[2022-03-25 16:17:10,248] - obspy.clients.fdsn.mass_downloader - INFO: Client 'IRIS' - Successfully downloaded 1 channels (of 1)\n",
            "[2022-03-25 16:17:10,248] - obspy.clients.fdsn.mass_downloader - INFO: Client 'IRIS' - Successfully downloaded 1 channels (of 1)\n",
            "[2022-03-25 16:17:10,256] - obspy.clients.fdsn.mass_downloader - INFO: Client 'IRIS' - Launching basic QC checks...\n",
            "[2022-03-25 16:17:10,256] - obspy.clients.fdsn.mass_downloader - INFO: Client 'IRIS' - Launching basic QC checks...\n",
            "[2022-03-25 16:17:10,283] - obspy.clients.fdsn.mass_downloader - INFO: Client 'IRIS' - Downloaded 17.6 MB [887.81 KB/sec] of data, 0.0 MB of which were discarded afterwards.\n",
            "[2022-03-25 16:17:10,283] - obspy.clients.fdsn.mass_downloader - INFO: Client 'IRIS' - Downloaded 17.6 MB [887.81 KB/sec] of data, 0.0 MB of which were discarded afterwards.\n",
            "[2022-03-25 16:17:10,291] - obspy.clients.fdsn.mass_downloader - INFO: Client 'IRIS' - Status for 3 time intervals/channels after downloading: DOWNLOADED\n",
            "[2022-03-25 16:17:10,291] - obspy.clients.fdsn.mass_downloader - INFO: Client 'IRIS' - Status for 3 time intervals/channels after downloading: DOWNLOADED\n",
            "[2022-03-25 16:17:10,515] - obspy.clients.fdsn.mass_downloader - INFO: Client 'IRIS' - Successfully downloaded 'sample_data/downloads_mseedsxml/LA21/XO.LA21.xml'.\n",
            "[2022-03-25 16:17:10,515] - obspy.clients.fdsn.mass_downloader - INFO: Client 'IRIS' - Successfully downloaded 'sample_data/downloads_mseedsxml/LA21/XO.LA21.xml'.\n",
            "[2022-03-25 16:17:10,523] - obspy.clients.fdsn.mass_downloader - INFO: Client 'IRIS' - Downloaded 1 station files [0.0 MB] in 0.2 seconds [75.47 KB/sec].\n",
            "[2022-03-25 16:17:10,523] - obspy.clients.fdsn.mass_downloader - INFO: Client 'IRIS' - Downloaded 1 station files [0.0 MB] in 0.2 seconds [75.47 KB/sec].\n",
            "[2022-03-25 16:17:10,526] - obspy.clients.fdsn.mass_downloader - INFO: ============================== Final report\n",
            "[2022-03-25 16:17:10,526] - obspy.clients.fdsn.mass_downloader - INFO: ============================== Final report\n",
            "[2022-03-25 16:17:10,530] - obspy.clients.fdsn.mass_downloader - INFO: 0 MiniSEED files [0.0 MB] already existed.\n",
            "[2022-03-25 16:17:10,530] - obspy.clients.fdsn.mass_downloader - INFO: 0 MiniSEED files [0.0 MB] already existed.\n",
            "[2022-03-25 16:17:10,533] - obspy.clients.fdsn.mass_downloader - INFO: 0 StationXML files [0.0 MB] already existed.\n",
            "[2022-03-25 16:17:10,533] - obspy.clients.fdsn.mass_downloader - INFO: 0 StationXML files [0.0 MB] already existed.\n",
            "[2022-03-25 16:17:10,537] - obspy.clients.fdsn.mass_downloader - INFO: Client 'IRIS' - Acquired 3 MiniSEED files [17.6 MB].\n",
            "[2022-03-25 16:17:10,537] - obspy.clients.fdsn.mass_downloader - INFO: Client 'IRIS' - Acquired 3 MiniSEED files [17.6 MB].\n",
            "[2022-03-25 16:17:10,540] - obspy.clients.fdsn.mass_downloader - INFO: Client 'IRIS' - Acquired 1 StationXML files [0.0 MB].\n",
            "[2022-03-25 16:17:10,540] - obspy.clients.fdsn.mass_downloader - INFO: Client 'IRIS' - Acquired 1 StationXML files [0.0 MB].\n",
            "[2022-03-25 16:17:10,544] - obspy.clients.fdsn.mass_downloader - INFO: Downloaded 17.6 MB in total.\n",
            "[2022-03-25 16:17:10,544] - obspy.clients.fdsn.mass_downloader - INFO: Downloaded 17.6 MB in total.\n"
          ]
        },
        {
          "output_type": "stream",
          "name": "stdout",
          "text": [
            "** done with --> LA21 -- XO -- 2019-05-27\n"
          ]
        },
        {
          "output_type": "stream",
          "name": "stderr",
          "text": [
            "[2022-03-25 16:17:14,300] - obspy.clients.fdsn.mass_downloader - INFO: Total acquired or preexisting stations: 0\n",
            "[2022-03-25 16:17:14,300] - obspy.clients.fdsn.mass_downloader - INFO: Total acquired or preexisting stations: 0\n",
            "[2022-03-25 16:17:14,303] - obspy.clients.fdsn.mass_downloader - INFO: Client 'IRIS' - Requesting reliable availability.\n",
            "[2022-03-25 16:17:14,303] - obspy.clients.fdsn.mass_downloader - INFO: Client 'IRIS' - Requesting reliable availability.\n"
          ]
        },
        {
          "output_type": "stream",
          "name": "stdout",
          "text": [
            "======= Working on R17L station.\n"
          ]
        },
        {
          "output_type": "stream",
          "name": "stderr",
          "text": [
            "[2022-03-25 16:17:14,603] - obspy.clients.fdsn.mass_downloader - INFO: Client 'IRIS' - Successfully requested availability (0.30 seconds)\n",
            "[2022-03-25 16:17:14,603] - obspy.clients.fdsn.mass_downloader - INFO: Client 'IRIS' - Successfully requested availability (0.30 seconds)\n",
            "[2022-03-25 16:17:14,634] - obspy.clients.fdsn.mass_downloader - INFO: Client 'IRIS' - Found 1 stations (3 channels).\n",
            "[2022-03-25 16:17:14,634] - obspy.clients.fdsn.mass_downloader - INFO: Client 'IRIS' - Found 1 stations (3 channels).\n",
            "[2022-03-25 16:17:14,637] - obspy.clients.fdsn.mass_downloader - INFO: Client 'IRIS' - Will attempt to download data from 1 stations.\n",
            "[2022-03-25 16:17:14,637] - obspy.clients.fdsn.mass_downloader - INFO: Client 'IRIS' - Will attempt to download data from 1 stations.\n",
            "[2022-03-25 16:17:14,649] - obspy.clients.fdsn.mass_downloader - INFO: Client 'IRIS' - Status for 3 time intervals/channels before downloading: NEEDS_DOWNLOADING\n",
            "[2022-03-25 16:17:14,649] - obspy.clients.fdsn.mass_downloader - INFO: Client 'IRIS' - Status for 3 time intervals/channels before downloading: NEEDS_DOWNLOADING\n",
            "[2022-03-25 16:17:38,561] - obspy.clients.fdsn.mass_downloader - INFO: Total acquired or preexisting stations: 0\n",
            "[2022-03-25 16:17:38,561] - obspy.clients.fdsn.mass_downloader - INFO: Total acquired or preexisting stations: 0\n",
            "[2022-03-25 16:17:38,564] - obspy.clients.fdsn.mass_downloader - INFO: Client 'IRIS' - Requesting reliable availability.\n",
            "[2022-03-25 16:17:38,564] - obspy.clients.fdsn.mass_downloader - INFO: Client 'IRIS' - Requesting reliable availability.\n"
          ]
        },
        {
          "output_type": "stream",
          "name": "stdout",
          "text": [
            "======= Working on WD53 station.\n"
          ]
        },
        {
          "output_type": "stream",
          "name": "stderr",
          "text": [
            "[2022-03-25 16:17:38,816] - obspy.clients.fdsn.mass_downloader - INFO: Client 'IRIS' - Successfully requested availability (0.25 seconds)\n",
            "[2022-03-25 16:17:38,816] - obspy.clients.fdsn.mass_downloader - INFO: Client 'IRIS' - Successfully requested availability (0.25 seconds)\n",
            "[2022-03-25 16:17:38,831] - obspy.clients.fdsn.mass_downloader - INFO: Client 'IRIS' - Found 1 stations (3 channels).\n",
            "[2022-03-25 16:17:38,831] - obspy.clients.fdsn.mass_downloader - INFO: Client 'IRIS' - Found 1 stations (3 channels).\n",
            "[2022-03-25 16:17:38,838] - obspy.clients.fdsn.mass_downloader - INFO: Client 'IRIS' - Will attempt to download data from 1 stations.\n",
            "[2022-03-25 16:17:38,838] - obspy.clients.fdsn.mass_downloader - INFO: Client 'IRIS' - Will attempt to download data from 1 stations.\n",
            "[2022-03-25 16:17:38,844] - obspy.clients.fdsn.mass_downloader - INFO: Client 'IRIS' - Status for 3 time intervals/channels before downloading: NEEDS_DOWNLOADING\n",
            "[2022-03-25 16:17:38,844] - obspy.clients.fdsn.mass_downloader - INFO: Client 'IRIS' - Status for 3 time intervals/channels before downloading: NEEDS_DOWNLOADING\n",
            "[2022-03-25 16:17:42,060] - obspy.clients.fdsn.mass_downloader - INFO: Client 'IRIS' - Successfully downloaded 3 channels (of 3)\n",
            "[2022-03-25 16:17:42,060] - obspy.clients.fdsn.mass_downloader - INFO: Client 'IRIS' - Successfully downloaded 3 channels (of 3)\n",
            "[2022-03-25 16:17:42,069] - obspy.clients.fdsn.mass_downloader - INFO: Client 'IRIS' - Launching basic QC checks...\n",
            "[2022-03-25 16:17:42,069] - obspy.clients.fdsn.mass_downloader - INFO: Client 'IRIS' - Launching basic QC checks...\n",
            "[2022-03-25 16:17:42,092] - obspy.clients.fdsn.mass_downloader - INFO: Client 'IRIS' - Downloaded 9.2 MB [343.42 KB/sec] of data, 0.0 MB of which were discarded afterwards.\n",
            "[2022-03-25 16:17:42,092] - obspy.clients.fdsn.mass_downloader - INFO: Client 'IRIS' - Downloaded 9.2 MB [343.42 KB/sec] of data, 0.0 MB of which were discarded afterwards.\n",
            "[2022-03-25 16:17:42,098] - obspy.clients.fdsn.mass_downloader - INFO: Client 'IRIS' - Status for 3 time intervals/channels after downloading: DOWNLOADED\n",
            "[2022-03-25 16:17:42,098] - obspy.clients.fdsn.mass_downloader - INFO: Client 'IRIS' - Status for 3 time intervals/channels after downloading: DOWNLOADED\n",
            "[2022-03-25 16:17:42,218] - obspy.clients.fdsn.mass_downloader - INFO: Client 'IRIS' - Successfully downloaded 'sample_data/downloads_mseedsxml/R17L/TA.R17L.xml'.\n",
            "[2022-03-25 16:17:42,218] - obspy.clients.fdsn.mass_downloader - INFO: Client 'IRIS' - Successfully downloaded 'sample_data/downloads_mseedsxml/R17L/TA.R17L.xml'.\n",
            "[2022-03-25 16:17:42,231] - obspy.clients.fdsn.mass_downloader - INFO: Client 'IRIS' - Downloaded 1 station files [0.0 MB] in 0.1 seconds [201.79 KB/sec].\n",
            "[2022-03-25 16:17:42,231] - obspy.clients.fdsn.mass_downloader - INFO: Client 'IRIS' - Downloaded 1 station files [0.0 MB] in 0.1 seconds [201.79 KB/sec].\n",
            "[2022-03-25 16:17:42,236] - obspy.clients.fdsn.mass_downloader - INFO: ============================== Final report\n",
            "[2022-03-25 16:17:42,236] - obspy.clients.fdsn.mass_downloader - INFO: ============================== Final report\n",
            "[2022-03-25 16:17:42,244] - obspy.clients.fdsn.mass_downloader - INFO: 0 MiniSEED files [0.0 MB] already existed.\n",
            "[2022-03-25 16:17:42,244] - obspy.clients.fdsn.mass_downloader - INFO: 0 MiniSEED files [0.0 MB] already existed.\n",
            "[2022-03-25 16:17:42,253] - obspy.clients.fdsn.mass_downloader - INFO: 0 StationXML files [0.0 MB] already existed.\n",
            "[2022-03-25 16:17:42,253] - obspy.clients.fdsn.mass_downloader - INFO: 0 StationXML files [0.0 MB] already existed.\n",
            "[2022-03-25 16:17:42,257] - obspy.clients.fdsn.mass_downloader - INFO: Client 'IRIS' - Acquired 3 MiniSEED files [9.2 MB].\n",
            "[2022-03-25 16:17:42,257] - obspy.clients.fdsn.mass_downloader - INFO: Client 'IRIS' - Acquired 3 MiniSEED files [9.2 MB].\n",
            "[2022-03-25 16:17:42,261] - obspy.clients.fdsn.mass_downloader - INFO: Client 'IRIS' - Acquired 1 StationXML files [0.0 MB].\n",
            "[2022-03-25 16:17:42,261] - obspy.clients.fdsn.mass_downloader - INFO: Client 'IRIS' - Acquired 1 StationXML files [0.0 MB].\n",
            "[2022-03-25 16:17:42,263] - obspy.clients.fdsn.mass_downloader - INFO: Downloaded 9.2 MB in total.\n",
            "[2022-03-25 16:17:42,263] - obspy.clients.fdsn.mass_downloader - INFO: Downloaded 9.2 MB in total.\n"
          ]
        },
        {
          "output_type": "stream",
          "name": "stdout",
          "text": [
            "** done with --> R17L -- TA -- 2019-05-27\n"
          ]
        },
        {
          "output_type": "stream",
          "name": "stderr",
          "text": [
            "[2022-03-25 16:18:02,238] - obspy.clients.fdsn.mass_downloader - INFO: Client 'IRIS' - Successfully downloaded 1 channels (of 1)\n",
            "[2022-03-25 16:18:02,238] - obspy.clients.fdsn.mass_downloader - INFO: Client 'IRIS' - Successfully downloaded 1 channels (of 1)\n",
            "[2022-03-25 16:18:06,853] - obspy.clients.fdsn.mass_downloader - INFO: Client 'IRIS' - Successfully downloaded 1 channels (of 1)\n",
            "[2022-03-25 16:18:06,853] - obspy.clients.fdsn.mass_downloader - INFO: Client 'IRIS' - Successfully downloaded 1 channels (of 1)\n",
            "[2022-03-25 16:18:08,647] - obspy.clients.fdsn.mass_downloader - INFO: Client 'IRIS' - Successfully downloaded 1 channels (of 1)\n",
            "[2022-03-25 16:18:08,647] - obspy.clients.fdsn.mass_downloader - INFO: Client 'IRIS' - Successfully downloaded 1 channels (of 1)\n",
            "[2022-03-25 16:18:08,657] - obspy.clients.fdsn.mass_downloader - INFO: Client 'IRIS' - Launching basic QC checks...\n",
            "[2022-03-25 16:18:08,657] - obspy.clients.fdsn.mass_downloader - INFO: Client 'IRIS' - Launching basic QC checks...\n",
            "[2022-03-25 16:18:08,689] - obspy.clients.fdsn.mass_downloader - INFO: Client 'IRIS' - Downloaded 27.8 MB [953.76 KB/sec] of data, 0.0 MB of which were discarded afterwards.\n",
            "[2022-03-25 16:18:08,689] - obspy.clients.fdsn.mass_downloader - INFO: Client 'IRIS' - Downloaded 27.8 MB [953.76 KB/sec] of data, 0.0 MB of which were discarded afterwards.\n",
            "[2022-03-25 16:18:08,693] - obspy.clients.fdsn.mass_downloader - INFO: Client 'IRIS' - Status for 3 time intervals/channels after downloading: DOWNLOADED\n",
            "[2022-03-25 16:18:08,693] - obspy.clients.fdsn.mass_downloader - INFO: Client 'IRIS' - Status for 3 time intervals/channels after downloading: DOWNLOADED\n",
            "[2022-03-25 16:18:08,897] - obspy.clients.fdsn.mass_downloader - INFO: Client 'IRIS' - Successfully downloaded 'sample_data/downloads_mseedsxml/WD53/XO.WD53.xml'.\n",
            "[2022-03-25 16:18:08,897] - obspy.clients.fdsn.mass_downloader - INFO: Client 'IRIS' - Successfully downloaded 'sample_data/downloads_mseedsxml/WD53/XO.WD53.xml'.\n",
            "[2022-03-25 16:18:08,910] - obspy.clients.fdsn.mass_downloader - INFO: Client 'IRIS' - Downloaded 1 station files [0.0 MB] in 0.2 seconds [136.09 KB/sec].\n",
            "[2022-03-25 16:18:08,910] - obspy.clients.fdsn.mass_downloader - INFO: Client 'IRIS' - Downloaded 1 station files [0.0 MB] in 0.2 seconds [136.09 KB/sec].\n",
            "[2022-03-25 16:18:08,919] - obspy.clients.fdsn.mass_downloader - INFO: ============================== Final report\n",
            "[2022-03-25 16:18:08,919] - obspy.clients.fdsn.mass_downloader - INFO: ============================== Final report\n",
            "[2022-03-25 16:18:08,929] - obspy.clients.fdsn.mass_downloader - INFO: 0 MiniSEED files [0.0 MB] already existed.\n",
            "[2022-03-25 16:18:08,929] - obspy.clients.fdsn.mass_downloader - INFO: 0 MiniSEED files [0.0 MB] already existed.\n",
            "[2022-03-25 16:18:08,933] - obspy.clients.fdsn.mass_downloader - INFO: 0 StationXML files [0.0 MB] already existed.\n",
            "[2022-03-25 16:18:08,933] - obspy.clients.fdsn.mass_downloader - INFO: 0 StationXML files [0.0 MB] already existed.\n",
            "[2022-03-25 16:18:08,942] - obspy.clients.fdsn.mass_downloader - INFO: Client 'IRIS' - Acquired 3 MiniSEED files [27.8 MB].\n",
            "[2022-03-25 16:18:08,942] - obspy.clients.fdsn.mass_downloader - INFO: Client 'IRIS' - Acquired 3 MiniSEED files [27.8 MB].\n",
            "[2022-03-25 16:18:08,947] - obspy.clients.fdsn.mass_downloader - INFO: Client 'IRIS' - Acquired 1 StationXML files [0.0 MB].\n",
            "[2022-03-25 16:18:08,947] - obspy.clients.fdsn.mass_downloader - INFO: Client 'IRIS' - Acquired 1 StationXML files [0.0 MB].\n",
            "[2022-03-25 16:18:08,950] - obspy.clients.fdsn.mass_downloader - INFO: Downloaded 27.8 MB in total.\n",
            "[2022-03-25 16:18:08,950] - obspy.clients.fdsn.mass_downloader - INFO: Downloaded 27.8 MB in total.\n"
          ]
        },
        {
          "output_type": "stream",
          "name": "stdout",
          "text": [
            "** done with --> WD53 -- XO -- 2019-05-27\n"
          ]
        },
        {
          "output_type": "stream",
          "name": "stderr",
          "text": [
            "[2022-03-25 16:18:11,296] - obspy.clients.fdsn.mass_downloader - INFO: Total acquired or preexisting stations: 0\n",
            "[2022-03-25 16:18:11,296] - obspy.clients.fdsn.mass_downloader - INFO: Total acquired or preexisting stations: 0\n",
            "[2022-03-25 16:18:11,300] - obspy.clients.fdsn.mass_downloader - INFO: Client 'IRIS' - Requesting reliable availability.\n",
            "[2022-03-25 16:18:11,300] - obspy.clients.fdsn.mass_downloader - INFO: Client 'IRIS' - Requesting reliable availability.\n"
          ]
        },
        {
          "output_type": "stream",
          "name": "stdout",
          "text": [
            "======= Working on R18K station.\n"
          ]
        },
        {
          "output_type": "stream",
          "name": "stderr",
          "text": [
            "[2022-03-25 16:18:11,540] - obspy.clients.fdsn.mass_downloader - INFO: Client 'IRIS' - Successfully requested availability (0.24 seconds)\n",
            "[2022-03-25 16:18:11,540] - obspy.clients.fdsn.mass_downloader - INFO: Client 'IRIS' - Successfully requested availability (0.24 seconds)\n",
            "[2022-03-25 16:18:11,565] - obspy.clients.fdsn.mass_downloader - INFO: Client 'IRIS' - Found 1 stations (3 channels).\n",
            "[2022-03-25 16:18:11,565] - obspy.clients.fdsn.mass_downloader - INFO: Client 'IRIS' - Found 1 stations (3 channels).\n",
            "[2022-03-25 16:18:11,572] - obspy.clients.fdsn.mass_downloader - INFO: Client 'IRIS' - Will attempt to download data from 1 stations.\n",
            "[2022-03-25 16:18:11,572] - obspy.clients.fdsn.mass_downloader - INFO: Client 'IRIS' - Will attempt to download data from 1 stations.\n",
            "[2022-03-25 16:18:11,578] - obspy.clients.fdsn.mass_downloader - INFO: Client 'IRIS' - Status for 3 time intervals/channels before downloading: NEEDS_DOWNLOADING\n",
            "[2022-03-25 16:18:11,578] - obspy.clients.fdsn.mass_downloader - INFO: Client 'IRIS' - Status for 3 time intervals/channels before downloading: NEEDS_DOWNLOADING\n",
            "[2022-03-25 16:18:35,961] - obspy.clients.fdsn.mass_downloader - INFO: Total acquired or preexisting stations: 0\n",
            "[2022-03-25 16:18:35,961] - obspy.clients.fdsn.mass_downloader - INFO: Total acquired or preexisting stations: 0\n",
            "[2022-03-25 16:18:35,964] - obspy.clients.fdsn.mass_downloader - INFO: Client 'IRIS' - Requesting reliable availability.\n",
            "[2022-03-25 16:18:35,964] - obspy.clients.fdsn.mass_downloader - INFO: Client 'IRIS' - Requesting reliable availability.\n"
          ]
        },
        {
          "output_type": "stream",
          "name": "stdout",
          "text": [
            "======= Working on WD55 station.\n"
          ]
        },
        {
          "output_type": "stream",
          "name": "stderr",
          "text": [
            "[2022-03-25 16:18:36,219] - obspy.clients.fdsn.mass_downloader - INFO: Client 'IRIS' - Successfully requested availability (0.25 seconds)\n",
            "[2022-03-25 16:18:36,219] - obspy.clients.fdsn.mass_downloader - INFO: Client 'IRIS' - Successfully requested availability (0.25 seconds)\n",
            "[2022-03-25 16:18:36,235] - obspy.clients.fdsn.mass_downloader - INFO: Client 'IRIS' - Found 1 stations (3 channels).\n",
            "[2022-03-25 16:18:36,235] - obspy.clients.fdsn.mass_downloader - INFO: Client 'IRIS' - Found 1 stations (3 channels).\n",
            "[2022-03-25 16:18:36,241] - obspy.clients.fdsn.mass_downloader - INFO: Client 'IRIS' - Will attempt to download data from 1 stations.\n",
            "[2022-03-25 16:18:36,241] - obspy.clients.fdsn.mass_downloader - INFO: Client 'IRIS' - Will attempt to download data from 1 stations.\n",
            "[2022-03-25 16:18:36,248] - obspy.clients.fdsn.mass_downloader - INFO: Client 'IRIS' - Status for 3 time intervals/channels before downloading: NEEDS_DOWNLOADING\n",
            "[2022-03-25 16:18:36,248] - obspy.clients.fdsn.mass_downloader - INFO: Client 'IRIS' - Status for 3 time intervals/channels before downloading: NEEDS_DOWNLOADING\n",
            "[2022-03-25 16:18:43,972] - obspy.clients.fdsn.mass_downloader - INFO: Client 'IRIS' - Successfully downloaded 3 channels (of 3)\n",
            "[2022-03-25 16:18:43,972] - obspy.clients.fdsn.mass_downloader - INFO: Client 'IRIS' - Successfully downloaded 3 channels (of 3)\n",
            "[2022-03-25 16:18:43,980] - obspy.clients.fdsn.mass_downloader - INFO: Client 'IRIS' - Launching basic QC checks...\n",
            "[2022-03-25 16:18:43,980] - obspy.clients.fdsn.mass_downloader - INFO: Client 'IRIS' - Launching basic QC checks...\n",
            "[2022-03-25 16:18:44,012] - obspy.clients.fdsn.mass_downloader - INFO: Client 'IRIS' - Downloaded 10.9 MB [344.09 KB/sec] of data, 0.0 MB of which were discarded afterwards.\n",
            "[2022-03-25 16:18:44,012] - obspy.clients.fdsn.mass_downloader - INFO: Client 'IRIS' - Downloaded 10.9 MB [344.09 KB/sec] of data, 0.0 MB of which were discarded afterwards.\n",
            "[2022-03-25 16:18:44,015] - obspy.clients.fdsn.mass_downloader - INFO: Client 'IRIS' - Status for 3 time intervals/channels after downloading: DOWNLOADED\n",
            "[2022-03-25 16:18:44,015] - obspy.clients.fdsn.mass_downloader - INFO: Client 'IRIS' - Status for 3 time intervals/channels after downloading: DOWNLOADED\n",
            "[2022-03-25 16:18:44,215] - obspy.clients.fdsn.mass_downloader - INFO: Client 'IRIS' - Successfully downloaded 'sample_data/downloads_mseedsxml/R18K/TA.R18K.xml'.\n",
            "[2022-03-25 16:18:44,215] - obspy.clients.fdsn.mass_downloader - INFO: Client 'IRIS' - Successfully downloaded 'sample_data/downloads_mseedsxml/R18K/TA.R18K.xml'.\n",
            "[2022-03-25 16:18:44,227] - obspy.clients.fdsn.mass_downloader - INFO: Client 'IRIS' - Downloaded 1 station files [0.0 MB] in 0.2 seconds [134.25 KB/sec].\n",
            "[2022-03-25 16:18:44,227] - obspy.clients.fdsn.mass_downloader - INFO: Client 'IRIS' - Downloaded 1 station files [0.0 MB] in 0.2 seconds [134.25 KB/sec].\n",
            "[2022-03-25 16:18:44,229] - obspy.clients.fdsn.mass_downloader - INFO: ============================== Final report\n",
            "[2022-03-25 16:18:44,229] - obspy.clients.fdsn.mass_downloader - INFO: ============================== Final report\n",
            "[2022-03-25 16:18:44,233] - obspy.clients.fdsn.mass_downloader - INFO: 0 MiniSEED files [0.0 MB] already existed.\n",
            "[2022-03-25 16:18:44,233] - obspy.clients.fdsn.mass_downloader - INFO: 0 MiniSEED files [0.0 MB] already existed.\n",
            "[2022-03-25 16:18:44,239] - obspy.clients.fdsn.mass_downloader - INFO: 0 StationXML files [0.0 MB] already existed.\n",
            "[2022-03-25 16:18:44,239] - obspy.clients.fdsn.mass_downloader - INFO: 0 StationXML files [0.0 MB] already existed.\n",
            "[2022-03-25 16:18:44,245] - obspy.clients.fdsn.mass_downloader - INFO: Client 'IRIS' - Acquired 3 MiniSEED files [10.9 MB].\n",
            "[2022-03-25 16:18:44,245] - obspy.clients.fdsn.mass_downloader - INFO: Client 'IRIS' - Acquired 3 MiniSEED files [10.9 MB].\n",
            "[2022-03-25 16:18:44,250] - obspy.clients.fdsn.mass_downloader - INFO: Client 'IRIS' - Acquired 1 StationXML files [0.0 MB].\n",
            "[2022-03-25 16:18:44,250] - obspy.clients.fdsn.mass_downloader - INFO: Client 'IRIS' - Acquired 1 StationXML files [0.0 MB].\n",
            "[2022-03-25 16:18:44,254] - obspy.clients.fdsn.mass_downloader - INFO: Downloaded 10.9 MB in total.\n",
            "[2022-03-25 16:18:44,254] - obspy.clients.fdsn.mass_downloader - INFO: Downloaded 10.9 MB in total.\n"
          ]
        },
        {
          "output_type": "stream",
          "name": "stdout",
          "text": [
            "** done with --> R18K -- TA -- 2019-05-27\n"
          ]
        },
        {
          "output_type": "stream",
          "name": "stderr",
          "text": [
            "[2022-03-25 16:19:02,743] - obspy.clients.fdsn.mass_downloader - INFO: Client 'IRIS' - Successfully downloaded 1 channels (of 1)\n",
            "[2022-03-25 16:19:02,743] - obspy.clients.fdsn.mass_downloader - INFO: Client 'IRIS' - Successfully downloaded 1 channels (of 1)\n",
            "[2022-03-25 16:19:06,352] - obspy.clients.fdsn.mass_downloader - INFO: Client 'IRIS' - Successfully downloaded 1 channels (of 1)\n",
            "[2022-03-25 16:19:06,352] - obspy.clients.fdsn.mass_downloader - INFO: Client 'IRIS' - Successfully downloaded 1 channels (of 1)\n",
            "[2022-03-25 16:19:06,455] - obspy.clients.fdsn.mass_downloader - INFO: Client 'IRIS' - Successfully downloaded 1 channels (of 1)\n",
            "[2022-03-25 16:19:06,455] - obspy.clients.fdsn.mass_downloader - INFO: Client 'IRIS' - Successfully downloaded 1 channels (of 1)\n",
            "[2022-03-25 16:19:06,464] - obspy.clients.fdsn.mass_downloader - INFO: Client 'IRIS' - Launching basic QC checks...\n",
            "[2022-03-25 16:19:06,464] - obspy.clients.fdsn.mass_downloader - INFO: Client 'IRIS' - Launching basic QC checks...\n",
            "[2022-03-25 16:19:06,500] - obspy.clients.fdsn.mass_downloader - INFO: Client 'IRIS' - Downloaded 29.3 MB [992.61 KB/sec] of data, 0.0 MB of which were discarded afterwards.\n",
            "[2022-03-25 16:19:06,500] - obspy.clients.fdsn.mass_downloader - INFO: Client 'IRIS' - Downloaded 29.3 MB [992.61 KB/sec] of data, 0.0 MB of which were discarded afterwards.\n",
            "[2022-03-25 16:19:06,506] - obspy.clients.fdsn.mass_downloader - INFO: Client 'IRIS' - Status for 3 time intervals/channels after downloading: DOWNLOADED\n",
            "[2022-03-25 16:19:06,506] - obspy.clients.fdsn.mass_downloader - INFO: Client 'IRIS' - Status for 3 time intervals/channels after downloading: DOWNLOADED\n",
            "[2022-03-25 16:19:06,667] - obspy.clients.fdsn.mass_downloader - INFO: Client 'IRIS' - Successfully downloaded 'sample_data/downloads_mseedsxml/WD55/XO.WD55.xml'.\n",
            "[2022-03-25 16:19:06,667] - obspy.clients.fdsn.mass_downloader - INFO: Client 'IRIS' - Successfully downloaded 'sample_data/downloads_mseedsxml/WD55/XO.WD55.xml'.\n",
            "[2022-03-25 16:19:06,678] - obspy.clients.fdsn.mass_downloader - INFO: Client 'IRIS' - Downloaded 1 station files [0.0 MB] in 0.2 seconds [178.68 KB/sec].\n",
            "[2022-03-25 16:19:06,678] - obspy.clients.fdsn.mass_downloader - INFO: Client 'IRIS' - Downloaded 1 station files [0.0 MB] in 0.2 seconds [178.68 KB/sec].\n",
            "[2022-03-25 16:19:06,682] - obspy.clients.fdsn.mass_downloader - INFO: ============================== Final report\n",
            "[2022-03-25 16:19:06,682] - obspy.clients.fdsn.mass_downloader - INFO: ============================== Final report\n",
            "[2022-03-25 16:19:06,694] - obspy.clients.fdsn.mass_downloader - INFO: 0 MiniSEED files [0.0 MB] already existed.\n",
            "[2022-03-25 16:19:06,694] - obspy.clients.fdsn.mass_downloader - INFO: 0 MiniSEED files [0.0 MB] already existed.\n",
            "[2022-03-25 16:19:06,697] - obspy.clients.fdsn.mass_downloader - INFO: 0 StationXML files [0.0 MB] already existed.\n",
            "[2022-03-25 16:19:06,697] - obspy.clients.fdsn.mass_downloader - INFO: 0 StationXML files [0.0 MB] already existed.\n",
            "[2022-03-25 16:19:06,702] - obspy.clients.fdsn.mass_downloader - INFO: Client 'IRIS' - Acquired 3 MiniSEED files [29.3 MB].\n",
            "[2022-03-25 16:19:06,702] - obspy.clients.fdsn.mass_downloader - INFO: Client 'IRIS' - Acquired 3 MiniSEED files [29.3 MB].\n",
            "[2022-03-25 16:19:06,705] - obspy.clients.fdsn.mass_downloader - INFO: Client 'IRIS' - Acquired 1 StationXML files [0.0 MB].\n",
            "[2022-03-25 16:19:06,705] - obspy.clients.fdsn.mass_downloader - INFO: Client 'IRIS' - Acquired 1 StationXML files [0.0 MB].\n",
            "[2022-03-25 16:19:06,709] - obspy.clients.fdsn.mass_downloader - INFO: Downloaded 29.3 MB in total.\n",
            "[2022-03-25 16:19:06,709] - obspy.clients.fdsn.mass_downloader - INFO: Downloaded 29.3 MB in total.\n"
          ]
        },
        {
          "output_type": "stream",
          "name": "stdout",
          "text": [
            "** done with --> WD55 -- XO -- 2019-05-27\n"
          ]
        },
        {
          "output_type": "stream",
          "name": "stderr",
          "text": [
            "[2022-03-25 16:19:12,287] - obspy.clients.fdsn.mass_downloader - INFO: Total acquired or preexisting stations: 0\n",
            "[2022-03-25 16:19:12,287] - obspy.clients.fdsn.mass_downloader - INFO: Total acquired or preexisting stations: 0\n",
            "[2022-03-25 16:19:12,290] - obspy.clients.fdsn.mass_downloader - INFO: Client 'IRIS' - Requesting reliable availability.\n",
            "[2022-03-25 16:19:12,290] - obspy.clients.fdsn.mass_downloader - INFO: Client 'IRIS' - Requesting reliable availability.\n",
            "[2022-03-25 16:19:12,452] - obspy.clients.fdsn.mass_downloader - INFO: Client 'IRIS' - No data available for request.\n",
            "[2022-03-25 16:19:12,452] - obspy.clients.fdsn.mass_downloader - INFO: Client 'IRIS' - No data available for request.\n",
            "[2022-03-25 16:19:12,454] - obspy.clients.fdsn.mass_downloader - INFO: Client 'IRIS' - No data available.\n",
            "[2022-03-25 16:19:12,454] - obspy.clients.fdsn.mass_downloader - INFO: Client 'IRIS' - No data available.\n",
            "[2022-03-25 16:19:12,459] - obspy.clients.fdsn.mass_downloader - INFO: ============================== Final report\n",
            "[2022-03-25 16:19:12,459] - obspy.clients.fdsn.mass_downloader - INFO: ============================== Final report\n",
            "[2022-03-25 16:19:12,462] - obspy.clients.fdsn.mass_downloader - INFO: 0 MiniSEED files [0.0 MB] already existed.\n",
            "[2022-03-25 16:19:12,462] - obspy.clients.fdsn.mass_downloader - INFO: 0 MiniSEED files [0.0 MB] already existed.\n",
            "[2022-03-25 16:19:12,468] - obspy.clients.fdsn.mass_downloader - INFO: 0 StationXML files [0.0 MB] already existed.\n",
            "[2022-03-25 16:19:12,468] - obspy.clients.fdsn.mass_downloader - INFO: 0 StationXML files [0.0 MB] already existed.\n",
            "[2022-03-25 16:19:12,474] - obspy.clients.fdsn.mass_downloader - INFO: Client 'IRIS' - Acquired 0 MiniSEED files [0.0 MB].\n",
            "[2022-03-25 16:19:12,474] - obspy.clients.fdsn.mass_downloader - INFO: Client 'IRIS' - Acquired 0 MiniSEED files [0.0 MB].\n",
            "[2022-03-25 16:19:12,479] - obspy.clients.fdsn.mass_downloader - INFO: Client 'IRIS' - Acquired 0 StationXML files [0.0 MB].\n",
            "[2022-03-25 16:19:12,479] - obspy.clients.fdsn.mass_downloader - INFO: Client 'IRIS' - Acquired 0 StationXML files [0.0 MB].\n",
            "[2022-03-25 16:19:12,484] - obspy.clients.fdsn.mass_downloader - INFO: Downloaded 0.0 MB in total.\n",
            "[2022-03-25 16:19:12,484] - obspy.clients.fdsn.mass_downloader - INFO: Downloaded 0.0 MB in total.\n"
          ]
        },
        {
          "output_type": "stream",
          "name": "stdout",
          "text": [
            "======= Working on S12K station.\n",
            "** done with --> S12K -- TA -- 2019-05-27\n"
          ]
        }
      ]
    },
    {
      "cell_type": "code",
      "metadata": {
        "id": "NAvH_BqEBiBv"
      },
      "source": [
        "# Save miniseeds to Google Drive, if desired\n",
        "\n",
        "# Zip and save mseed folders:\n",
        "!zip -r /content/gdrive/MyDrive/Colab_Notebooks/downloads_mseeds_august1_5.zip /content/downloads_mseeds_august3_2018\n",
        "# Save xml:\n",
        "# !mv \"/content/downloads_mseeds_july2018xml\" \"/content/gdrive/MyDrive/Colab_Notebooks/downloads_mseeds_july2018xml\""
      ],
      "execution_count": null,
      "outputs": []
    },
    {
      "cell_type": "markdown",
      "metadata": {
        "id": "qBWX74WyaRA4"
      },
      "source": [
        "# Perform detections\n"
      ]
    },
    {
      "cell_type": "code",
      "metadata": {
        "id": "mO2B4ICY3jFI",
        "colab": {
          "base_uri": "https://localhost:8080/",
          "height": 1000
        },
        "outputId": "cf51c864-29b6-412e-c705-463dc120ba3e"
      },
      "source": [
        "from EQTransformer.core.mseed_predictor import mseed_predictor\n",
        "    \n",
        "mseed_predictor(input_dir='/content/sample_data/downloads_mseeds',   \n",
        "                    input_model='/content/krauss-repo/eq_project/eqtransformer_local/ModelsAndSampleData/EqT_model.h5',\n",
        "                    stations_json='stationlist.json',\n",
        "                    output_dir='aacse_detection',\n",
        "                    detection_threshold=0.2,                \n",
        "                    P_threshold=0.3,\n",
        "                    S_threshold=0.3, \n",
        "                    number_of_plots=10,\n",
        "                    plot_mode='time_frequency',\n",
        "                    batch_size=20,\n",
        "                    overlap=0.3)"
      ],
      "execution_count": 28,
      "outputs": [
        {
          "output_type": "stream",
          "name": "stdout",
          "text": [
            "WARNING:tensorflow:Layer lstm_1 will not use cuDNN kernels since it doesn't meet the criteria. It will use a generic GPU kernel as fallback when running on GPU.\n"
          ]
        },
        {
          "output_type": "stream",
          "name": "stderr",
          "text": [
            "WARNING:tensorflow:Layer lstm_1 will not use cuDNN kernels since it doesn't meet the criteria. It will use a generic GPU kernel as fallback when running on GPU.\n"
          ]
        },
        {
          "output_type": "stream",
          "name": "stdout",
          "text": [
            "WARNING:tensorflow:Layer lstm_1 will not use cuDNN kernels since it doesn't meet the criteria. It will use a generic GPU kernel as fallback when running on GPU.\n"
          ]
        },
        {
          "output_type": "stream",
          "name": "stderr",
          "text": [
            "WARNING:tensorflow:Layer lstm_1 will not use cuDNN kernels since it doesn't meet the criteria. It will use a generic GPU kernel as fallback when running on GPU.\n"
          ]
        },
        {
          "output_type": "stream",
          "name": "stdout",
          "text": [
            "WARNING:tensorflow:Layer lstm_1 will not use cuDNN kernels since it doesn't meet the criteria. It will use a generic GPU kernel as fallback when running on GPU.\n"
          ]
        },
        {
          "output_type": "stream",
          "name": "stderr",
          "text": [
            "WARNING:tensorflow:Layer lstm_1 will not use cuDNN kernels since it doesn't meet the criteria. It will use a generic GPU kernel as fallback when running on GPU.\n"
          ]
        },
        {
          "output_type": "stream",
          "name": "stdout",
          "text": [
            "WARNING:tensorflow:Layer lstm_2 will not use cuDNN kernels since it doesn't meet the criteria. It will use a generic GPU kernel as fallback when running on GPU.\n"
          ]
        },
        {
          "output_type": "stream",
          "name": "stderr",
          "text": [
            "WARNING:tensorflow:Layer lstm_2 will not use cuDNN kernels since it doesn't meet the criteria. It will use a generic GPU kernel as fallback when running on GPU.\n"
          ]
        },
        {
          "output_type": "stream",
          "name": "stdout",
          "text": [
            "WARNING:tensorflow:Layer lstm_2 will not use cuDNN kernels since it doesn't meet the criteria. It will use a generic GPU kernel as fallback when running on GPU.\n"
          ]
        },
        {
          "output_type": "stream",
          "name": "stderr",
          "text": [
            "WARNING:tensorflow:Layer lstm_2 will not use cuDNN kernels since it doesn't meet the criteria. It will use a generic GPU kernel as fallback when running on GPU.\n"
          ]
        },
        {
          "output_type": "stream",
          "name": "stdout",
          "text": [
            "WARNING:tensorflow:Layer lstm_2 will not use cuDNN kernels since it doesn't meet the criteria. It will use a generic GPU kernel as fallback when running on GPU.\n"
          ]
        },
        {
          "output_type": "stream",
          "name": "stderr",
          "text": [
            "WARNING:tensorflow:Layer lstm_2 will not use cuDNN kernels since it doesn't meet the criteria. It will use a generic GPU kernel as fallback when running on GPU.\n"
          ]
        },
        {
          "output_type": "stream",
          "name": "stdout",
          "text": [
            "WARNING:tensorflow:Layer lstm_3 will not use cuDNN kernels since it doesn't meet the criteria. It will use a generic GPU kernel as fallback when running on GPU.\n"
          ]
        },
        {
          "output_type": "stream",
          "name": "stderr",
          "text": [
            "WARNING:tensorflow:Layer lstm_3 will not use cuDNN kernels since it doesn't meet the criteria. It will use a generic GPU kernel as fallback when running on GPU.\n"
          ]
        },
        {
          "output_type": "stream",
          "name": "stdout",
          "text": [
            "WARNING:tensorflow:Layer lstm_3 will not use cuDNN kernels since it doesn't meet the criteria. It will use a generic GPU kernel as fallback when running on GPU.\n"
          ]
        },
        {
          "output_type": "stream",
          "name": "stderr",
          "text": [
            "WARNING:tensorflow:Layer lstm_3 will not use cuDNN kernels since it doesn't meet the criteria. It will use a generic GPU kernel as fallback when running on GPU.\n"
          ]
        },
        {
          "output_type": "stream",
          "name": "stdout",
          "text": [
            "WARNING:tensorflow:Layer lstm_3 will not use cuDNN kernels since it doesn't meet the criteria. It will use a generic GPU kernel as fallback when running on GPU.\n"
          ]
        },
        {
          "output_type": "stream",
          "name": "stderr",
          "text": [
            "WARNING:tensorflow:Layer lstm_3 will not use cuDNN kernels since it doesn't meet the criteria. It will use a generic GPU kernel as fallback when running on GPU.\n"
          ]
        },
        {
          "output_type": "stream",
          "name": "stdout",
          "text": [
            "WARNING:tensorflow:Layer lstm_4 will not use cuDNN kernels since it doesn't meet the criteria. It will use a generic GPU kernel as fallback when running on GPU.\n"
          ]
        },
        {
          "output_type": "stream",
          "name": "stderr",
          "text": [
            "WARNING:tensorflow:Layer lstm_4 will not use cuDNN kernels since it doesn't meet the criteria. It will use a generic GPU kernel as fallback when running on GPU.\n"
          ]
        },
        {
          "output_type": "stream",
          "name": "stdout",
          "text": [
            "WARNING:tensorflow:Layer lstm_5 will not use cuDNN kernels since it doesn't meet the criteria. It will use a generic GPU kernel as fallback when running on GPU.\n"
          ]
        },
        {
          "output_type": "stream",
          "name": "stderr",
          "text": [
            "WARNING:tensorflow:Layer lstm_5 will not use cuDNN kernels since it doesn't meet the criteria. It will use a generic GPU kernel as fallback when running on GPU.\n"
          ]
        },
        {
          "output_type": "stream",
          "name": "stdout",
          "text": [
            " --> Type (Yes or y) to create a new empty directory! This will erase your previous results so make a copy if you want them.y\n",
            "\n",
            "\n"
          ]
        },
        {
          "output_type": "stream",
          "name": "stderr",
          "text": [
            "[2022-03-25 16:24:36,442] - obspy.clients.fdsn.mass_downloader - INFO: Client 'IRIS' - Successfully downloaded 1 channels (of 1)\n",
            "[2022-03-25 16:24:36,442] - obspy.clients.fdsn.mass_downloader - INFO: Client 'IRIS' - Successfully downloaded 1 channels (of 1)\n",
            "[2022-03-25 16:24:48,980] - obspy.clients.fdsn.mass_downloader - INFO: Client 'IRIS' - Successfully downloaded 1 channels (of 1)\n",
            "[2022-03-25 16:24:48,980] - obspy.clients.fdsn.mass_downloader - INFO: Client 'IRIS' - Successfully downloaded 1 channels (of 1)\n",
            "[2022-03-25 16:24:49,273] - obspy.clients.fdsn.mass_downloader - INFO: Client 'IRIS' - Successfully downloaded 1 channels (of 1)\n",
            "[2022-03-25 16:24:49,273] - obspy.clients.fdsn.mass_downloader - INFO: Client 'IRIS' - Successfully downloaded 1 channels (of 1)\n",
            "[2022-03-25 16:24:49,298] - obspy.clients.fdsn.mass_downloader - INFO: Client 'IRIS' - Launching basic QC checks...\n",
            "[2022-03-25 16:24:49,298] - obspy.clients.fdsn.mass_downloader - INFO: Client 'IRIS' - Launching basic QC checks...\n",
            "[2022-03-25 16:24:49,420] - obspy.clients.fdsn.mass_downloader - INFO: Client 'IRIS' - Downloaded 52.1 MB [893.72 KB/sec] of data, 0.0 MB of which were discarded afterwards.\n",
            "[2022-03-25 16:24:49,420] - obspy.clients.fdsn.mass_downloader - INFO: Client 'IRIS' - Downloaded 52.1 MB [893.72 KB/sec] of data, 0.0 MB of which were discarded afterwards.\n",
            "[2022-03-25 16:24:49,429] - obspy.clients.fdsn.mass_downloader - INFO: Client 'IRIS' - Status for 3 time intervals/channels after downloading: DOWNLOADED\n",
            "[2022-03-25 16:24:49,429] - obspy.clients.fdsn.mass_downloader - INFO: Client 'IRIS' - Status for 3 time intervals/channels after downloading: DOWNLOADED\n",
            "[2022-03-25 16:24:49,678] - obspy.clients.fdsn.mass_downloader - INFO: Client 'IRIS' - Successfully downloaded 'sample_data/downloads_mseedsxml/ET18/XO.ET18.xml'.\n",
            "[2022-03-25 16:24:49,678] - obspy.clients.fdsn.mass_downloader - INFO: Client 'IRIS' - Successfully downloaded 'sample_data/downloads_mseedsxml/ET18/XO.ET18.xml'.\n",
            "[2022-03-25 16:24:49,694] - obspy.clients.fdsn.mass_downloader - INFO: Client 'IRIS' - Downloaded 1 station files [0.0 MB] in 0.2 seconds [149.62 KB/sec].\n",
            "[2022-03-25 16:24:49,694] - obspy.clients.fdsn.mass_downloader - INFO: Client 'IRIS' - Downloaded 1 station files [0.0 MB] in 0.2 seconds [149.62 KB/sec].\n",
            "[2022-03-25 16:24:49,699] - obspy.clients.fdsn.mass_downloader - INFO: ============================== Final report\n",
            "[2022-03-25 16:24:49,699] - obspy.clients.fdsn.mass_downloader - INFO: ============================== Final report\n",
            "[2022-03-25 16:24:49,706] - obspy.clients.fdsn.mass_downloader - INFO: 0 MiniSEED files [0.0 MB] already existed.\n",
            "[2022-03-25 16:24:49,706] - obspy.clients.fdsn.mass_downloader - INFO: 0 MiniSEED files [0.0 MB] already existed.\n",
            "[2022-03-25 16:24:49,712] - obspy.clients.fdsn.mass_downloader - INFO: 0 StationXML files [0.0 MB] already existed.\n",
            "[2022-03-25 16:24:49,712] - obspy.clients.fdsn.mass_downloader - INFO: 0 StationXML files [0.0 MB] already existed.\n",
            "[2022-03-25 16:24:49,716] - obspy.clients.fdsn.mass_downloader - INFO: Client 'IRIS' - Acquired 3 MiniSEED files [52.1 MB].\n",
            "[2022-03-25 16:24:49,716] - obspy.clients.fdsn.mass_downloader - INFO: Client 'IRIS' - Acquired 3 MiniSEED files [52.1 MB].\n",
            "[2022-03-25 16:24:49,724] - obspy.clients.fdsn.mass_downloader - INFO: Client 'IRIS' - Acquired 1 StationXML files [0.0 MB].\n",
            "[2022-03-25 16:24:49,724] - obspy.clients.fdsn.mass_downloader - INFO: Client 'IRIS' - Acquired 1 StationXML files [0.0 MB].\n",
            "[2022-03-25 16:24:49,740] - obspy.clients.fdsn.mass_downloader - INFO: Downloaded 52.1 MB in total.\n",
            "[2022-03-25 16:24:49,740] - obspy.clients.fdsn.mass_downloader - INFO: Downloaded 52.1 MB in total.\n"
          ]
        },
        {
          "output_type": "stream",
          "name": "stdout",
          "text": [
            "** done with --> ET18 -- XO -- 2019-05-27\n"
          ]
        },
        {
          "output_type": "error",
          "ename": "UnknownError",
          "evalue": "ignored",
          "traceback": [
            "\u001b[0;31m---------------------------------------------------------------------------\u001b[0m",
            "\u001b[0;31mUnknownError\u001b[0m                              Traceback (most recent call last)",
            "\u001b[0;32m<ipython-input-28-1985b1943e02>\u001b[0m in \u001b[0;36m<module>\u001b[0;34m()\u001b[0m\n\u001b[1;32m     11\u001b[0m                     \u001b[0mplot_mode\u001b[0m\u001b[0;34m=\u001b[0m\u001b[0;34m'time_frequency'\u001b[0m\u001b[0;34m,\u001b[0m\u001b[0;34m\u001b[0m\u001b[0;34m\u001b[0m\u001b[0m\n\u001b[1;32m     12\u001b[0m                     \u001b[0mbatch_size\u001b[0m\u001b[0;34m=\u001b[0m\u001b[0;36m20\u001b[0m\u001b[0;34m,\u001b[0m\u001b[0;34m\u001b[0m\u001b[0;34m\u001b[0m\u001b[0m\n\u001b[0;32m---> 13\u001b[0;31m                     overlap=0.3)\n\u001b[0m",
            "\u001b[0;32m/usr/local/lib/python3.7/dist-packages/EQTransformer/core/mseed_predictor.py\u001b[0m in \u001b[0;36mmseed_predictor\u001b[0;34m(input_dir, input_model, stations_json, output_dir, detection_threshold, P_threshold, S_threshold, number_of_plots, plot_mode, loss_weights, loss_types, normalization_mode, batch_size, overlap, gpuid, gpu_limit, overwrite, output_probabilities)\u001b[0m\n\u001b[1;32m    312\u001b[0m             \u001b[0mpred_generator\u001b[0m \u001b[0;34m=\u001b[0m \u001b[0mPreLoadGeneratorTest\u001b[0m\u001b[0;34m(\u001b[0m\u001b[0mmeta\u001b[0m\u001b[0;34m[\u001b[0m\u001b[0;34m\"trace_start_time\"\u001b[0m\u001b[0;34m]\u001b[0m\u001b[0;34m,\u001b[0m \u001b[0mdata_set\u001b[0m\u001b[0;34m,\u001b[0m \u001b[0;34m**\u001b[0m\u001b[0mparams_pred\u001b[0m\u001b[0;34m)\u001b[0m\u001b[0;34m\u001b[0m\u001b[0;34m\u001b[0m\u001b[0m\n\u001b[1;32m    313\u001b[0m \u001b[0;34m\u001b[0m\u001b[0m\n\u001b[0;32m--> 314\u001b[0;31m             \u001b[0mpredD\u001b[0m\u001b[0;34m,\u001b[0m \u001b[0mpredP\u001b[0m\u001b[0;34m,\u001b[0m \u001b[0mpredS\u001b[0m \u001b[0;34m=\u001b[0m \u001b[0mmodel\u001b[0m\u001b[0;34m.\u001b[0m\u001b[0mpredict_generator\u001b[0m\u001b[0;34m(\u001b[0m\u001b[0mpred_generator\u001b[0m\u001b[0;34m)\u001b[0m\u001b[0;34m\u001b[0m\u001b[0;34m\u001b[0m\u001b[0m\n\u001b[0m\u001b[1;32m    315\u001b[0m \u001b[0;34m\u001b[0m\u001b[0m\n\u001b[1;32m    316\u001b[0m             \u001b[0mdetection_memory\u001b[0m \u001b[0;34m=\u001b[0m \u001b[0;34m[\u001b[0m\u001b[0;34m]\u001b[0m\u001b[0;34m\u001b[0m\u001b[0;34m\u001b[0m\u001b[0m\n",
            "\u001b[0;32m/usr/local/lib/python3.7/dist-packages/tensorflow/python/keras/engine/training.py\u001b[0m in \u001b[0;36mpredict_generator\u001b[0;34m(self, generator, steps, callbacks, max_queue_size, workers, use_multiprocessing, verbose)\u001b[0m\n\u001b[1;32m   2004\u001b[0m         \u001b[0muse_multiprocessing\u001b[0m\u001b[0;34m=\u001b[0m\u001b[0muse_multiprocessing\u001b[0m\u001b[0;34m,\u001b[0m\u001b[0;34m\u001b[0m\u001b[0;34m\u001b[0m\u001b[0m\n\u001b[1;32m   2005\u001b[0m         \u001b[0mverbose\u001b[0m\u001b[0;34m=\u001b[0m\u001b[0mverbose\u001b[0m\u001b[0;34m,\u001b[0m\u001b[0;34m\u001b[0m\u001b[0;34m\u001b[0m\u001b[0m\n\u001b[0;32m-> 2006\u001b[0;31m         callbacks=callbacks)\n\u001b[0m\u001b[1;32m   2007\u001b[0m \u001b[0;34m\u001b[0m\u001b[0m\n\u001b[1;32m   2008\u001b[0m   \u001b[0;31m######################################################################\u001b[0m\u001b[0;34m\u001b[0m\u001b[0;34m\u001b[0m\u001b[0;34m\u001b[0m\u001b[0m\n",
            "\u001b[0;32m/usr/local/lib/python3.7/dist-packages/tensorflow/python/keras/engine/training.py\u001b[0m in \u001b[0;36mpredict\u001b[0;34m(self, x, batch_size, verbose, steps, callbacks, max_queue_size, workers, use_multiprocessing)\u001b[0m\n\u001b[1;32m   1720\u001b[0m           \u001b[0;32mfor\u001b[0m \u001b[0mstep\u001b[0m \u001b[0;32min\u001b[0m \u001b[0mdata_handler\u001b[0m\u001b[0;34m.\u001b[0m\u001b[0msteps\u001b[0m\u001b[0;34m(\u001b[0m\u001b[0;34m)\u001b[0m\u001b[0;34m:\u001b[0m\u001b[0;34m\u001b[0m\u001b[0;34m\u001b[0m\u001b[0m\n\u001b[1;32m   1721\u001b[0m             \u001b[0mcallbacks\u001b[0m\u001b[0;34m.\u001b[0m\u001b[0mon_predict_batch_begin\u001b[0m\u001b[0;34m(\u001b[0m\u001b[0mstep\u001b[0m\u001b[0;34m)\u001b[0m\u001b[0;34m\u001b[0m\u001b[0;34m\u001b[0m\u001b[0m\n\u001b[0;32m-> 1722\u001b[0;31m             \u001b[0mtmp_batch_outputs\u001b[0m \u001b[0;34m=\u001b[0m \u001b[0mself\u001b[0m\u001b[0;34m.\u001b[0m\u001b[0mpredict_function\u001b[0m\u001b[0;34m(\u001b[0m\u001b[0miterator\u001b[0m\u001b[0;34m)\u001b[0m\u001b[0;34m\u001b[0m\u001b[0;34m\u001b[0m\u001b[0m\n\u001b[0m\u001b[1;32m   1723\u001b[0m             \u001b[0;32mif\u001b[0m \u001b[0mdata_handler\u001b[0m\u001b[0;34m.\u001b[0m\u001b[0mshould_sync\u001b[0m\u001b[0;34m:\u001b[0m\u001b[0;34m\u001b[0m\u001b[0;34m\u001b[0m\u001b[0m\n\u001b[1;32m   1724\u001b[0m               \u001b[0mcontext\u001b[0m\u001b[0;34m.\u001b[0m\u001b[0masync_wait\u001b[0m\u001b[0;34m(\u001b[0m\u001b[0;34m)\u001b[0m\u001b[0;34m\u001b[0m\u001b[0;34m\u001b[0m\u001b[0m\n",
            "\u001b[0;32m/usr/local/lib/python3.7/dist-packages/tensorflow/python/eager/def_function.py\u001b[0m in \u001b[0;36m__call__\u001b[0;34m(self, *args, **kwds)\u001b[0m\n\u001b[1;32m    887\u001b[0m \u001b[0;34m\u001b[0m\u001b[0m\n\u001b[1;32m    888\u001b[0m       \u001b[0;32mwith\u001b[0m \u001b[0mOptionalXlaContext\u001b[0m\u001b[0;34m(\u001b[0m\u001b[0mself\u001b[0m\u001b[0;34m.\u001b[0m\u001b[0m_jit_compile\u001b[0m\u001b[0;34m)\u001b[0m\u001b[0;34m:\u001b[0m\u001b[0;34m\u001b[0m\u001b[0;34m\u001b[0m\u001b[0m\n\u001b[0;32m--> 889\u001b[0;31m         \u001b[0mresult\u001b[0m \u001b[0;34m=\u001b[0m \u001b[0mself\u001b[0m\u001b[0;34m.\u001b[0m\u001b[0m_call\u001b[0m\u001b[0;34m(\u001b[0m\u001b[0;34m*\u001b[0m\u001b[0margs\u001b[0m\u001b[0;34m,\u001b[0m \u001b[0;34m**\u001b[0m\u001b[0mkwds\u001b[0m\u001b[0;34m)\u001b[0m\u001b[0;34m\u001b[0m\u001b[0;34m\u001b[0m\u001b[0m\n\u001b[0m\u001b[1;32m    890\u001b[0m \u001b[0;34m\u001b[0m\u001b[0m\n\u001b[1;32m    891\u001b[0m       \u001b[0mnew_tracing_count\u001b[0m \u001b[0;34m=\u001b[0m \u001b[0mself\u001b[0m\u001b[0;34m.\u001b[0m\u001b[0mexperimental_get_tracing_count\u001b[0m\u001b[0;34m(\u001b[0m\u001b[0;34m)\u001b[0m\u001b[0;34m\u001b[0m\u001b[0;34m\u001b[0m\u001b[0m\n",
            "\u001b[0;32m/usr/local/lib/python3.7/dist-packages/tensorflow/python/eager/def_function.py\u001b[0m in \u001b[0;36m_call\u001b[0;34m(self, *args, **kwds)\u001b[0m\n\u001b[1;32m    955\u001b[0m       \u001b[0;31m# If we did not create any variables the trace we have is good enough.\u001b[0m\u001b[0;34m\u001b[0m\u001b[0;34m\u001b[0m\u001b[0;34m\u001b[0m\u001b[0m\n\u001b[1;32m    956\u001b[0m       return self._concrete_stateful_fn._call_flat(\n\u001b[0;32m--> 957\u001b[0;31m           filtered_flat_args, self._concrete_stateful_fn.captured_inputs)  # pylint: disable=protected-access\n\u001b[0m\u001b[1;32m    958\u001b[0m \u001b[0;34m\u001b[0m\u001b[0m\n\u001b[1;32m    959\u001b[0m     \u001b[0;32mdef\u001b[0m \u001b[0mfn_with_cond\u001b[0m\u001b[0;34m(\u001b[0m\u001b[0minner_args\u001b[0m\u001b[0;34m,\u001b[0m \u001b[0minner_kwds\u001b[0m\u001b[0;34m,\u001b[0m \u001b[0minner_filtered_flat_args\u001b[0m\u001b[0;34m)\u001b[0m\u001b[0;34m:\u001b[0m\u001b[0;34m\u001b[0m\u001b[0;34m\u001b[0m\u001b[0m\n",
            "\u001b[0;32m/usr/local/lib/python3.7/dist-packages/tensorflow/python/eager/function.py\u001b[0m in \u001b[0;36m_call_flat\u001b[0;34m(self, args, captured_inputs, cancellation_manager)\u001b[0m\n\u001b[1;32m   1959\u001b[0m       \u001b[0;31m# No tape is watching; skip to running the function.\u001b[0m\u001b[0;34m\u001b[0m\u001b[0;34m\u001b[0m\u001b[0;34m\u001b[0m\u001b[0m\n\u001b[1;32m   1960\u001b[0m       return self._build_call_outputs(self._inference_function.call(\n\u001b[0;32m-> 1961\u001b[0;31m           ctx, args, cancellation_manager=cancellation_manager))\n\u001b[0m\u001b[1;32m   1962\u001b[0m     forward_backward = self._select_forward_and_backward_functions(\n\u001b[1;32m   1963\u001b[0m         \u001b[0margs\u001b[0m\u001b[0;34m,\u001b[0m\u001b[0;34m\u001b[0m\u001b[0;34m\u001b[0m\u001b[0m\n",
            "\u001b[0;32m/usr/local/lib/python3.7/dist-packages/tensorflow/python/eager/function.py\u001b[0m in \u001b[0;36mcall\u001b[0;34m(self, ctx, args, cancellation_manager)\u001b[0m\n\u001b[1;32m    594\u001b[0m               \u001b[0minputs\u001b[0m\u001b[0;34m=\u001b[0m\u001b[0margs\u001b[0m\u001b[0;34m,\u001b[0m\u001b[0;34m\u001b[0m\u001b[0;34m\u001b[0m\u001b[0m\n\u001b[1;32m    595\u001b[0m               \u001b[0mattrs\u001b[0m\u001b[0;34m=\u001b[0m\u001b[0mattrs\u001b[0m\u001b[0;34m,\u001b[0m\u001b[0;34m\u001b[0m\u001b[0;34m\u001b[0m\u001b[0m\n\u001b[0;32m--> 596\u001b[0;31m               ctx=ctx)\n\u001b[0m\u001b[1;32m    597\u001b[0m         \u001b[0;32melse\u001b[0m\u001b[0;34m:\u001b[0m\u001b[0;34m\u001b[0m\u001b[0;34m\u001b[0m\u001b[0m\n\u001b[1;32m    598\u001b[0m           outputs = execute.execute_with_cancellation(\n",
            "\u001b[0;32m/usr/local/lib/python3.7/dist-packages/tensorflow/python/eager/execute.py\u001b[0m in \u001b[0;36mquick_execute\u001b[0;34m(op_name, num_outputs, inputs, attrs, ctx, name)\u001b[0m\n\u001b[1;32m     58\u001b[0m     \u001b[0mctx\u001b[0m\u001b[0;34m.\u001b[0m\u001b[0mensure_initialized\u001b[0m\u001b[0;34m(\u001b[0m\u001b[0;34m)\u001b[0m\u001b[0;34m\u001b[0m\u001b[0;34m\u001b[0m\u001b[0m\n\u001b[1;32m     59\u001b[0m     tensors = pywrap_tfe.TFE_Py_Execute(ctx._handle, device_name, op_name,\n\u001b[0;32m---> 60\u001b[0;31m                                         inputs, attrs, num_outputs)\n\u001b[0m\u001b[1;32m     61\u001b[0m   \u001b[0;32mexcept\u001b[0m \u001b[0mcore\u001b[0m\u001b[0;34m.\u001b[0m\u001b[0m_NotOkStatusException\u001b[0m \u001b[0;32mas\u001b[0m \u001b[0me\u001b[0m\u001b[0;34m:\u001b[0m\u001b[0;34m\u001b[0m\u001b[0;34m\u001b[0m\u001b[0m\n\u001b[1;32m     62\u001b[0m     \u001b[0;32mif\u001b[0m \u001b[0mname\u001b[0m \u001b[0;32mis\u001b[0m \u001b[0;32mnot\u001b[0m \u001b[0;32mNone\u001b[0m\u001b[0;34m:\u001b[0m\u001b[0;34m\u001b[0m\u001b[0;34m\u001b[0m\u001b[0m\n",
            "\u001b[0;31mUnknownError\u001b[0m:  Failed to get convolution algorithm. This is probably because cuDNN failed to initialize, so try looking to see if a warning log message was printed above.\n\t [[node model_1/conv1d_1/conv1d (defined at /usr/local/lib/python3.7/dist-packages/EQTransformer/core/mseed_predictor.py:314) ]] [Op:__inference_predict_function_175173]\n\nFunction call stack:\npredict_function\n"
          ]
        }
      ]
    },
    {
      "cell_type": "code",
      "metadata": {
        "id": "UwuQS9QtnvMX"
      },
      "source": [
        "# Save to google drive, if desired\n",
        "\n",
        "# Zip and save detection folder:\n",
        "!zip -r /content/gdrive/MyDrive/Colab_Notebooks/detection_results_august1-5_2018.zip /content/detection_results_august1-5_2018\n",
        "# Save time tracks:\n",
        "#!mv \"/content/time_tracks.pkl\" \"/content/gdrive/MyDrive/Colab_Notebooks/time_tracks.pkl\""
      ],
      "execution_count": null,
      "outputs": []
    },
    {
      "cell_type": "code",
      "metadata": {
        "id": "ZKVMaxreaaXe"
      },
      "source": [
        ""
      ],
      "execution_count": null,
      "outputs": []
    },
    {
      "cell_type": "markdown",
      "metadata": {
        "id": "YPCA1iaBaYmX"
      },
      "source": [
        "# Analyze Results\n"
      ]
    },
    {
      "cell_type": "code",
      "metadata": {
        "id": "NuZvIwFkaJBc"
      },
      "source": [
        "# If unzipping files from the Drive\n",
        "\n",
        "\n",
        "zipfilename = '/content/gdrive/MyDrive/Colab_Notebooks/detection_results_august1-5_2018.zip'\n",
        "\n",
        "# opening the zip file in READ mode\n",
        "with ZipFile(zipfilename, 'r') as zip:\n",
        "    # printing all the contents of the zip file\n",
        "    zip.printdir()\n",
        "  \n",
        "    # extracting all the files\n",
        "    print('Extracting all the files now...')\n",
        "    zip.extractall()\n",
        "    print('Done!')"
      ],
      "execution_count": null,
      "outputs": []
    },
    {
      "cell_type": "code",
      "metadata": {
        "id": "JqUpEgM0JdkA"
      },
      "source": [
        "# Make a pandas dataframe of the output detections\n",
        "\n",
        "# Concat list of all csv files\n",
        "bigdir = \"/content/detection_results_august1-5_2018\"\n",
        "bigdir = '/content/content/detection_results_august1-5_2018'\n",
        "folder_list = glob.glob(bigdir + \"/*\") # Include slash or it will search in the wrong directory!!\n",
        "file_list = []\n",
        "for folder in folder_list:\n",
        "  file_list.append(glob.glob(folder+\"/*.csv\"))\n",
        "\n",
        "# Read data into pandas dataframe\n",
        "data = pd.concat([pd.read_csv(f[0]) for f in file_list])\n",
        "# Change time columns to datetime format\n",
        "startdate = pd.to_datetime(data['event_start_time'], format='%Y-%m-%d %H:%M:%S');\n",
        "enddate = pd.to_datetime(data['event_end_time'], format='%Y-%m-%d %H:%M:%S');\n",
        "p_time = pd.to_datetime(data['p_arrival_time'], format='%Y-%m-%d %H:%M:%S');\n",
        "s_time = pd.to_datetime(data['s_arrival_time'], format='%Y-%m-%d %H:%M:%S');\n",
        "data['start_time'] = startdate;data['end_time'] = enddate\n",
        "data['ptime'] = p_time\n",
        "data['stime'] = s_time\n",
        "\n",
        "# Split into station subsets\n",
        "new_kemf = data.loc[(data.station=='KEMF')].copy()\n",
        "new_enwf = data.loc[(data.station=='ENWF')].copy()\n",
        "new_enhr = data.loc[(data.station=='ENHR')].copy()\n",
        "new_kemo = data.loc[(data.station=='KEMO')].copy()"
      ],
      "execution_count": null,
      "outputs": []
    },
    {
      "cell_type": "code",
      "metadata": {
        "id": "J8ByvTJk8l09",
        "colab": {
          "base_uri": "https://localhost:8080/",
          "height": 442
        },
        "outputId": "192442b6-21d8-41a4-98b1-6fa5977159d8"
      },
      "source": [
        "# Read in MATLAB detections\n",
        "\n",
        "startdate = datetime(2018,8,1)\n",
        "enddate = datetime(2018,8,6)\n",
        "\n",
        "#og_eqs = pd.read_csv('/content/gdrive/Shareddrives/ESS490_Spring2021/August2018_EndEarthquakes.csv')\n",
        "og_eqs = pd.read_csv('/content/August2018_EarthquakeData.csv')\n",
        "\n",
        "# Filter it down to just the dates you want to compare\n",
        "origintime = pd.to_datetime(og_eqs['originTime']);\n",
        "og_eqs['originTime'] = origintime\n",
        "og_eqs = og_eqs.loc[(og_eqs.originTime>startdate) & (og_eqs.originTime<enddate)]\n",
        "print(og_eqs)\n",
        "\n",
        "# Turn time columns into datetime format\n",
        "og_eqs['KEMF_P_time'] = pd.to_datetime(og_eqs['KEMF_P_time'])\n",
        "og_eqs['KEMF_S_time'] = pd.to_datetime(og_eqs['KEMF_S_time'])\n",
        "og_eqs['KEMO_P_time'] = pd.to_datetime(og_eqs['KEMO_P_time'])\n",
        "og_eqs['KEMO_S_time'] = pd.to_datetime(og_eqs['KEMO_S_time'])\n",
        "og_eqs['ENWF_P_time'] = pd.to_datetime(og_eqs['ENWF_P_time'])\n",
        "og_eqs['ENWF_S_time'] = pd.to_datetime(og_eqs['ENWF_S_time'])\n",
        "og_eqs['ENHR_P_time'] = pd.to_datetime(og_eqs['ENHR_P_time'])\n",
        "og_eqs['ENHR_S_time'] = pd.to_datetime(og_eqs['ENHR_S_time'])\n",
        "\n",
        "# Split into station subsets\n",
        "org_kemf = og_eqs[['originTime','KEMF_P_time','KEMF_S_time','magnitude','nwp','nws']].copy()\n",
        "org_enwf = og_eqs[['originTime','ENWF_P_time','ENWF_S_time','magnitude','nwp','nws']].copy()\n",
        "org_enhr = og_eqs[['originTime','ENHR_P_time','ENHR_S_time','magnitude','nwp','nws']].copy()\n",
        "org_kemo = og_eqs[['originTime','KEMO_P_time','KEMO_S_time','magnitude','nwp','nws']].copy()\n",
        "\n",
        "# Rename columns to match the other dataframe\n",
        "org_kemf.rename(columns={'KEMF_P_time':'ptime','KEMF_S_time':'stime'},inplace=True)\n",
        "org_kemo.rename(columns={'KEMO_P_time':'ptime','KEMO_S_time':'stime'},inplace=True)\n",
        "org_enwf.rename(columns={'ENWF_P_time':'ptime','ENWF_S_time':'stime'},inplace=True)\n",
        "org_enhr.rename(columns={'ENHR_P_time':'ptime','ENHR_S_time':'stime'},inplace=True)\n",
        "\n",
        "org_kemf.head()"
      ],
      "execution_count": null,
      "outputs": [
        {
          "output_type": "stream",
          "text": [
            "             originTime      ID        lat  ...  KEMO_P_time  KEMO_P_resid  magnitude\n",
            "0   2018-08-01 01:25:41  301961  47.962623  ...          NaN           NaN  -0.023490\n",
            "1   2018-08-01 01:26:07  301963  47.966613  ...          NaN           NaN   0.038634\n",
            "2   2018-08-01 01:33:53  301964  47.973340  ...          NaN           NaN   0.149247\n",
            "3   2018-08-01 02:53:06  301965  47.952464  ...          NaN           NaN   0.195746\n",
            "4   2018-08-01 03:20:59  301966  47.975080  ...          NaN           NaN  -0.269741\n",
            "..                  ...     ...        ...  ...          ...           ...        ...\n",
            "223 2018-08-04 20:36:13  302231  47.985980  ...          NaN           NaN   0.122469\n",
            "224 2018-08-04 20:36:20  302232  47.968142  ...          NaN           NaN   0.592867\n",
            "225 2018-08-04 21:05:31  302233  48.131474  ...          NaN           NaN        NaN\n",
            "226 2018-08-04 22:01:23  302234  47.980060  ...          NaN           NaN   0.096432\n",
            "227 2018-08-04 22:54:01  302235  48.039266  ...          NaN           NaN        NaN\n",
            "\n",
            "[228 rows x 30 columns]\n"
          ],
          "name": "stdout"
        },
        {
          "output_type": "execute_result",
          "data": {
            "text/html": [
              "<div>\n",
              "<style scoped>\n",
              "    .dataframe tbody tr th:only-of-type {\n",
              "        vertical-align: middle;\n",
              "    }\n",
              "\n",
              "    .dataframe tbody tr th {\n",
              "        vertical-align: top;\n",
              "    }\n",
              "\n",
              "    .dataframe thead th {\n",
              "        text-align: right;\n",
              "    }\n",
              "</style>\n",
              "<table border=\"1\" class=\"dataframe\">\n",
              "  <thead>\n",
              "    <tr style=\"text-align: right;\">\n",
              "      <th></th>\n",
              "      <th>originTime</th>\n",
              "      <th>ptime</th>\n",
              "      <th>stime</th>\n",
              "      <th>magnitude</th>\n",
              "      <th>nwp</th>\n",
              "      <th>nws</th>\n",
              "    </tr>\n",
              "  </thead>\n",
              "  <tbody>\n",
              "    <tr>\n",
              "      <th>0</th>\n",
              "      <td>2018-08-01 01:25:41</td>\n",
              "      <td>2018-08-01 01:25:42</td>\n",
              "      <td>2018-08-01 01:25:43</td>\n",
              "      <td>-0.023490</td>\n",
              "      <td>3</td>\n",
              "      <td>4</td>\n",
              "    </tr>\n",
              "    <tr>\n",
              "      <th>1</th>\n",
              "      <td>2018-08-01 01:26:07</td>\n",
              "      <td>2018-08-01 01:26:08</td>\n",
              "      <td>2018-08-01 01:26:08</td>\n",
              "      <td>0.038634</td>\n",
              "      <td>3</td>\n",
              "      <td>4</td>\n",
              "    </tr>\n",
              "    <tr>\n",
              "      <th>2</th>\n",
              "      <td>2018-08-01 01:33:53</td>\n",
              "      <td>NaT</td>\n",
              "      <td>2018-08-01 01:33:54</td>\n",
              "      <td>0.149247</td>\n",
              "      <td>1</td>\n",
              "      <td>4</td>\n",
              "    </tr>\n",
              "    <tr>\n",
              "      <th>3</th>\n",
              "      <td>2018-08-01 02:53:06</td>\n",
              "      <td>NaT</td>\n",
              "      <td>NaT</td>\n",
              "      <td>0.195746</td>\n",
              "      <td>2</td>\n",
              "      <td>4</td>\n",
              "    </tr>\n",
              "    <tr>\n",
              "      <th>4</th>\n",
              "      <td>2018-08-01 03:20:59</td>\n",
              "      <td>2018-08-01 03:21:00</td>\n",
              "      <td>2018-08-01 03:21:01</td>\n",
              "      <td>-0.269741</td>\n",
              "      <td>2</td>\n",
              "      <td>4</td>\n",
              "    </tr>\n",
              "  </tbody>\n",
              "</table>\n",
              "</div>"
            ],
            "text/plain": [
              "           originTime               ptime  ... nwp  nws\n",
              "0 2018-08-01 01:25:41 2018-08-01 01:25:42  ...   3    4\n",
              "1 2018-08-01 01:26:07 2018-08-01 01:26:08  ...   3    4\n",
              "2 2018-08-01 01:33:53                 NaT  ...   1    4\n",
              "3 2018-08-01 02:53:06                 NaT  ...   2    4\n",
              "4 2018-08-01 03:20:59 2018-08-01 03:21:00  ...   2    4\n",
              "\n",
              "[5 rows x 6 columns]"
            ]
          },
          "metadata": {
            "tags": []
          },
          "execution_count": 4
        }
      ]
    },
    {
      "cell_type": "code",
      "metadata": {
        "id": "P5A4m2nj0Rdu",
        "colab": {
          "base_uri": "https://localhost:8080/",
          "height": 282
        },
        "outputId": "cc82482a-0d96-4066-d5ba-63736ef1b79e"
      },
      "source": [
        "# A way to visualize which and how many detections are lining up in time:\n",
        "# Scatter plot the true time arrivals, and overlay the EQTransformer detections\n",
        "\n",
        "# Filter to desired time band\n",
        "new_enwf = new_enwf.loc[(new_enwf.ptime>startdate) & (new_enwf.ptime<enddate)]\n",
        "\n",
        "fig,ax = plt.subplots()\n",
        "ax.scatter(org_enwf['ENWF_S_time'],np.zeros(len(org_enwf)))\n",
        "\n",
        "# Define successful EQTransformer detections as those that occur within 2 seconds of true detections\n",
        "success = []\n",
        "for i in org_enwf['ENWF_P_time']:\n",
        "  differ = new_enwf['ptime'] - i\n",
        "  if any(abs(differ)<timedelta(seconds=2)):\n",
        "    success.append(min(abs(differ)))\n",
        "\n",
        "S_success = []\n",
        "for i in org_enwf['ENWF_S_time']:\n",
        "  differ = new_enwf['stime'] - i\n",
        "  if any(abs(differ)<timedelta(seconds=2)):\n",
        "    S_success.append(min(abs(differ)))\n",
        "\n",
        "for i in new_enwf['ptime'].dropna():\n",
        "  ax.axvline(i) \n",
        "\n",
        "\n",
        "print(len(success))\n"
      ],
      "execution_count": null,
      "outputs": [
        {
          "output_type": "stream",
          "text": [
            "2\n"
          ],
          "name": "stdout"
        },
        {
          "output_type": "display_data",
          "data": {
            "image/png": "[encoded data removed]",
            "text/plain": [
              "<Figure size 432x288 with 1 Axes>"
            ]
          },
          "metadata": {
            "tags": [],
            "needs_background": "light"
          }
        }
      ]
    },
    {
      "cell_type": "code",
      "metadata": {
        "id": "L8urYHYX24Gu"
      },
      "source": [
        "def calc_performance(true_data,new_data):\n",
        "  '''\n",
        "  Reads in two vectors/pandas columns in datetime format\n",
        "  \n",
        "  Inputs:\n",
        "\n",
        "  true_data = vector containing the datetimes of a phase arrival (either P or S) as detected by traditional methods\n",
        "  new_data = vector containing the datetimes of a phase arrival (either P or S) as detected by EQTransformer\n",
        "  \n",
        "  NOTE: true_data must be longer than new_data in the way the code is written. \n",
        "\n",
        "  Matches occur when the timing of one arrival is within 2 seconds of another\n",
        "  \n",
        "  Returns: \n",
        "  \n",
        "  tp = number of true positives (number of matches)\n",
        "  fn = number of false negatives (number of traditional method detections that did not have an EQTransformer match)\n",
        "  fp = number of false positivies (number of EQTransformer detections that did not have a traditional detection match)\n",
        "  '''\n",
        "     success = []\n",
        "     for i in true_data:\n",
        "      differ = new_data - i\n",
        "      if any(abs(differ)<timedelta(seconds=2)):\n",
        "        success.append(min(abs(differ)))\n",
        "     \n",
        "     # True positive\n",
        "     tp = len(success)\n",
        "     # False negative\n",
        "     fn = len(true_data) - len(success)\n",
        "     # False positive\n",
        "     fp = len(new_data) - len(success)\n",
        "     # Precision\n",
        "     prec = tp/(fp+tp)\n",
        "     # Recall\n",
        "     rec = tp / (tp + fn)\n",
        "     # F1 score\n",
        "     f1 = tp / (tp + (fn+fp)/2)\n",
        "\n",
        "     return(tp,fn,fp)\n",
        "\n",
        "\n"
      ],
      "execution_count": null,
      "outputs": []
    },
    {
      "cell_type": "code",
      "metadata": {
        "colab": {
          "base_uri": "https://localhost:8080/"
        },
        "id": "xVeoYSV5mbX2",
        "outputId": "055b9198-e1a4-4a6b-fbd6-0785f81d8a6a"
      },
      "source": [
        "# Read in finished runs\n",
        "\n",
        "test_folder = '/content/gdrive/Shareddrives/ESS490_Spring2021/True False Parameter Results/Success_Results'\n",
        "\n",
        "test = pd.read_csv(test_folder+'/default_results')\n",
        "test.columns\n",
        "test.drop(columns='Unnamed: 0',inplace=True)\n",
        "print('Default results:')\n",
        "print(test)\n",
        "\n",
        "test2 = pd.read_csv(test_folder+'/dt_03_results')\n",
        "test2.columns\n",
        "test2.drop(columns='Unnamed: 0',inplace=True)\n",
        "print('Detection threshold 0.3:')\n",
        "print(test2)\n",
        "\n",
        "test3 = pd.read_csv(test_folder+'/bs_50_results')\n",
        "test3.columns\n",
        "test3.drop(columns='Unnamed: 0',inplace=True)\n",
        "print('Detection threshold 0.3:')\n",
        "print(test3)"
      ],
      "execution_count": null,
      "outputs": [
        {
          "output_type": "stream",
          "text": [
            "Default results:\n",
            "  Station-Phase Pair  True Positives  False Negatives  False Positives\n",
            "0             ENWF_P               2               79                4\n",
            "1             ENWF_S               5               76                1\n",
            "2             KEMF_P               3               78                5\n",
            "3             KEMF_S               6               75                2\n",
            "4             KEMO_P               7               74                2\n",
            "5             KEMO_S               6               75                3\n",
            "6             ENHR_P               2               79                8\n",
            "7             ENHR_S               9               72                1\n",
            "Detection threshold 0.3:\n",
            "  Station-Phase Pair  True Positives  False Negatives  False Positives\n",
            "0             ENWF_P               2               79                4\n",
            "1             ENWF_S               5               76                1\n",
            "2             KEMF_P               4               77                5\n",
            "3             KEMF_S               6               75                3\n",
            "4             KEMO_P               6               75                2\n",
            "5             KEMO_S               5               76                3\n",
            "6             ENHR_P               2               79                8\n",
            "7             ENHR_S               7               74                3\n",
            "Detection threshold 0.3:\n",
            "  Station-Phase Pair  True Positives  False Negatives  False Positives\n",
            "0             ENWF_P               2               79                4\n",
            "1             ENWF_S               5               76                1\n",
            "2             KEMF_P               4               77                5\n",
            "3             KEMF_S               7               74                2\n",
            "4             KEMO_P               7               74                2\n",
            "5             KEMO_S               7               74                2\n",
            "6             ENHR_P               2               79               12\n",
            "7             ENHR_S              11               70                3\n"
          ],
          "name": "stdout"
        }
      ]
    },
    {
      "cell_type": "code",
      "metadata": {
        "colab": {
          "base_uri": "https://localhost:8080/"
        },
        "id": "Zf_jSk2IfNpq",
        "outputId": "70646ca7-8f0a-43fc-d2a8-008a859fcb7a"
      },
      "source": [
        "success = pd.DataFrame(columns=['Station-Phase Pair','True Positives','False Negatives','False Positives'])\n",
        "# enwf_p_tp,enwf_p_fn = calc_fscore(org_enwf['ENWF_P_time'],new_enwf['ptime'])\n",
        "success['Station-Phase Pair'] = ['ENWF_P','ENWF_S','KEMF_P','KEMF_S','KEMO_P','KEMO_S','ENHR_P','ENHR_S']\n",
        "success['True Positives'].iloc[0],success['False Negatives'].iloc[0],success['False Positives'].iloc[0] = calc_performance(org_enwf['ptime'],new_enwf['ptime'])\n",
        "success['True Positives'].iloc[1],success['False Negatives'].iloc[1],success['False Positives'].iloc[1] = calc_performance(org_enwf['stime'],new_enwf['stime'])\n",
        "success['True Positives'].iloc[2],success['False Negatives'].iloc[2],success['False Positives'].iloc[2] = calc_performance(org_kemf['ptime'],new_kemf['ptime'])\n",
        "success['True Positives'].iloc[3],success['False Negatives'].iloc[3],success['False Positives'].iloc[3] = calc_performance(org_kemf['stime'],new_kemf['stime'])\n",
        "success['True Positives'].iloc[4],success['False Negatives'].iloc[4],success['False Positives'].iloc[4] = calc_performance(org_kemo['ptime'],new_kemo['ptime'])\n",
        "success['True Positives'].iloc[5],success['False Negatives'].iloc[5],success['False Positives'].iloc[5] = calc_performance(org_kemo['stime'],new_kemo['stime'])\n",
        "success['True Positives'].iloc[6],success['False Negatives'].iloc[6],success['False Positives'].iloc[6] = calc_performance(org_enhr['ptime'],new_enhr['ptime'])\n",
        "success['True Positives'].iloc[7],success['False Negatives'].iloc[7],success['False Positives'].iloc[7] = calc_performance(org_enhr['stime'],new_enhr['stime'])\n",
        "print(success)"
      ],
      "execution_count": null,
      "outputs": [
        {
          "output_type": "stream",
          "text": [
            "  Station-Phase Pair True Positives False Negatives False Positives\n",
            "0             ENWF_P              2              79               3\n",
            "1             ENWF_S              4              77               1\n",
            "2             KEMF_P              4              77              16\n",
            "3             KEMF_S              6              75              14\n",
            "4             KEMO_P              5              76              11\n",
            "5             KEMO_S              5              76              11\n",
            "6             ENHR_P              3              78              42\n",
            "7             ENHR_S              9              72              36\n"
          ],
          "name": "stdout"
        }
      ]
    },
    {
      "cell_type": "code",
      "metadata": {
        "colab": {
          "base_uri": "https://localhost:8080/"
        },
        "id": "PIPy09CahuP2",
        "outputId": "ce5ccca7-6df9-4d6a-d0e1-ffe510ae233c"
      },
      "source": [
        "# Earthquake characteristic analysis\n",
        "\n",
        "def get_indices(true_data,new_data):\n",
        "  success=[]\n",
        "\n",
        "  counter = 0\n",
        "  # Save indices of successful matches\n",
        "  for i in true_data['ptime']:\n",
        "    counter += 1\n",
        "    differ = new_data['ptime'] - i\n",
        "    if any(abs(differ)<timedelta(seconds=2)):\n",
        "        # success.append(np.amin(abs(differ)))\n",
        "        success.append(counter)\n",
        "  counter = 0\n",
        "  for i in true_data['stime']:\n",
        "    counter += 1\n",
        "    differ = new_data['stime'] - i\n",
        "    if any(abs(differ)<timedelta(seconds=2)):\n",
        "        # success.append(np.amin(abs(differ)))\n",
        "        success.append(counter)\n",
        "  \n",
        "  return(success)\n",
        "\n",
        "success1 = get_indices(org_enhr,new_enhr)\n",
        "success2 = get_indices(org_enwf,new_enwf)\n",
        "success3 = get_indices(org_kemf,new_kemf)\n",
        "success4 = get_indices(org_kemo,new_kemo)\n",
        "all=success1+success2+success3+success4\n",
        "eq_stats = pd.DataFrame(columns=['Magnitude','nwp','nws'])\n",
        "eq_stats['Magnitude'] = org_kemf['magnitude'].iloc[np.unique(all)]\n",
        "eq_stats['nwp'] = org_kemf['nwp'].iloc[np.unique(all)]\n",
        "eq_stats['nws'] = org_kemf['nws'].iloc[np.unique(all)]\n",
        "print(eq_stats)"
      ],
      "execution_count": null,
      "outputs": [
        {
          "output_type": "stream",
          "text": [
            "     Magnitude  nwp  nws\n",
            "149   1.632591    2    4\n",
            "150   0.338127    4    4\n",
            "156   0.739630    3    4\n",
            "157  -0.114712    3    4\n",
            "161   0.967936    3    4\n",
            "165        NaN    1    4\n",
            "172   0.389003    4    4\n",
            "173   0.248404    3    4\n",
            "181   0.259680    3    4\n",
            "189   0.036561    2    4\n",
            "203  -0.310464    2    3\n",
            "221  -0.068506    3    4\n",
            "225        NaN    0    5\n",
            "226   0.096432    1    4\n"
          ],
          "name": "stdout"
        }
      ]
    }
  ]
}