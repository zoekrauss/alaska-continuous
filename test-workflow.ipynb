{
 "cells": [
  {
   "cell_type": "markdown",
   "id": "ce91f43f",
   "metadata": {},
   "source": [
    "# TO-DO:\n",
    "\n",
    "### Read in master station list\n",
    "\n",
    "### Look at how number of offshore stations changes through time\n",
    "\n",
    "### Pick an hour!\n",
    "\n",
    "### Write a function that creates a station list based on various choices (time, network, elevation, etc.)\n",
    "\n",
    "### Write a function that loops through 30 s at a time downloading waveforms from a given station list\n",
    "- Dask? Parallelize?\n",
    "\n",
    "### Save the downloaded hour of waveforms\n",
    "\n",
    "### Write a function that calls to PhaseNet through QuakeFlow API using downloaded waveforms, test how long it takes\n",
    "\n",
    "### Write a function that calls to PhaseNet using Seisbench, test how long it takes"
   ]
  },
  {
   "cell_type": "code",
   "execution_count": 1,
   "id": "b3e233cb",
   "metadata": {},
   "outputs": [
    {
     "name": "stdout",
     "output_type": "stream",
     "text": [
      "Preparing transaction: ...working... done\n",
      "Verifying transaction: ...working... done\n",
      "Executing transaction: ...working... Enabling notebook extension jupyter-js-widgets/extension...\n",
      "      - Validating: \u001b[32mOK\u001b[0m\n",
      "\n",
      "done\n",
      "Installing pip dependencies: ...working... done\n"
     ]
    }
   ],
   "source": [
    "!mamba env create --quiet -f environment.yml"
   ]
  },
  {
   "cell_type": "code",
   "execution_count": 1,
   "id": "c8e7088a",
   "metadata": {},
   "outputs": [],
   "source": [
    "import obspy\n",
    "import obsplus\n",
    "import pandas as pd\n",
    "from obspy.clients.fdsn import Client\n",
    "from datetime import timedelta\n",
    "import datetime\n",
    "import matplotlib.pyplot as plt\n",
    "import numpy as np\n",
    "import logging\n",
    "import requests\n",
    "import seisbench\n",
    "import seisbench.models as sbm\n",
    "import dask\n",
    "import json\n",
    "\n",
    "# Progress bar for dask operations:\n",
    "from dask.diagnostics import ProgressBar\n",
    "pbar = dask.diagnostics.ProgressBar()\n",
    "pbar.register()"
   ]
  },
  {
   "cell_type": "markdown",
   "id": "5850e9c7",
   "metadata": {},
   "source": [
    "## Read in master station list"
   ]
  },
  {
   "cell_type": "code",
   "execution_count": 2,
   "id": "45a3a1fc",
   "metadata": {},
   "outputs": [],
   "source": [
    "# Load master station list\n",
    "dfS = pd.read_parquet('https://github.com/zoekrauss/alaska_catalog/raw/main/data_acquisition/alaska_stations.parquet')\n",
    "\n",
    "# Convert to pandas datetime\n",
    "dfS['start_date']=pd.to_datetime(dfS['start_date'],infer_datetime_format=True,errors='coerce')\n",
    "dfS['end_date']=pd.to_datetime(dfS['end_date'],infer_datetime_format=True,errors='coerce')"
   ]
  },
  {
   "cell_type": "markdown",
   "id": "06df55c7",
   "metadata": {},
   "source": [
    "## Look at how number of offshore stations changes through time"
   ]
  },
  {
   "cell_type": "code",
   "execution_count": 36,
   "id": "7d6b781a",
   "metadata": {},
   "outputs": [],
   "source": [
    "# Count up how many offshore stations are operating per day\n",
    "\n",
    "offshore = dfS[dfS['elevation(m)']<-10]\n",
    "\n",
    "start_date = datetime.datetime(2018,5,1)\n",
    "end_date = datetime.datetime(2020,1,1)\n",
    "\n",
    "days = (end_date - start_date).days\n",
    "\n",
    "count = []\n",
    "for i in range(days):\n",
    "    t1 = start_date + pd.Timedelta(i,'days')\n",
    "    t2 = start_date + pd.Timedelta(i+1,'days')\n",
    "\n",
    "\n",
    "    count.append(((offshore['start_date'] < t1) & (offshore['end_date'] > t2)).sum())"
   ]
  },
  {
   "cell_type": "code",
   "execution_count": 37,
   "id": "6d2f3bd7",
   "metadata": {},
   "outputs": [
    {
     "data": {
      "image/png": "[encoded data removed]",
      "text/plain": [
       "<Figure size 720x216 with 1 Axes>"
      ]
     },
     "metadata": {
      "needs_background": "light"
     },
     "output_type": "display_data"
    }
   ],
   "source": [
    "# Plot up that count to see how it changes through time\n",
    "\n",
    "%matplotlib inline\n",
    "plt.figure(figsize=(10, 3))\n",
    "plt.plot(np.arange(start_date,end_date,pd.Timedelta(1,'days')),count)\n",
    "plt.xlabel('Time'); plt.ylabel('# of offshore stations')\n",
    "plt.title('# of offshore stations through time')\n",
    "plt.show()"
   ]
  },
  {
   "cell_type": "markdown",
   "id": "d6587818",
   "metadata": {},
   "source": [
    "## Pick a time!"
   ]
  },
  {
   "cell_type": "code",
   "execution_count": 5,
   "id": "4b8b9ef5",
   "metadata": {},
   "outputs": [
    {
     "data": {
      "text/plain": [
       "37"
      ]
     },
     "execution_count": 5,
     "metadata": {},
     "output_type": "execute_result"
    }
   ],
   "source": [
    "# Let's pick a time. This one has 34 stations, and a magnitude 3 earthquake:\n",
    "\n",
    "t1 = datetime.datetime(2018,5,25,12,30)\n",
    "t2 = t1 + pd.Timedelta(1,'days')\n",
    "\n",
    "((offshore['start_date'] < t1) & (offshore['end_date'] > t2)).sum()"
   ]
  },
  {
   "cell_type": "markdown",
   "id": "3bc4d3c3",
   "metadata": {},
   "source": [
    "## Now we'll make a station sublist."
   ]
  },
  {
   "cell_type": "code",
   "execution_count": 3,
   "id": "7054f4c3",
   "metadata": {},
   "outputs": [],
   "source": [
    "def station_list(dfS,t1,t2,elevation=False,network=False):\n",
    "    \"\"\" Function to make a station sublist from the master station list based on several choices\n",
    "    \n",
    "    INPUTS:\n",
    "    dfS - pandas dataframe of station information for the entire AACSE catalog\n",
    "    t1,t2 - datetime objects; only return stations operating between these two timestamps\n",
    "    elevation - float; only return stations below this maximum elevation\n",
    "    network - string; only return stations within this network\n",
    "    \"\"\"\n",
    "    \n",
    "    dfS = dfS[(dfS['start_date'] < t1) & (dfS['end_date'] > t2)]\n",
    "    \n",
    "    \n",
    "    if elevation:\n",
    "        dfS = dfS[dfS['elevation(m)']<elevation]\n",
    "        \n",
    "    if network:\n",
    "        dfS = dfS[dfS['network']==network]\n",
    "    \n",
    "    return dfS"
   ]
  },
  {
   "cell_type": "code",
   "execution_count": 43,
   "id": "287af387",
   "metadata": {},
   "outputs": [],
   "source": [
    "# Make our sublist!\n",
    "\n",
    "sub = station_list(dfS,t1,t2,elevation=-10)"
   ]
  },
  {
   "cell_type": "markdown",
   "id": "0bac9e15",
   "metadata": {},
   "source": [
    "## Function to retrieve waveforms for a given station list:"
   ]
  },
  {
   "cell_type": "code",
   "execution_count": 4,
   "id": "ebe27acc",
   "metadata": {},
   "outputs": [],
   "source": [
    "def retrieve_waveforms(dfS,t1,t2,sampling_rate=100):\n",
    "    \n",
    "\n",
    "    client = Client(\"iris\")\n",
    "    \n",
    "    df = dfS.loc[:,['network','station']]\n",
    "    df['location']='*'\n",
    "    df['channels']=dfS.id.str[-2:]+'*'\n",
    "    df['start']=obspy.UTCDateTime(t1)\n",
    "    df['end']=obspy.UTCDateTime(t2)\n",
    "\n",
    "    bulk_order = df.to_records(index=False).tolist()\n",
    "    \n",
    "    st = client.get_waveforms_bulk(bulk_order)\n",
    "    \n",
    "    # Detrend all traces:\n",
    "    try:\n",
    "        st = st.detrend(\"spline\", order=2, dspline=5 * st[0].stats.sampling_rate)\n",
    "    except:\n",
    "        # logging.error(f\"Error: spline detrend failed at file {fname}\")\n",
    "        st = st.detrend(\"demean\")\n",
    "    \n",
    "    # Make sure all traces are the same length by padding with zeros:\n",
    "    st = st.merge(fill_value=0)\n",
    "    st = st.trim(obspy.UTCDateTime(t1),obspy.UTCDateTime(t2), pad=True, fill_value=0)\n",
    "    \n",
    "        # Double check that everything is the same sampling rate:\n",
    "    for i in range(len(st)):\n",
    "        if st[i].stats.sampling_rate != sampling_rate:\n",
    "            st[i] = st[i].interpolate(sampling_rate, method=\"linear\")\n",
    "            \n",
    "\n",
    "\n",
    "    \n",
    "    return st\n"
   ]
  },
  {
   "cell_type": "markdown",
   "id": "473fbb06",
   "metadata": {},
   "source": [
    "## Parallelize a call to loop over 30 s at a time, retrieving waveforms:"
   ]
  },
  {
   "cell_type": "code",
   "execution_count": 18,
   "id": "eded8791",
   "metadata": {},
   "outputs": [],
   "source": [
    "t1 = datetime.datetime(2018,5,25,12,36,30)\n",
    "t2 = t1 + pd.Timedelta(30,'minutes')\n",
    "\n",
    "sub = station_list(dfS,t1,t2,elevation=False)\n",
    "time_bins = pd.to_datetime(np.arange(t1,t2,pd.Timedelta(30,'seconds')))\n",
    "\n",
    "\n",
    "@dask.delayed\n",
    "def loop_times(dfS,t1,step):\n",
    "    return retrieve_waveforms(dfS,t1,t1+pd.Timedelta(step,'seconds'))\n",
    "\n",
    "lazy_results = [loop_times(sub,time,30) for time in time_bins]"
   ]
  },
  {
   "cell_type": "code",
   "execution_count": 19,
   "id": "945dcd92",
   "metadata": {},
   "outputs": [
    {
     "name": "stdout",
     "output_type": "stream",
     "text": [
      "[########################################] | 100% Completed | 26min 44.6s\n",
      "CPU times: user 2min 47s, sys: 18.2 s, total: 3min 5s\n",
      "Wall time: 26min 44s\n"
     ]
    }
   ],
   "source": [
    "%%time\n",
    "\n",
    "# NOTES:\n",
    "# 3 min 52 s for 1 hour for elevation of -10!\n",
    "# 14 min for 1 hour for elevation of 300!\n",
    "# 7 min 52 s for 2 hours!\n",
    "# 47 min for 12 hours!\n",
    "# NOTE: timeout error when try to do a whole day\n",
    "\n",
    "\n",
    "results = dask.compute(lazy_results)"
   ]
  },
  {
   "cell_type": "markdown",
   "id": "9b41f516",
   "metadata": {},
   "source": [
    "## Convert output to a list of streams. Each stream is for a given 30 second window. "
   ]
  },
  {
   "cell_type": "code",
   "execution_count": 20,
   "id": "2ebaff35",
   "metadata": {},
   "outputs": [],
   "source": [
    "streams = results[0]"
   ]
  },
  {
   "cell_type": "markdown",
   "id": "cacb7743",
   "metadata": {},
   "source": [
    "## Save to mseed for safekeeping:"
   ]
  },
  {
   "cell_type": "code",
   "execution_count": 117,
   "id": "8f9c5798",
   "metadata": {},
   "outputs": [
    {
     "ename": "AttributeError",
     "evalue": "'list' object has no attribute 'write'",
     "output_type": "error",
     "traceback": [
      "\u001b[0;31m---------------------------------------------------------------------------\u001b[0m",
      "\u001b[0;31mAttributeError\u001b[0m                            Traceback (most recent call last)",
      "Input \u001b[0;32mIn [117]\u001b[0m, in \u001b[0;36m<module>\u001b[0;34m\u001b[0m\n\u001b[0;32m----> 1\u001b[0m \u001b[43mstreams\u001b[49m\u001b[38;5;241;43m.\u001b[39;49m\u001b[43mwrite\u001b[49m(\u001b[38;5;124m\"\u001b[39m\u001b[38;5;124malaska_1hour.mseed\u001b[39m\u001b[38;5;124m\"\u001b[39m, \u001b[38;5;28mformat\u001b[39m\u001b[38;5;241m=\u001b[39m\u001b[38;5;124m\"\u001b[39m\u001b[38;5;124mMSEED\u001b[39m\u001b[38;5;124m\"\u001b[39m)\n",
      "\u001b[0;31mAttributeError\u001b[0m: 'list' object has no attribute 'write'"
     ]
    }
   ],
   "source": [
    "streams.write(\"alaska_1hour.mseed\", format=\"MSEED\")  "
   ]
  },
  {
   "cell_type": "markdown",
   "id": "1340ebd0",
   "metadata": {
    "tags": []
   },
   "source": [
    "## Phase pick using PhaseNet via QuakeFlow:"
   ]
  },
  {
   "cell_type": "code",
   "execution_count": 12,
   "id": "9835a5ef",
   "metadata": {},
   "outputs": [],
   "source": [
    "def pick_quakeflow(st,dfS,remove_resp=False):\n",
    "    \"\"\"\n",
    "    Runs a 30-s obspy stream through PhaseNet using QuakeFlow\n",
    "    \n",
    "    1. Converts stream to a set of numpy arrays\n",
    "    \"\"\"\n",
    "    \n",
    "    sampling_rate = 100\n",
    "    n_channel = 3\n",
    "    dtype = \"float32\"\n",
    "    amplitude = True\n",
    "    \n",
    "    \n",
    "\n",
    "    starttime = min([p.stats.starttime for p in st])\n",
    "    endtime = min([p.stats.endtime for p in st])\n",
    "    \n",
    "    # Double check that everything is the same sampling rate:\n",
    "    for i in range(len(st)):\n",
    "        if st[i].stats.sampling_rate != sampling_rate:\n",
    "            # logging.warning(\n",
    "            #     f\"Resampling {st[i].id} from {st[i].stats.sampling_rate} to {sampling_rate} Hz\"\n",
    "            # )\n",
    "            st[i] = st[i].interpolate(sampling_rate, method=\"linear\")\n",
    "    \n",
    "    # Set up an order to loop through the traces\n",
    "    order = ['3', '2', '1', 'E', 'N', 'Z']\n",
    "    order = {key: i for i, key in enumerate(order)}\n",
    "    comp2idx = {\"3\": 0, \"2\": 1, \"1\": 2, \"E\": 0, \"N\": 1, \"Z\": 2}\n",
    "    \n",
    "    nsta = len(dfS)\n",
    "    nt = max(len(st[i].data) for i in range(len(st)))\n",
    "    data = []\n",
    "    station_id = []\n",
    "    t0 = []\n",
    "    \n",
    "        # Loop through traces\n",
    "        #for i in range(len(st)):\n",
    "         #   trace_data = np.zeros([nt, n_channel], dtype=dtype)\n",
    "          #  empty_station = True\n",
    "           # sta_id = st[i].meta.network + '.' + st[i].meta.station + '..'+ st[i].meta.channel[0:2]\n",
    "\n",
    "       # t1 = st[i].stats.starttime\n",
    "       # t2 = st[i].stats.endtime\n",
    "        \n",
    "       # sta = dfS[dfS['id']==sta]\n",
    "       # comp = sta.iloc[0].split(\",\")\n",
    "        \n",
    "       # if remove_resp:\n",
    "       #     resp = sta.iloc[0][\"response\"].split(\",\")\n",
    "            \n",
    "            \n",
    "        \n",
    "    # Loop through stations and time bands\n",
    "    \n",
    "    for i in range(nsta):\n",
    "        trace_data = np.zeros([nt, n_channel], dtype=dtype)\n",
    "        empty_station = True\n",
    "        # sta = station_locs.iloc[i][\"station\"]\n",
    "        sta = dfS.id[i]\n",
    "        comp = dfS.iloc[i][\"component\"].split(\",\")\n",
    "        if remove_resp:\n",
    "            resp = dfS.iloc[i][\"response\"].split(\",\")\n",
    "            # resp = station_locs.iloc[i][\"response\"]\n",
    "\n",
    "        for j, c in enumerate(sorted(comp, key=lambda x: order[x[-1]])):\n",
    "            \n",
    "            if remove_resp:\n",
    "                resp_j = float(resp[j])\n",
    "            \n",
    "            \n",
    "            if len(comp) != 3:  ## less than 3 component\n",
    "                j = comp2idx[c]\n",
    "\n",
    "            if len(st.select(id=sta + c)) == 0:\n",
    "                # print(f\"Empty trace: {sta+c} {starttime}\")\n",
    "                continue\n",
    "            else:\n",
    "                empty_station = False\n",
    "\n",
    "            tmp = st.select(id=sta + c)[0].data.astype(dtype)\n",
    "            trace_data[: len(tmp), j] = tmp[:nt]\n",
    "\n",
    "            if dfS.iloc[i][\"unit\"] == \"m/s**2\":\n",
    "                tmp = st.select(id=sta + c)[0]\n",
    "                tmp = tmp.integrate()\n",
    "                tmp = tmp.filter(\"highpass\", freq=1.0)\n",
    "                tmp = tmp.data.astype(dtype)\n",
    "                trace_data[: len(tmp), j] = tmp[:nt]\n",
    "            elif dfS.iloc[i][\"unit\"] == \"m/s\":\n",
    "                tmp = st.select(id=sta + c)[0].data.astype(dtype)\n",
    "                trace_data[: len(tmp), j] = tmp[:nt]\n",
    "            else:\n",
    "                print(\n",
    "                    f\"Error in {station_locs.iloc[i]['station']}\\n{station_locs.iloc[i]['unit']} should be m/s**2 or m/s!\"\n",
    "                )\n",
    "            \n",
    "            if remove_resp:\n",
    "                trace_data[:, j] /= resp_j\n",
    "                \n",
    "        if not empty_station:\n",
    "            data.append(trace_data)\n",
    "            station_id.append(sta)\n",
    "            t0.append(starttime.strftime(\"%Y-%m-%dT%H:%M:%S.%f\")[:-3])\n",
    "\n",
    "    data = np.stack(data)\n",
    "    \n",
    "    # Make dictionary with data in numpy arrays, tied to station and time:\n",
    "    meta = {\"data\": data, \"t0\": t0, \"station_id\": station_id, \"fname\": station_id}\n",
    "    \n",
    "    # Use that to call to QuakeFlow API\n",
    "    \n",
    "    PHASENET_API_URL = \"http://phasenet.quakeflow.com\"\n",
    "\n",
    "    batch = 4\n",
    "    phasenet_picks = []\n",
    "    for j in range(0, len(meta[\"station_id\"]), batch):\n",
    "        req = {\"id\": meta['station_id'][j:j+batch],\n",
    "            \"timestamp\": meta[\"t0\"][j:j+batch],\n",
    "            \"vec\": meta[\"data\"][j:j+batch].tolist()}\n",
    "\n",
    "        resp = requests.post(f'{PHASENET_API_URL}/predict', json=req)\n",
    "        phasenet_picks.extend(resp.json())\n",
    "    \n",
    "    # print(phasenet_picks)\n",
    "    picks = pd.DataFrame(phasenet_picks)\n",
    "    \n",
    "    return phasenet_picks\n",
    "\n",
    "    \n",
    "    "
   ]
  },
  {
   "cell_type": "markdown",
   "id": "92ad2f56",
   "metadata": {},
   "source": [
    "## Call to PhaseNet via QuakeFlow by looping over each 30-s stream in parallel"
   ]
  },
  {
   "cell_type": "code",
   "execution_count": 21,
   "id": "ff60e959",
   "metadata": {},
   "outputs": [],
   "source": [
    "@dask.delayed\n",
    "def loop_phasenet(stream,sub):\n",
    "    return pick_quakeflow(stream,sub,remove_resp=True)\n",
    "\n",
    "lazy_results = [loop_phasenet(stream,sub) for stream in streams]"
   ]
  },
  {
   "cell_type": "code",
   "execution_count": 22,
   "id": "771f009b",
   "metadata": {},
   "outputs": [
    {
     "name": "stdout",
     "output_type": "stream",
     "text": [
      "[########################################] | 100% Completed | 46min 23.9s\n",
      "CPU times: user 35min 21s, sys: 56.7 s, total: 36min 17s\n",
      "Wall time: 46min 23s\n"
     ]
    }
   ],
   "source": [
    "%%time\n",
    "results = dask.compute(lazy_results)\n",
    "\n",
    "## NOTE: 4 min 18 s to run through 1 hour of data\n",
    "\n",
    "# 46 min to run through 30 min of the full station list"
   ]
  },
  {
   "cell_type": "markdown",
   "id": "d5dd7df8",
   "metadata": {},
   "source": [
    "## Concat results into a list of pick dictionaries, for GAMMA"
   ]
  },
  {
   "cell_type": "code",
   "execution_count": 23,
   "id": "4ea90f76",
   "metadata": {},
   "outputs": [],
   "source": [
    "phasenet_picks = []\n",
    "for pick in results[0]:\n",
    "    phasenet_picks.extend(pick)"
   ]
  },
  {
   "cell_type": "markdown",
   "id": "c9dfaf87",
   "metadata": {
    "tags": []
   },
   "source": [
    "## Send picks to GAMMA for association\n",
    "#### Note: may want to split this or run it in parallel in the future"
   ]
  },
  {
   "cell_type": "code",
   "execution_count": 24,
   "id": "db7672e7",
   "metadata": {},
   "outputs": [
    {
     "name": "stdout",
     "output_type": "stream",
     "text": [
      "CPU times: user 40.7 ms, sys: 4.56 ms, total: 45.3 ms\n",
      "Wall time: 1.23 s\n"
     ]
    }
   ],
   "source": [
    "%%time\n",
    "config = {}\n",
    "config[\"xlim_degree\"] = [-170,-140]\n",
    "config[\"ylim_degree\"] = [50,65]\n",
    "\n",
    "GAMMA_API_URL = \"http://gamma.quakeflow.com\"\n",
    "\n",
    "# stations_json = json.loads(station_locs.to_json(orient=\"records\"))\n",
    "flat_sub = sub.copy()\n",
    "flat_sub['start_date'] = flat_sub['start_date'].dt.strftime('%Y-%m-%d')\n",
    "flat_sub['end_date'] = flat_sub['end_date'].dt.strftime('%Y-%m-%d')\n",
    "stations_json = flat_sub.to_dict(orient=\"records\")\n",
    "config_gamma = {'xlim_degree': config[\"xlim_degree\"], \n",
    "                'ylim_degree': config[\"ylim_degree\"],\n",
    "                'z(km)': [0, 41]}\n",
    "\n",
    "result = requests.post(f'{GAMMA_API_URL}/predict', json= {\"picks\": phasenet_picks, \n",
    "                                                          \"stations\": stations_json,\n",
    "                                                           \"config\": config_gamma})\n",
    "\n",
    "result = result.json()"
   ]
  },
  {
   "cell_type": "markdown",
   "id": "0c27e405",
   "metadata": {},
   "source": [
    "## Save for evaluation"
   ]
  },
  {
   "cell_type": "code",
   "execution_count": 26,
   "id": "77b0a3f5",
   "metadata": {},
   "outputs": [],
   "source": [
    "save_file = 'result_all'\n",
    "\n",
    "with open(save_file+'.json', 'w') as f:\n",
    "    json.dump(result, f)"
   ]
  },
  {
   "cell_type": "markdown",
   "id": "5ea287bb",
   "metadata": {
    "tags": []
   },
   "source": [
    "## Phase pick using PhaseNet via SeisBench:\n",
    "\n",
    "## NOTE: the pretrained models don't load from the planetary computer. Need to try this locally.\n",
    "\n",
    "Documented here: https://github.com/seisbench/seisbench#known-issues"
   ]
  },
  {
   "cell_type": "code",
   "execution_count": 188,
   "id": "2243d1d0",
   "metadata": {},
   "outputs": [
    {
     "name": "stderr",
     "output_type": "stream",
     "text": [
      "2022-01-27 11:01:55,002 | seisbench | WARNING | Parts of the input stream consist of fragments shorter than the number of input samples. Output might be empty.\n",
      "2022-01-27 11:01:55,004 | seisbench | WARNING | Parts of the input stream consist of fragments shorter than the number of input samples. Output might be empty.\n",
      "2022-01-27 11:01:55,038 | seisbench | WARNING | Parts of the input stream consist of fragments shorter than the number of input samples. Output might be empty.\n",
      "2022-01-27 11:01:55,056 | seisbench | WARNING | Parts of the input stream consist of fragments shorter than the number of input samples. Output might be empty.\n",
      "2022-01-27 11:01:55,085 | seisbench | WARNING | Parts of the input stream consist of fragments shorter than the number of input samples. Output might be empty.\n"
     ]
    }
   ],
   "source": [
    "# Seisbench just runs on an obspy stream. \n",
    "# st = st.filter('bandpass',freqmin=5,freqmax=35)\n",
    "# st = st.taper(max_percentage=0.2)\n",
    "model = sbm.PhaseNet.from_pretrained(\"STEAD\")\n",
    "annotations = model.annotate(st)"
   ]
  },
  {
   "cell_type": "code",
   "execution_count": 189,
   "id": "c8074919",
   "metadata": {},
   "outputs": [
    {
     "data": {
      "text/plain": [
       "[]"
      ]
     },
     "execution_count": 189,
     "metadata": {},
     "output_type": "execute_result"
    }
   ],
   "source": [
    "model.classify(annotations)"
   ]
  },
  {
   "cell_type": "code",
   "execution_count": 191,
   "id": "04ba214b",
   "metadata": {},
   "outputs": [
    {
     "data": {
      "text/plain": [
       "<matplotlib.legend.Legend at 0x16efdbd30>"
      ]
     },
     "execution_count": 191,
     "metadata": {},
     "output_type": "execute_result"
    },
    {
     "data": {
      "image/png": "[encoded data removed]",
      "text/plain": [
       "<Figure size 1080x720 with 2 Axes>"
      ]
     },
     "metadata": {
      "needs_background": "light"
     },
     "output_type": "display_data"
    }
   ],
   "source": [
    "fig = plt.figure(figsize=(15, 10))\n",
    "axs = fig.subplots(2, 1, sharex=True, gridspec_kw={'hspace': 0})\n",
    "\n",
    "offset = annotations[0].stats.starttime - st[0].stats.starttime\n",
    "for i in [9,10,11]:\n",
    "    axs[0].plot(st[i].times(), st[i].data, label=st[i].stats.channel)\n",
    "    if annotations[i].stats.channel[-1] != \"N\":  # Do not plot noise curve\n",
    "        axs[1].plot(annotations[i].times() + offset, annotations[i].data, label=annotations[i].stats.channel)\n",
    "\n",
    "axs[0].legend()\n",
    "# axs[0].set_ylim([-5,5])\n",
    "axs[1].legend()"
   ]
  },
  {
   "cell_type": "code",
   "execution_count": null,
   "id": "bf853469",
   "metadata": {},
   "outputs": [],
   "source": [
    "import postprocess\n",
    "\n",
    "detect_peaks(pred[:,j,1], mph=mph_p, mpd=mpd, show=False)\n",
    "\n",
    "\n",
    "\n",
    "picks = postprocess.extract_picks(annotations[0].data)"
   ]
  },
  {
   "cell_type": "code",
   "execution_count": null,
   "id": "d912e199",
   "metadata": {},
   "outputs": [],
   "source": []
  }
 ],
 "metadata": {
  "kernelspec": {
   "display_name": "Python [conda env:alaska-ml]",
   "language": "python",
   "name": "conda-env-alaska-ml-py"
  },
  "language_info": {
   "codemirror_mode": {
    "name": "ipython",
    "version": 3
   },
   "file_extension": ".py",
   "mimetype": "text/x-python",
   "name": "python",
   "nbconvert_exporter": "python",
   "pygments_lexer": "ipython3",
   "version": "3.9.10"
  }
 },
 "nbformat": 4,
 "nbformat_minor": 5
}
