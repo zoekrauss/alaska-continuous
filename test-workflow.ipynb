{
 "cells": [
  {
   "cell_type": "markdown",
   "id": "d6ee00de-45ce-4cf6-a90e-68bb9c943769",
   "metadata": {},
   "source": [
    "# TO-DO:\n",
    "\n",
    "### Read in master station list\n",
    "\n",
    "### Look at how number of offshore stations changes through time\n",
    "\n",
    "### Pick an hour!\n",
    "\n",
    "### Write a function that creates a station list based on various choices (time, network, elevation, etc.)\n",
    "\n",
    "### Write a function that loops through 30 s at a time downloading waveforms from a given station list\n",
    "- Dask? Parallelize?\n",
    "\n",
    "### Save the downloaded hour of waveforms\n",
    "\n",
    "### Write a function that calls to PhaseNet through QuakeFlow API using downloaded waveforms, test how long it takes\n",
    "\n",
    "### Write a function that calls to PhaseNet using Seisbench, test how long it takes"
   ]
  },
  {
   "cell_type": "code",
   "execution_count": null,
   "id": "9fccd6e6-9893-4ed5-bdce-50026fe41edf",
   "metadata": {},
   "outputs": [],
   "source": [
    "!mamba env create --quiet -f environment.yml"
   ]
  },
  {
   "cell_type": "code",
   "execution_count": 1,
   "id": "c80fcc1b-fa33-4648-b93b-8d6ffed37335",
   "metadata": {},
   "outputs": [],
   "source": [
    "import obspy\n",
    "import obsplus\n",
    "import pandas as pd\n",
    "from obspy.clients.fdsn import Client\n",
    "from datetime import timedelta\n",
    "import datetime\n",
    "import matplotlib.pyplot as plt\n",
    "import numpy as np\n",
    "import logging\n",
    "import requests\n",
    "import seisbench\n",
    "import seisbench.models as sbm\n",
    "import dask"
   ]
  },
  {
   "cell_type": "markdown",
   "id": "21be1052-a488-40cf-98bb-2f58dfb62d46",
   "metadata": {},
   "source": [
    "## Read in master station list"
   ]
  },
  {
   "cell_type": "code",
   "execution_count": 2,
   "id": "a1242bcd-ab50-4a7b-9303-317c1bde507f",
   "metadata": {},
   "outputs": [],
   "source": [
    "# Load master station list\n",
    "dfS = pd.read_parquet('https://github.com/zoekrauss/alaska_catalog/raw/main/data_acquisition/alaska_stations.parquet')\n",
    "\n",
    "# Convert to pandas datetime\n",
    "dfS['start_date']=pd.to_datetime(dfS['start_date'],infer_datetime_format=True,errors='coerce')\n",
    "dfS['end_date']=pd.to_datetime(dfS['end_date'],infer_datetime_format=True,errors='coerce')"
   ]
  },
  {
   "cell_type": "markdown",
   "id": "a7df6e49-cccd-4c77-ab9d-64ef82fc0962",
   "metadata": {},
   "source": [
    "## Look at how number of offshore stations changes through time"
   ]
  },
  {
   "cell_type": "code",
   "execution_count": 3,
   "id": "42d69abf-ae58-467f-bb69-573f8c29d366",
   "metadata": {},
   "outputs": [],
   "source": [
    "# Count up how many offshore stations are operating per day\n",
    "\n",
    "offshore = dfS[dfS['elevation(m)']<-10]\n",
    "\n",
    "start_date = datetime.datetime(2018,5,1)\n",
    "end_date = datetime.datetime(2020,1,1)\n",
    "\n",
    "days = (end_date - start_date).days\n",
    "\n",
    "count = []\n",
    "for i in range(days):\n",
    "    t1 = start_date + pd.Timedelta(i,'days')\n",
    "    t2 = start_date + pd.Timedelta(i+1,'days')\n",
    "\n",
    "\n",
    "    count.append(((offshore['start_date'] < t1) & (offshore['end_date'] > t2)).sum())"
   ]
  },
  {
   "cell_type": "code",
   "execution_count": 4,
   "id": "e12c8b47-1bb2-4225-be69-bdd878c0175e",
   "metadata": {},
   "outputs": [
    {
     "data": {
      "image/png": "[encoded data removed]",
      "text/plain": [
       "<Figure size 720x216 with 1 Axes>"
      ]
     },
     "metadata": {
      "needs_background": "light"
     },
     "output_type": "display_data"
    }
   ],
   "source": [
    "# Plot up that count to see how it changes through time\n",
    "\n",
    "%matplotlib inline\n",
    "plt.figure(figsize=(10, 3))\n",
    "plt.plot(np.arange(start_date,end_date,pd.Timedelta(1,'days')),count)\n",
    "plt.xlabel('Time'); plt.ylabel('# of offshore stations')\n",
    "plt.title('# of offshore stations through time')\n",
    "plt.show()"
   ]
  },
  {
   "cell_type": "markdown",
   "id": "39c9896f-01da-40a0-a385-f05482c856ca",
   "metadata": {},
   "source": [
    "## Pick a time!"
   ]
  },
  {
   "cell_type": "code",
   "execution_count": 5,
   "id": "ca40214b-186a-4236-b625-2fc48ed36046",
   "metadata": {},
   "outputs": [
    {
     "data": {
      "text/plain": [
       "37"
      ]
     },
     "execution_count": 5,
     "metadata": {},
     "output_type": "execute_result"
    }
   ],
   "source": [
    "# Let's pick a time. This one has 34 stations, and a magnitude 3 earthquake:\n",
    "\n",
    "t1 = datetime.datetime(2018,5,25,12,30)\n",
    "t2 = t1 + pd.Timedelta(1,'days')\n",
    "\n",
    "((offshore['start_date'] < t1) & (offshore['end_date'] > t2)).sum()"
   ]
  },
  {
   "cell_type": "markdown",
   "id": "7882e68b-b615-48c6-9cc6-36658b450952",
   "metadata": {},
   "source": [
    "## Now we'll make a station sublist."
   ]
  },
  {
   "cell_type": "code",
   "execution_count": 6,
   "id": "b3896c46-8c8c-40b6-ab0c-8f8521be26ae",
   "metadata": {},
   "outputs": [],
   "source": [
    "def station_list(dfS,t1,t2,elevation=False,network=False):\n",
    "    \"\"\" Function to make a station sublist from the master station list based on several choices\n",
    "    \n",
    "    INPUTS:\n",
    "    dfS - pandas dataframe of station information for the entire AACSE catalog\n",
    "    t1,t2 - datetime objects; only return stations operating between these two timestamps\n",
    "    elevation - float; only return stations below this maximum elevation\n",
    "    network - string; only return stations within this network\n",
    "    \"\"\"\n",
    "    \n",
    "    dfS = dfS[(dfS['start_date'] < t1) & (dfS['end_date'] > t2)]\n",
    "    \n",
    "    \n",
    "    if elevation:\n",
    "        dfS = dfS[dfS['elevation(m)']<elevation]\n",
    "        \n",
    "    if network:\n",
    "        dfS = dfS[dfS['network']==network]\n",
    "    \n",
    "    return dfS"
   ]
  },
  {
   "cell_type": "code",
   "execution_count": 7,
   "id": "dced97da-1c9a-4cf6-bbec-7e4562c24302",
   "metadata": {},
   "outputs": [],
   "source": [
    "# Make our sublist!\n",
    "\n",
    "sub = station_list(dfS,t1,t2,elevation=-10)"
   ]
  },
  {
   "cell_type": "markdown",
   "id": "88e4a0b5-2818-4b64-bca0-4ed50dfc8bb5",
   "metadata": {},
   "source": [
    "## Function to retrieve waveforms for a given station list:"
   ]
  },
  {
   "cell_type": "code",
   "execution_count": 8,
   "id": "3077a437-3f23-4874-8bb8-e16f31b1ae47",
   "metadata": {},
   "outputs": [],
   "source": [
    "def retrieve_waveforms(dfS,t1,t2,sampling_rate=100):\n",
    "    \n",
    "\n",
    "    client = Client(\"iris\")\n",
    "    \n",
    "    networks = ','.join(dfS.network.unique().tolist())\n",
    "    stations = ','.join(dfS.station.unique().tolist())\n",
    "    channels = np.unique([p[-2:]+'*' for p in dfS['id']])[0]\n",
    "    location = '*'\n",
    "    st = client.get_waveforms(networks,\n",
    "                                stations,\n",
    "                                location,\n",
    "                                channels, \n",
    "                                obspy.UTCDateTime(t1), #obspy functions seem to require obspy dates\n",
    "                                obspy.UTCDateTime(t2),\n",
    "                               )\n",
    "    \n",
    "    # Detrend all traces:\n",
    "    try:\n",
    "        st = st.detrend(\"spline\", order=2, dspline=5 * st[0].stats.sampling_rate)\n",
    "    except:\n",
    "        # logging.error(f\"Error: spline detrend failed at file {fname}\")\n",
    "        st = st.detrend(\"demean\")\n",
    "    \n",
    "    # Make sure all traces are the same length by padding with zeros:\n",
    "    st = st.merge(fill_value=0)\n",
    "    st = st.trim(obspy.UTCDateTime(t1),obspy.UTCDateTime(t2), pad=True, fill_value=0)\n",
    "    \n",
    "        # Double check that everything is the same sampling rate:\n",
    "    for i in range(len(st)):\n",
    "        if st[i].stats.sampling_rate != sampling_rate:\n",
    "            st[i] = st[i].interpolate(sampling_rate, method=\"linear\")\n",
    "\n",
    "    \n",
    "    return st"
   ]
  },
  {
   "cell_type": "markdown",
   "id": "b14672d2-a923-4913-b56a-25258ebd3406",
   "metadata": {},
   "source": [
    "## Parallelize a call to loop over 30 s at a time, retrieving waveforms:"
   ]
  },
  {
   "cell_type": "code",
   "execution_count": 9,
   "id": "1ce4315f-729e-4a7d-bc9a-7bafb0bc9251",
   "metadata": {},
   "outputs": [],
   "source": [
    "t1 = datetime.datetime(2018,5,25,12)\n",
    "t2 = t1 + pd.Timedelta(1,'hours')\n",
    "\n",
    "time_bins = pd.to_datetime(np.arange(t1,t2,pd.Timedelta(30,'seconds')))\n",
    "\n",
    "\n",
    "@dask.delayed\n",
    "def loop_times(dfS,t1,step):\n",
    "    return retrieve_waveforms(dfS,t1,t1+pd.Timedelta(step,'seconds'))\n",
    "\n",
    "lazy_results = [loop_times(sub,time,30) for time in time_bins]"
   ]
  },
  {
   "cell_type": "code",
   "execution_count": 10,
   "id": "ab4775e1-1831-4ef3-8994-513a922c0133",
   "metadata": {},
   "outputs": [
    {
     "name": "stdout",
     "output_type": "stream",
     "text": [
      "CPU times: user 20.9 s, sys: 1.06 s, total: 22 s\n",
      "Wall time: 4min 15s\n"
     ]
    }
   ],
   "source": [
    "%%time\n",
    "\n",
    "# NOTES:\n",
    "# 3 min 52 s for 1 hour!\n",
    "# 7 min 52 s for 2 hours!\n",
    "# 47 min for 12 hours!\n",
    "#NOTE: timeout error when try to do a whole day\n",
    "\n",
    "results = dask.compute(lazy_results)\n",
    "\n",
    "# Convert dask results to obspy stream:\n",
    "st = obspy.Stream()\n",
    "test = [st.extend(result) for result in results[0]]"
   ]
  },
  {
   "cell_type": "markdown",
   "id": "6953676e-eb57-44e9-b9ed-380b55af15ea",
   "metadata": {},
   "source": [
    "## Save to mseed for safekeeping:"
   ]
  },
  {
   "cell_type": "code",
   "execution_count": 11,
   "id": "364f5fd2-aac3-4de6-a1d2-92edb2a3bab3",
   "metadata": {},
   "outputs": [
    {
     "name": "stderr",
     "output_type": "stream",
     "text": [
      "/srv/conda/envs/alaska_ml3/lib/python3.9/site-packages/obspy/io/mseed/core.py:790: UserWarning: The encoding specified in trace.stats.mseed.encoding does not match the dtype of the data.\n",
      "A suitable encoding will be chosen.\n",
      "  warnings.warn(msg, UserWarning)\n"
     ]
    }
   ],
   "source": [
    "st.write(\"alaska_1hour.mseed\", format=\"MSEED\")  "
   ]
  },
  {
   "cell_type": "markdown",
   "id": "d386c41f-87b7-4406-a4d8-3689af087688",
   "metadata": {},
   "source": [
    "## Phase pick using PhaseNet via QuakeFlow:\n",
    "## NOTE: need to rewrite to deal with streams that contain multiple 30-s time bands"
   ]
  },
  {
   "cell_type": "code",
   "execution_count": null,
   "id": "788f8f98-bf3c-4eaf-abda-d35d1a360113",
   "metadata": {},
   "outputs": [],
   "source": [
    "def pick_quakeflow(st,dfS,remove_resp=False):\n",
    "    \"\"\"\n",
    "    Runs a 30-s obspy stream through PhaseNet using QuakeFlow\n",
    "    \n",
    "    1. Converts stream to a set of numpy arrays\n",
    "    \"\"\"\n",
    "    \n",
    "    sampling_rate = 100\n",
    "    n_channel = 3\n",
    "    dtype = \"float32\"\n",
    "    amplitude = True\n",
    "    \n",
    "    \n",
    "\n",
    "    starttime = min([p.stats.starttime for p in st])\n",
    "    endtime = max([p.stats.endtime for p in st])\n",
    "    \n",
    "    # Double check that everything is the same sampling rate:\n",
    "    for i in range(len(st)):\n",
    "        if st[i].stats.sampling_rate != sampling_rate:\n",
    "            # logging.warning(\n",
    "            #     f\"Resampling {st[i].id} from {st[i].stats.sampling_rate} to {sampling_rate} Hz\"\n",
    "            # )\n",
    "            st[i] = st[i].interpolate(sampling_rate, method=\"linear\")\n",
    "    \n",
    "    # Set up an order to loop through the traces\n",
    "    order = ['3', '2', '1', 'E', 'N', 'Z']\n",
    "    order = {key: i for i, key in enumerate(order)}\n",
    "    comp2idx = {\"3\": 0, \"2\": 1, \"1\": 2, \"E\": 0, \"N\": 1, \"Z\": 2}\n",
    "    \n",
    "    nsta = len(dfS)\n",
    "    nt = max(len(st[i].data) for i in range(len(st)))\n",
    "    data = []\n",
    "    station_id = []\n",
    "    t0 = []\n",
    "    \n",
    "    # Loop through traces\n",
    "    for i in range(nsta):\n",
    "        trace_data = np.zeros([nt, n_channel], dtype=dtype)\n",
    "        empty_station = True\n",
    "        # sta = station_locs.iloc[i][\"station\"]\n",
    "        sta = dfS.id[i]\n",
    "        comp = dfS.iloc[i][\"component\"].split(\",\")\n",
    "        if remove_resp:\n",
    "            resp = dfS.iloc[i][\"response\"].split(\",\")\n",
    "            # resp = station_locs.iloc[i][\"response\"]\n",
    "\n",
    "        for j, c in enumerate(sorted(comp, key=lambda x: order[x[-1]])):\n",
    "            \n",
    "            if remove_resp:\n",
    "                resp_j = float(resp[j])\n",
    "            \n",
    "            \n",
    "            if len(comp) != 3:  ## less than 3 component\n",
    "                j = comp2idx[c]\n",
    "\n",
    "            if len(st.select(id=sta + c)) == 0:\n",
    "                print(f\"Empty trace: {sta+c} {starttime}\")\n",
    "                continue\n",
    "            else:\n",
    "                empty_station = False\n",
    "\n",
    "            tmp = st.select(id=sta + c)[0].data.astype(dtype)\n",
    "            trace_data[: len(tmp), j] = tmp[:nt]\n",
    "\n",
    "            if dfS.iloc[i][\"unit\"] == \"m/s**2\":\n",
    "                tmp = st.select(id=sta + c)[0]\n",
    "                tmp = tmp.integrate()\n",
    "                tmp = tmp.filter(\"highpass\", freq=1.0)\n",
    "                tmp = tmp.data.astype(dtype)\n",
    "                trace_data[: len(tmp), j] = tmp[:nt]\n",
    "            elif dfS.iloc[i][\"unit\"] == \"m/s\":\n",
    "                tmp = st.select(id=sta + c)[0].data.astype(dtype)\n",
    "                trace_data[: len(tmp), j] = tmp[:nt]\n",
    "            else:\n",
    "                print(\n",
    "                    f\"Error in {station_locs.iloc[i]['station']}\\n{station_locs.iloc[i]['unit']} should be m/s**2 or m/s!\"\n",
    "                )\n",
    "            \n",
    "            if remove_resp:\n",
    "                trace_data[:, j] /= resp_j\n",
    "                \n",
    "        if not empty_station:\n",
    "            data.append(trace_data)\n",
    "            station_id.append(sta)\n",
    "            t0.append(starttime.strftime(\"%Y-%m-%dT%H:%M:%S.%f\")[:-3])\n",
    "\n",
    "    data = np.stack(data)\n",
    "    \n",
    "    # Make dictionary with data in numpy arrays, tied to station and time:\n",
    "    meta = {\"data\": data, \"t0\": t0, \"station_id\": station_id, \"fname\": station_id}\n",
    "    \n",
    "    # Use that to call to QuakeFlow API\n",
    "    \n",
    "    PHASENET_API_URL = \"http://phasenet.quakeflow.com\"\n",
    "\n",
    "    batch = 4\n",
    "    phasenet_picks = []\n",
    "    for j in range(0, len(meta[\"station_id\"]), batch):\n",
    "        req = {\"id\": meta['station_id'][j:j+batch],\n",
    "            \"timestamp\": meta[\"t0\"][j:j+batch],\n",
    "            \"vec\": meta[\"data\"][j:j+batch].tolist()}\n",
    "\n",
    "        resp = requests.post(f'{PHASENET_API_URL}/predict', json=req)\n",
    "        phasenet_picks.extend(resp.json())\n",
    "    \n",
    "    print(phasenet_picks)\n",
    "    picks = pd.DataFrame(phasenet_picks)\n",
    "    \n",
    "    return picks\n",
    "\n",
    "    \n",
    "    "
   ]
  },
  {
   "cell_type": "code",
   "execution_count": null,
   "id": "5dda9cbf-ad52-4c15-ba2d-a4b7c6a53fe5",
   "metadata": {},
   "outputs": [],
   "source": [
    "%%time\n",
    "picks = pick_quakeflow(st,sub,remove_resp=True)"
   ]
  },
  {
   "cell_type": "markdown",
   "id": "249808b3-9f17-4173-ae55-760088443f3e",
   "metadata": {},
   "source": [
    "## Phase pick using PhaseNet via SeisBench:\n",
    "\n",
    "## NOTE: the pretrained models don't load from the planetary computer. Need to try this locally.\n",
    "\n",
    "Documented here: https://github.com/seisbench/seisbench#known-issues"
   ]
  },
  {
   "cell_type": "code",
   "execution_count": null,
   "id": "2beab52b-e6c4-4e1d-8343-a5eba9a04023",
   "metadata": {},
   "outputs": [],
   "source": [
    "# Seisbench just runs on an obspy stream. \n",
    "\n",
    "model = sbm.PhaseNet.from_pretrained(\"SCEDC\")\n",
    "annotations = model.annotate(st)"
   ]
  }
 ],
 "metadata": {
  "kernelspec": {
   "display_name": "Python [conda env:alaska_ml3]",
   "language": "python",
   "name": "conda-env-alaska_ml3-py"
  },
  "language_info": {
   "codemirror_mode": {
    "name": "ipython",
    "version": 3
   },
   "file_extension": ".py",
   "mimetype": "text/x-python",
   "name": "python",
   "nbconvert_exporter": "python",
   "pygments_lexer": "ipython3",
   "version": "3.9.9"
  }
 },
 "nbformat": 4,
 "nbformat_minor": 5
}
